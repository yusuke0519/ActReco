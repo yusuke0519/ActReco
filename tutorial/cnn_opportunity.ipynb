{
 "cells": [
  {
   "cell_type": "markdown",
   "metadata": {},
   "source": [
    "# Tutorial: CNN with Pytorch using Opp dataset"
   ]
  },
  {
   "cell_type": "code",
   "execution_count": 1,
   "metadata": {
    "collapsed": true
   },
   "outputs": [],
   "source": [
    "import sys\n",
    "sys.path.append('../')"
   ]
  },
  {
   "cell_type": "code",
   "execution_count": 2,
   "metadata": {
    "collapsed": true
   },
   "outputs": [],
   "source": [
    "# general\n",
    "import numpy as np\n",
    "import pandas as pd\n",
    "from progressbar import ProgressBar\n",
    "\n",
    "# dataset\n",
    "from actreco.datasets.opportunityc import Opportunity\n",
    "from actreco.utils.generator import batch_generator\n",
    "\n",
    "# modeling\n",
    "import torch\n",
    "import torch.nn as nn\n",
    "import torch.nn.functional as F\n",
    "import torch.optim as optim\n",
    "from torch.autograd import Variable\n"
   ]
  },
  {
   "cell_type": "code",
   "execution_count": 3,
   "metadata": {
    "collapsed": true
   },
   "outputs": [],
   "source": [
    "# dataset"
   ]
  },
  {
   "cell_type": "code",
   "execution_count": 13,
   "metadata": {
    "collapsed": true
   },
   "outputs": [],
   "source": [
    "train_set = Opportunity(userID='S2,S3,S4')\n",
    "x_train_list = train_set.get('X')\n",
    "y_train_list = train_set.get('y')"
   ]
  },
  {
   "cell_type": "code",
   "execution_count": 14,
   "metadata": {
    "collapsed": true
   },
   "outputs": [],
   "source": [
    "test_set = Opportunity(userID='S1')\n",
    "x_test_list = test_set.get('X')\n",
    "y_test_list = test_set.get('y')"
   ]
  },
  {
   "cell_type": "code",
   "execution_count": 15,
   "metadata": {
    "collapsed": true
   },
   "outputs": [],
   "source": [
    "class VanilaCNN(nn.Module):\n",
    "    def __init__(self, l_sample, nb_modal, nb_in_filter, nb_filter_list, kw, nb_unit, nb_out):\n",
    "        super(VanilaCNN, self).__init__()\n",
    "        self.l_sample = l_sample\n",
    "        self.nb_modal = nb_modal\n",
    "        self.nb_conv = len(nb_filter_list)\n",
    "        \n",
    "        if isinstance(kw, int):\n",
    "            kw = [kw] * self.nb_conv\n",
    "        assert len(nb_filter_list) == len(kw)\n",
    "        nb_filter_list = [nb_in_filter] + nb_filter_list\n",
    "        \n",
    "        self.kw = kw\n",
    "        self.nb_filter_list = nb_filter_list\n",
    "\n",
    "        convs = []\n",
    "        for i in range(self.nb_conv):\n",
    "            convs.append(nn.Conv2d(nb_filter_list[i], nb_filter_list[i+1], (1, kw[i])))\n",
    "        self.convs = nn.ModuleList(convs)\n",
    "        self.fc1 = nn.Linear(self.conv_output_shape(), nb_unit)\n",
    "        self.fc2 = nn.Linear(nb_unit, nb_out)\n",
    "    \n",
    "    def forward(self, x):\n",
    "        for conv in self.convs:\n",
    "            x = F.max_pool2d(F.relu(conv(x)), (1, 2))\n",
    "            dropout = nn.Dropout2d(0.5)\n",
    "            # x = dropout(x)\n",
    "        x = x.view(-1, self.conv_output_shape())\n",
    "        x = F.dropout(self.fc1(x), 0.5)\n",
    "        x = F.relu(x)\n",
    "        x = self.fc2(x)\n",
    "        return x\n",
    "    \n",
    "    def conv_output_shape(self):\n",
    "        length = self.l_sample\n",
    "        for i in range(self.nb_conv):\n",
    "            length = int((length - self.kw[i] + 1) /2)\n",
    "        return length * self.nb_filter_list[-1] * self.nb_modal"
   ]
  },
  {
   "cell_type": "code",
   "execution_count": 28,
   "metadata": {
    "collapsed": true
   },
   "outputs": [],
   "source": [
    "nb_modal_dim = 2\n",
    "nb_modal = train_set.nb_modal\n",
    "nb_out = train_set.nb_class\n",
    "\n",
    "kw = 3\n",
    "nb_filter_list = [50, 40, 20]\n",
    "nb_in_filter = 1\n",
    "drop_rate = 0.5\n",
    "nb_unit = 400\n",
    "\n",
    "batch_size = 128\n",
    "l_sample = 30\n",
    "interval = int(l_sample) * 0.5\n",
    "\n",
    "nb_iter = 2000\n",
    "report_each = 10\n",
    "\n",
    "model = VanilaCNN(l_sample=l_sample, nb_modal=nb_modal, nb_in_filter=1, nb_filter_list=nb_filter_list, kw=kw, nb_unit=nb_unit, nb_out=nb_out).cuda()\n",
    "optimizer = optim.SGD(model.parameters(), lr=0.01, momentum=0.5)\n",
    "criterion = nn.CrossEntropyLoss()"
   ]
  },
  {
   "cell_type": "code",
   "execution_count": 33,
   "metadata": {},
   "outputs": [
    {
     "name": "stderr",
     "output_type": "stream",
     "text": [
      "  0% (14 of 2000) |                       | Elapsed Time: 0:00:00 ETA:  0:01:24"
     ]
    },
    {
     "name": "stdout",
     "output_type": "stream",
     "text": [
      "1280 samples, 10 batch \t Loss: 0.283480\n"
     ]
    },
    {
     "name": "stderr",
     "output_type": "stream",
     "text": [
      "  1% (23 of 2000) |                       | Elapsed Time: 0:00:00 ETA:  0:01:23"
     ]
    },
    {
     "name": "stdout",
     "output_type": "stream",
     "text": [
      "2560 samples, 20 batch \t Loss: 0.301822\n"
     ]
    },
    {
     "name": "stderr",
     "output_type": "stream",
     "text": [
      "  1% (34 of 2000) |                       | Elapsed Time: 0:00:01 ETA:  0:01:22"
     ]
    },
    {
     "name": "stdout",
     "output_type": "stream",
     "text": [
      "3840 samples, 30 batch \t Loss: 0.163103\n"
     ]
    },
    {
     "name": "stderr",
     "output_type": "stream",
     "text": [
      "  2% (43 of 2000) |                       | Elapsed Time: 0:00:01 ETA:  0:01:22"
     ]
    },
    {
     "name": "stdout",
     "output_type": "stream",
     "text": [
      "5120 samples, 40 batch \t Loss: 0.327317\n"
     ]
    },
    {
     "name": "stderr",
     "output_type": "stream",
     "text": [
      "  2% (54 of 2000) |                       | Elapsed Time: 0:00:02 ETA:  0:01:21"
     ]
    },
    {
     "name": "stdout",
     "output_type": "stream",
     "text": [
      "6400 samples, 50 batch \t Loss: 0.339387\n"
     ]
    },
    {
     "name": "stderr",
     "output_type": "stream",
     "text": [
      "  3% (63 of 2000) |                       | Elapsed Time: 0:00:02 ETA:  0:01:21"
     ]
    },
    {
     "name": "stdout",
     "output_type": "stream",
     "text": [
      "7680 samples, 60 batch \t Loss: 0.305300\n"
     ]
    },
    {
     "name": "stderr",
     "output_type": "stream",
     "text": [
      "  3% (75 of 2000) |                       | Elapsed Time: 0:00:03 ETA:  0:01:20"
     ]
    },
    {
     "name": "stdout",
     "output_type": "stream",
     "text": [
      "8960 samples, 70 batch \t Loss: 0.192852\n"
     ]
    },
    {
     "name": "stderr",
     "output_type": "stream",
     "text": [
      "  4% (82 of 2000) |                       | Elapsed Time: 0:00:03 ETA:  0:01:22"
     ]
    },
    {
     "name": "stdout",
     "output_type": "stream",
     "text": [
      "10240 samples, 80 batch \t Loss: 0.297979\n"
     ]
    },
    {
     "name": "stderr",
     "output_type": "stream",
     "text": [
      "  4% (93 of 2000) |#                      | Elapsed Time: 0:00:04 ETA:  0:01:27"
     ]
    },
    {
     "name": "stdout",
     "output_type": "stream",
     "text": [
      "11520 samples, 90 batch \t Loss: 0.288208\n"
     ]
    },
    {
     "name": "stderr",
     "output_type": "stream",
     "text": [
      "  5% (105 of 2000) |#                     | Elapsed Time: 0:00:04 ETA:  0:01:29"
     ]
    },
    {
     "name": "stdout",
     "output_type": "stream",
     "text": [
      "12800 samples, 100 batch \t Loss: 0.258656\n"
     ]
    },
    {
     "name": "stderr",
     "output_type": "stream",
     "text": [
      "  5% (114 of 2000) |#                     | Elapsed Time: 0:00:05 ETA:  0:01:28"
     ]
    },
    {
     "name": "stdout",
     "output_type": "stream",
     "text": [
      "14080 samples, 110 batch \t Loss: 0.177608\n"
     ]
    },
    {
     "name": "stderr",
     "output_type": "stream",
     "text": [
      "  6% (123 of 2000) |#                     | Elapsed Time: 0:00:05 ETA:  0:01:28"
     ]
    },
    {
     "name": "stdout",
     "output_type": "stream",
     "text": [
      "15360 samples, 120 batch \t Loss: 0.347669\n"
     ]
    },
    {
     "name": "stderr",
     "output_type": "stream",
     "text": [
      "  6% (135 of 2000) |#                     | Elapsed Time: 0:00:05 ETA:  0:01:24"
     ]
    },
    {
     "name": "stdout",
     "output_type": "stream",
     "text": [
      "16640 samples, 130 batch \t Loss: 0.337460\n"
     ]
    },
    {
     "name": "stderr",
     "output_type": "stream",
     "text": [
      "  7% (144 of 2000) |#                     | Elapsed Time: 0:00:06 ETA:  0:01:19"
     ]
    },
    {
     "name": "stdout",
     "output_type": "stream",
     "text": [
      "17920 samples, 140 batch \t Loss: 0.222116\n"
     ]
    },
    {
     "name": "stderr",
     "output_type": "stream",
     "text": [
      "  7% (155 of 2000) |#                     | Elapsed Time: 0:00:06 ETA:  0:01:16"
     ]
    },
    {
     "name": "stdout",
     "output_type": "stream",
     "text": [
      "19200 samples, 150 batch \t Loss: 0.173426\n"
     ]
    },
    {
     "name": "stderr",
     "output_type": "stream",
     "text": [
      "  8% (164 of 2000) |#                     | Elapsed Time: 0:00:07 ETA:  0:01:14"
     ]
    },
    {
     "name": "stdout",
     "output_type": "stream",
     "text": [
      "20480 samples, 160 batch \t Loss: 0.243142\n"
     ]
    },
    {
     "name": "stderr",
     "output_type": "stream",
     "text": [
      "  8% (173 of 2000) |#                     | Elapsed Time: 0:00:07 ETA:  0:01:14"
     ]
    },
    {
     "name": "stdout",
     "output_type": "stream",
     "text": [
      "21760 samples, 170 batch \t Loss: 0.256578\n"
     ]
    },
    {
     "name": "stderr",
     "output_type": "stream",
     "text": [
      "  9% (184 of 2000) |##                    | Elapsed Time: 0:00:07 ETA:  0:01:13"
     ]
    },
    {
     "name": "stdout",
     "output_type": "stream",
     "text": [
      "23040 samples, 180 batch \t Loss: 0.211985\n"
     ]
    },
    {
     "name": "stderr",
     "output_type": "stream",
     "text": [
      "  9% (193 of 2000) |##                    | Elapsed Time: 0:00:08 ETA:  0:01:13"
     ]
    },
    {
     "name": "stdout",
     "output_type": "stream",
     "text": [
      "24320 samples, 190 batch \t Loss: 0.205997\n"
     ]
    },
    {
     "name": "stderr",
     "output_type": "stream",
     "text": [
      " 10% (205 of 2000) |##                    | Elapsed Time: 0:00:08 ETA:  0:01:13"
     ]
    },
    {
     "name": "stdout",
     "output_type": "stream",
     "text": [
      "25600 samples, 200 batch \t Loss: 0.167587\n"
     ]
    },
    {
     "name": "stderr",
     "output_type": "stream",
     "text": [
      " 10% (214 of 2000) |##                    | Elapsed Time: 0:00:09 ETA:  0:01:13"
     ]
    },
    {
     "name": "stdout",
     "output_type": "stream",
     "text": [
      "26880 samples, 210 batch \t Loss: 0.156177\n"
     ]
    },
    {
     "name": "stderr",
     "output_type": "stream",
     "text": [
      " 11% (223 of 2000) |##                    | Elapsed Time: 0:00:09 ETA:  0:01:13"
     ]
    },
    {
     "name": "stdout",
     "output_type": "stream",
     "text": [
      "28160 samples, 220 batch \t Loss: 0.254321\n"
     ]
    },
    {
     "name": "stderr",
     "output_type": "stream",
     "text": [
      " 11% (234 of 2000) |##                    | Elapsed Time: 0:00:09 ETA:  0:01:12"
     ]
    },
    {
     "name": "stdout",
     "output_type": "stream",
     "text": [
      "29440 samples, 230 batch \t Loss: 0.218105\n"
     ]
    },
    {
     "name": "stderr",
     "output_type": "stream",
     "text": [
      " 12% (243 of 2000) |##                    | Elapsed Time: 0:00:10 ETA:  0:01:12"
     ]
    },
    {
     "name": "stdout",
     "output_type": "stream",
     "text": [
      "30720 samples, 240 batch \t Loss: 0.337280\n"
     ]
    },
    {
     "name": "stderr",
     "output_type": "stream",
     "text": [
      " 12% (254 of 2000) |##                    | Elapsed Time: 0:00:10 ETA:  0:01:11"
     ]
    },
    {
     "name": "stdout",
     "output_type": "stream",
     "text": [
      "32000 samples, 250 batch \t Loss: 0.345940\n"
     ]
    },
    {
     "name": "stderr",
     "output_type": "stream",
     "text": [
      " 13% (263 of 2000) |##                    | Elapsed Time: 0:00:11 ETA:  0:01:10"
     ]
    },
    {
     "name": "stdout",
     "output_type": "stream",
     "text": [
      "33280 samples, 260 batch \t Loss: 0.256340\n"
     ]
    },
    {
     "name": "stderr",
     "output_type": "stream",
     "text": [
      " 13% (275 of 2000) |###                   | Elapsed Time: 0:00:11 ETA:  0:01:09"
     ]
    },
    {
     "name": "stdout",
     "output_type": "stream",
     "text": [
      "34560 samples, 270 batch \t Loss: 0.224109\n"
     ]
    },
    {
     "name": "stderr",
     "output_type": "stream",
     "text": [
      " 14% (284 of 2000) |###                   | Elapsed Time: 0:00:11 ETA:  0:01:09"
     ]
    },
    {
     "name": "stdout",
     "output_type": "stream",
     "text": [
      "35840 samples, 280 batch \t Loss: 0.148641\n"
     ]
    },
    {
     "name": "stderr",
     "output_type": "stream",
     "text": [
      " 14% (293 of 2000) |###                   | Elapsed Time: 0:00:12 ETA:  0:01:09"
     ]
    },
    {
     "name": "stdout",
     "output_type": "stream",
     "text": [
      "37120 samples, 290 batch \t Loss: 0.253190\n"
     ]
    },
    {
     "name": "stderr",
     "output_type": "stream",
     "text": [
      " 15% (304 of 2000) |###                   | Elapsed Time: 0:00:12 ETA:  0:01:09"
     ]
    },
    {
     "name": "stdout",
     "output_type": "stream",
     "text": [
      "38400 samples, 300 batch \t Loss: 0.139847\n"
     ]
    },
    {
     "name": "stderr",
     "output_type": "stream",
     "text": [
      " 15% (313 of 2000) |###                   | Elapsed Time: 0:00:13 ETA:  0:01:09"
     ]
    },
    {
     "name": "stdout",
     "output_type": "stream",
     "text": [
      "39680 samples, 310 batch \t Loss: 0.244233\n"
     ]
    },
    {
     "name": "stderr",
     "output_type": "stream",
     "text": [
      " 16% (325 of 2000) |###                   | Elapsed Time: 0:00:13 ETA:  0:01:08"
     ]
    },
    {
     "name": "stdout",
     "output_type": "stream",
     "text": [
      "40960 samples, 320 batch \t Loss: 0.209142\n"
     ]
    },
    {
     "name": "stderr",
     "output_type": "stream",
     "text": [
      " 16% (333 of 2000) |###                   | Elapsed Time: 0:00:13 ETA:  0:01:08"
     ]
    },
    {
     "name": "stdout",
     "output_type": "stream",
     "text": [
      "42240 samples, 330 batch \t Loss: 0.147320\n"
     ]
    },
    {
     "name": "stderr",
     "output_type": "stream",
     "text": [
      " 17% (344 of 2000) |###                   | Elapsed Time: 0:00:14 ETA:  0:01:08"
     ]
    },
    {
     "name": "stdout",
     "output_type": "stream",
     "text": [
      "43520 samples, 340 batch \t Loss: 0.220233\n"
     ]
    },
    {
     "name": "stderr",
     "output_type": "stream",
     "text": [
      " 17% (353 of 2000) |###                   | Elapsed Time: 0:00:14 ETA:  0:01:07"
     ]
    },
    {
     "name": "stdout",
     "output_type": "stream",
     "text": [
      "44800 samples, 350 batch \t Loss: 0.249852\n"
     ]
    },
    {
     "name": "stderr",
     "output_type": "stream",
     "text": [
      " 18% (364 of 2000) |####                  | Elapsed Time: 0:00:15 ETA:  0:01:07"
     ]
    },
    {
     "name": "stdout",
     "output_type": "stream",
     "text": [
      "46080 samples, 360 batch \t Loss: 0.178560\n"
     ]
    },
    {
     "name": "stderr",
     "output_type": "stream",
     "text": [
      " 18% (373 of 2000) |####                  | Elapsed Time: 0:00:15 ETA:  0:01:08"
     ]
    },
    {
     "name": "stdout",
     "output_type": "stream",
     "text": [
      "47360 samples, 370 batch \t Loss: 0.168465\n"
     ]
    },
    {
     "name": "stderr",
     "output_type": "stream",
     "text": [
      " 19% (383 of 2000) |####                  | Elapsed Time: 0:00:16 ETA:  0:01:08"
     ]
    },
    {
     "name": "stdout",
     "output_type": "stream",
     "text": [
      "48640 samples, 380 batch \t Loss: 0.250009\n"
     ]
    },
    {
     "name": "stderr",
     "output_type": "stream",
     "text": [
      " 19% (395 of 2000) |####                  | Elapsed Time: 0:00:16 ETA:  0:01:08"
     ]
    },
    {
     "name": "stdout",
     "output_type": "stream",
     "text": [
      "49920 samples, 390 batch \t Loss: 0.155370\n"
     ]
    },
    {
     "name": "stderr",
     "output_type": "stream",
     "text": [
      " 20% (404 of 2000) |####                  | Elapsed Time: 0:00:16 ETA:  0:01:07"
     ]
    },
    {
     "name": "stdout",
     "output_type": "stream",
     "text": [
      "51200 samples, 400 batch \t Loss: 0.289069\n"
     ]
    },
    {
     "name": "stderr",
     "output_type": "stream",
     "text": [
      " 20% (415 of 2000) |####                  | Elapsed Time: 0:00:17 ETA:  0:01:06"
     ]
    },
    {
     "name": "stdout",
     "output_type": "stream",
     "text": [
      "52480 samples, 410 batch \t Loss: 0.156936\n"
     ]
    },
    {
     "name": "stderr",
     "output_type": "stream",
     "text": [
      " 21% (424 of 2000) |####                  | Elapsed Time: 0:00:17 ETA:  0:01:06"
     ]
    },
    {
     "name": "stdout",
     "output_type": "stream",
     "text": [
      "53760 samples, 420 batch \t Loss: 0.298257\n"
     ]
    },
    {
     "name": "stderr",
     "output_type": "stream",
     "text": [
      " 21% (433 of 2000) |####                  | Elapsed Time: 0:00:18 ETA:  0:01:04"
     ]
    },
    {
     "name": "stdout",
     "output_type": "stream",
     "text": [
      "55040 samples, 430 batch \t Loss: 0.230051\n"
     ]
    },
    {
     "name": "stderr",
     "output_type": "stream",
     "text": [
      " 22% (445 of 2000) |####                  | Elapsed Time: 0:00:18 ETA:  0:01:03"
     ]
    },
    {
     "name": "stdout",
     "output_type": "stream",
     "text": [
      "56320 samples, 440 batch \t Loss: 0.251861\n"
     ]
    },
    {
     "name": "stderr",
     "output_type": "stream",
     "text": [
      " 22% (454 of 2000) |####                  | Elapsed Time: 0:00:19 ETA:  0:01:03"
     ]
    },
    {
     "name": "stdout",
     "output_type": "stream",
     "text": [
      "57600 samples, 450 batch \t Loss: 0.243635\n"
     ]
    },
    {
     "name": "stderr",
     "output_type": "stream",
     "text": [
      " 23% (465 of 2000) |#####                 | Elapsed Time: 0:00:19 ETA:  0:01:02"
     ]
    },
    {
     "name": "stdout",
     "output_type": "stream",
     "text": [
      "58880 samples, 460 batch \t Loss: 0.259490\n"
     ]
    },
    {
     "name": "stderr",
     "output_type": "stream",
     "text": [
      " 23% (473 of 2000) |#####                 | Elapsed Time: 0:00:19 ETA:  0:01:02"
     ]
    },
    {
     "name": "stdout",
     "output_type": "stream",
     "text": [
      "60160 samples, 470 batch \t Loss: 0.323166\n"
     ]
    },
    {
     "name": "stderr",
     "output_type": "stream",
     "text": [
      " 24% (485 of 2000) |#####                 | Elapsed Time: 0:00:20 ETA:  0:01:01"
     ]
    },
    {
     "name": "stdout",
     "output_type": "stream",
     "text": [
      "61440 samples, 480 batch \t Loss: 0.328504\n"
     ]
    },
    {
     "name": "stderr",
     "output_type": "stream",
     "text": [
      " 24% (494 of 2000) |#####                 | Elapsed Time: 0:00:20 ETA:  0:01:01"
     ]
    },
    {
     "name": "stdout",
     "output_type": "stream",
     "text": [
      "62720 samples, 490 batch \t Loss: 0.230251\n"
     ]
    },
    {
     "name": "stderr",
     "output_type": "stream",
     "text": [
      " 25% (503 of 2000) |#####                 | Elapsed Time: 0:00:21 ETA:  0:01:01"
     ]
    },
    {
     "name": "stdout",
     "output_type": "stream",
     "text": [
      "64000 samples, 500 batch \t Loss: 0.277737\n"
     ]
    },
    {
     "name": "stderr",
     "output_type": "stream",
     "text": [
      " 25% (515 of 2000) |#####                 | Elapsed Time: 0:00:21 ETA:  0:01:01"
     ]
    },
    {
     "name": "stdout",
     "output_type": "stream",
     "text": [
      "65280 samples, 510 batch \t Loss: 0.245572\n"
     ]
    },
    {
     "name": "stderr",
     "output_type": "stream",
     "text": [
      " 26% (523 of 2000) |#####                 | Elapsed Time: 0:00:21 ETA:  0:01:01"
     ]
    },
    {
     "name": "stdout",
     "output_type": "stream",
     "text": [
      "66560 samples, 520 batch \t Loss: 0.310799\n"
     ]
    },
    {
     "name": "stderr",
     "output_type": "stream",
     "text": [
      " 26% (535 of 2000) |#####                 | Elapsed Time: 0:00:22 ETA:  0:01:00"
     ]
    },
    {
     "name": "stdout",
     "output_type": "stream",
     "text": [
      "67840 samples, 530 batch \t Loss: 0.266622\n"
     ]
    },
    {
     "name": "stderr",
     "output_type": "stream",
     "text": [
      " 27% (544 of 2000) |#####                 | Elapsed Time: 0:00:22 ETA:  0:00:59"
     ]
    },
    {
     "name": "stdout",
     "output_type": "stream",
     "text": [
      "69120 samples, 540 batch \t Loss: 0.330352\n"
     ]
    },
    {
     "name": "stderr",
     "output_type": "stream",
     "text": [
      " 27% (553 of 2000) |######                | Elapsed Time: 0:00:23 ETA:  0:00:59"
     ]
    },
    {
     "name": "stdout",
     "output_type": "stream",
     "text": [
      "70400 samples, 550 batch \t Loss: 0.320879\n"
     ]
    },
    {
     "name": "stderr",
     "output_type": "stream",
     "text": [
      " 28% (565 of 2000) |######                | Elapsed Time: 0:00:23 ETA:  0:00:59"
     ]
    },
    {
     "name": "stdout",
     "output_type": "stream",
     "text": [
      "71680 samples, 560 batch \t Loss: 0.322719\n"
     ]
    },
    {
     "name": "stderr",
     "output_type": "stream",
     "text": [
      " 28% (574 of 2000) |######                | Elapsed Time: 0:00:23 ETA:  0:00:58"
     ]
    },
    {
     "name": "stdout",
     "output_type": "stream",
     "text": [
      "72960 samples, 570 batch \t Loss: 0.159692\n"
     ]
    },
    {
     "name": "stderr",
     "output_type": "stream",
     "text": [
      " 29% (583 of 2000) |######                | Elapsed Time: 0:00:24 ETA:  0:00:58"
     ]
    },
    {
     "name": "stdout",
     "output_type": "stream",
     "text": [
      "74240 samples, 580 batch \t Loss: 0.164632\n"
     ]
    },
    {
     "name": "stderr",
     "output_type": "stream",
     "text": [
      " 29% (595 of 2000) |######                | Elapsed Time: 0:00:24 ETA:  0:00:57"
     ]
    },
    {
     "name": "stdout",
     "output_type": "stream",
     "text": [
      "75520 samples, 590 batch \t Loss: 0.335535\n"
     ]
    },
    {
     "name": "stderr",
     "output_type": "stream",
     "text": [
      " 30% (604 of 2000) |######                | Elapsed Time: 0:00:25 ETA:  0:00:57"
     ]
    },
    {
     "name": "stdout",
     "output_type": "stream",
     "text": [
      "76800 samples, 600 batch \t Loss: 0.162970\n"
     ]
    },
    {
     "name": "stderr",
     "output_type": "stream",
     "text": [
      " 30% (613 of 2000) |######                | Elapsed Time: 0:00:25 ETA:  0:00:57"
     ]
    },
    {
     "name": "stdout",
     "output_type": "stream",
     "text": [
      "78080 samples, 610 batch \t Loss: 0.178640\n"
     ]
    },
    {
     "name": "stderr",
     "output_type": "stream",
     "text": [
      " 31% (625 of 2000) |######                | Elapsed Time: 0:00:26 ETA:  0:00:56"
     ]
    },
    {
     "name": "stdout",
     "output_type": "stream",
     "text": [
      "79360 samples, 620 batch \t Loss: 0.154346\n"
     ]
    },
    {
     "name": "stderr",
     "output_type": "stream",
     "text": [
      " 31% (633 of 2000) |######                | Elapsed Time: 0:00:26 ETA:  0:00:56"
     ]
    },
    {
     "name": "stdout",
     "output_type": "stream",
     "text": [
      "80640 samples, 630 batch \t Loss: 0.182621\n"
     ]
    },
    {
     "name": "stderr",
     "output_type": "stream",
     "text": [
      " 32% (645 of 2000) |#######               | Elapsed Time: 0:00:26 ETA:  0:00:55"
     ]
    },
    {
     "name": "stdout",
     "output_type": "stream",
     "text": [
      "81920 samples, 640 batch \t Loss: 0.248413\n"
     ]
    },
    {
     "name": "stderr",
     "output_type": "stream",
     "text": [
      " 32% (654 of 2000) |#######               | Elapsed Time: 0:00:27 ETA:  0:00:55"
     ]
    },
    {
     "name": "stdout",
     "output_type": "stream",
     "text": [
      "83200 samples, 650 batch \t Loss: 0.147819\n"
     ]
    },
    {
     "name": "stderr",
     "output_type": "stream",
     "text": [
      " 33% (665 of 2000) |#######               | Elapsed Time: 0:00:27 ETA:  0:00:54"
     ]
    },
    {
     "name": "stdout",
     "output_type": "stream",
     "text": [
      "84480 samples, 660 batch \t Loss: 0.138391\n"
     ]
    },
    {
     "name": "stderr",
     "output_type": "stream",
     "text": [
      " 33% (674 of 2000) |#######               | Elapsed Time: 0:00:28 ETA:  0:00:53"
     ]
    },
    {
     "name": "stdout",
     "output_type": "stream",
     "text": [
      "85760 samples, 670 batch \t Loss: 0.358932\n"
     ]
    },
    {
     "name": "stderr",
     "output_type": "stream",
     "text": [
      " 34% (683 of 2000) |#######               | Elapsed Time: 0:00:28 ETA:  0:00:53"
     ]
    },
    {
     "name": "stdout",
     "output_type": "stream",
     "text": [
      "87040 samples, 680 batch \t Loss: 0.211805\n"
     ]
    },
    {
     "name": "stderr",
     "output_type": "stream",
     "text": [
      " 34% (694 of 2000) |#######               | Elapsed Time: 0:00:28 ETA:  0:00:53"
     ]
    },
    {
     "name": "stdout",
     "output_type": "stream",
     "text": [
      "88320 samples, 690 batch \t Loss: 0.080155\n"
     ]
    },
    {
     "name": "stderr",
     "output_type": "stream",
     "text": [
      " 35% (703 of 2000) |#######               | Elapsed Time: 0:00:29 ETA:  0:00:52"
     ]
    },
    {
     "name": "stdout",
     "output_type": "stream",
     "text": [
      "89600 samples, 700 batch \t Loss: 0.160956\n"
     ]
    },
    {
     "name": "stderr",
     "output_type": "stream",
     "text": [
      " 35% (714 of 2000) |#######               | Elapsed Time: 0:00:29 ETA:  0:00:52"
     ]
    },
    {
     "name": "stdout",
     "output_type": "stream",
     "text": [
      "90880 samples, 710 batch \t Loss: 0.099826\n"
     ]
    },
    {
     "name": "stderr",
     "output_type": "stream",
     "text": [
      " 36% (723 of 2000) |#######               | Elapsed Time: 0:00:30 ETA:  0:00:52"
     ]
    },
    {
     "name": "stdout",
     "output_type": "stream",
     "text": [
      "92160 samples, 720 batch \t Loss: 0.244508\n"
     ]
    },
    {
     "name": "stderr",
     "output_type": "stream",
     "text": [
      " 36% (735 of 2000) |########              | Elapsed Time: 0:00:30 ETA:  0:00:51"
     ]
    },
    {
     "name": "stdout",
     "output_type": "stream",
     "text": [
      "93440 samples, 730 batch \t Loss: 0.321499\n"
     ]
    },
    {
     "name": "stderr",
     "output_type": "stream",
     "text": [
      " 37% (744 of 2000) |########              | Elapsed Time: 0:00:30 ETA:  0:00:51"
     ]
    },
    {
     "name": "stdout",
     "output_type": "stream",
     "text": [
      "94720 samples, 740 batch \t Loss: 0.151449\n"
     ]
    },
    {
     "name": "stderr",
     "output_type": "stream",
     "text": [
      " 37% (753 of 2000) |########              | Elapsed Time: 0:00:31 ETA:  0:00:50"
     ]
    },
    {
     "name": "stdout",
     "output_type": "stream",
     "text": [
      "96000 samples, 750 batch \t Loss: 0.288369\n"
     ]
    },
    {
     "name": "stderr",
     "output_type": "stream",
     "text": [
      " 38% (763 of 2000) |########              | Elapsed Time: 0:00:31 ETA:  0:00:50"
     ]
    },
    {
     "name": "stdout",
     "output_type": "stream",
     "text": [
      "97280 samples, 760 batch \t Loss: 0.127043\n"
     ]
    },
    {
     "name": "stderr",
     "output_type": "stream",
     "text": [
      " 38% (775 of 2000) |########              | Elapsed Time: 0:00:32 ETA:  0:00:50"
     ]
    },
    {
     "name": "stdout",
     "output_type": "stream",
     "text": [
      "98560 samples, 770 batch \t Loss: 0.312534\n"
     ]
    },
    {
     "name": "stderr",
     "output_type": "stream",
     "text": [
      " 39% (783 of 2000) |########              | Elapsed Time: 0:00:32 ETA:  0:00:52"
     ]
    },
    {
     "name": "stdout",
     "output_type": "stream",
     "text": [
      "99840 samples, 780 batch \t Loss: 0.189759\n"
     ]
    },
    {
     "name": "stderr",
     "output_type": "stream",
     "text": [
      " 39% (794 of 2000) |########              | Elapsed Time: 0:00:33 ETA:  0:00:54"
     ]
    },
    {
     "name": "stdout",
     "output_type": "stream",
     "text": [
      "101120 samples, 790 batch \t Loss: 0.263731\n"
     ]
    },
    {
     "name": "stderr",
     "output_type": "stream",
     "text": [
      " 40% (803 of 2000) |########              | Elapsed Time: 0:00:33 ETA:  0:00:54"
     ]
    },
    {
     "name": "stdout",
     "output_type": "stream",
     "text": [
      "102400 samples, 800 batch \t Loss: 0.171545\n"
     ]
    },
    {
     "name": "stderr",
     "output_type": "stream",
     "text": [
      " 40% (814 of 2000) |########              | Elapsed Time: 0:00:33 ETA:  0:00:52"
     ]
    },
    {
     "name": "stdout",
     "output_type": "stream",
     "text": [
      "103680 samples, 810 batch \t Loss: 0.189764\n"
     ]
    },
    {
     "name": "stderr",
     "output_type": "stream",
     "text": [
      " 41% (823 of 2000) |#########             | Elapsed Time: 0:00:34 ETA:  0:00:52"
     ]
    },
    {
     "name": "stdout",
     "output_type": "stream",
     "text": [
      "104960 samples, 820 batch \t Loss: 0.267462\n"
     ]
    },
    {
     "name": "stderr",
     "output_type": "stream",
     "text": [
      " 41% (835 of 2000) |#########             | Elapsed Time: 0:00:34 ETA:  0:00:49"
     ]
    },
    {
     "name": "stdout",
     "output_type": "stream",
     "text": [
      "106240 samples, 830 batch \t Loss: 0.231727\n"
     ]
    },
    {
     "name": "stderr",
     "output_type": "stream",
     "text": [
      " 42% (844 of 2000) |#########             | Elapsed Time: 0:00:35 ETA:  0:00:47"
     ]
    },
    {
     "name": "stdout",
     "output_type": "stream",
     "text": [
      "107520 samples, 840 batch \t Loss: 0.170849\n"
     ]
    },
    {
     "name": "stderr",
     "output_type": "stream",
     "text": [
      " 42% (853 of 2000) |#########             | Elapsed Time: 0:00:35 ETA:  0:00:46"
     ]
    },
    {
     "name": "stdout",
     "output_type": "stream",
     "text": [
      "108800 samples, 850 batch \t Loss: 0.185887\n"
     ]
    },
    {
     "name": "stderr",
     "output_type": "stream",
     "text": [
      " 43% (864 of 2000) |#########             | Elapsed Time: 0:00:36 ETA:  0:00:46"
     ]
    },
    {
     "name": "stdout",
     "output_type": "stream",
     "text": [
      "110080 samples, 860 batch \t Loss: 0.351439\n"
     ]
    },
    {
     "name": "stderr",
     "output_type": "stream",
     "text": [
      " 43% (873 of 2000) |#########             | Elapsed Time: 0:00:36 ETA:  0:00:46"
     ]
    },
    {
     "name": "stdout",
     "output_type": "stream",
     "text": [
      "111360 samples, 870 batch \t Loss: 0.256561\n"
     ]
    },
    {
     "name": "stderr",
     "output_type": "stream",
     "text": [
      " 44% (885 of 2000) |#########             | Elapsed Time: 0:00:36 ETA:  0:00:46"
     ]
    },
    {
     "name": "stdout",
     "output_type": "stream",
     "text": [
      "112640 samples, 880 batch \t Loss: 0.180496\n"
     ]
    },
    {
     "name": "stderr",
     "output_type": "stream",
     "text": [
      " 44% (893 of 2000) |#########             | Elapsed Time: 0:00:37 ETA:  0:00:45"
     ]
    },
    {
     "name": "stdout",
     "output_type": "stream",
     "text": [
      "113920 samples, 890 batch \t Loss: 0.242713\n"
     ]
    },
    {
     "name": "stderr",
     "output_type": "stream",
     "text": [
      " 45% (905 of 2000) |#########             | Elapsed Time: 0:00:37 ETA:  0:00:44"
     ]
    },
    {
     "name": "stdout",
     "output_type": "stream",
     "text": [
      "115200 samples, 900 batch \t Loss: 0.210267\n"
     ]
    },
    {
     "name": "stderr",
     "output_type": "stream",
     "text": [
      " 45% (914 of 2000) |##########            | Elapsed Time: 0:00:38 ETA:  0:00:44"
     ]
    },
    {
     "name": "stdout",
     "output_type": "stream",
     "text": [
      "116480 samples, 910 batch \t Loss: 0.260131\n"
     ]
    },
    {
     "name": "stderr",
     "output_type": "stream",
     "text": [
      " 46% (923 of 2000) |##########            | Elapsed Time: 0:00:38 ETA:  0:00:43"
     ]
    },
    {
     "name": "stdout",
     "output_type": "stream",
     "text": [
      "117760 samples, 920 batch \t Loss: 0.138618\n"
     ]
    },
    {
     "name": "stderr",
     "output_type": "stream",
     "text": [
      " 46% (935 of 2000) |##########            | Elapsed Time: 0:00:38 ETA:  0:00:43"
     ]
    },
    {
     "name": "stdout",
     "output_type": "stream",
     "text": [
      "119040 samples, 930 batch \t Loss: 0.274195\n"
     ]
    },
    {
     "name": "stderr",
     "output_type": "stream",
     "text": [
      " 47% (943 of 2000) |##########            | Elapsed Time: 0:00:39 ETA:  0:00:42"
     ]
    },
    {
     "name": "stdout",
     "output_type": "stream",
     "text": [
      "120320 samples, 940 batch \t Loss: 0.229983\n"
     ]
    },
    {
     "name": "stderr",
     "output_type": "stream",
     "text": [
      " 47% (955 of 2000) |##########            | Elapsed Time: 0:00:39 ETA:  0:00:42"
     ]
    },
    {
     "name": "stdout",
     "output_type": "stream",
     "text": [
      "121600 samples, 950 batch \t Loss: 0.219030\n"
     ]
    },
    {
     "name": "stderr",
     "output_type": "stream",
     "text": [
      " 48% (963 of 2000) |##########            | Elapsed Time: 0:00:40 ETA:  0:00:42"
     ]
    },
    {
     "name": "stdout",
     "output_type": "stream",
     "text": [
      "122880 samples, 960 batch \t Loss: 0.235099\n"
     ]
    },
    {
     "name": "stderr",
     "output_type": "stream",
     "text": [
      " 48% (975 of 2000) |##########            | Elapsed Time: 0:00:40 ETA:  0:00:42"
     ]
    },
    {
     "name": "stdout",
     "output_type": "stream",
     "text": [
      "124160 samples, 970 batch \t Loss: 0.272920\n"
     ]
    },
    {
     "name": "stderr",
     "output_type": "stream",
     "text": [
      " 49% (984 of 2000) |##########            | Elapsed Time: 0:00:40 ETA:  0:00:42"
     ]
    },
    {
     "name": "stdout",
     "output_type": "stream",
     "text": [
      "125440 samples, 980 batch \t Loss: 0.161036\n"
     ]
    },
    {
     "name": "stderr",
     "output_type": "stream",
     "text": [
      " 49% (993 of 2000) |##########            | Elapsed Time: 0:00:41 ETA:  0:00:41"
     ]
    },
    {
     "name": "stdout",
     "output_type": "stream",
     "text": [
      "126720 samples, 990 batch \t Loss: 0.115860\n"
     ]
    },
    {
     "name": "stderr",
     "output_type": "stream",
     "text": [
      " 50% (1005 of 2000) |##########           | Elapsed Time: 0:00:41 ETA:  0:00:41"
     ]
    },
    {
     "name": "stdout",
     "output_type": "stream",
     "text": [
      "128000 samples, 1000 batch \t Loss: 0.249236\n"
     ]
    },
    {
     "name": "stderr",
     "output_type": "stream",
     "text": [
      " 50% (1013 of 2000) |##########           | Elapsed Time: 0:00:42 ETA:  0:00:41"
     ]
    },
    {
     "name": "stdout",
     "output_type": "stream",
     "text": [
      "129280 samples, 1010 batch \t Loss: 0.209280\n"
     ]
    },
    {
     "name": "stderr",
     "output_type": "stream",
     "text": [
      " 51% (1025 of 2000) |##########           | Elapsed Time: 0:00:42 ETA:  0:00:40"
     ]
    },
    {
     "name": "stdout",
     "output_type": "stream",
     "text": [
      "130560 samples, 1020 batch \t Loss: 0.180783\n"
     ]
    },
    {
     "name": "stderr",
     "output_type": "stream",
     "text": [
      " 51% (1034 of 2000) |##########           | Elapsed Time: 0:00:43 ETA:  0:00:40"
     ]
    },
    {
     "name": "stdout",
     "output_type": "stream",
     "text": [
      "131840 samples, 1030 batch \t Loss: 0.122997\n"
     ]
    },
    {
     "name": "stderr",
     "output_type": "stream",
     "text": [
      " 52% (1043 of 2000) |##########           | Elapsed Time: 0:00:43 ETA:  0:00:40"
     ]
    },
    {
     "name": "stdout",
     "output_type": "stream",
     "text": [
      "133120 samples, 1040 batch \t Loss: 0.186392\n"
     ]
    },
    {
     "name": "stderr",
     "output_type": "stream",
     "text": [
      " 52% (1055 of 2000) |###########          | Elapsed Time: 0:00:43 ETA:  0:00:39"
     ]
    },
    {
     "name": "stdout",
     "output_type": "stream",
     "text": [
      "134400 samples, 1050 batch \t Loss: 0.251314\n"
     ]
    },
    {
     "name": "stderr",
     "output_type": "stream",
     "text": [
      " 53% (1064 of 2000) |###########          | Elapsed Time: 0:00:44 ETA:  0:00:39"
     ]
    },
    {
     "name": "stdout",
     "output_type": "stream",
     "text": [
      "135680 samples, 1060 batch \t Loss: 0.203112\n"
     ]
    },
    {
     "name": "stderr",
     "output_type": "stream",
     "text": [
      " 53% (1073 of 2000) |###########          | Elapsed Time: 0:00:44 ETA:  0:00:39"
     ]
    },
    {
     "name": "stdout",
     "output_type": "stream",
     "text": [
      "136960 samples, 1070 batch \t Loss: 0.137384\n"
     ]
    },
    {
     "name": "stderr",
     "output_type": "stream",
     "text": [
      " 54% (1085 of 2000) |###########          | Elapsed Time: 0:00:45 ETA:  0:00:38"
     ]
    },
    {
     "name": "stdout",
     "output_type": "stream",
     "text": [
      "138240 samples, 1080 batch \t Loss: 0.231788\n"
     ]
    },
    {
     "name": "stderr",
     "output_type": "stream",
     "text": [
      " 54% (1094 of 2000) |###########          | Elapsed Time: 0:00:45 ETA:  0:00:38"
     ]
    },
    {
     "name": "stdout",
     "output_type": "stream",
     "text": [
      "139520 samples, 1090 batch \t Loss: 0.208735\n"
     ]
    },
    {
     "name": "stderr",
     "output_type": "stream",
     "text": [
      " 55% (1103 of 2000) |###########          | Elapsed Time: 0:00:45 ETA:  0:00:37"
     ]
    },
    {
     "name": "stdout",
     "output_type": "stream",
     "text": [
      "140800 samples, 1100 batch \t Loss: 0.153626\n"
     ]
    },
    {
     "name": "stderr",
     "output_type": "stream",
     "text": [
      " 55% (1114 of 2000) |###########          | Elapsed Time: 0:00:46 ETA:  0:00:37"
     ]
    },
    {
     "name": "stdout",
     "output_type": "stream",
     "text": [
      "142080 samples, 1110 batch \t Loss: 0.232597\n"
     ]
    },
    {
     "name": "stderr",
     "output_type": "stream",
     "text": [
      " 56% (1123 of 2000) |###########          | Elapsed Time: 0:00:46 ETA:  0:00:36"
     ]
    },
    {
     "name": "stdout",
     "output_type": "stream",
     "text": [
      "143360 samples, 1120 batch \t Loss: 0.268613\n"
     ]
    },
    {
     "name": "stderr",
     "output_type": "stream",
     "text": [
      " 56% (1135 of 2000) |###########          | Elapsed Time: 0:00:47 ETA:  0:00:36"
     ]
    },
    {
     "name": "stdout",
     "output_type": "stream",
     "text": [
      "144640 samples, 1130 batch \t Loss: 0.293430\n"
     ]
    },
    {
     "name": "stderr",
     "output_type": "stream",
     "text": [
      " 57% (1143 of 2000) |############         | Elapsed Time: 0:00:47 ETA:  0:00:36"
     ]
    },
    {
     "name": "stdout",
     "output_type": "stream",
     "text": [
      "145920 samples, 1140 batch \t Loss: 0.140571\n"
     ]
    },
    {
     "name": "stderr",
     "output_type": "stream",
     "text": [
      " 57% (1155 of 2000) |############         | Elapsed Time: 0:00:48 ETA:  0:00:36"
     ]
    },
    {
     "name": "stdout",
     "output_type": "stream",
     "text": [
      "147200 samples, 1150 batch \t Loss: 0.108118\n"
     ]
    },
    {
     "name": "stderr",
     "output_type": "stream",
     "text": [
      " 58% (1163 of 2000) |############         | Elapsed Time: 0:00:48 ETA:  0:00:36"
     ]
    },
    {
     "name": "stdout",
     "output_type": "stream",
     "text": [
      "148480 samples, 1160 batch \t Loss: 0.216706\n"
     ]
    },
    {
     "name": "stderr",
     "output_type": "stream",
     "text": [
      " 58% (1174 of 2000) |############         | Elapsed Time: 0:00:48 ETA:  0:00:35"
     ]
    },
    {
     "name": "stdout",
     "output_type": "stream",
     "text": [
      "149760 samples, 1170 batch \t Loss: 0.130257\n"
     ]
    },
    {
     "name": "stderr",
     "output_type": "stream",
     "text": [
      " 59% (1183 of 2000) |############         | Elapsed Time: 0:00:49 ETA:  0:00:35"
     ]
    },
    {
     "name": "stdout",
     "output_type": "stream",
     "text": [
      "151040 samples, 1180 batch \t Loss: 0.206098\n"
     ]
    },
    {
     "name": "stderr",
     "output_type": "stream",
     "text": [
      " 59% (1193 of 2000) |############         | Elapsed Time: 0:00:49 ETA:  0:00:34"
     ]
    },
    {
     "name": "stdout",
     "output_type": "stream",
     "text": [
      "152320 samples, 1190 batch \t Loss: 0.251470\n"
     ]
    },
    {
     "name": "stderr",
     "output_type": "stream",
     "text": [
      " 60% (1205 of 2000) |############         | Elapsed Time: 0:00:50 ETA:  0:00:33"
     ]
    },
    {
     "name": "stdout",
     "output_type": "stream",
     "text": [
      "153600 samples, 1200 batch \t Loss: 0.186186\n"
     ]
    },
    {
     "name": "stderr",
     "output_type": "stream",
     "text": [
      " 60% (1214 of 2000) |############         | Elapsed Time: 0:00:50 ETA:  0:00:33"
     ]
    },
    {
     "name": "stdout",
     "output_type": "stream",
     "text": [
      "154880 samples, 1210 batch \t Loss: 0.241921\n"
     ]
    },
    {
     "name": "stderr",
     "output_type": "stream",
     "text": [
      " 61% (1225 of 2000) |############         | Elapsed Time: 0:00:51 ETA:  0:00:32"
     ]
    },
    {
     "name": "stdout",
     "output_type": "stream",
     "text": [
      "156160 samples, 1220 batch \t Loss: 0.179275\n"
     ]
    },
    {
     "name": "stderr",
     "output_type": "stream",
     "text": [
      " 61% (1233 of 2000) |############         | Elapsed Time: 0:00:51 ETA:  0:00:32"
     ]
    },
    {
     "name": "stdout",
     "output_type": "stream",
     "text": [
      "157440 samples, 1230 batch \t Loss: 0.265361\n"
     ]
    },
    {
     "name": "stderr",
     "output_type": "stream",
     "text": [
      " 62% (1243 of 2000) |#############        | Elapsed Time: 0:00:51 ETA:  0:00:33"
     ]
    },
    {
     "name": "stdout",
     "output_type": "stream",
     "text": [
      "158720 samples, 1240 batch \t Loss: 0.110933\n"
     ]
    },
    {
     "name": "stderr",
     "output_type": "stream",
     "text": [
      " 62% (1254 of 2000) |#############        | Elapsed Time: 0:00:52 ETA:  0:00:34"
     ]
    },
    {
     "name": "stdout",
     "output_type": "stream",
     "text": [
      "160000 samples, 1250 batch \t Loss: 0.113963\n"
     ]
    },
    {
     "name": "stderr",
     "output_type": "stream",
     "text": [
      " 63% (1263 of 2000) |#############        | Elapsed Time: 0:00:52 ETA:  0:00:33"
     ]
    },
    {
     "name": "stdout",
     "output_type": "stream",
     "text": [
      "161280 samples, 1260 batch \t Loss: 0.285038\n"
     ]
    },
    {
     "name": "stderr",
     "output_type": "stream",
     "text": [
      " 63% (1275 of 2000) |#############        | Elapsed Time: 0:00:53 ETA:  0:00:32"
     ]
    },
    {
     "name": "stdout",
     "output_type": "stream",
     "text": [
      "162560 samples, 1270 batch \t Loss: 0.166562\n"
     ]
    },
    {
     "name": "stderr",
     "output_type": "stream",
     "text": [
      " 64% (1284 of 2000) |#############        | Elapsed Time: 0:00:53 ETA:  0:00:32"
     ]
    },
    {
     "name": "stdout",
     "output_type": "stream",
     "text": [
      "163840 samples, 1280 batch \t Loss: 0.191259\n"
     ]
    },
    {
     "name": "stderr",
     "output_type": "stream",
     "text": [
      " 64% (1292 of 2000) |#############        | Elapsed Time: 0:00:54 ETA:  0:00:30"
     ]
    },
    {
     "name": "stdout",
     "output_type": "stream",
     "text": [
      "165120 samples, 1290 batch \t Loss: 0.285110\n"
     ]
    },
    {
     "name": "stderr",
     "output_type": "stream",
     "text": [
      " 65% (1302 of 2000) |#############        | Elapsed Time: 0:00:54 ETA:  0:00:29"
     ]
    },
    {
     "name": "stdout",
     "output_type": "stream",
     "text": [
      "166400 samples, 1300 batch \t Loss: 0.193868\n"
     ]
    },
    {
     "name": "stderr",
     "output_type": "stream",
     "text": [
      " 65% (1313 of 2000) |#############        | Elapsed Time: 0:00:55 ETA:  0:00:31"
     ]
    },
    {
     "name": "stdout",
     "output_type": "stream",
     "text": [
      "167680 samples, 1310 batch \t Loss: 0.104786\n"
     ]
    },
    {
     "name": "stderr",
     "output_type": "stream",
     "text": [
      " 66% (1324 of 2000) |#############        | Elapsed Time: 0:00:55 ETA:  0:00:31"
     ]
    },
    {
     "name": "stdout",
     "output_type": "stream",
     "text": [
      "168960 samples, 1320 batch \t Loss: 0.207987\n"
     ]
    },
    {
     "name": "stderr",
     "output_type": "stream",
     "text": [
      " 66% (1333 of 2000) |#############        | Elapsed Time: 0:00:56 ETA:  0:00:30"
     ]
    },
    {
     "name": "stdout",
     "output_type": "stream",
     "text": [
      "170240 samples, 1330 batch \t Loss: 0.189642\n"
     ]
    },
    {
     "name": "stderr",
     "output_type": "stream",
     "text": [
      " 67% (1345 of 2000) |##############       | Elapsed Time: 0:00:56 ETA:  0:00:30"
     ]
    },
    {
     "name": "stdout",
     "output_type": "stream",
     "text": [
      "171520 samples, 1340 batch \t Loss: 0.178366\n"
     ]
    },
    {
     "name": "stderr",
     "output_type": "stream",
     "text": [
      " 67% (1354 of 2000) |##############       | Elapsed Time: 0:00:56 ETA:  0:00:29"
     ]
    },
    {
     "name": "stdout",
     "output_type": "stream",
     "text": [
      "172800 samples, 1350 batch \t Loss: 0.255310\n"
     ]
    },
    {
     "name": "stderr",
     "output_type": "stream",
     "text": [
      " 68% (1363 of 2000) |##############       | Elapsed Time: 0:00:57 ETA:  0:00:26"
     ]
    },
    {
     "name": "stdout",
     "output_type": "stream",
     "text": [
      "174080 samples, 1360 batch \t Loss: 0.101000\n"
     ]
    },
    {
     "name": "stderr",
     "output_type": "stream",
     "text": [
      " 68% (1373 of 2000) |##############       | Elapsed Time: 0:00:57 ETA:  0:00:26"
     ]
    },
    {
     "name": "stdout",
     "output_type": "stream",
     "text": [
      "175360 samples, 1370 batch \t Loss: 0.142319\n"
     ]
    },
    {
     "name": "stderr",
     "output_type": "stream",
     "text": [
      " 69% (1385 of 2000) |##############       | Elapsed Time: 0:00:58 ETA:  0:00:25"
     ]
    },
    {
     "name": "stdout",
     "output_type": "stream",
     "text": [
      "176640 samples, 1380 batch \t Loss: 0.111390\n"
     ]
    },
    {
     "name": "stderr",
     "output_type": "stream",
     "text": [
      " 69% (1393 of 2000) |##############       | Elapsed Time: 0:00:58 ETA:  0:00:24"
     ]
    },
    {
     "name": "stdout",
     "output_type": "stream",
     "text": [
      "177920 samples, 1390 batch \t Loss: 0.160374\n"
     ]
    },
    {
     "name": "stderr",
     "output_type": "stream",
     "text": [
      " 70% (1405 of 2000) |##############       | Elapsed Time: 0:00:58 ETA:  0:00:24"
     ]
    },
    {
     "name": "stdout",
     "output_type": "stream",
     "text": [
      "179200 samples, 1400 batch \t Loss: 0.157156\n"
     ]
    },
    {
     "name": "stderr",
     "output_type": "stream",
     "text": [
      " 70% (1414 of 2000) |##############       | Elapsed Time: 0:00:59 ETA:  0:00:24"
     ]
    },
    {
     "name": "stdout",
     "output_type": "stream",
     "text": [
      "180480 samples, 1410 batch \t Loss: 0.148960\n"
     ]
    },
    {
     "name": "stderr",
     "output_type": "stream",
     "text": [
      " 71% (1423 of 2000) |##############       | Elapsed Time: 0:00:59 ETA:  0:00:23"
     ]
    },
    {
     "name": "stdout",
     "output_type": "stream",
     "text": [
      "181760 samples, 1420 batch \t Loss: 0.097193\n"
     ]
    },
    {
     "name": "stderr",
     "output_type": "stream",
     "text": [
      " 71% (1435 of 2000) |###############      | Elapsed Time: 0:01:00 ETA:  0:00:22"
     ]
    },
    {
     "name": "stdout",
     "output_type": "stream",
     "text": [
      "183040 samples, 1430 batch \t Loss: 0.299849\n"
     ]
    },
    {
     "name": "stderr",
     "output_type": "stream",
     "text": [
      " 72% (1444 of 2000) |###############      | Elapsed Time: 0:01:00 ETA:  0:00:22"
     ]
    },
    {
     "name": "stdout",
     "output_type": "stream",
     "text": [
      "184320 samples, 1440 batch \t Loss: 0.155926\n"
     ]
    },
    {
     "name": "stderr",
     "output_type": "stream",
     "text": [
      " 72% (1453 of 2000) |###############      | Elapsed Time: 0:01:00 ETA:  0:00:22"
     ]
    },
    {
     "name": "stdout",
     "output_type": "stream",
     "text": [
      "185600 samples, 1450 batch \t Loss: 0.125284\n"
     ]
    },
    {
     "name": "stderr",
     "output_type": "stream",
     "text": [
      " 73% (1465 of 2000) |###############      | Elapsed Time: 0:01:01 ETA:  0:00:21"
     ]
    },
    {
     "name": "stdout",
     "output_type": "stream",
     "text": [
      "186880 samples, 1460 batch \t Loss: 0.140768\n"
     ]
    },
    {
     "name": "stderr",
     "output_type": "stream",
     "text": [
      " 73% (1474 of 2000) |###############      | Elapsed Time: 0:01:01 ETA:  0:00:21"
     ]
    },
    {
     "name": "stdout",
     "output_type": "stream",
     "text": [
      "188160 samples, 1470 batch \t Loss: 0.111292\n"
     ]
    },
    {
     "name": "stderr",
     "output_type": "stream",
     "text": [
      " 74% (1483 of 2000) |###############      | Elapsed Time: 0:01:02 ETA:  0:00:21"
     ]
    },
    {
     "name": "stdout",
     "output_type": "stream",
     "text": [
      "189440 samples, 1480 batch \t Loss: 0.153813\n"
     ]
    },
    {
     "name": "stderr",
     "output_type": "stream",
     "text": [
      " 74% (1494 of 2000) |###############      | Elapsed Time: 0:01:02 ETA:  0:00:21"
     ]
    },
    {
     "name": "stdout",
     "output_type": "stream",
     "text": [
      "190720 samples, 1490 batch \t Loss: 0.163353\n"
     ]
    },
    {
     "name": "stderr",
     "output_type": "stream",
     "text": [
      " 75% (1503 of 2000) |###############      | Elapsed Time: 0:01:03 ETA:  0:00:20"
     ]
    },
    {
     "name": "stdout",
     "output_type": "stream",
     "text": [
      "192000 samples, 1500 batch \t Loss: 0.140292\n"
     ]
    },
    {
     "name": "stderr",
     "output_type": "stream",
     "text": [
      " 75% (1515 of 2000) |###############      | Elapsed Time: 0:01:03 ETA:  0:00:20"
     ]
    },
    {
     "name": "stdout",
     "output_type": "stream",
     "text": [
      "193280 samples, 1510 batch \t Loss: 0.129969\n"
     ]
    },
    {
     "name": "stderr",
     "output_type": "stream",
     "text": [
      " 76% (1524 of 2000) |################     | Elapsed Time: 0:01:03 ETA:  0:00:20"
     ]
    },
    {
     "name": "stdout",
     "output_type": "stream",
     "text": [
      "194560 samples, 1520 batch \t Loss: 0.210544\n"
     ]
    },
    {
     "name": "stderr",
     "output_type": "stream",
     "text": [
      " 76% (1533 of 2000) |################     | Elapsed Time: 0:01:04 ETA:  0:00:19"
     ]
    },
    {
     "name": "stdout",
     "output_type": "stream",
     "text": [
      "195840 samples, 1530 batch \t Loss: 0.110404\n"
     ]
    },
    {
     "name": "stderr",
     "output_type": "stream",
     "text": [
      " 77% (1545 of 2000) |################     | Elapsed Time: 0:01:04 ETA:  0:00:19"
     ]
    },
    {
     "name": "stdout",
     "output_type": "stream",
     "text": [
      "197120 samples, 1540 batch \t Loss: 0.144353\n"
     ]
    },
    {
     "name": "stderr",
     "output_type": "stream",
     "text": [
      " 77% (1554 of 2000) |################     | Elapsed Time: 0:01:05 ETA:  0:00:18"
     ]
    },
    {
     "name": "stdout",
     "output_type": "stream",
     "text": [
      "198400 samples, 1550 batch \t Loss: 0.252424\n"
     ]
    },
    {
     "name": "stderr",
     "output_type": "stream",
     "text": [
      " 78% (1563 of 2000) |################     | Elapsed Time: 0:01:05 ETA:  0:00:18"
     ]
    },
    {
     "name": "stdout",
     "output_type": "stream",
     "text": [
      "199680 samples, 1560 batch \t Loss: 0.161297\n"
     ]
    },
    {
     "name": "stderr",
     "output_type": "stream",
     "text": [
      " 78% (1573 of 2000) |################     | Elapsed Time: 0:01:05 ETA:  0:00:17"
     ]
    },
    {
     "name": "stdout",
     "output_type": "stream",
     "text": [
      "200960 samples, 1570 batch \t Loss: 0.244937\n"
     ]
    },
    {
     "name": "stderr",
     "output_type": "stream",
     "text": [
      " 79% (1585 of 2000) |################     | Elapsed Time: 0:01:06 ETA:  0:00:17"
     ]
    },
    {
     "name": "stdout",
     "output_type": "stream",
     "text": [
      "202240 samples, 1580 batch \t Loss: 0.291475\n"
     ]
    },
    {
     "name": "stderr",
     "output_type": "stream",
     "text": [
      " 79% (1594 of 2000) |################     | Elapsed Time: 0:01:06 ETA:  0:00:16"
     ]
    },
    {
     "name": "stdout",
     "output_type": "stream",
     "text": [
      "203520 samples, 1590 batch \t Loss: 0.100711\n"
     ]
    },
    {
     "name": "stderr",
     "output_type": "stream",
     "text": [
      " 80% (1603 of 2000) |################     | Elapsed Time: 0:01:07 ETA:  0:00:16"
     ]
    },
    {
     "name": "stdout",
     "output_type": "stream",
     "text": [
      "204800 samples, 1600 batch \t Loss: 0.150947\n"
     ]
    },
    {
     "name": "stderr",
     "output_type": "stream",
     "text": [
      " 80% (1615 of 2000) |################     | Elapsed Time: 0:01:07 ETA:  0:00:16"
     ]
    },
    {
     "name": "stdout",
     "output_type": "stream",
     "text": [
      "206080 samples, 1610 batch \t Loss: 0.090968\n"
     ]
    },
    {
     "name": "stderr",
     "output_type": "stream",
     "text": [
      " 81% (1624 of 2000) |#################    | Elapsed Time: 0:01:08 ETA:  0:00:15"
     ]
    },
    {
     "name": "stdout",
     "output_type": "stream",
     "text": [
      "207360 samples, 1620 batch \t Loss: 0.141007\n"
     ]
    },
    {
     "name": "stderr",
     "output_type": "stream",
     "text": [
      " 81% (1633 of 2000) |#################    | Elapsed Time: 0:01:08 ETA:  0:00:15"
     ]
    },
    {
     "name": "stdout",
     "output_type": "stream",
     "text": [
      "208640 samples, 1630 batch \t Loss: 0.214211\n"
     ]
    },
    {
     "name": "stderr",
     "output_type": "stream",
     "text": [
      " 82% (1644 of 2000) |#################    | Elapsed Time: 0:01:08 ETA:  0:00:14"
     ]
    },
    {
     "name": "stdout",
     "output_type": "stream",
     "text": [
      "209920 samples, 1640 batch \t Loss: 0.105638\n"
     ]
    },
    {
     "name": "stderr",
     "output_type": "stream",
     "text": [
      " 82% (1655 of 2000) |#################    | Elapsed Time: 0:01:09 ETA:  0:00:14"
     ]
    },
    {
     "name": "stdout",
     "output_type": "stream",
     "text": [
      "211200 samples, 1650 batch \t Loss: 0.197800\n"
     ]
    },
    {
     "name": "stderr",
     "output_type": "stream",
     "text": [
      " 83% (1664 of 2000) |#################    | Elapsed Time: 0:01:09 ETA:  0:00:13"
     ]
    },
    {
     "name": "stdout",
     "output_type": "stream",
     "text": [
      "212480 samples, 1660 batch \t Loss: 0.111538\n"
     ]
    },
    {
     "name": "stderr",
     "output_type": "stream",
     "text": [
      " 83% (1673 of 2000) |#################    | Elapsed Time: 0:01:10 ETA:  0:00:13"
     ]
    },
    {
     "name": "stdout",
     "output_type": "stream",
     "text": [
      "213760 samples, 1670 batch \t Loss: 0.244398\n"
     ]
    },
    {
     "name": "stderr",
     "output_type": "stream",
     "text": [
      " 84% (1685 of 2000) |#################    | Elapsed Time: 0:01:10 ETA:  0:00:13"
     ]
    },
    {
     "name": "stdout",
     "output_type": "stream",
     "text": [
      "215040 samples, 1680 batch \t Loss: 0.113625\n"
     ]
    },
    {
     "name": "stderr",
     "output_type": "stream",
     "text": [
      " 84% (1693 of 2000) |#################    | Elapsed Time: 0:01:10 ETA:  0:00:12"
     ]
    },
    {
     "name": "stdout",
     "output_type": "stream",
     "text": [
      "216320 samples, 1690 batch \t Loss: 0.164892\n"
     ]
    },
    {
     "name": "stderr",
     "output_type": "stream",
     "text": [
      " 85% (1705 of 2000) |#################    | Elapsed Time: 0:01:11 ETA:  0:00:12"
     ]
    },
    {
     "name": "stdout",
     "output_type": "stream",
     "text": [
      "217600 samples, 1700 batch \t Loss: 0.114851\n"
     ]
    },
    {
     "name": "stderr",
     "output_type": "stream",
     "text": [
      " 85% (1714 of 2000) |#################    | Elapsed Time: 0:01:11 ETA:  0:00:12"
     ]
    },
    {
     "name": "stdout",
     "output_type": "stream",
     "text": [
      "218880 samples, 1710 batch \t Loss: 0.129427\n"
     ]
    },
    {
     "name": "stderr",
     "output_type": "stream",
     "text": [
      " 86% (1722 of 2000) |##################   | Elapsed Time: 0:01:12 ETA:  0:00:11"
     ]
    },
    {
     "name": "stdout",
     "output_type": "stream",
     "text": [
      "220160 samples, 1720 batch \t Loss: 0.206059\n"
     ]
    },
    {
     "name": "stderr",
     "output_type": "stream",
     "text": [
      " 86% (1734 of 2000) |##################   | Elapsed Time: 0:01:12 ETA:  0:00:11"
     ]
    },
    {
     "name": "stdout",
     "output_type": "stream",
     "text": [
      "221440 samples, 1730 batch \t Loss: 0.160156\n"
     ]
    },
    {
     "name": "stderr",
     "output_type": "stream",
     "text": [
      " 87% (1743 of 2000) |##################   | Elapsed Time: 0:01:13 ETA:  0:00:10"
     ]
    },
    {
     "name": "stdout",
     "output_type": "stream",
     "text": [
      "222720 samples, 1740 batch \t Loss: 0.208569\n"
     ]
    },
    {
     "name": "stderr",
     "output_type": "stream",
     "text": [
      " 87% (1752 of 2000) |##################   | Elapsed Time: 0:01:13 ETA:  0:00:10"
     ]
    },
    {
     "name": "stdout",
     "output_type": "stream",
     "text": [
      "224000 samples, 1750 batch \t Loss: 0.223442\n"
     ]
    },
    {
     "name": "stderr",
     "output_type": "stream",
     "text": [
      " 88% (1764 of 2000) |##################   | Elapsed Time: 0:01:13 ETA:  0:00:09"
     ]
    },
    {
     "name": "stdout",
     "output_type": "stream",
     "text": [
      "225280 samples, 1760 batch \t Loss: 0.230788\n"
     ]
    },
    {
     "name": "stderr",
     "output_type": "stream",
     "text": [
      " 88% (1773 of 2000) |##################   | Elapsed Time: 0:01:14 ETA:  0:00:09"
     ]
    },
    {
     "name": "stdout",
     "output_type": "stream",
     "text": [
      "226560 samples, 1770 batch \t Loss: 0.204989\n"
     ]
    },
    {
     "name": "stderr",
     "output_type": "stream",
     "text": [
      " 89% (1785 of 2000) |##################   | Elapsed Time: 0:01:14 ETA:  0:00:09"
     ]
    },
    {
     "name": "stdout",
     "output_type": "stream",
     "text": [
      "227840 samples, 1780 batch \t Loss: 0.182290\n"
     ]
    },
    {
     "name": "stderr",
     "output_type": "stream",
     "text": [
      " 89% (1794 of 2000) |##################   | Elapsed Time: 0:01:15 ETA:  0:00:08"
     ]
    },
    {
     "name": "stdout",
     "output_type": "stream",
     "text": [
      "229120 samples, 1790 batch \t Loss: 0.162863\n"
     ]
    },
    {
     "name": "stderr",
     "output_type": "stream",
     "text": [
      " 90% (1803 of 2000) |##################   | Elapsed Time: 0:01:15 ETA:  0:00:08"
     ]
    },
    {
     "name": "stdout",
     "output_type": "stream",
     "text": [
      "230400 samples, 1800 batch \t Loss: 0.174652\n"
     ]
    },
    {
     "name": "stderr",
     "output_type": "stream",
     "text": [
      " 90% (1814 of 2000) |###################  | Elapsed Time: 0:01:16 ETA:  0:00:08"
     ]
    },
    {
     "name": "stdout",
     "output_type": "stream",
     "text": [
      "231680 samples, 1810 batch \t Loss: 0.179020\n"
     ]
    },
    {
     "name": "stderr",
     "output_type": "stream",
     "text": [
      " 91% (1823 of 2000) |###################  | Elapsed Time: 0:01:16 ETA:  0:00:07"
     ]
    },
    {
     "name": "stdout",
     "output_type": "stream",
     "text": [
      "232960 samples, 1820 batch \t Loss: 0.169205\n"
     ]
    },
    {
     "name": "stderr",
     "output_type": "stream",
     "text": [
      " 91% (1835 of 2000) |###################  | Elapsed Time: 0:01:17 ETA:  0:00:07"
     ]
    },
    {
     "name": "stdout",
     "output_type": "stream",
     "text": [
      "234240 samples, 1830 batch \t Loss: 0.154007\n"
     ]
    },
    {
     "name": "stderr",
     "output_type": "stream",
     "text": [
      " 92% (1843 of 2000) |###################  | Elapsed Time: 0:01:17 ETA:  0:00:06"
     ]
    },
    {
     "name": "stdout",
     "output_type": "stream",
     "text": [
      "235520 samples, 1840 batch \t Loss: 0.142637\n"
     ]
    },
    {
     "name": "stderr",
     "output_type": "stream",
     "text": [
      " 92% (1855 of 2000) |###################  | Elapsed Time: 0:01:17 ETA:  0:00:06"
     ]
    },
    {
     "name": "stdout",
     "output_type": "stream",
     "text": [
      "236800 samples, 1850 batch \t Loss: 0.091786\n"
     ]
    },
    {
     "name": "stderr",
     "output_type": "stream",
     "text": [
      " 93% (1864 of 2000) |###################  | Elapsed Time: 0:01:18 ETA:  0:00:05"
     ]
    },
    {
     "name": "stdout",
     "output_type": "stream",
     "text": [
      "238080 samples, 1860 batch \t Loss: 0.195316\n"
     ]
    },
    {
     "name": "stderr",
     "output_type": "stream",
     "text": [
      " 93% (1873 of 2000) |###################  | Elapsed Time: 0:01:18 ETA:  0:00:05"
     ]
    },
    {
     "name": "stdout",
     "output_type": "stream",
     "text": [
      "239360 samples, 1870 batch \t Loss: 0.245078\n"
     ]
    },
    {
     "name": "stderr",
     "output_type": "stream",
     "text": [
      " 94% (1885 of 2000) |###################  | Elapsed Time: 0:01:19 ETA:  0:00:04"
     ]
    },
    {
     "name": "stdout",
     "output_type": "stream",
     "text": [
      "240640 samples, 1880 batch \t Loss: 0.125540\n"
     ]
    },
    {
     "name": "stderr",
     "output_type": "stream",
     "text": [
      " 94% (1894 of 2000) |###################  | Elapsed Time: 0:01:19 ETA:  0:00:04"
     ]
    },
    {
     "name": "stdout",
     "output_type": "stream",
     "text": [
      "241920 samples, 1890 batch \t Loss: 0.158658\n"
     ]
    },
    {
     "name": "stderr",
     "output_type": "stream",
     "text": [
      " 95% (1905 of 2000) |#################### | Elapsed Time: 0:01:20 ETA:  0:00:04"
     ]
    },
    {
     "name": "stdout",
     "output_type": "stream",
     "text": [
      "243200 samples, 1900 batch \t Loss: 0.208983\n"
     ]
    },
    {
     "name": "stderr",
     "output_type": "stream",
     "text": [
      " 95% (1914 of 2000) |#################### | Elapsed Time: 0:01:20 ETA:  0:00:03"
     ]
    },
    {
     "name": "stdout",
     "output_type": "stream",
     "text": [
      "244480 samples, 1910 batch \t Loss: 0.180885\n"
     ]
    },
    {
     "name": "stderr",
     "output_type": "stream",
     "text": [
      " 96% (1923 of 2000) |#################### | Elapsed Time: 0:01:20 ETA:  0:00:03"
     ]
    },
    {
     "name": "stdout",
     "output_type": "stream",
     "text": [
      "245760 samples, 1920 batch \t Loss: 0.136758\n"
     ]
    },
    {
     "name": "stderr",
     "output_type": "stream",
     "text": [
      " 96% (1934 of 2000) |#################### | Elapsed Time: 0:01:21 ETA:  0:00:02"
     ]
    },
    {
     "name": "stdout",
     "output_type": "stream",
     "text": [
      "247040 samples, 1930 batch \t Loss: 0.157808\n"
     ]
    },
    {
     "name": "stderr",
     "output_type": "stream",
     "text": [
      " 97% (1943 of 2000) |#################### | Elapsed Time: 0:01:21 ETA:  0:00:02"
     ]
    },
    {
     "name": "stdout",
     "output_type": "stream",
     "text": [
      "248320 samples, 1940 batch \t Loss: 0.129676\n"
     ]
    },
    {
     "name": "stderr",
     "output_type": "stream",
     "text": [
      " 97% (1953 of 2000) |#################### | Elapsed Time: 0:01:22 ETA:  0:00:01"
     ]
    },
    {
     "name": "stdout",
     "output_type": "stream",
     "text": [
      "249600 samples, 1950 batch \t Loss: 0.072462\n"
     ]
    },
    {
     "name": "stderr",
     "output_type": "stream",
     "text": [
      " 98% (1965 of 2000) |#################### | Elapsed Time: 0:01:22 ETA:  0:00:01"
     ]
    },
    {
     "name": "stdout",
     "output_type": "stream",
     "text": [
      "250880 samples, 1960 batch \t Loss: 0.074557\n"
     ]
    },
    {
     "name": "stderr",
     "output_type": "stream",
     "text": [
      " 98% (1974 of 2000) |#################### | Elapsed Time: 0:01:22 ETA:  0:00:01"
     ]
    },
    {
     "name": "stdout",
     "output_type": "stream",
     "text": [
      "252160 samples, 1970 batch \t Loss: 0.165799\n"
     ]
    },
    {
     "name": "stderr",
     "output_type": "stream",
     "text": [
      " 99% (1983 of 2000) |#################### | Elapsed Time: 0:01:23 ETA:  0:00:00"
     ]
    },
    {
     "name": "stdout",
     "output_type": "stream",
     "text": [
      "253440 samples, 1980 batch \t Loss: 0.128508\n"
     ]
    },
    {
     "name": "stderr",
     "output_type": "stream",
     "text": [
      " 99% (1995 of 2000) |#################### | Elapsed Time: 0:01:23 ETA:  0:00:00"
     ]
    },
    {
     "name": "stdout",
     "output_type": "stream",
     "text": [
      "254720 samples, 1990 batch \t Loss: 0.126635\n"
     ]
    },
    {
     "name": "stderr",
     "output_type": "stream",
     "text": [
      "100% (2000 of 2000) |#####################| Elapsed Time: 0:01:23 ETA:  0:00:00"
     ]
    },
    {
     "name": "stdout",
     "output_type": "stream",
     "text": [
      "256000 samples, 2000 batch \t Loss: 0.193492\n"
     ]
    }
   ],
   "source": [
    "model.train()\n",
    "\n",
    "p = ProgressBar(max_value=nb_iter)\n",
    "gen = batch_generator(x_train_list, y_train_list, batch_size, l_sample, train=True, nb_iter=nb_iter, categorical=False)\n",
    "for batch_idx, (X, y) in enumerate(gen):\n",
    "    batch_idx += 1\n",
    "    tX = Variable(torch.from_numpy(X.astype('float32')), requires_grad=False).cuda()\n",
    "    ty = Variable(torch.LongTensor(y), requires_grad=False).cuda()\n",
    "    \n",
    "    optimizer.zero_grad()\n",
    "    output = model(tX)\n",
    "    \n",
    "    loss = criterion(output, ty)\n",
    "    loss.backward()\n",
    "    optimizer.step()\n",
    "    if batch_idx % report_each == 0:\n",
    "        print(\"{} samples, {} batch \\t Loss: {:.6f}\".format(batch_idx * batch_size, batch_idx, loss.data[0]))\n",
    "    p.update(batch_idx)\n",
    "    "
   ]
  },
  {
   "cell_type": "code",
   "execution_count": 30,
   "metadata": {
    "collapsed": true
   },
   "outputs": [],
   "source": [
    "from sklearn import metrics\n",
    "\n",
    "def test(model, x_list, y_list, l_sample, nb_iter=1, batch_size=2048):\n",
    "    model.eval()\n",
    "    test_gen = batch_generator(x_list, y_list, batch_size, l_sample, train=False, nb_iter=nb_iter, categorical=False, seed=0)\n",
    "    y_list = []\n",
    "    py_list = []\n",
    "    for X, y in test_gen:\n",
    "        tX = Variable(torch.from_numpy(X.astype('float32')), requires_grad=False).cuda()\n",
    "        py = model(tX).max(1)[1].data.cpu().numpy().reshape(-1)\n",
    "        y_list.append(y)\n",
    "        py_list.append(py)\n",
    "    \n",
    "    y = np.concatenate(y_list)\n",
    "    py = np.concatenate(py_list)\n",
    "    print(metrics.accuracy_score(y, py))\n",
    "    print(metrics.f1_score(y, py, average='macro'))\n",
    "    print(metrics.precision_score(y, py, average=None))\n",
    "    print(metrics.recall_score(y, py, average=None))"
   ]
  },
  {
   "cell_type": "code",
   "execution_count": 32,
   "metadata": {},
   "outputs": [
    {
     "name": "stdout",
     "output_type": "stream",
     "text": [
      "0.77109375\n",
      "0.561022799081\n",
      "[ 0.91304348  0.83333333  0.82352941  0.76666667  0.42253521  0.22857143\n",
      "  0.28571429  0.36666667  0.5         1.          0.35294118  0.33333333\n",
      "  1.          0.66666667  0.83333333  0.67741935  0.80952381  0.85028571]\n",
      "[ 0.7         0.74074074  0.60869565  0.88461538  0.90909091  0.42105263\n",
      "  0.15384615  0.91666667  0.46153846  0.36842105  0.35294118  0.22222222\n",
      "  0.23529412  0.45454545  0.83333333  0.32307692  0.60714286  0.90953545]\n"
     ]
    }
   ],
   "source": [
    "test(model, x_test_list, y_test_list, l_sample, nb_iter=10, batch_size=batch_size)"
   ]
  },
  {
   "cell_type": "code",
   "execution_count": 11,
   "metadata": {
    "collapsed": true
   },
   "outputs": [],
   "source": [
    "# keras model for comparison\n",
    "# which is much slower than pytorch"
   ]
  },
  {
   "cell_type": "code",
   "execution_count": 12,
   "metadata": {},
   "outputs": [
    {
     "name": "stderr",
     "output_type": "stream",
     "text": [
      "Using Theano backend.\n",
      "WARNING (theano.sandbox.cuda): The cuda backend is deprecated and will be removed in the next release (v0.10).  Please switch to the gpuarray backend. You can get more information about how to switch at this URL:\n",
      " https://github.com/Theano/Theano/wiki/Converting-to-the-new-gpu-back-end%28gpuarray%29\n",
      "\n"
     ]
    },
    {
     "name": "stdout",
     "output_type": "stream",
     "text": [
      "TBA\n"
     ]
    },
    {
     "name": "stderr",
     "output_type": "stream",
     "text": [
      "Using gpu device 0: GeForce GTX TITAN X (CNMeM is disabled, cuDNN Mixed dnn version. The header is from one version, but we link with a different version (4007, 6021))\n"
     ]
    }
   ],
   "source": [
    "import keras\n",
    "if keras.__version__ >= '2.0.0':\n",
    "\n",
    "    from keras.models import Sequential\n",
    "    from keras.layers import Dense, Convolution2D, Dropout, Activation, Flatten\n",
    "    from keras.layers import MaxPooling2D\n",
    "\n",
    "    from keras.optimizers import SGD\n",
    "\n",
    "    model = Sequential()\n",
    "    model.add(Convolution2D(50, kernel_size=(1, 3), input_shape=[1, nb_modal, l_sample]))\n",
    "    model.add(Activation('relu'))\n",
    "    model.add(MaxPool2D(pool_size=(1, 2)))\n",
    "    model.add(Convolution2D(40, (1, 3)))\n",
    "    model.add(Activation('relu'))\n",
    "    model.add(MaxPool2D(pool_size=(1, 2)))\n",
    "    model.add(Convolution2D(20, (1, 3)))\n",
    "    model.add(Activation('relu'))\n",
    "    model.add(MaxPool2D(pool_size=(1, 2)))\n",
    "    model.add(Flatten())\n",
    "    model.add(Dense(nb_unit))\n",
    "    model.add(Activation('relu'))\n",
    "    model.add(Dropout(0.5))\n",
    "    model.add(Dense(nb_out))\n",
    "    model.add(Activation('softmax'))\n",
    "    model.summary()\n",
    "\n",
    "    optimizer = SGD(lr=0.01, momentum=0.5)\n",
    "\n",
    "    model.compile(optimizer=optimizer, loss='categorical_crossentropy')\n",
    "    \n",
    "    p = ProgressBar(max_value=report_each)\n",
    "    gen = batch_generator(x_train_list, y_train_list, batch_size, l_sample, train=True, nb_iter=nb_iter, categorical=train_set.nb_class)\n",
    "    for batch_idx, (X, y) in enumerate(gen):\n",
    "        batch_idx += 1\n",
    "        loss = model.train_on_batch(X, y)\n",
    "        if batch_idx % report_each == 0:\n",
    "            print(\"Seen {} samples, {} batch \\t Loss: {:.6f}\".format(batch_idx * batch_size, batch_idx, float(loss)))\n",
    "            p.update(report_each)\n",
    "        else:\n",
    "            p.update((batch_idx % report_each))\n",
    "else:\n",
    "    print(\"TBA\")"
   ]
  }
 ],
 "metadata": {
  "kernelspec": {
   "display_name": "Python 2",
   "language": "python",
   "name": "python2"
  },
  "language_info": {
   "codemirror_mode": {
    "name": "ipython",
    "version": 2
   },
   "file_extension": ".py",
   "mimetype": "text/x-python",
   "name": "python",
   "nbconvert_exporter": "python",
   "pygments_lexer": "ipython2",
   "version": "2.7.13"
  }
 },
 "nbformat": 4,
 "nbformat_minor": 2
}
