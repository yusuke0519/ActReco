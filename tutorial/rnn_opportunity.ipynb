{
 "cells": [
  {
   "cell_type": "markdown",
   "metadata": {},
   "source": [
    "# Tutorial: RNN with opportunity dataset"
   ]
  },
  {
   "cell_type": "code",
   "execution_count": 1,
   "metadata": {
    "collapsed": true
   },
   "outputs": [],
   "source": [
    "import sys\n",
    "sys.path.append('../')\n",
    "\n",
    "# general\n",
    "import numpy as np\n",
    "import pandas as pd\n",
    "from progressbar import ProgressBar\n",
    "\n",
    "# dataset\n",
    "from actreco.datasets.opportunityc import Opportunity\n",
    "from actreco.utils.generator import batch_generator\n",
    "\n",
    "# modeling\n",
    "import torch\n",
    "import torch.nn as nn\n",
    "import torch.nn.functional as F\n",
    "import torch.optim as optim\n",
    "from torch.autograd import Variable\n"
   ]
  },
  {
   "cell_type": "markdown",
   "metadata": {},
   "source": [
    "### Dataset"
   ]
  },
  {
   "cell_type": "code",
   "execution_count": 2,
   "metadata": {
    "collapsed": true
   },
   "outputs": [],
   "source": [
    "train_set = Opportunity(userID='S1,S2,S3')\n",
    "x_train_list = train_set.get('X')\n",
    "y_train_list = train_set.get('y')"
   ]
  },
  {
   "cell_type": "code",
   "execution_count": 3,
   "metadata": {},
   "outputs": [],
   "source": [
    "nb_modal_dim = 2\n",
    "nb_modal = train_set.nb_modal\n",
    "nb_out = train_set.nb_class\n",
    "\n",
    "kw = 3\n",
    "nb_filter_list = [50, 40, 20]\n",
    "nb_in_filter = 1\n",
    "drop_rate = 0.5\n",
    "nb_unit = 400\n",
    "\n",
    "batch_size = 10\n",
    "l_sample = 30\n",
    "interval = int(l_sample * 0.5)\n",
    "\n",
    "nb_iter = 100\n",
    "report_each = 10\n",
    "\n"
   ]
  },
  {
   "cell_type": "code",
   "execution_count": 4,
   "metadata": {},
   "outputs": [],
   "source": [
    "gen = batch_generator(x_train_list, y_train_list, batch_size, l_sample, train=True, nb_iter=nb_iter, nb_timestep=2, interval=interval, categorical=False)\n",
    "for batch_idx, (X, y) in enumerate(gen):\n",
    "    batch_idx += 1\n",
    "    tX = Variable(torch.from_numpy(X.astype('float32')), requires_grad=False).cuda()\n",
    "    ty = Variable(torch.LongTensor(y), requires_grad=False).cuda()"
   ]
  },
  {
   "cell_type": "code",
   "execution_count": 5,
   "metadata": {},
   "outputs": [],
   "source": [
    "# test\n",
    "conv = nn.Conv2d(1, 10, (1, 5))\n",
    "x = tX.cpu()\n",
    "y = ty.cpu()\n",
    "n, t, c, w, h = x.size()\n",
    "x = conv(x.contiguous().view(n*t, c, w, h))\n",
    "_ ,c, w, h = x.size()\n",
    "x = x.view(n, t, c, w, h)\n"
   ]
  },
  {
   "cell_type": "code",
   "execution_count": 6,
   "metadata": {},
   "outputs": [
    {
     "name": "stdout",
     "output_type": "stream",
     "text": [
      "torch.Size([10, 2, 10, 113, 26])\n",
      "torch.Size([2, 10, 29380])\n",
      "torch.Size([2, 10, 200])\n"
     ]
    }
   ],
   "source": [
    "rnn = nn.LSTM(10*113*26, 200)\n",
    "\n",
    "print(x.size())\n",
    "x = x.view(n, t, -1).permute(1, 0, 2)\n",
    "print(x.size())\n",
    "x, _= rnn(x)\n",
    "print(x.size())\n",
    "fc = nn.Linear(x.size(2), 18)\n",
    "x = fc(x.view(t*n, -1)).view(t, n, -1)"
   ]
  },
  {
   "cell_type": "code",
   "execution_count": 7,
   "metadata": {},
   "outputs": [],
   "source": [
    "criterion = nn.CrossEntropyLoss()"
   ]
  },
  {
   "cell_type": "code",
   "execution_count": 8,
   "metadata": {},
   "outputs": [
    {
     "data": {
      "text/plain": [
       "Variable containing:\n",
       " 2.8822\n",
       "[torch.FloatTensor of size 1]"
      ]
     },
     "execution_count": 8,
     "metadata": {},
     "output_type": "execute_result"
    }
   ],
   "source": [
    "criterion(x[0], y[:, 0]) + 0"
   ]
  },
  {
   "cell_type": "code",
   "execution_count": 9,
   "metadata": {},
   "outputs": [
    {
     "data": {
      "text/plain": [
       "Variable containing:\n",
       "   15    17    15    14    14     4    12    17    17    17\n",
       "   15    17    15    14    14     4    12    17    17    17\n",
       "[torch.cuda.LongTensor of size 2x10 (GPU 0)]"
      ]
     },
     "execution_count": 9,
     "metadata": {},
     "output_type": "execute_result"
    }
   ],
   "source": [
    "y.cuda().permute(1, 0)"
   ]
  },
  {
   "cell_type": "code",
   "execution_count": 10,
   "metadata": {
    "collapsed": true
   },
   "outputs": [],
   "source": [
    "test_set = Opportunity(userID='S4')\n",
    "x_test_list = test_set.get('X')\n",
    "y_test_list = test_set.get('y')"
   ]
  },
  {
   "cell_type": "code",
   "execution_count": 11,
   "metadata": {
    "collapsed": true
   },
   "outputs": [],
   "source": [
    "class VanilaConvRNN(nn.Module):\n",
    "    def __init__(self, rnn_type, l_sample, nb_modal, nb_in_filter, nb_filter_list, kw, nb_unit, nb_out):\n",
    "        super(VanilaConvRNN, self).__init__()\n",
    "        self.rnn_type = rnn_type\n",
    "        self.l_sample = l_sample\n",
    "        self.nb_modal = nb_modal\n",
    "        self.nb_conv = len(nb_filter_list)\n",
    "        self.nlayers = 1\n",
    "        self.nb_unit = nb_unit\n",
    "        \n",
    "        if isinstance(kw, int):\n",
    "            kw = [kw] * self.nb_conv\n",
    "        assert len(nb_filter_list) == len(kw)\n",
    "        nb_filter_list = [nb_in_filter] + nb_filter_list\n",
    "        \n",
    "        self.kw = kw\n",
    "        self.nb_filter_list = nb_filter_list\n",
    "\n",
    "        convs = []\n",
    "        for i in range(self.nb_conv):\n",
    "            convs.append(nn.Conv2d(nb_filter_list[i], nb_filter_list[i+1], (1, kw[i])))\n",
    "        self.convs = nn.ModuleList(convs)\n",
    "        self.rnn = getattr(nn, rnn_type)(self.conv_output_shape(), self.nb_unit, num_layers=self.nlayers)\n",
    "        self.fc2 = nn.Linear(self.nb_unit, nb_out)\n",
    "        \n",
    "    def forward(self, x):\n",
    "        hidden = self.init_hidden(x.size(0))\n",
    "        for conv in self.convs:\n",
    "            n, t, c, w, h = x.size()\n",
    "            x = x.contiguous().view(n*t, c, w, h)\n",
    "            x = F.max_pool2d(F.relu(conv(x)), (1, 2))\n",
    "            dropout = nn.Dropout2d(0.5)\n",
    "            _ ,c, w, h = x.size()\n",
    "            x = x.view(n, t, c, w, h)\n",
    "            # x = dropout(x)\n",
    "        x = x.view(n, t, -1).permute(1, 0, 2)\n",
    "        \n",
    "        x, hidden = self.rnn(x)\n",
    "        x = x.view(t*n, -1)\n",
    "        x = self.fc2(x)\n",
    "        x = x.view(t, n, -1)\n",
    "        return x\n",
    "    \n",
    "    def conv_output_shape(self):\n",
    "        length = self.l_sample\n",
    "        for i in range(self.nb_conv):\n",
    "            length = int((length - self.kw[i] + 1) /2)\n",
    "        return length * self.nb_filter_list[-1] * self.nb_modal\n",
    "    \n",
    "\n",
    "    def init_hidden(self, bsz):\n",
    "        weight = next(self.parameters()).data\n",
    "        if self.rnn_type == 'LSTM':\n",
    "            return (Variable(weight.new(self.nlayers, bsz, self.nb_unit).zero_()),\n",
    "                    Variable(weight.new(self.nlayers, bsz, self.nb_unit).zero_()))\n",
    "        else:\n",
    "            return Variable(weight.new(self.nlayers, bsz, self.nb_unit).zero_())"
   ]
  },
  {
   "cell_type": "code",
   "execution_count": 12,
   "metadata": {},
   "outputs": [],
   "source": [
    "nb_modal_dim = 2\n",
    "nb_modal = train_set.nb_modal\n",
    "nb_out = train_set.nb_class\n",
    "\n",
    "kw = 3\n",
    "nb_filter_list = [50, 40, 20]\n",
    "nb_in_filter = 1\n",
    "drop_rate = 0.5\n",
    "nb_unit = 400\n",
    "\n",
    "batch_size = 128\n",
    "l_sample = 30\n",
    "interval = int(l_sample * 0.5)\n",
    "nb_timestep = 10\n",
    "\n",
    "nb_iter = 10000\n",
    "report_each = 10\n",
    "\n",
    "\n",
    "model = VanilaConvRNN(rnn_type='LSTM', l_sample=l_sample, nb_modal=nb_modal, nb_in_filter=1, nb_filter_list=nb_filter_list, kw=kw, nb_unit=nb_unit, nb_out=nb_out).cuda()\n",
    "optimizer = optim.SGD(model.parameters(), lr=0.01, momentum=0.5)\n",
    "criterion = nn.CrossEntropyLoss()"
   ]
  },
  {
   "cell_type": "code",
   "execution_count": 13,
   "metadata": {},
   "outputs": [
    {
     "name": "stderr",
     "output_type": "stream",
     "text": [
      "  0% (10 of 10000) |                      | Elapsed Time: 0:00:01 ETA:  0:29:03"
     ]
    },
    {
     "name": "stdout",
     "output_type": "stream",
     "text": [
      "1280 samples, 10 batch \t Loss: 2.608874\n"
     ]
    },
    {
     "name": "stderr",
     "output_type": "stream",
     "text": [
      "  0% (20 of 10000) |                      | Elapsed Time: 0:00:03 ETA:  0:30:19"
     ]
    },
    {
     "name": "stdout",
     "output_type": "stream",
     "text": [
      "2560 samples, 20 batch \t Loss: 1.693245\n"
     ]
    },
    {
     "name": "stderr",
     "output_type": "stream",
     "text": [
      "  0% (30 of 10000) |                      | Elapsed Time: 0:00:05 ETA:  0:30:48"
     ]
    },
    {
     "name": "stdout",
     "output_type": "stream",
     "text": [
      "3840 samples, 30 batch \t Loss: 1.670480\n"
     ]
    },
    {
     "name": "stderr",
     "output_type": "stream",
     "text": [
      "  0% (40 of 10000) |                      | Elapsed Time: 0:00:07 ETA:  0:31:09"
     ]
    },
    {
     "name": "stdout",
     "output_type": "stream",
     "text": [
      "5120 samples, 40 batch \t Loss: 1.731748\n"
     ]
    },
    {
     "name": "stderr",
     "output_type": "stream",
     "text": [
      "  0% (50 of 10000) |                      | Elapsed Time: 0:00:09 ETA:  0:31:19"
     ]
    },
    {
     "name": "stdout",
     "output_type": "stream",
     "text": [
      "6400 samples, 50 batch \t Loss: 1.522776\n"
     ]
    },
    {
     "name": "stderr",
     "output_type": "stream",
     "text": [
      "  0% (60 of 10000) |                      | Elapsed Time: 0:00:11 ETA:  0:31:24"
     ]
    },
    {
     "name": "stdout",
     "output_type": "stream",
     "text": [
      "7680 samples, 60 batch \t Loss: 1.642902\n"
     ]
    },
    {
     "name": "stderr",
     "output_type": "stream",
     "text": [
      "  0% (70 of 10000) |                      | Elapsed Time: 0:00:13 ETA:  0:31:29"
     ]
    },
    {
     "name": "stdout",
     "output_type": "stream",
     "text": [
      "8960 samples, 70 batch \t Loss: 1.652683\n"
     ]
    },
    {
     "name": "stderr",
     "output_type": "stream",
     "text": [
      "  0% (80 of 10000) |                      | Elapsed Time: 0:00:15 ETA:  0:31:32"
     ]
    },
    {
     "name": "stdout",
     "output_type": "stream",
     "text": [
      "10240 samples, 80 batch \t Loss: 1.587072\n"
     ]
    },
    {
     "name": "stderr",
     "output_type": "stream",
     "text": [
      "  0% (90 of 10000) |                      | Elapsed Time: 0:00:17 ETA:  0:31:33"
     ]
    },
    {
     "name": "stdout",
     "output_type": "stream",
     "text": [
      "11520 samples, 90 batch \t Loss: 1.642433\n"
     ]
    },
    {
     "name": "stderr",
     "output_type": "stream",
     "text": [
      "  1% (100 of 10000) |                     | Elapsed Time: 0:00:19 ETA:  0:31:34"
     ]
    },
    {
     "name": "stdout",
     "output_type": "stream",
     "text": [
      "12800 samples, 100 batch \t Loss: 1.573649\n"
     ]
    },
    {
     "name": "stderr",
     "output_type": "stream",
     "text": [
      "  1% (110 of 10000) |                     | Elapsed Time: 0:00:20 ETA:  0:31:26"
     ]
    },
    {
     "name": "stdout",
     "output_type": "stream",
     "text": [
      "14080 samples, 110 batch \t Loss: 1.457426\n"
     ]
    },
    {
     "name": "stderr",
     "output_type": "stream",
     "text": [
      "  1% (120 of 10000) |                     | Elapsed Time: 0:00:22 ETA:  0:31:36"
     ]
    },
    {
     "name": "stdout",
     "output_type": "stream",
     "text": [
      "15360 samples, 120 batch \t Loss: 1.568643\n"
     ]
    },
    {
     "name": "stderr",
     "output_type": "stream",
     "text": [
      "  1% (130 of 10000) |                     | Elapsed Time: 0:00:24 ETA:  0:31:35"
     ]
    },
    {
     "name": "stdout",
     "output_type": "stream",
     "text": [
      "16640 samples, 130 batch \t Loss: 1.423986\n"
     ]
    },
    {
     "name": "stderr",
     "output_type": "stream",
     "text": [
      "  1% (140 of 10000) |                     | Elapsed Time: 0:00:26 ETA:  0:31:31"
     ]
    },
    {
     "name": "stdout",
     "output_type": "stream",
     "text": [
      "17920 samples, 140 batch \t Loss: 1.450528\n"
     ]
    },
    {
     "name": "stderr",
     "output_type": "stream",
     "text": [
      "  1% (150 of 10000) |                     | Elapsed Time: 0:00:28 ETA:  0:31:26"
     ]
    },
    {
     "name": "stdout",
     "output_type": "stream",
     "text": [
      "19200 samples, 150 batch \t Loss: 1.474400\n"
     ]
    },
    {
     "name": "stderr",
     "output_type": "stream",
     "text": [
      "  1% (160 of 10000) |                     | Elapsed Time: 0:00:30 ETA:  0:31:15"
     ]
    },
    {
     "name": "stdout",
     "output_type": "stream",
     "text": [
      "20480 samples, 160 batch \t Loss: 1.228606\n"
     ]
    },
    {
     "name": "stderr",
     "output_type": "stream",
     "text": [
      "  1% (170 of 10000) |                     | Elapsed Time: 0:00:32 ETA:  0:31:15"
     ]
    },
    {
     "name": "stdout",
     "output_type": "stream",
     "text": [
      "21760 samples, 170 batch \t Loss: 1.231326\n"
     ]
    },
    {
     "name": "stderr",
     "output_type": "stream",
     "text": [
      "  1% (180 of 10000) |                     | Elapsed Time: 0:00:34 ETA:  0:31:12"
     ]
    },
    {
     "name": "stdout",
     "output_type": "stream",
     "text": [
      "23040 samples, 180 batch \t Loss: 1.072606\n"
     ]
    },
    {
     "name": "stderr",
     "output_type": "stream",
     "text": [
      "  1% (191 of 10000) |                     | Elapsed Time: 0:00:36 ETA:  0:31:08"
     ]
    },
    {
     "name": "stdout",
     "output_type": "stream",
     "text": [
      "24320 samples, 190 batch \t Loss: 1.262186\n"
     ]
    },
    {
     "name": "stderr",
     "output_type": "stream",
     "text": [
      "  2% (200 of 10000) |                     | Elapsed Time: 0:00:38 ETA:  0:31:15"
     ]
    },
    {
     "name": "stdout",
     "output_type": "stream",
     "text": [
      "25600 samples, 200 batch \t Loss: 1.162830\n"
     ]
    },
    {
     "name": "stderr",
     "output_type": "stream",
     "text": [
      "  2% (210 of 10000) |                     | Elapsed Time: 0:00:40 ETA:  0:31:09"
     ]
    },
    {
     "name": "stdout",
     "output_type": "stream",
     "text": [
      "26880 samples, 210 batch \t Loss: 1.134697\n"
     ]
    },
    {
     "name": "stderr",
     "output_type": "stream",
     "text": [
      "  2% (221 of 10000) |                     | Elapsed Time: 0:00:42 ETA:  0:31:12"
     ]
    },
    {
     "name": "stdout",
     "output_type": "stream",
     "text": [
      "28160 samples, 220 batch \t Loss: 1.065875\n"
     ]
    },
    {
     "name": "stderr",
     "output_type": "stream",
     "text": [
      "  2% (231 of 10000) |                     | Elapsed Time: 0:00:44 ETA:  0:31:19"
     ]
    },
    {
     "name": "stdout",
     "output_type": "stream",
     "text": [
      "29440 samples, 230 batch \t Loss: 1.055142\n"
     ]
    },
    {
     "name": "stderr",
     "output_type": "stream",
     "text": [
      "  2% (240 of 10000) |                     | Elapsed Time: 0:00:45 ETA:  0:31:22"
     ]
    },
    {
     "name": "stdout",
     "output_type": "stream",
     "text": [
      "30720 samples, 240 batch \t Loss: 0.905570\n"
     ]
    },
    {
     "name": "stderr",
     "output_type": "stream",
     "text": [
      "  2% (251 of 10000) |                     | Elapsed Time: 0:00:48 ETA:  0:31:26"
     ]
    },
    {
     "name": "stdout",
     "output_type": "stream",
     "text": [
      "32000 samples, 250 batch \t Loss: 0.977633\n"
     ]
    },
    {
     "name": "stderr",
     "output_type": "stream",
     "text": [
      "  2% (261 of 10000) |                     | Elapsed Time: 0:00:50 ETA:  0:31:50"
     ]
    },
    {
     "name": "stdout",
     "output_type": "stream",
     "text": [
      "33280 samples, 260 batch \t Loss: 1.025969\n"
     ]
    },
    {
     "name": "stderr",
     "output_type": "stream",
     "text": [
      "  2% (271 of 10000) |                     | Elapsed Time: 0:00:52 ETA:  0:31:56"
     ]
    },
    {
     "name": "stdout",
     "output_type": "stream",
     "text": [
      "34560 samples, 270 batch \t Loss: 1.009208\n"
     ]
    },
    {
     "name": "stderr",
     "output_type": "stream",
     "text": [
      "  2% (281 of 10000) |                     | Elapsed Time: 0:00:54 ETA:  0:32:54"
     ]
    },
    {
     "name": "stdout",
     "output_type": "stream",
     "text": [
      "35840 samples, 280 batch \t Loss: 1.004424\n"
     ]
    },
    {
     "name": "stderr",
     "output_type": "stream",
     "text": [
      "  2% (291 of 10000) |                     | Elapsed Time: 0:00:57 ETA:  0:33:51"
     ]
    },
    {
     "name": "stdout",
     "output_type": "stream",
     "text": [
      "37120 samples, 290 batch \t Loss: 1.046499\n"
     ]
    },
    {
     "name": "stderr",
     "output_type": "stream",
     "text": [
      "  3% (300 of 10000) |                     | Elapsed Time: 0:00:59 ETA:  0:34:48"
     ]
    },
    {
     "name": "stdout",
     "output_type": "stream",
     "text": [
      "38400 samples, 300 batch \t Loss: 0.970804\n"
     ]
    },
    {
     "name": "stderr",
     "output_type": "stream",
     "text": [
      "  3% (310 of 10000) |                     | Elapsed Time: 0:01:02 ETA:  0:35:34"
     ]
    },
    {
     "name": "stdout",
     "output_type": "stream",
     "text": [
      "39680 samples, 310 batch \t Loss: 0.843081\n"
     ]
    },
    {
     "name": "stderr",
     "output_type": "stream",
     "text": [
      "  3% (321 of 10000) |                     | Elapsed Time: 0:01:04 ETA:  0:36:29"
     ]
    },
    {
     "name": "stdout",
     "output_type": "stream",
     "text": [
      "40960 samples, 320 batch \t Loss: 0.882251\n"
     ]
    },
    {
     "name": "stderr",
     "output_type": "stream",
     "text": [
      "  3% (331 of 10000) |                     | Elapsed Time: 0:01:07 ETA:  0:37:12"
     ]
    },
    {
     "name": "stdout",
     "output_type": "stream",
     "text": [
      "42240 samples, 330 batch \t Loss: 0.761022\n"
     ]
    },
    {
     "name": "stderr",
     "output_type": "stream",
     "text": [
      "  3% (341 of 10000) |                     | Elapsed Time: 0:01:09 ETA:  0:38:05"
     ]
    },
    {
     "name": "stdout",
     "output_type": "stream",
     "text": [
      "43520 samples, 340 batch \t Loss: 0.882580\n"
     ]
    },
    {
     "name": "stderr",
     "output_type": "stream",
     "text": [
      "  3% (351 of 10000) |                     | Elapsed Time: 0:01:12 ETA:  0:38:31"
     ]
    },
    {
     "name": "stdout",
     "output_type": "stream",
     "text": [
      "44800 samples, 350 batch \t Loss: 0.839161\n"
     ]
    },
    {
     "name": "stderr",
     "output_type": "stream",
     "text": [
      "  3% (361 of 10000) |                     | Elapsed Time: 0:01:14 ETA:  0:39:16"
     ]
    },
    {
     "name": "stdout",
     "output_type": "stream",
     "text": [
      "46080 samples, 360 batch \t Loss: 0.858097\n"
     ]
    },
    {
     "name": "stderr",
     "output_type": "stream",
     "text": [
      "  3% (370 of 10000) |                     | Elapsed Time: 0:01:16 ETA:  0:40:19"
     ]
    },
    {
     "name": "stdout",
     "output_type": "stream",
     "text": [
      "47360 samples, 370 batch \t Loss: 0.740721\n"
     ]
    },
    {
     "name": "stderr",
     "output_type": "stream",
     "text": [
      "  3% (381 of 10000) |                     | Elapsed Time: 0:01:19 ETA:  0:40:21"
     ]
    },
    {
     "name": "stdout",
     "output_type": "stream",
     "text": [
      "48640 samples, 380 batch \t Loss: 0.851487\n"
     ]
    },
    {
     "name": "stderr",
     "output_type": "stream",
     "text": [
      "  3% (390 of 10000) |                     | Elapsed Time: 0:01:21 ETA:  0:40:23"
     ]
    },
    {
     "name": "stdout",
     "output_type": "stream",
     "text": [
      "49920 samples, 390 batch \t Loss: 0.768731\n"
     ]
    },
    {
     "name": "stderr",
     "output_type": "stream",
     "text": [
      "  4% (400 of 10000) |                     | Elapsed Time: 0:01:24 ETA:  0:40:02"
     ]
    },
    {
     "name": "stdout",
     "output_type": "stream",
     "text": [
      "51200 samples, 400 batch \t Loss: 0.879324\n"
     ]
    },
    {
     "name": "stderr",
     "output_type": "stream",
     "text": [
      "  4% (410 of 10000) |                     | Elapsed Time: 0:01:26 ETA:  0:40:10"
     ]
    },
    {
     "name": "stdout",
     "output_type": "stream",
     "text": [
      "52480 samples, 410 batch \t Loss: 0.905163\n"
     ]
    },
    {
     "name": "stderr",
     "output_type": "stream",
     "text": [
      "  4% (421 of 10000) |                     | Elapsed Time: 0:01:29 ETA:  0:39:42"
     ]
    },
    {
     "name": "stdout",
     "output_type": "stream",
     "text": [
      "53760 samples, 420 batch \t Loss: 0.954819\n"
     ]
    },
    {
     "name": "stderr",
     "output_type": "stream",
     "text": [
      "  4% (430 of 10000) |                     | Elapsed Time: 0:01:31 ETA:  0:39:57"
     ]
    },
    {
     "name": "stdout",
     "output_type": "stream",
     "text": [
      "55040 samples, 430 batch \t Loss: 0.751715\n"
     ]
    },
    {
     "name": "stderr",
     "output_type": "stream",
     "text": [
      "  4% (441 of 10000) |                     | Elapsed Time: 0:01:34 ETA:  0:39:49"
     ]
    },
    {
     "name": "stdout",
     "output_type": "stream",
     "text": [
      "56320 samples, 440 batch \t Loss: 0.620343\n"
     ]
    },
    {
     "name": "stderr",
     "output_type": "stream",
     "text": [
      "  4% (450 of 10000) |                     | Elapsed Time: 0:01:36 ETA:  0:40:01"
     ]
    },
    {
     "name": "stdout",
     "output_type": "stream",
     "text": [
      "57600 samples, 450 batch \t Loss: 0.788065\n"
     ]
    },
    {
     "name": "stderr",
     "output_type": "stream",
     "text": [
      "  4% (460 of 10000) |                     | Elapsed Time: 0:01:39 ETA:  0:39:59"
     ]
    },
    {
     "name": "stdout",
     "output_type": "stream",
     "text": [
      "58880 samples, 460 batch \t Loss: 0.598420\n"
     ]
    },
    {
     "name": "stderr",
     "output_type": "stream",
     "text": [
      "  4% (471 of 10000) |                     | Elapsed Time: 0:01:42 ETA:  0:39:52"
     ]
    },
    {
     "name": "stdout",
     "output_type": "stream",
     "text": [
      "60160 samples, 470 batch \t Loss: 0.688399\n"
     ]
    },
    {
     "name": "stderr",
     "output_type": "stream",
     "text": [
      "  4% (481 of 10000) |#                    | Elapsed Time: 0:01:44 ETA:  0:40:01"
     ]
    },
    {
     "name": "stdout",
     "output_type": "stream",
     "text": [
      "61440 samples, 480 batch \t Loss: 0.774252\n"
     ]
    },
    {
     "name": "stderr",
     "output_type": "stream",
     "text": [
      "  4% (491 of 10000) |#                    | Elapsed Time: 0:01:47 ETA:  0:39:44"
     ]
    },
    {
     "name": "stdout",
     "output_type": "stream",
     "text": [
      "62720 samples, 490 batch \t Loss: 0.569108\n"
     ]
    },
    {
     "name": "stderr",
     "output_type": "stream",
     "text": [
      "  5% (501 of 10000) |#                    | Elapsed Time: 0:01:49 ETA:  0:39:58"
     ]
    },
    {
     "name": "stdout",
     "output_type": "stream",
     "text": [
      "64000 samples, 500 batch \t Loss: 0.702566\n"
     ]
    },
    {
     "name": "stderr",
     "output_type": "stream",
     "text": [
      "  5% (511 of 10000) |#                    | Elapsed Time: 0:01:52 ETA:  0:39:55"
     ]
    },
    {
     "name": "stdout",
     "output_type": "stream",
     "text": [
      "65280 samples, 510 batch \t Loss: 0.723212\n"
     ]
    },
    {
     "name": "stderr",
     "output_type": "stream",
     "text": [
      "  5% (520 of 10000) |#                    | Elapsed Time: 0:01:54 ETA:  0:40:21"
     ]
    },
    {
     "name": "stdout",
     "output_type": "stream",
     "text": [
      "66560 samples, 520 batch \t Loss: 0.633037\n"
     ]
    },
    {
     "name": "stderr",
     "output_type": "stream",
     "text": [
      "  5% (530 of 10000) |#                    | Elapsed Time: 0:01:57 ETA:  0:40:13"
     ]
    },
    {
     "name": "stdout",
     "output_type": "stream",
     "text": [
      "67840 samples, 530 batch \t Loss: 0.809999\n"
     ]
    },
    {
     "name": "stderr",
     "output_type": "stream",
     "text": [
      "  5% (541 of 10000) |#                    | Elapsed Time: 0:01:59 ETA:  0:39:51"
     ]
    },
    {
     "name": "stdout",
     "output_type": "stream",
     "text": [
      "69120 samples, 540 batch \t Loss: 0.738496\n"
     ]
    },
    {
     "name": "stderr",
     "output_type": "stream",
     "text": [
      "  5% (551 of 10000) |#                    | Elapsed Time: 0:02:02 ETA:  0:39:40"
     ]
    },
    {
     "name": "stdout",
     "output_type": "stream",
     "text": [
      "70400 samples, 550 batch \t Loss: 0.625683\n"
     ]
    },
    {
     "name": "stderr",
     "output_type": "stream",
     "text": [
      "  5% (561 of 10000) |#                    | Elapsed Time: 0:02:04 ETA:  0:39:44"
     ]
    },
    {
     "name": "stdout",
     "output_type": "stream",
     "text": [
      "71680 samples, 560 batch \t Loss: 0.672393\n"
     ]
    },
    {
     "name": "stderr",
     "output_type": "stream",
     "text": [
      "  5% (571 of 10000) |#                    | Elapsed Time: 0:02:07 ETA:  0:39:24"
     ]
    },
    {
     "name": "stdout",
     "output_type": "stream",
     "text": [
      "72960 samples, 570 batch \t Loss: 0.692042\n"
     ]
    },
    {
     "name": "stderr",
     "output_type": "stream",
     "text": [
      "  5% (581 of 10000) |#                    | Elapsed Time: 0:02:09 ETA:  0:39:19"
     ]
    },
    {
     "name": "stdout",
     "output_type": "stream",
     "text": [
      "74240 samples, 580 batch \t Loss: 0.721376\n"
     ]
    },
    {
     "name": "stderr",
     "output_type": "stream",
     "text": [
      "  5% (591 of 10000) |#                    | Elapsed Time: 0:02:12 ETA:  0:39:18"
     ]
    },
    {
     "name": "stdout",
     "output_type": "stream",
     "text": [
      "75520 samples, 590 batch \t Loss: 0.573400\n"
     ]
    },
    {
     "name": "stderr",
     "output_type": "stream",
     "text": [
      "  6% (600 of 10000) |#                    | Elapsed Time: 0:02:14 ETA:  0:39:53"
     ]
    },
    {
     "name": "stdout",
     "output_type": "stream",
     "text": [
      "76800 samples, 600 batch \t Loss: 0.561755\n"
     ]
    },
    {
     "name": "stderr",
     "output_type": "stream",
     "text": [
      "  6% (611 of 10000) |#                    | Elapsed Time: 0:02:17 ETA:  0:39:42"
     ]
    },
    {
     "name": "stdout",
     "output_type": "stream",
     "text": [
      "78080 samples, 610 batch \t Loss: 0.632586\n"
     ]
    },
    {
     "name": "stderr",
     "output_type": "stream",
     "text": [
      "  6% (621 of 10000) |#                    | Elapsed Time: 0:02:20 ETA:  0:39:38"
     ]
    },
    {
     "name": "stdout",
     "output_type": "stream",
     "text": [
      "79360 samples, 620 batch \t Loss: 0.725856\n"
     ]
    },
    {
     "name": "stderr",
     "output_type": "stream",
     "text": [
      "  6% (631 of 10000) |#                    | Elapsed Time: 0:02:22 ETA:  0:39:06"
     ]
    },
    {
     "name": "stdout",
     "output_type": "stream",
     "text": [
      "80640 samples, 630 batch \t Loss: 0.870854\n"
     ]
    },
    {
     "name": "stderr",
     "output_type": "stream",
     "text": [
      "  6% (641 of 10000) |#                    | Elapsed Time: 0:02:24 ETA:  0:39:23"
     ]
    },
    {
     "name": "stdout",
     "output_type": "stream",
     "text": [
      "81920 samples, 640 batch \t Loss: 0.568443\n"
     ]
    },
    {
     "name": "stderr",
     "output_type": "stream",
     "text": [
      "  6% (650 of 10000) |#                    | Elapsed Time: 0:02:27 ETA:  0:39:16"
     ]
    },
    {
     "name": "stdout",
     "output_type": "stream",
     "text": [
      "83200 samples, 650 batch \t Loss: 0.634054\n"
     ]
    },
    {
     "name": "stderr",
     "output_type": "stream",
     "text": [
      "  6% (661 of 10000) |#                    | Elapsed Time: 0:02:30 ETA:  0:39:15"
     ]
    },
    {
     "name": "stdout",
     "output_type": "stream",
     "text": [
      "84480 samples, 660 batch \t Loss: 0.710044\n"
     ]
    },
    {
     "name": "stderr",
     "output_type": "stream",
     "text": [
      "  6% (671 of 10000) |#                    | Elapsed Time: 0:02:32 ETA:  0:39:00"
     ]
    },
    {
     "name": "stdout",
     "output_type": "stream",
     "text": [
      "85760 samples, 670 batch \t Loss: 0.608819\n"
     ]
    },
    {
     "name": "stderr",
     "output_type": "stream",
     "text": [
      "  6% (681 of 10000) |#                    | Elapsed Time: 0:02:35 ETA:  0:38:59"
     ]
    },
    {
     "name": "stdout",
     "output_type": "stream",
     "text": [
      "87040 samples, 680 batch \t Loss: 0.572728\n"
     ]
    },
    {
     "name": "stderr",
     "output_type": "stream",
     "text": [
      "  6% (691 of 10000) |#                    | Elapsed Time: 0:02:37 ETA:  0:38:52"
     ]
    },
    {
     "name": "stdout",
     "output_type": "stream",
     "text": [
      "88320 samples, 690 batch \t Loss: 0.465509\n"
     ]
    },
    {
     "name": "stderr",
     "output_type": "stream",
     "text": [
      "  7% (701 of 10000) |#                    | Elapsed Time: 0:02:40 ETA:  0:38:47"
     ]
    },
    {
     "name": "stdout",
     "output_type": "stream",
     "text": [
      "89600 samples, 700 batch \t Loss: 0.531919\n"
     ]
    },
    {
     "name": "stderr",
     "output_type": "stream",
     "text": [
      "  7% (711 of 10000) |#                    | Elapsed Time: 0:02:42 ETA:  0:38:52"
     ]
    },
    {
     "name": "stdout",
     "output_type": "stream",
     "text": [
      "90880 samples, 710 batch \t Loss: 0.469874\n"
     ]
    },
    {
     "name": "stderr",
     "output_type": "stream",
     "text": [
      "  7% (720 of 10000) |#                    | Elapsed Time: 0:02:45 ETA:  0:38:45"
     ]
    },
    {
     "name": "stdout",
     "output_type": "stream",
     "text": [
      "92160 samples, 720 batch \t Loss: 0.567012\n"
     ]
    },
    {
     "name": "stderr",
     "output_type": "stream",
     "text": [
      "  7% (731 of 10000) |#                    | Elapsed Time: 0:02:47 ETA:  0:38:36"
     ]
    },
    {
     "name": "stdout",
     "output_type": "stream",
     "text": [
      "93440 samples, 730 batch \t Loss: 0.520534\n"
     ]
    },
    {
     "name": "stderr",
     "output_type": "stream",
     "text": [
      "  7% (740 of 10000) |#                    | Elapsed Time: 0:02:50 ETA:  0:39:08"
     ]
    },
    {
     "name": "stdout",
     "output_type": "stream",
     "text": [
      "94720 samples, 740 batch \t Loss: 0.529107\n"
     ]
    },
    {
     "name": "stderr",
     "output_type": "stream",
     "text": [
      "  7% (750 of 10000) |#                    | Elapsed Time: 0:02:52 ETA:  0:39:07"
     ]
    },
    {
     "name": "stdout",
     "output_type": "stream",
     "text": [
      "96000 samples, 750 batch \t Loss: 0.413516\n"
     ]
    },
    {
     "name": "stderr",
     "output_type": "stream",
     "text": [
      "  7% (761 of 10000) |#                    | Elapsed Time: 0:02:55 ETA:  0:38:48"
     ]
    },
    {
     "name": "stdout",
     "output_type": "stream",
     "text": [
      "97280 samples, 760 batch \t Loss: 0.581811\n"
     ]
    },
    {
     "name": "stderr",
     "output_type": "stream",
     "text": [
      "  7% (770 of 10000) |#                    | Elapsed Time: 0:02:57 ETA:  0:38:56"
     ]
    },
    {
     "name": "stdout",
     "output_type": "stream",
     "text": [
      "98560 samples, 770 batch \t Loss: 0.647621\n"
     ]
    },
    {
     "name": "stderr",
     "output_type": "stream",
     "text": [
      "  7% (780 of 10000) |#                    | Elapsed Time: 0:03:00 ETA:  0:38:42"
     ]
    },
    {
     "name": "stdout",
     "output_type": "stream",
     "text": [
      "99840 samples, 780 batch \t Loss: 0.612045\n"
     ]
    },
    {
     "name": "stderr",
     "output_type": "stream",
     "text": [
      "  7% (790 of 10000) |#                    | Elapsed Time: 0:03:02 ETA:  0:38:53"
     ]
    },
    {
     "name": "stdout",
     "output_type": "stream",
     "text": [
      "101120 samples, 790 batch \t Loss: 0.534179\n"
     ]
    },
    {
     "name": "stderr",
     "output_type": "stream",
     "text": [
      "  8% (801 of 10000) |#                    | Elapsed Time: 0:03:05 ETA:  0:38:39"
     ]
    },
    {
     "name": "stdout",
     "output_type": "stream",
     "text": [
      "102400 samples, 800 batch \t Loss: 0.520697\n"
     ]
    },
    {
     "name": "stderr",
     "output_type": "stream",
     "text": [
      "  8% (810 of 10000) |#                    | Elapsed Time: 0:03:07 ETA:  0:38:50"
     ]
    },
    {
     "name": "stdout",
     "output_type": "stream",
     "text": [
      "103680 samples, 810 batch \t Loss: 0.567745\n"
     ]
    },
    {
     "name": "stderr",
     "output_type": "stream",
     "text": [
      "  8% (821 of 10000) |#                    | Elapsed Time: 0:03:10 ETA:  0:38:30"
     ]
    },
    {
     "name": "stdout",
     "output_type": "stream",
     "text": [
      "104960 samples, 820 batch \t Loss: 0.536196\n"
     ]
    },
    {
     "name": "stderr",
     "output_type": "stream",
     "text": [
      "  8% (830 of 10000) |#                    | Elapsed Time: 0:03:12 ETA:  0:38:44"
     ]
    },
    {
     "name": "stdout",
     "output_type": "stream",
     "text": [
      "106240 samples, 830 batch \t Loss: 0.699633\n"
     ]
    },
    {
     "name": "stderr",
     "output_type": "stream",
     "text": [
      "  8% (841 of 10000) |#                    | Elapsed Time: 0:03:15 ETA:  0:38:30"
     ]
    },
    {
     "name": "stdout",
     "output_type": "stream",
     "text": [
      "107520 samples, 840 batch \t Loss: 0.555293\n"
     ]
    },
    {
     "name": "stderr",
     "output_type": "stream",
     "text": [
      "  8% (850 of 10000) |#                    | Elapsed Time: 0:03:17 ETA:  0:38:46"
     ]
    },
    {
     "name": "stdout",
     "output_type": "stream",
     "text": [
      "108800 samples, 850 batch \t Loss: 0.565649\n"
     ]
    },
    {
     "name": "stderr",
     "output_type": "stream",
     "text": [
      "  8% (861 of 10000) |#                    | Elapsed Time: 0:03:20 ETA:  0:38:40"
     ]
    },
    {
     "name": "stdout",
     "output_type": "stream",
     "text": [
      "110080 samples, 860 batch \t Loss: 0.595078\n"
     ]
    },
    {
     "name": "stderr",
     "output_type": "stream",
     "text": [
      "  8% (871 of 10000) |#                    | Elapsed Time: 0:03:22 ETA:  0:38:31"
     ]
    },
    {
     "name": "stdout",
     "output_type": "stream",
     "text": [
      "111360 samples, 870 batch \t Loss: 0.501646\n"
     ]
    },
    {
     "name": "stderr",
     "output_type": "stream",
     "text": [
      "  8% (881 of 10000) |#                    | Elapsed Time: 0:03:25 ETA:  0:38:36"
     ]
    },
    {
     "name": "stdout",
     "output_type": "stream",
     "text": [
      "112640 samples, 880 batch \t Loss: 0.505592\n"
     ]
    },
    {
     "name": "stderr",
     "output_type": "stream",
     "text": [
      "  8% (891 of 10000) |#                    | Elapsed Time: 0:03:27 ETA:  0:38:29"
     ]
    },
    {
     "name": "stdout",
     "output_type": "stream",
     "text": [
      "113920 samples, 890 batch \t Loss: 0.586044\n"
     ]
    },
    {
     "name": "stderr",
     "output_type": "stream",
     "text": [
      "  9% (900 of 10000) |#                    | Elapsed Time: 0:03:30 ETA:  0:38:52"
     ]
    },
    {
     "name": "stdout",
     "output_type": "stream",
     "text": [
      "115200 samples, 900 batch \t Loss: 0.595997\n"
     ]
    },
    {
     "name": "stderr",
     "output_type": "stream",
     "text": [
      "  9% (911 of 10000) |#                    | Elapsed Time: 0:03:33 ETA:  0:38:35"
     ]
    },
    {
     "name": "stdout",
     "output_type": "stream",
     "text": [
      "116480 samples, 910 batch \t Loss: 0.529173\n"
     ]
    },
    {
     "name": "stderr",
     "output_type": "stream",
     "text": [
      "  9% (920 of 10000) |#                    | Elapsed Time: 0:03:35 ETA:  0:38:45"
     ]
    },
    {
     "name": "stdout",
     "output_type": "stream",
     "text": [
      "117760 samples, 920 batch \t Loss: 0.492768\n"
     ]
    },
    {
     "name": "stderr",
     "output_type": "stream",
     "text": [
      "  9% (931 of 10000) |#                    | Elapsed Time: 0:03:38 ETA:  0:38:31"
     ]
    },
    {
     "name": "stdout",
     "output_type": "stream",
     "text": [
      "119040 samples, 930 batch \t Loss: 0.433664\n"
     ]
    },
    {
     "name": "stderr",
     "output_type": "stream",
     "text": [
      "  9% (941 of 10000) |#                    | Elapsed Time: 0:03:40 ETA:  0:38:29"
     ]
    },
    {
     "name": "stdout",
     "output_type": "stream",
     "text": [
      "120320 samples, 940 batch \t Loss: 0.440102\n"
     ]
    },
    {
     "name": "stderr",
     "output_type": "stream",
     "text": [
      "  9% (950 of 10000) |#                    | Elapsed Time: 0:03:43 ETA:  0:38:32"
     ]
    },
    {
     "name": "stdout",
     "output_type": "stream",
     "text": [
      "121600 samples, 950 batch \t Loss: 0.429886\n"
     ]
    },
    {
     "name": "stderr",
     "output_type": "stream",
     "text": [
      "  9% (960 of 10000) |##                   | Elapsed Time: 0:03:45 ETA:  0:38:35"
     ]
    },
    {
     "name": "stdout",
     "output_type": "stream",
     "text": [
      "122880 samples, 960 batch \t Loss: 0.563611\n"
     ]
    },
    {
     "name": "stderr",
     "output_type": "stream",
     "text": [
      "  9% (971 of 10000) |##                   | Elapsed Time: 0:03:48 ETA:  0:38:12"
     ]
    },
    {
     "name": "stdout",
     "output_type": "stream",
     "text": [
      "124160 samples, 970 batch \t Loss: 0.567589\n"
     ]
    },
    {
     "name": "stderr",
     "output_type": "stream",
     "text": [
      "  9% (980 of 10000) |##                   | Elapsed Time: 0:03:50 ETA:  0:38:13"
     ]
    },
    {
     "name": "stdout",
     "output_type": "stream",
     "text": [
      "125440 samples, 980 batch \t Loss: 0.624129\n"
     ]
    },
    {
     "name": "stderr",
     "output_type": "stream",
     "text": [
      "  9% (990 of 10000) |##                   | Elapsed Time: 0:03:53 ETA:  0:38:10"
     ]
    },
    {
     "name": "stdout",
     "output_type": "stream",
     "text": [
      "126720 samples, 990 batch \t Loss: 0.510540\n"
     ]
    },
    {
     "name": "stderr",
     "output_type": "stream",
     "text": [
      " 10% (1000 of 10000) |##                  | Elapsed Time: 0:03:55 ETA:  0:38:01"
     ]
    },
    {
     "name": "stdout",
     "output_type": "stream",
     "text": [
      "128000 samples, 1000 batch \t Loss: 0.559475\n"
     ]
    },
    {
     "name": "stderr",
     "output_type": "stream",
     "text": [
      " 10% (1011 of 10000) |##                  | Elapsed Time: 0:03:58 ETA:  0:37:41"
     ]
    },
    {
     "name": "stdout",
     "output_type": "stream",
     "text": [
      "129280 samples, 1010 batch \t Loss: 0.520533\n"
     ]
    },
    {
     "name": "stderr",
     "output_type": "stream",
     "text": [
      " 10% (1021 of 10000) |##                  | Elapsed Time: 0:04:00 ETA:  0:37:30"
     ]
    },
    {
     "name": "stdout",
     "output_type": "stream",
     "text": [
      "130560 samples, 1020 batch \t Loss: 0.552265\n"
     ]
    },
    {
     "name": "stderr",
     "output_type": "stream",
     "text": [
      " 10% (1030 of 10000) |##                  | Elapsed Time: 0:04:03 ETA:  0:37:40"
     ]
    },
    {
     "name": "stdout",
     "output_type": "stream",
     "text": [
      "131840 samples, 1030 batch \t Loss: 0.458143\n"
     ]
    },
    {
     "name": "stderr",
     "output_type": "stream",
     "text": [
      " 10% (1040 of 10000) |##                  | Elapsed Time: 0:04:05 ETA:  0:37:34"
     ]
    },
    {
     "name": "stdout",
     "output_type": "stream",
     "text": [
      "133120 samples, 1040 batch \t Loss: 0.389314\n"
     ]
    },
    {
     "name": "stderr",
     "output_type": "stream",
     "text": [
      " 10% (1051 of 10000) |##                  | Elapsed Time: 0:04:08 ETA:  0:37:18"
     ]
    },
    {
     "name": "stdout",
     "output_type": "stream",
     "text": [
      "134400 samples, 1050 batch \t Loss: 0.526395\n"
     ]
    },
    {
     "name": "stderr",
     "output_type": "stream",
     "text": [
      " 10% (1060 of 10000) |##                  | Elapsed Time: 0:04:10 ETA:  0:37:48"
     ]
    },
    {
     "name": "stdout",
     "output_type": "stream",
     "text": [
      "135680 samples, 1060 batch \t Loss: 0.478986\n"
     ]
    },
    {
     "name": "stderr",
     "output_type": "stream",
     "text": [
      " 10% (1070 of 10000) |##                  | Elapsed Time: 0:04:13 ETA:  0:37:32"
     ]
    },
    {
     "name": "stdout",
     "output_type": "stream",
     "text": [
      "136960 samples, 1070 batch \t Loss: 0.389285\n"
     ]
    },
    {
     "name": "stderr",
     "output_type": "stream",
     "text": [
      " 10% (1081 of 10000) |##                  | Elapsed Time: 0:04:15 ETA:  0:37:35"
     ]
    },
    {
     "name": "stdout",
     "output_type": "stream",
     "text": [
      "138240 samples, 1080 batch \t Loss: 0.436770\n"
     ]
    },
    {
     "name": "stderr",
     "output_type": "stream",
     "text": [
      " 10% (1090 of 10000) |##                  | Elapsed Time: 0:04:18 ETA:  0:37:47"
     ]
    },
    {
     "name": "stdout",
     "output_type": "stream",
     "text": [
      "139520 samples, 1090 batch \t Loss: 0.471962\n"
     ]
    },
    {
     "name": "stderr",
     "output_type": "stream",
     "text": [
      " 11% (1100 of 10000) |##                  | Elapsed Time: 0:04:20 ETA:  0:37:45"
     ]
    },
    {
     "name": "stdout",
     "output_type": "stream",
     "text": [
      "140800 samples, 1100 batch \t Loss: 0.383455\n"
     ]
    },
    {
     "name": "stderr",
     "output_type": "stream",
     "text": [
      " 11% (1111 of 10000) |##                  | Elapsed Time: 0:04:23 ETA:  0:37:44"
     ]
    },
    {
     "name": "stdout",
     "output_type": "stream",
     "text": [
      "142080 samples, 1110 batch \t Loss: 0.462087\n"
     ]
    },
    {
     "name": "stderr",
     "output_type": "stream",
     "text": [
      " 11% (1120 of 10000) |##                  | Elapsed Time: 0:04:26 ETA:  0:37:45"
     ]
    },
    {
     "name": "stdout",
     "output_type": "stream",
     "text": [
      "143360 samples, 1120 batch \t Loss: 0.415769\n"
     ]
    },
    {
     "name": "stderr",
     "output_type": "stream",
     "text": [
      " 11% (1131 of 10000) |##                  | Elapsed Time: 0:04:28 ETA:  0:37:29"
     ]
    },
    {
     "name": "stdout",
     "output_type": "stream",
     "text": [
      "144640 samples, 1130 batch \t Loss: 0.343765\n"
     ]
    },
    {
     "name": "stderr",
     "output_type": "stream",
     "text": [
      " 11% (1140 of 10000) |##                  | Elapsed Time: 0:04:31 ETA:  0:37:47"
     ]
    },
    {
     "name": "stdout",
     "output_type": "stream",
     "text": [
      "145920 samples, 1140 batch \t Loss: 0.450996\n"
     ]
    },
    {
     "name": "stderr",
     "output_type": "stream",
     "text": [
      " 11% (1150 of 10000) |##                  | Elapsed Time: 0:04:33 ETA:  0:37:47"
     ]
    },
    {
     "name": "stdout",
     "output_type": "stream",
     "text": [
      "147200 samples, 1150 batch \t Loss: 0.437941\n"
     ]
    },
    {
     "name": "stderr",
     "output_type": "stream",
     "text": [
      " 11% (1160 of 10000) |##                  | Elapsed Time: 0:04:36 ETA:  0:37:43"
     ]
    },
    {
     "name": "stdout",
     "output_type": "stream",
     "text": [
      "148480 samples, 1160 batch \t Loss: 0.459665\n"
     ]
    },
    {
     "name": "stderr",
     "output_type": "stream",
     "text": [
      " 11% (1171 of 10000) |##                  | Elapsed Time: 0:04:38 ETA:  0:37:21"
     ]
    },
    {
     "name": "stdout",
     "output_type": "stream",
     "text": [
      "149760 samples, 1170 batch \t Loss: 0.491801\n"
     ]
    },
    {
     "name": "stderr",
     "output_type": "stream",
     "text": [
      " 11% (1180 of 10000) |##                  | Elapsed Time: 0:04:41 ETA:  0:37:29"
     ]
    },
    {
     "name": "stdout",
     "output_type": "stream",
     "text": [
      "151040 samples, 1180 batch \t Loss: 0.425831\n"
     ]
    },
    {
     "name": "stderr",
     "output_type": "stream",
     "text": [
      " 11% (1190 of 10000) |##                  | Elapsed Time: 0:04:43 ETA:  0:37:27"
     ]
    },
    {
     "name": "stdout",
     "output_type": "stream",
     "text": [
      "152320 samples, 1190 batch \t Loss: 0.432120\n"
     ]
    },
    {
     "name": "stderr",
     "output_type": "stream",
     "text": [
      " 12% (1200 of 10000) |##                  | Elapsed Time: 0:04:46 ETA:  0:37:18"
     ]
    },
    {
     "name": "stdout",
     "output_type": "stream",
     "text": [
      "153600 samples, 1200 batch \t Loss: 0.468298\n"
     ]
    },
    {
     "name": "stderr",
     "output_type": "stream",
     "text": [
      " 12% (1211 of 10000) |##                  | Elapsed Time: 0:04:48 ETA:  0:36:52"
     ]
    },
    {
     "name": "stdout",
     "output_type": "stream",
     "text": [
      "154880 samples, 1210 batch \t Loss: 0.476428\n"
     ]
    },
    {
     "name": "stderr",
     "output_type": "stream",
     "text": [
      " 12% (1220 of 10000) |##                  | Elapsed Time: 0:04:51 ETA:  0:37:07"
     ]
    },
    {
     "name": "stdout",
     "output_type": "stream",
     "text": [
      "156160 samples, 1220 batch \t Loss: 0.481658\n"
     ]
    },
    {
     "name": "stderr",
     "output_type": "stream",
     "text": [
      " 12% (1230 of 10000) |##                  | Elapsed Time: 0:04:53 ETA:  0:36:58"
     ]
    },
    {
     "name": "stdout",
     "output_type": "stream",
     "text": [
      "157440 samples, 1230 batch \t Loss: 0.494258\n"
     ]
    },
    {
     "name": "stderr",
     "output_type": "stream",
     "text": [
      " 12% (1240 of 10000) |##                  | Elapsed Time: 0:04:56 ETA:  0:37:06"
     ]
    },
    {
     "name": "stdout",
     "output_type": "stream",
     "text": [
      "158720 samples, 1240 batch \t Loss: 0.434500\n"
     ]
    },
    {
     "name": "stderr",
     "output_type": "stream",
     "text": [
      " 12% (1251 of 10000) |##                  | Elapsed Time: 0:04:58 ETA:  0:36:52"
     ]
    },
    {
     "name": "stdout",
     "output_type": "stream",
     "text": [
      "160000 samples, 1250 batch \t Loss: 0.364355\n"
     ]
    },
    {
     "name": "stderr",
     "output_type": "stream",
     "text": [
      " 12% (1260 of 10000) |##                  | Elapsed Time: 0:05:01 ETA:  0:36:50"
     ]
    },
    {
     "name": "stdout",
     "output_type": "stream",
     "text": [
      "161280 samples, 1260 batch \t Loss: 0.438966\n"
     ]
    },
    {
     "name": "stderr",
     "output_type": "stream",
     "text": [
      " 12% (1270 of 10000) |##                  | Elapsed Time: 0:05:03 ETA:  0:36:58"
     ]
    },
    {
     "name": "stdout",
     "output_type": "stream",
     "text": [
      "162560 samples, 1270 batch \t Loss: 0.377016\n"
     ]
    },
    {
     "name": "stderr",
     "output_type": "stream",
     "text": [
      " 12% (1280 of 10000) |##                  | Elapsed Time: 0:05:06 ETA:  0:36:45"
     ]
    },
    {
     "name": "stdout",
     "output_type": "stream",
     "text": [
      "163840 samples, 1280 batch \t Loss: 0.388116\n"
     ]
    },
    {
     "name": "stderr",
     "output_type": "stream",
     "text": [
      " 12% (1290 of 10000) |##                  | Elapsed Time: 0:05:08 ETA:  0:36:45"
     ]
    },
    {
     "name": "stdout",
     "output_type": "stream",
     "text": [
      "165120 samples, 1290 batch \t Loss: 0.382241\n"
     ]
    },
    {
     "name": "stderr",
     "output_type": "stream",
     "text": [
      " 13% (1300 of 10000) |##                  | Elapsed Time: 0:05:11 ETA:  0:36:31"
     ]
    },
    {
     "name": "stdout",
     "output_type": "stream",
     "text": [
      "166400 samples, 1300 batch \t Loss: 0.360242\n"
     ]
    },
    {
     "name": "stderr",
     "output_type": "stream",
     "text": [
      " 13% (1310 of 10000) |##                  | Elapsed Time: 0:05:13 ETA:  0:36:47"
     ]
    },
    {
     "name": "stdout",
     "output_type": "stream",
     "text": [
      "167680 samples, 1310 batch \t Loss: 0.509900\n"
     ]
    },
    {
     "name": "stderr",
     "output_type": "stream",
     "text": [
      " 13% (1320 of 10000) |##                  | Elapsed Time: 0:05:16 ETA:  0:36:46"
     ]
    },
    {
     "name": "stdout",
     "output_type": "stream",
     "text": [
      "168960 samples, 1320 batch \t Loss: 0.427125\n"
     ]
    },
    {
     "name": "stderr",
     "output_type": "stream",
     "text": [
      " 13% (1331 of 10000) |##                  | Elapsed Time: 0:05:19 ETA:  0:36:35"
     ]
    },
    {
     "name": "stdout",
     "output_type": "stream",
     "text": [
      "170240 samples, 1330 batch \t Loss: 0.411294\n"
     ]
    },
    {
     "name": "stderr",
     "output_type": "stream",
     "text": [
      " 13% (1340 of 10000) |##                  | Elapsed Time: 0:05:21 ETA:  0:36:43"
     ]
    },
    {
     "name": "stdout",
     "output_type": "stream",
     "text": [
      "171520 samples, 1340 batch \t Loss: 0.405774\n"
     ]
    },
    {
     "name": "stderr",
     "output_type": "stream",
     "text": [
      " 13% (1350 of 10000) |##                  | Elapsed Time: 0:05:24 ETA:  0:36:36"
     ]
    },
    {
     "name": "stdout",
     "output_type": "stream",
     "text": [
      "172800 samples, 1350 batch \t Loss: 0.380375\n"
     ]
    },
    {
     "name": "stderr",
     "output_type": "stream",
     "text": [
      " 13% (1361 of 10000) |##                  | Elapsed Time: 0:05:26 ETA:  0:36:22"
     ]
    },
    {
     "name": "stdout",
     "output_type": "stream",
     "text": [
      "174080 samples, 1360 batch \t Loss: 0.451484\n"
     ]
    },
    {
     "name": "stderr",
     "output_type": "stream",
     "text": [
      " 13% (1370 of 10000) |##                  | Elapsed Time: 0:05:29 ETA:  0:36:30"
     ]
    },
    {
     "name": "stdout",
     "output_type": "stream",
     "text": [
      "175360 samples, 1370 batch \t Loss: 0.398579\n"
     ]
    },
    {
     "name": "stderr",
     "output_type": "stream",
     "text": [
      " 13% (1380 of 10000) |##                  | Elapsed Time: 0:05:31 ETA:  0:36:34"
     ]
    },
    {
     "name": "stdout",
     "output_type": "stream",
     "text": [
      "176640 samples, 1380 batch \t Loss: 0.385693\n"
     ]
    },
    {
     "name": "stderr",
     "output_type": "stream",
     "text": [
      " 13% (1390 of 10000) |##                  | Elapsed Time: 0:05:34 ETA:  0:36:23"
     ]
    },
    {
     "name": "stdout",
     "output_type": "stream",
     "text": [
      "177920 samples, 1390 batch \t Loss: 0.389554\n"
     ]
    },
    {
     "name": "stderr",
     "output_type": "stream",
     "text": [
      " 14% (1400 of 10000) |##                  | Elapsed Time: 0:05:36 ETA:  0:36:21"
     ]
    },
    {
     "name": "stdout",
     "output_type": "stream",
     "text": [
      "179200 samples, 1400 batch \t Loss: 0.316680\n"
     ]
    },
    {
     "name": "stderr",
     "output_type": "stream",
     "text": [
      " 14% (1410 of 10000) |##                  | Elapsed Time: 0:05:39 ETA:  0:36:19"
     ]
    },
    {
     "name": "stdout",
     "output_type": "stream",
     "text": [
      "180480 samples, 1410 batch \t Loss: 0.373901\n"
     ]
    },
    {
     "name": "stderr",
     "output_type": "stream",
     "text": [
      " 14% (1420 of 10000) |##                  | Elapsed Time: 0:05:41 ETA:  0:36:14"
     ]
    },
    {
     "name": "stdout",
     "output_type": "stream",
     "text": [
      "181760 samples, 1420 batch \t Loss: 0.414112\n"
     ]
    },
    {
     "name": "stderr",
     "output_type": "stream",
     "text": [
      " 14% (1430 of 10000) |##                  | Elapsed Time: 0:05:44 ETA:  0:36:05"
     ]
    },
    {
     "name": "stdout",
     "output_type": "stream",
     "text": [
      "183040 samples, 1430 batch \t Loss: 0.425442\n"
     ]
    },
    {
     "name": "stderr",
     "output_type": "stream",
     "text": [
      " 14% (1440 of 10000) |##                  | Elapsed Time: 0:05:46 ETA:  0:35:56"
     ]
    },
    {
     "name": "stdout",
     "output_type": "stream",
     "text": [
      "184320 samples, 1440 batch \t Loss: 0.343361\n"
     ]
    },
    {
     "name": "stderr",
     "output_type": "stream",
     "text": [
      " 14% (1451 of 10000) |##                  | Elapsed Time: 0:05:49 ETA:  0:35:52"
     ]
    },
    {
     "name": "stdout",
     "output_type": "stream",
     "text": [
      "185600 samples, 1450 batch \t Loss: 0.354329\n"
     ]
    },
    {
     "name": "stderr",
     "output_type": "stream",
     "text": [
      " 14% (1460 of 10000) |##                  | Elapsed Time: 0:05:51 ETA:  0:36:01"
     ]
    },
    {
     "name": "stdout",
     "output_type": "stream",
     "text": [
      "186880 samples, 1460 batch \t Loss: 0.393861\n"
     ]
    },
    {
     "name": "stderr",
     "output_type": "stream",
     "text": [
      " 14% (1470 of 10000) |##                  | Elapsed Time: 0:05:54 ETA:  0:35:57"
     ]
    },
    {
     "name": "stdout",
     "output_type": "stream",
     "text": [
      "188160 samples, 1470 batch \t Loss: 0.396357\n"
     ]
    },
    {
     "name": "stderr",
     "output_type": "stream",
     "text": [
      " 14% (1480 of 10000) |##                  | Elapsed Time: 0:05:56 ETA:  0:36:06"
     ]
    },
    {
     "name": "stdout",
     "output_type": "stream",
     "text": [
      "189440 samples, 1480 batch \t Loss: 0.432344\n"
     ]
    },
    {
     "name": "stderr",
     "output_type": "stream",
     "text": [
      " 14% (1491 of 10000) |##                  | Elapsed Time: 0:05:59 ETA:  0:35:50"
     ]
    },
    {
     "name": "stdout",
     "output_type": "stream",
     "text": [
      "190720 samples, 1490 batch \t Loss: 0.348628\n"
     ]
    },
    {
     "name": "stderr",
     "output_type": "stream",
     "text": [
      " 15% (1500 of 10000) |###                 | Elapsed Time: 0:06:01 ETA:  0:35:55"
     ]
    },
    {
     "name": "stdout",
     "output_type": "stream",
     "text": [
      "192000 samples, 1500 batch \t Loss: 0.338784\n"
     ]
    },
    {
     "name": "stderr",
     "output_type": "stream",
     "text": [
      " 15% (1511 of 10000) |###                 | Elapsed Time: 0:06:04 ETA:  0:35:37"
     ]
    },
    {
     "name": "stdout",
     "output_type": "stream",
     "text": [
      "193280 samples, 1510 batch \t Loss: 0.408255\n"
     ]
    },
    {
     "name": "stderr",
     "output_type": "stream",
     "text": [
      " 15% (1520 of 10000) |###                 | Elapsed Time: 0:06:06 ETA:  0:35:56"
     ]
    },
    {
     "name": "stdout",
     "output_type": "stream",
     "text": [
      "194560 samples, 1520 batch \t Loss: 0.311234\n"
     ]
    },
    {
     "name": "stderr",
     "output_type": "stream",
     "text": [
      " 15% (1530 of 10000) |###                 | Elapsed Time: 0:06:09 ETA:  0:35:50"
     ]
    },
    {
     "name": "stdout",
     "output_type": "stream",
     "text": [
      "195840 samples, 1530 batch \t Loss: 0.377573\n"
     ]
    },
    {
     "name": "stderr",
     "output_type": "stream",
     "text": [
      " 15% (1541 of 10000) |###                 | Elapsed Time: 0:06:11 ETA:  0:35:44"
     ]
    },
    {
     "name": "stdout",
     "output_type": "stream",
     "text": [
      "197120 samples, 1540 batch \t Loss: 0.380509\n"
     ]
    },
    {
     "name": "stderr",
     "output_type": "stream",
     "text": [
      " 15% (1550 of 10000) |###                 | Elapsed Time: 0:06:14 ETA:  0:35:48"
     ]
    },
    {
     "name": "stdout",
     "output_type": "stream",
     "text": [
      "198400 samples, 1550 batch \t Loss: 0.288575\n"
     ]
    },
    {
     "name": "stderr",
     "output_type": "stream",
     "text": [
      " 15% (1560 of 10000) |###                 | Elapsed Time: 0:06:16 ETA:  0:35:33"
     ]
    },
    {
     "name": "stdout",
     "output_type": "stream",
     "text": [
      "199680 samples, 1560 batch \t Loss: 0.383093\n"
     ]
    },
    {
     "name": "stderr",
     "output_type": "stream",
     "text": [
      " 15% (1570 of 10000) |###                 | Elapsed Time: 0:06:19 ETA:  0:35:35"
     ]
    },
    {
     "name": "stdout",
     "output_type": "stream",
     "text": [
      "200960 samples, 1570 batch \t Loss: 0.354702\n"
     ]
    },
    {
     "name": "stderr",
     "output_type": "stream",
     "text": [
      " 15% (1580 of 10000) |###                 | Elapsed Time: 0:06:21 ETA:  0:35:23"
     ]
    },
    {
     "name": "stdout",
     "output_type": "stream",
     "text": [
      "202240 samples, 1580 batch \t Loss: 0.368933\n"
     ]
    },
    {
     "name": "stderr",
     "output_type": "stream",
     "text": [
      " 15% (1591 of 10000) |###                 | Elapsed Time: 0:06:24 ETA:  0:35:19"
     ]
    },
    {
     "name": "stdout",
     "output_type": "stream",
     "text": [
      "203520 samples, 1590 batch \t Loss: 0.383810\n"
     ]
    },
    {
     "name": "stderr",
     "output_type": "stream",
     "text": [
      " 16% (1601 of 10000) |###                 | Elapsed Time: 0:06:27 ETA:  0:35:16"
     ]
    },
    {
     "name": "stdout",
     "output_type": "stream",
     "text": [
      "204800 samples, 1600 batch \t Loss: 0.392078\n"
     ]
    },
    {
     "name": "stderr",
     "output_type": "stream",
     "text": [
      " 16% (1611 of 10000) |###                 | Elapsed Time: 0:06:29 ETA:  0:35:19"
     ]
    },
    {
     "name": "stdout",
     "output_type": "stream",
     "text": [
      "206080 samples, 1610 batch \t Loss: 0.303678\n"
     ]
    },
    {
     "name": "stderr",
     "output_type": "stream",
     "text": [
      " 16% (1621 of 10000) |###                 | Elapsed Time: 0:06:32 ETA:  0:35:27"
     ]
    },
    {
     "name": "stdout",
     "output_type": "stream",
     "text": [
      "207360 samples, 1620 batch \t Loss: 0.300315\n"
     ]
    },
    {
     "name": "stderr",
     "output_type": "stream",
     "text": [
      " 16% (1630 of 10000) |###                 | Elapsed Time: 0:06:34 ETA:  0:35:33"
     ]
    },
    {
     "name": "stdout",
     "output_type": "stream",
     "text": [
      "208640 samples, 1630 batch \t Loss: 0.422546\n"
     ]
    },
    {
     "name": "stderr",
     "output_type": "stream",
     "text": [
      " 16% (1641 of 10000) |###                 | Elapsed Time: 0:06:37 ETA:  0:35:28"
     ]
    },
    {
     "name": "stdout",
     "output_type": "stream",
     "text": [
      "209920 samples, 1640 batch \t Loss: 0.298287\n"
     ]
    },
    {
     "name": "stderr",
     "output_type": "stream",
     "text": [
      " 16% (1651 of 10000) |###                 | Elapsed Time: 0:06:39 ETA:  0:35:22"
     ]
    },
    {
     "name": "stdout",
     "output_type": "stream",
     "text": [
      "211200 samples, 1650 batch \t Loss: 0.398676\n"
     ]
    },
    {
     "name": "stderr",
     "output_type": "stream",
     "text": [
      " 16% (1660 of 10000) |###                 | Elapsed Time: 0:06:42 ETA:  0:35:42"
     ]
    },
    {
     "name": "stdout",
     "output_type": "stream",
     "text": [
      "212480 samples, 1660 batch \t Loss: 0.307408\n"
     ]
    },
    {
     "name": "stderr",
     "output_type": "stream",
     "text": [
      " 16% (1670 of 10000) |###                 | Elapsed Time: 0:06:44 ETA:  0:35:31"
     ]
    },
    {
     "name": "stdout",
     "output_type": "stream",
     "text": [
      "213760 samples, 1670 batch \t Loss: 0.317881\n"
     ]
    },
    {
     "name": "stderr",
     "output_type": "stream",
     "text": [
      " 16% (1680 of 10000) |###                 | Elapsed Time: 0:06:47 ETA:  0:35:26"
     ]
    },
    {
     "name": "stdout",
     "output_type": "stream",
     "text": [
      "215040 samples, 1680 batch \t Loss: 0.307666\n"
     ]
    },
    {
     "name": "stderr",
     "output_type": "stream",
     "text": [
      " 16% (1690 of 10000) |###                 | Elapsed Time: 0:06:49 ETA:  0:35:19"
     ]
    },
    {
     "name": "stdout",
     "output_type": "stream",
     "text": [
      "216320 samples, 1690 batch \t Loss: 0.303107\n"
     ]
    },
    {
     "name": "stderr",
     "output_type": "stream",
     "text": [
      " 17% (1700 of 10000) |###                 | Elapsed Time: 0:06:52 ETA:  0:35:04"
     ]
    },
    {
     "name": "stdout",
     "output_type": "stream",
     "text": [
      "217600 samples, 1700 batch \t Loss: 0.323806\n"
     ]
    },
    {
     "name": "stderr",
     "output_type": "stream",
     "text": [
      " 17% (1710 of 10000) |###                 | Elapsed Time: 0:06:54 ETA:  0:35:06"
     ]
    },
    {
     "name": "stdout",
     "output_type": "stream",
     "text": [
      "218880 samples, 1710 batch \t Loss: 0.342797\n"
     ]
    },
    {
     "name": "stderr",
     "output_type": "stream",
     "text": [
      " 17% (1720 of 10000) |###                 | Elapsed Time: 0:06:57 ETA:  0:35:02"
     ]
    },
    {
     "name": "stdout",
     "output_type": "stream",
     "text": [
      "220160 samples, 1720 batch \t Loss: 0.274922\n"
     ]
    },
    {
     "name": "stderr",
     "output_type": "stream",
     "text": [
      " 17% (1731 of 10000) |###                 | Elapsed Time: 0:06:59 ETA:  0:34:32"
     ]
    },
    {
     "name": "stdout",
     "output_type": "stream",
     "text": [
      "221440 samples, 1730 batch \t Loss: 0.316853\n"
     ]
    },
    {
     "name": "stderr",
     "output_type": "stream",
     "text": [
      " 17% (1741 of 10000) |###                 | Elapsed Time: 0:07:02 ETA:  0:34:37"
     ]
    },
    {
     "name": "stdout",
     "output_type": "stream",
     "text": [
      "222720 samples, 1740 batch \t Loss: 0.411845\n"
     ]
    },
    {
     "name": "stderr",
     "output_type": "stream",
     "text": [
      " 17% (1751 of 10000) |###                 | Elapsed Time: 0:07:04 ETA:  0:34:26"
     ]
    },
    {
     "name": "stdout",
     "output_type": "stream",
     "text": [
      "224000 samples, 1750 batch \t Loss: 0.340453\n"
     ]
    },
    {
     "name": "stderr",
     "output_type": "stream",
     "text": [
      " 17% (1761 of 10000) |###                 | Elapsed Time: 0:07:07 ETA:  0:34:22"
     ]
    },
    {
     "name": "stdout",
     "output_type": "stream",
     "text": [
      "225280 samples, 1760 batch \t Loss: 0.319110\n"
     ]
    },
    {
     "name": "stderr",
     "output_type": "stream",
     "text": [
      " 17% (1770 of 10000) |###                 | Elapsed Time: 0:07:09 ETA:  0:34:29"
     ]
    },
    {
     "name": "stdout",
     "output_type": "stream",
     "text": [
      "226560 samples, 1770 batch \t Loss: 0.305547\n"
     ]
    },
    {
     "name": "stderr",
     "output_type": "stream",
     "text": [
      " 17% (1780 of 10000) |###                 | Elapsed Time: 0:07:12 ETA:  0:34:31"
     ]
    },
    {
     "name": "stdout",
     "output_type": "stream",
     "text": [
      "227840 samples, 1780 batch \t Loss: 0.332353\n"
     ]
    },
    {
     "name": "stderr",
     "output_type": "stream",
     "text": [
      " 17% (1790 of 10000) |###                 | Elapsed Time: 0:07:14 ETA:  0:34:27"
     ]
    },
    {
     "name": "stdout",
     "output_type": "stream",
     "text": [
      "229120 samples, 1790 batch \t Loss: 0.312088\n"
     ]
    },
    {
     "name": "stderr",
     "output_type": "stream",
     "text": [
      " 18% (1801 of 10000) |###                 | Elapsed Time: 0:07:17 ETA:  0:34:20"
     ]
    },
    {
     "name": "stdout",
     "output_type": "stream",
     "text": [
      "230400 samples, 1800 batch \t Loss: 0.323028\n"
     ]
    },
    {
     "name": "stderr",
     "output_type": "stream",
     "text": [
      " 18% (1811 of 10000) |###                 | Elapsed Time: 0:07:19 ETA:  0:34:15"
     ]
    },
    {
     "name": "stdout",
     "output_type": "stream",
     "text": [
      "231680 samples, 1810 batch \t Loss: 0.286061\n"
     ]
    },
    {
     "name": "stderr",
     "output_type": "stream",
     "text": [
      " 18% (1821 of 10000) |###                 | Elapsed Time: 0:07:22 ETA:  0:34:14"
     ]
    },
    {
     "name": "stdout",
     "output_type": "stream",
     "text": [
      "232960 samples, 1820 batch \t Loss: 0.306974\n"
     ]
    },
    {
     "name": "stderr",
     "output_type": "stream",
     "text": [
      " 18% (1830 of 10000) |###                 | Elapsed Time: 0:07:24 ETA:  0:34:12"
     ]
    },
    {
     "name": "stdout",
     "output_type": "stream",
     "text": [
      "234240 samples, 1830 batch \t Loss: 0.334318\n"
     ]
    },
    {
     "name": "stderr",
     "output_type": "stream",
     "text": [
      " 18% (1840 of 10000) |###                 | Elapsed Time: 0:07:27 ETA:  0:34:15"
     ]
    },
    {
     "name": "stdout",
     "output_type": "stream",
     "text": [
      "235520 samples, 1840 batch \t Loss: 0.311040\n"
     ]
    },
    {
     "name": "stderr",
     "output_type": "stream",
     "text": [
      " 18% (1851 of 10000) |###                 | Elapsed Time: 0:07:29 ETA:  0:33:58"
     ]
    },
    {
     "name": "stdout",
     "output_type": "stream",
     "text": [
      "236800 samples, 1850 batch \t Loss: 0.296177\n"
     ]
    },
    {
     "name": "stderr",
     "output_type": "stream",
     "text": [
      " 18% (1860 of 10000) |###                 | Elapsed Time: 0:07:32 ETA:  0:34:17"
     ]
    },
    {
     "name": "stdout",
     "output_type": "stream",
     "text": [
      "238080 samples, 1860 batch \t Loss: 0.305200\n"
     ]
    },
    {
     "name": "stderr",
     "output_type": "stream",
     "text": [
      " 18% (1870 of 10000) |###                 | Elapsed Time: 0:07:34 ETA:  0:34:10"
     ]
    },
    {
     "name": "stdout",
     "output_type": "stream",
     "text": [
      "239360 samples, 1870 batch \t Loss: 0.345015\n"
     ]
    },
    {
     "name": "stderr",
     "output_type": "stream",
     "text": [
      " 18% (1880 of 10000) |###                 | Elapsed Time: 0:07:37 ETA:  0:34:13"
     ]
    },
    {
     "name": "stdout",
     "output_type": "stream",
     "text": [
      "240640 samples, 1880 batch \t Loss: 0.297108\n"
     ]
    },
    {
     "name": "stderr",
     "output_type": "stream",
     "text": [
      " 18% (1890 of 10000) |###                 | Elapsed Time: 0:07:39 ETA:  0:34:13"
     ]
    },
    {
     "name": "stdout",
     "output_type": "stream",
     "text": [
      "241920 samples, 1890 batch \t Loss: 0.346418\n"
     ]
    },
    {
     "name": "stderr",
     "output_type": "stream",
     "text": [
      " 19% (1901 of 10000) |###                 | Elapsed Time: 0:07:42 ETA:  0:33:56"
     ]
    },
    {
     "name": "stdout",
     "output_type": "stream",
     "text": [
      "243200 samples, 1900 batch \t Loss: 0.352906\n"
     ]
    },
    {
     "name": "stderr",
     "output_type": "stream",
     "text": [
      " 19% (1910 of 10000) |###                 | Elapsed Time: 0:07:44 ETA:  0:34:10"
     ]
    },
    {
     "name": "stdout",
     "output_type": "stream",
     "text": [
      "244480 samples, 1910 batch \t Loss: 0.268805\n"
     ]
    },
    {
     "name": "stderr",
     "output_type": "stream",
     "text": [
      " 19% (1920 of 10000) |###                 | Elapsed Time: 0:07:47 ETA:  0:34:07"
     ]
    },
    {
     "name": "stdout",
     "output_type": "stream",
     "text": [
      "245760 samples, 1920 batch \t Loss: 0.275232\n"
     ]
    },
    {
     "name": "stderr",
     "output_type": "stream",
     "text": [
      " 19% (1930 of 10000) |###                 | Elapsed Time: 0:07:50 ETA:  0:34:18"
     ]
    },
    {
     "name": "stdout",
     "output_type": "stream",
     "text": [
      "247040 samples, 1930 batch \t Loss: 0.326416\n"
     ]
    },
    {
     "name": "stderr",
     "output_type": "stream",
     "text": [
      " 19% (1940 of 10000) |###                 | Elapsed Time: 0:07:52 ETA:  0:34:14"
     ]
    },
    {
     "name": "stdout",
     "output_type": "stream",
     "text": [
      "248320 samples, 1940 batch \t Loss: 0.297498\n"
     ]
    },
    {
     "name": "stderr",
     "output_type": "stream",
     "text": [
      " 19% (1951 of 10000) |###                 | Elapsed Time: 0:07:55 ETA:  0:34:14"
     ]
    },
    {
     "name": "stdout",
     "output_type": "stream",
     "text": [
      "249600 samples, 1950 batch \t Loss: 0.269987\n"
     ]
    },
    {
     "name": "stderr",
     "output_type": "stream",
     "text": [
      " 19% (1961 of 10000) |###                 | Elapsed Time: 0:07:57 ETA:  0:34:04"
     ]
    },
    {
     "name": "stdout",
     "output_type": "stream",
     "text": [
      "250880 samples, 1960 batch \t Loss: 0.311563\n"
     ]
    },
    {
     "name": "stderr",
     "output_type": "stream",
     "text": [
      " 19% (1970 of 10000) |###                 | Elapsed Time: 0:08:00 ETA:  0:34:11"
     ]
    },
    {
     "name": "stdout",
     "output_type": "stream",
     "text": [
      "252160 samples, 1970 batch \t Loss: 0.299321\n"
     ]
    },
    {
     "name": "stderr",
     "output_type": "stream",
     "text": [
      " 19% (1980 of 10000) |###                 | Elapsed Time: 0:08:02 ETA:  0:34:10"
     ]
    },
    {
     "name": "stdout",
     "output_type": "stream",
     "text": [
      "253440 samples, 1980 batch \t Loss: 0.301414\n"
     ]
    },
    {
     "name": "stderr",
     "output_type": "stream",
     "text": [
      " 19% (1991 of 10000) |###                 | Elapsed Time: 0:08:05 ETA:  0:34:03"
     ]
    },
    {
     "name": "stdout",
     "output_type": "stream",
     "text": [
      "254720 samples, 1990 batch \t Loss: 0.268604\n"
     ]
    },
    {
     "name": "stderr",
     "output_type": "stream",
     "text": [
      " 20% (2000 of 10000) |####                | Elapsed Time: 0:08:07 ETA:  0:34:03"
     ]
    },
    {
     "name": "stdout",
     "output_type": "stream",
     "text": [
      "256000 samples, 2000 batch \t Loss: 0.367855\n"
     ]
    },
    {
     "name": "stderr",
     "output_type": "stream",
     "text": [
      " 20% (2010 of 10000) |####                | Elapsed Time: 0:08:10 ETA:  0:33:59"
     ]
    },
    {
     "name": "stdout",
     "output_type": "stream",
     "text": [
      "257280 samples, 2010 batch \t Loss: 0.325660\n"
     ]
    },
    {
     "name": "stderr",
     "output_type": "stream",
     "text": [
      " 20% (2021 of 10000) |####                | Elapsed Time: 0:08:12 ETA:  0:33:46"
     ]
    },
    {
     "name": "stdout",
     "output_type": "stream",
     "text": [
      "258560 samples, 2020 batch \t Loss: 0.334194\n"
     ]
    },
    {
     "name": "stderr",
     "output_type": "stream",
     "text": [
      " 20% (2031 of 10000) |####                | Elapsed Time: 0:08:15 ETA:  0:33:40"
     ]
    },
    {
     "name": "stdout",
     "output_type": "stream",
     "text": [
      "259840 samples, 2030 batch \t Loss: 0.309980\n"
     ]
    },
    {
     "name": "stderr",
     "output_type": "stream",
     "text": [
      " 20% (2040 of 10000) |####                | Elapsed Time: 0:08:17 ETA:  0:33:51"
     ]
    },
    {
     "name": "stdout",
     "output_type": "stream",
     "text": [
      "261120 samples, 2040 batch \t Loss: 0.334897\n"
     ]
    },
    {
     "name": "stderr",
     "output_type": "stream",
     "text": [
      " 20% (2050 of 10000) |####                | Elapsed Time: 0:08:20 ETA:  0:33:42"
     ]
    },
    {
     "name": "stdout",
     "output_type": "stream",
     "text": [
      "262400 samples, 2050 batch \t Loss: 0.288069\n"
     ]
    },
    {
     "name": "stderr",
     "output_type": "stream",
     "text": [
      " 20% (2060 of 10000) |####                | Elapsed Time: 0:08:22 ETA:  0:33:31"
     ]
    },
    {
     "name": "stdout",
     "output_type": "stream",
     "text": [
      "263680 samples, 2060 batch \t Loss: 0.341737\n"
     ]
    },
    {
     "name": "stderr",
     "output_type": "stream",
     "text": [
      " 20% (2071 of 10000) |####                | Elapsed Time: 0:08:25 ETA:  0:33:25"
     ]
    },
    {
     "name": "stdout",
     "output_type": "stream",
     "text": [
      "264960 samples, 2070 batch \t Loss: 0.327071\n"
     ]
    },
    {
     "name": "stderr",
     "output_type": "stream",
     "text": [
      " 20% (2080 of 10000) |####                | Elapsed Time: 0:08:27 ETA:  0:33:31"
     ]
    },
    {
     "name": "stdout",
     "output_type": "stream",
     "text": [
      "266240 samples, 2080 batch \t Loss: 0.302592\n"
     ]
    },
    {
     "name": "stderr",
     "output_type": "stream",
     "text": [
      " 20% (2091 of 10000) |####                | Elapsed Time: 0:08:30 ETA:  0:33:10"
     ]
    },
    {
     "name": "stdout",
     "output_type": "stream",
     "text": [
      "267520 samples, 2090 batch \t Loss: 0.274549\n"
     ]
    },
    {
     "name": "stderr",
     "output_type": "stream",
     "text": [
      " 21% (2100 of 10000) |####                | Elapsed Time: 0:08:32 ETA:  0:33:21"
     ]
    },
    {
     "name": "stdout",
     "output_type": "stream",
     "text": [
      "268800 samples, 2100 batch \t Loss: 0.270526\n"
     ]
    },
    {
     "name": "stderr",
     "output_type": "stream",
     "text": [
      " 21% (2110 of 10000) |####                | Elapsed Time: 0:08:35 ETA:  0:33:21"
     ]
    },
    {
     "name": "stdout",
     "output_type": "stream",
     "text": [
      "270080 samples, 2110 batch \t Loss: 0.317006\n"
     ]
    },
    {
     "name": "stderr",
     "output_type": "stream",
     "text": [
      " 21% (2121 of 10000) |####                | Elapsed Time: 0:08:37 ETA:  0:33:05"
     ]
    },
    {
     "name": "stdout",
     "output_type": "stream",
     "text": [
      "271360 samples, 2120 batch \t Loss: 0.355604\n"
     ]
    },
    {
     "name": "stderr",
     "output_type": "stream",
     "text": [
      " 21% (2130 of 10000) |####                | Elapsed Time: 0:08:40 ETA:  0:33:09"
     ]
    },
    {
     "name": "stdout",
     "output_type": "stream",
     "text": [
      "272640 samples, 2130 batch \t Loss: 0.242098\n"
     ]
    },
    {
     "name": "stderr",
     "output_type": "stream",
     "text": [
      " 21% (2141 of 10000) |####                | Elapsed Time: 0:08:42 ETA:  0:32:53"
     ]
    },
    {
     "name": "stdout",
     "output_type": "stream",
     "text": [
      "273920 samples, 2140 batch \t Loss: 0.268252\n"
     ]
    },
    {
     "name": "stderr",
     "output_type": "stream",
     "text": [
      " 21% (2151 of 10000) |####                | Elapsed Time: 0:08:45 ETA:  0:32:43"
     ]
    },
    {
     "name": "stdout",
     "output_type": "stream",
     "text": [
      "275200 samples, 2150 batch \t Loss: 0.372395\n"
     ]
    },
    {
     "name": "stderr",
     "output_type": "stream",
     "text": [
      " 21% (2160 of 10000) |####                | Elapsed Time: 0:08:47 ETA:  0:32:51"
     ]
    },
    {
     "name": "stdout",
     "output_type": "stream",
     "text": [
      "276480 samples, 2160 batch \t Loss: 0.313320\n"
     ]
    },
    {
     "name": "stderr",
     "output_type": "stream",
     "text": [
      " 21% (2171 of 10000) |####                | Elapsed Time: 0:08:50 ETA:  0:32:38"
     ]
    },
    {
     "name": "stdout",
     "output_type": "stream",
     "text": [
      "277760 samples, 2170 batch \t Loss: 0.296853\n"
     ]
    },
    {
     "name": "stderr",
     "output_type": "stream",
     "text": [
      " 21% (2181 of 10000) |####                | Elapsed Time: 0:08:52 ETA:  0:32:31"
     ]
    },
    {
     "name": "stdout",
     "output_type": "stream",
     "text": [
      "279040 samples, 2180 batch \t Loss: 0.290245\n"
     ]
    },
    {
     "name": "stderr",
     "output_type": "stream",
     "text": [
      " 21% (2190 of 10000) |####                | Elapsed Time: 0:08:55 ETA:  0:32:35"
     ]
    },
    {
     "name": "stdout",
     "output_type": "stream",
     "text": [
      "280320 samples, 2190 batch \t Loss: 0.272454\n"
     ]
    },
    {
     "name": "stderr",
     "output_type": "stream",
     "text": [
      " 22% (2200 of 10000) |####                | Elapsed Time: 0:08:57 ETA:  0:32:38"
     ]
    },
    {
     "name": "stdout",
     "output_type": "stream",
     "text": [
      "281600 samples, 2200 batch \t Loss: 0.284227\n"
     ]
    },
    {
     "name": "stderr",
     "output_type": "stream",
     "text": [
      " 22% (2211 of 10000) |####                | Elapsed Time: 0:09:00 ETA:  0:32:28"
     ]
    },
    {
     "name": "stdout",
     "output_type": "stream",
     "text": [
      "282880 samples, 2210 batch \t Loss: 0.301874\n"
     ]
    },
    {
     "name": "stderr",
     "output_type": "stream",
     "text": [
      " 22% (2221 of 10000) |####                | Elapsed Time: 0:09:03 ETA:  0:32:38"
     ]
    },
    {
     "name": "stdout",
     "output_type": "stream",
     "text": [
      "284160 samples, 2220 batch \t Loss: 0.256423\n"
     ]
    },
    {
     "name": "stderr",
     "output_type": "stream",
     "text": [
      " 22% (2230 of 10000) |####                | Elapsed Time: 0:09:05 ETA:  0:32:37"
     ]
    },
    {
     "name": "stdout",
     "output_type": "stream",
     "text": [
      "285440 samples, 2230 batch \t Loss: 0.334305\n"
     ]
    },
    {
     "name": "stderr",
     "output_type": "stream",
     "text": [
      " 22% (2240 of 10000) |####                | Elapsed Time: 0:09:07 ETA:  0:32:37"
     ]
    },
    {
     "name": "stdout",
     "output_type": "stream",
     "text": [
      "286720 samples, 2240 batch \t Loss: 0.295510\n"
     ]
    },
    {
     "name": "stderr",
     "output_type": "stream",
     "text": [
      " 22% (2251 of 10000) |####                | Elapsed Time: 0:09:10 ETA:  0:32:27"
     ]
    },
    {
     "name": "stdout",
     "output_type": "stream",
     "text": [
      "288000 samples, 2250 batch \t Loss: 0.317731\n"
     ]
    },
    {
     "name": "stderr",
     "output_type": "stream",
     "text": [
      " 22% (2260 of 10000) |####                | Elapsed Time: 0:09:12 ETA:  0:32:31"
     ]
    },
    {
     "name": "stdout",
     "output_type": "stream",
     "text": [
      "289280 samples, 2260 batch \t Loss: 0.298175\n"
     ]
    },
    {
     "name": "stderr",
     "output_type": "stream",
     "text": [
      " 22% (2271 of 10000) |####                | Elapsed Time: 0:09:15 ETA:  0:32:18"
     ]
    },
    {
     "name": "stdout",
     "output_type": "stream",
     "text": [
      "290560 samples, 2270 batch \t Loss: 0.240788\n"
     ]
    },
    {
     "name": "stderr",
     "output_type": "stream",
     "text": [
      " 22% (2280 of 10000) |####                | Elapsed Time: 0:09:17 ETA:  0:32:26"
     ]
    },
    {
     "name": "stdout",
     "output_type": "stream",
     "text": [
      "291840 samples, 2280 batch \t Loss: 0.296231\n"
     ]
    },
    {
     "name": "stderr",
     "output_type": "stream",
     "text": [
      " 22% (2290 of 10000) |####                | Elapsed Time: 0:09:20 ETA:  0:32:27"
     ]
    },
    {
     "name": "stdout",
     "output_type": "stream",
     "text": [
      "293120 samples, 2290 batch \t Loss: 0.303214\n"
     ]
    },
    {
     "name": "stderr",
     "output_type": "stream",
     "text": [
      " 23% (2301 of 10000) |####                | Elapsed Time: 0:09:22 ETA:  0:32:14"
     ]
    },
    {
     "name": "stdout",
     "output_type": "stream",
     "text": [
      "294400 samples, 2300 batch \t Loss: 0.286422\n"
     ]
    },
    {
     "name": "stderr",
     "output_type": "stream",
     "text": [
      " 23% (2311 of 10000) |####                | Elapsed Time: 0:09:25 ETA:  0:32:16"
     ]
    },
    {
     "name": "stdout",
     "output_type": "stream",
     "text": [
      "295680 samples, 2310 batch \t Loss: 0.266237\n"
     ]
    },
    {
     "name": "stderr",
     "output_type": "stream",
     "text": [
      " 23% (2320 of 10000) |####                | Elapsed Time: 0:09:27 ETA:  0:32:12"
     ]
    },
    {
     "name": "stdout",
     "output_type": "stream",
     "text": [
      "296960 samples, 2320 batch \t Loss: 0.329117\n"
     ]
    },
    {
     "name": "stderr",
     "output_type": "stream",
     "text": [
      " 23% (2330 of 10000) |####                | Elapsed Time: 0:09:30 ETA:  0:32:05"
     ]
    },
    {
     "name": "stdout",
     "output_type": "stream",
     "text": [
      "298240 samples, 2330 batch \t Loss: 0.317046\n"
     ]
    },
    {
     "name": "stderr",
     "output_type": "stream",
     "text": [
      " 23% (2340 of 10000) |####                | Elapsed Time: 0:09:32 ETA:  0:32:16"
     ]
    },
    {
     "name": "stdout",
     "output_type": "stream",
     "text": [
      "299520 samples, 2340 batch \t Loss: 0.219059\n"
     ]
    },
    {
     "name": "stderr",
     "output_type": "stream",
     "text": [
      " 23% (2350 of 10000) |####                | Elapsed Time: 0:09:35 ETA:  0:32:07"
     ]
    },
    {
     "name": "stdout",
     "output_type": "stream",
     "text": [
      "300800 samples, 2350 batch \t Loss: 0.209313\n"
     ]
    },
    {
     "name": "stderr",
     "output_type": "stream",
     "text": [
      " 23% (2360 of 10000) |####                | Elapsed Time: 0:09:37 ETA:  0:32:06"
     ]
    },
    {
     "name": "stdout",
     "output_type": "stream",
     "text": [
      "302080 samples, 2360 batch \t Loss: 0.264103\n"
     ]
    },
    {
     "name": "stderr",
     "output_type": "stream",
     "text": [
      " 23% (2370 of 10000) |####                | Elapsed Time: 0:09:40 ETA:  0:32:04"
     ]
    },
    {
     "name": "stdout",
     "output_type": "stream",
     "text": [
      "303360 samples, 2370 batch \t Loss: 0.279691\n"
     ]
    },
    {
     "name": "stderr",
     "output_type": "stream",
     "text": [
      " 23% (2380 of 10000) |####                | Elapsed Time: 0:09:42 ETA:  0:32:06"
     ]
    },
    {
     "name": "stdout",
     "output_type": "stream",
     "text": [
      "304640 samples, 2380 batch \t Loss: 0.291786\n"
     ]
    },
    {
     "name": "stderr",
     "output_type": "stream",
     "text": [
      " 23% (2390 of 10000) |####                | Elapsed Time: 0:09:45 ETA:  0:32:00"
     ]
    },
    {
     "name": "stdout",
     "output_type": "stream",
     "text": [
      "305920 samples, 2390 batch \t Loss: 0.296371\n"
     ]
    },
    {
     "name": "stderr",
     "output_type": "stream",
     "text": [
      " 24% (2400 of 10000) |####                | Elapsed Time: 0:09:48 ETA:  0:32:11"
     ]
    },
    {
     "name": "stdout",
     "output_type": "stream",
     "text": [
      "307200 samples, 2400 batch \t Loss: 0.273230\n"
     ]
    },
    {
     "name": "stderr",
     "output_type": "stream",
     "text": [
      " 24% (2410 of 10000) |####                | Elapsed Time: 0:09:50 ETA:  0:32:07"
     ]
    },
    {
     "name": "stdout",
     "output_type": "stream",
     "text": [
      "308480 samples, 2410 batch \t Loss: 0.245806\n"
     ]
    },
    {
     "name": "stderr",
     "output_type": "stream",
     "text": [
      " 24% (2420 of 10000) |####                | Elapsed Time: 0:09:53 ETA:  0:31:53"
     ]
    },
    {
     "name": "stdout",
     "output_type": "stream",
     "text": [
      "309760 samples, 2420 batch \t Loss: 0.339290\n"
     ]
    },
    {
     "name": "stderr",
     "output_type": "stream",
     "text": [
      " 24% (2431 of 10000) |####                | Elapsed Time: 0:09:55 ETA:  0:31:40"
     ]
    },
    {
     "name": "stdout",
     "output_type": "stream",
     "text": [
      "311040 samples, 2430 batch \t Loss: 0.216298\n"
     ]
    },
    {
     "name": "stderr",
     "output_type": "stream",
     "text": [
      " 24% (2440 of 10000) |####                | Elapsed Time: 0:09:57 ETA:  0:31:53"
     ]
    },
    {
     "name": "stdout",
     "output_type": "stream",
     "text": [
      "312320 samples, 2440 batch \t Loss: 0.290116\n"
     ]
    },
    {
     "name": "stderr",
     "output_type": "stream",
     "text": [
      " 24% (2450 of 10000) |####                | Elapsed Time: 0:10:00 ETA:  0:31:47"
     ]
    },
    {
     "name": "stdout",
     "output_type": "stream",
     "text": [
      "313600 samples, 2450 batch \t Loss: 0.249425\n"
     ]
    },
    {
     "name": "stderr",
     "output_type": "stream",
     "text": [
      " 24% (2461 of 10000) |####                | Elapsed Time: 0:10:03 ETA:  0:31:32"
     ]
    },
    {
     "name": "stdout",
     "output_type": "stream",
     "text": [
      "314880 samples, 2460 batch \t Loss: 0.264594\n"
     ]
    },
    {
     "name": "stderr",
     "output_type": "stream",
     "text": [
      " 24% (2470 of 10000) |####                | Elapsed Time: 0:10:05 ETA:  0:31:48"
     ]
    },
    {
     "name": "stdout",
     "output_type": "stream",
     "text": [
      "316160 samples, 2470 batch \t Loss: 0.266591\n"
     ]
    },
    {
     "name": "stderr",
     "output_type": "stream",
     "text": [
      " 24% (2480 of 10000) |####                | Elapsed Time: 0:10:08 ETA:  0:31:39"
     ]
    },
    {
     "name": "stdout",
     "output_type": "stream",
     "text": [
      "317440 samples, 2480 batch \t Loss: 0.218598\n"
     ]
    },
    {
     "name": "stderr",
     "output_type": "stream",
     "text": [
      " 24% (2491 of 10000) |####                | Elapsed Time: 0:10:10 ETA:  0:31:27"
     ]
    },
    {
     "name": "stdout",
     "output_type": "stream",
     "text": [
      "318720 samples, 2490 batch \t Loss: 0.228039\n"
     ]
    },
    {
     "name": "stderr",
     "output_type": "stream",
     "text": [
      " 25% (2500 of 10000) |#####               | Elapsed Time: 0:10:13 ETA:  0:31:34"
     ]
    },
    {
     "name": "stdout",
     "output_type": "stream",
     "text": [
      "320000 samples, 2500 batch \t Loss: 0.292466\n"
     ]
    },
    {
     "name": "stderr",
     "output_type": "stream",
     "text": [
      " 25% (2510 of 10000) |#####               | Elapsed Time: 0:10:15 ETA:  0:31:31"
     ]
    },
    {
     "name": "stdout",
     "output_type": "stream",
     "text": [
      "321280 samples, 2510 batch \t Loss: 0.254401\n"
     ]
    },
    {
     "name": "stderr",
     "output_type": "stream",
     "text": [
      " 25% (2520 of 10000) |#####               | Elapsed Time: 0:10:18 ETA:  0:31:33"
     ]
    },
    {
     "name": "stdout",
     "output_type": "stream",
     "text": [
      "322560 samples, 2520 batch \t Loss: 0.294819\n"
     ]
    },
    {
     "name": "stderr",
     "output_type": "stream",
     "text": [
      " 25% (2530 of 10000) |#####               | Elapsed Time: 0:10:20 ETA:  0:31:39"
     ]
    },
    {
     "name": "stdout",
     "output_type": "stream",
     "text": [
      "323840 samples, 2530 batch \t Loss: 0.212856\n"
     ]
    },
    {
     "name": "stderr",
     "output_type": "stream",
     "text": [
      " 25% (2541 of 10000) |#####               | Elapsed Time: 0:10:23 ETA:  0:31:22"
     ]
    },
    {
     "name": "stdout",
     "output_type": "stream",
     "text": [
      "325120 samples, 2540 batch \t Loss: 0.278711\n"
     ]
    },
    {
     "name": "stderr",
     "output_type": "stream",
     "text": [
      " 25% (2551 of 10000) |#####               | Elapsed Time: 0:10:25 ETA:  0:31:33"
     ]
    },
    {
     "name": "stdout",
     "output_type": "stream",
     "text": [
      "326400 samples, 2550 batch \t Loss: 0.276984\n"
     ]
    },
    {
     "name": "stderr",
     "output_type": "stream",
     "text": [
      " 25% (2560 of 10000) |#####               | Elapsed Time: 0:10:28 ETA:  0:31:41"
     ]
    },
    {
     "name": "stdout",
     "output_type": "stream",
     "text": [
      "327680 samples, 2560 batch \t Loss: 0.251486\n"
     ]
    },
    {
     "name": "stderr",
     "output_type": "stream",
     "text": [
      " 25% (2570 of 10000) |#####               | Elapsed Time: 0:10:30 ETA:  0:31:32"
     ]
    },
    {
     "name": "stdout",
     "output_type": "stream",
     "text": [
      "328960 samples, 2570 batch \t Loss: 0.250783\n"
     ]
    },
    {
     "name": "stderr",
     "output_type": "stream",
     "text": [
      " 25% (2580 of 10000) |#####               | Elapsed Time: 0:10:33 ETA:  0:31:35"
     ]
    },
    {
     "name": "stdout",
     "output_type": "stream",
     "text": [
      "330240 samples, 2580 batch \t Loss: 0.320418\n"
     ]
    },
    {
     "name": "stderr",
     "output_type": "stream",
     "text": [
      " 25% (2591 of 10000) |#####               | Elapsed Time: 0:10:35 ETA:  0:31:16"
     ]
    },
    {
     "name": "stdout",
     "output_type": "stream",
     "text": [
      "331520 samples, 2590 batch \t Loss: 0.252068\n"
     ]
    },
    {
     "name": "stderr",
     "output_type": "stream",
     "text": [
      " 26% (2600 of 10000) |#####               | Elapsed Time: 0:10:38 ETA:  0:31:23"
     ]
    },
    {
     "name": "stdout",
     "output_type": "stream",
     "text": [
      "332800 samples, 2600 batch \t Loss: 0.232646\n"
     ]
    },
    {
     "name": "stderr",
     "output_type": "stream",
     "text": [
      " 26% (2610 of 10000) |#####               | Elapsed Time: 0:10:40 ETA:  0:31:15"
     ]
    },
    {
     "name": "stdout",
     "output_type": "stream",
     "text": [
      "334080 samples, 2610 batch \t Loss: 0.245903\n"
     ]
    },
    {
     "name": "stderr",
     "output_type": "stream",
     "text": [
      " 26% (2620 of 10000) |#####               | Elapsed Time: 0:10:43 ETA:  0:31:11"
     ]
    },
    {
     "name": "stdout",
     "output_type": "stream",
     "text": [
      "335360 samples, 2620 batch \t Loss: 0.246533\n"
     ]
    },
    {
     "name": "stderr",
     "output_type": "stream",
     "text": [
      " 26% (2631 of 10000) |#####               | Elapsed Time: 0:10:45 ETA:  0:30:49"
     ]
    },
    {
     "name": "stdout",
     "output_type": "stream",
     "text": [
      "336640 samples, 2630 batch \t Loss: 0.240692\n"
     ]
    },
    {
     "name": "stderr",
     "output_type": "stream",
     "text": [
      " 26% (2640 of 10000) |#####               | Elapsed Time: 0:10:48 ETA:  0:30:53"
     ]
    },
    {
     "name": "stdout",
     "output_type": "stream",
     "text": [
      "337920 samples, 2640 batch \t Loss: 0.220618\n"
     ]
    },
    {
     "name": "stderr",
     "output_type": "stream",
     "text": [
      " 26% (2651 of 10000) |#####               | Elapsed Time: 0:10:50 ETA:  0:30:40"
     ]
    },
    {
     "name": "stdout",
     "output_type": "stream",
     "text": [
      "339200 samples, 2650 batch \t Loss: 0.277543\n"
     ]
    },
    {
     "name": "stderr",
     "output_type": "stream",
     "text": [
      " 26% (2660 of 10000) |#####               | Elapsed Time: 0:10:53 ETA:  0:30:49"
     ]
    },
    {
     "name": "stdout",
     "output_type": "stream",
     "text": [
      "340480 samples, 2660 batch \t Loss: 0.262782\n"
     ]
    },
    {
     "name": "stderr",
     "output_type": "stream",
     "text": [
      " 26% (2671 of 10000) |#####               | Elapsed Time: 0:10:55 ETA:  0:30:35"
     ]
    },
    {
     "name": "stdout",
     "output_type": "stream",
     "text": [
      "341760 samples, 2670 batch \t Loss: 0.200098\n"
     ]
    },
    {
     "name": "stderr",
     "output_type": "stream",
     "text": [
      " 26% (2680 of 10000) |#####               | Elapsed Time: 0:10:58 ETA:  0:30:41"
     ]
    },
    {
     "name": "stdout",
     "output_type": "stream",
     "text": [
      "343040 samples, 2680 batch \t Loss: 0.247846\n"
     ]
    },
    {
     "name": "stderr",
     "output_type": "stream",
     "text": [
      " 26% (2691 of 10000) |#####               | Elapsed Time: 0:11:00 ETA:  0:30:27"
     ]
    },
    {
     "name": "stdout",
     "output_type": "stream",
     "text": [
      "344320 samples, 2690 batch \t Loss: 0.227838\n"
     ]
    },
    {
     "name": "stderr",
     "output_type": "stream",
     "text": [
      " 27% (2701 of 10000) |#####               | Elapsed Time: 0:11:03 ETA:  0:30:21"
     ]
    },
    {
     "name": "stdout",
     "output_type": "stream",
     "text": [
      "345600 samples, 2700 batch \t Loss: 0.259059\n"
     ]
    },
    {
     "name": "stderr",
     "output_type": "stream",
     "text": [
      " 27% (2710 of 10000) |#####               | Elapsed Time: 0:11:05 ETA:  0:30:29"
     ]
    },
    {
     "name": "stdout",
     "output_type": "stream",
     "text": [
      "346880 samples, 2710 batch \t Loss: 0.230245\n"
     ]
    },
    {
     "name": "stderr",
     "output_type": "stream",
     "text": [
      " 27% (2720 of 10000) |#####               | Elapsed Time: 0:11:08 ETA:  0:30:31"
     ]
    },
    {
     "name": "stdout",
     "output_type": "stream",
     "text": [
      "348160 samples, 2720 batch \t Loss: 0.214982\n"
     ]
    },
    {
     "name": "stderr",
     "output_type": "stream",
     "text": [
      " 27% (2730 of 10000) |#####               | Elapsed Time: 0:11:10 ETA:  0:30:35"
     ]
    },
    {
     "name": "stdout",
     "output_type": "stream",
     "text": [
      "349440 samples, 2730 batch \t Loss: 0.200253\n"
     ]
    },
    {
     "name": "stderr",
     "output_type": "stream",
     "text": [
      " 27% (2741 of 10000) |#####               | Elapsed Time: 0:11:13 ETA:  0:30:27"
     ]
    },
    {
     "name": "stdout",
     "output_type": "stream",
     "text": [
      "350720 samples, 2740 batch \t Loss: 0.234393\n"
     ]
    },
    {
     "name": "stderr",
     "output_type": "stream",
     "text": [
      " 27% (2750 of 10000) |#####               | Elapsed Time: 0:11:15 ETA:  0:30:29"
     ]
    },
    {
     "name": "stdout",
     "output_type": "stream",
     "text": [
      "352000 samples, 2750 batch \t Loss: 0.212210\n"
     ]
    },
    {
     "name": "stderr",
     "output_type": "stream",
     "text": [
      " 27% (2760 of 10000) |#####               | Elapsed Time: 0:11:18 ETA:  0:30:26"
     ]
    },
    {
     "name": "stdout",
     "output_type": "stream",
     "text": [
      "353280 samples, 2760 batch \t Loss: 0.227359\n"
     ]
    },
    {
     "name": "stderr",
     "output_type": "stream",
     "text": [
      " 27% (2770 of 10000) |#####               | Elapsed Time: 0:11:20 ETA:  0:30:23"
     ]
    },
    {
     "name": "stdout",
     "output_type": "stream",
     "text": [
      "354560 samples, 2770 batch \t Loss: 0.224411\n"
     ]
    },
    {
     "name": "stderr",
     "output_type": "stream",
     "text": [
      " 27% (2780 of 10000) |#####               | Elapsed Time: 0:11:23 ETA:  0:30:19"
     ]
    },
    {
     "name": "stdout",
     "output_type": "stream",
     "text": [
      "355840 samples, 2780 batch \t Loss: 0.211942\n"
     ]
    },
    {
     "name": "stderr",
     "output_type": "stream",
     "text": [
      " 27% (2791 of 10000) |#####               | Elapsed Time: 0:11:25 ETA:  0:30:05"
     ]
    },
    {
     "name": "stdout",
     "output_type": "stream",
     "text": [
      "357120 samples, 2790 batch \t Loss: 0.259342\n"
     ]
    },
    {
     "name": "stderr",
     "output_type": "stream",
     "text": [
      " 28% (2800 of 10000) |#####               | Elapsed Time: 0:11:28 ETA:  0:30:22"
     ]
    },
    {
     "name": "stdout",
     "output_type": "stream",
     "text": [
      "358400 samples, 2800 batch \t Loss: 0.209863\n"
     ]
    },
    {
     "name": "stderr",
     "output_type": "stream",
     "text": [
      " 28% (2810 of 10000) |#####               | Elapsed Time: 0:11:30 ETA:  0:30:19"
     ]
    },
    {
     "name": "stdout",
     "output_type": "stream",
     "text": [
      "359680 samples, 2810 batch \t Loss: 0.206561\n"
     ]
    },
    {
     "name": "stderr",
     "output_type": "stream",
     "text": [
      " 28% (2821 of 10000) |#####               | Elapsed Time: 0:11:33 ETA:  0:30:17"
     ]
    },
    {
     "name": "stdout",
     "output_type": "stream",
     "text": [
      "360960 samples, 2820 batch \t Loss: 0.225736\n"
     ]
    },
    {
     "name": "stderr",
     "output_type": "stream",
     "text": [
      " 28% (2830 of 10000) |#####               | Elapsed Time: 0:11:36 ETA:  0:30:26"
     ]
    },
    {
     "name": "stdout",
     "output_type": "stream",
     "text": [
      "362240 samples, 2830 batch \t Loss: 0.244277\n"
     ]
    },
    {
     "name": "stderr",
     "output_type": "stream",
     "text": [
      " 28% (2841 of 10000) |#####               | Elapsed Time: 0:11:38 ETA:  0:30:14"
     ]
    },
    {
     "name": "stdout",
     "output_type": "stream",
     "text": [
      "363520 samples, 2840 batch \t Loss: 0.223397\n"
     ]
    },
    {
     "name": "stderr",
     "output_type": "stream",
     "text": [
      " 28% (2850 of 10000) |#####               | Elapsed Time: 0:11:41 ETA:  0:30:10"
     ]
    },
    {
     "name": "stdout",
     "output_type": "stream",
     "text": [
      "364800 samples, 2850 batch \t Loss: 0.199163\n"
     ]
    },
    {
     "name": "stderr",
     "output_type": "stream",
     "text": [
      " 28% (2861 of 10000) |#####               | Elapsed Time: 0:11:43 ETA:  0:30:05"
     ]
    },
    {
     "name": "stdout",
     "output_type": "stream",
     "text": [
      "366080 samples, 2860 batch \t Loss: 0.195754\n"
     ]
    },
    {
     "name": "stderr",
     "output_type": "stream",
     "text": [
      " 28% (2870 of 10000) |#####               | Elapsed Time: 0:11:46 ETA:  0:30:17"
     ]
    },
    {
     "name": "stdout",
     "output_type": "stream",
     "text": [
      "367360 samples, 2870 batch \t Loss: 0.191380\n"
     ]
    },
    {
     "name": "stderr",
     "output_type": "stream",
     "text": [
      " 28% (2880 of 10000) |#####               | Elapsed Time: 0:11:48 ETA:  0:30:10"
     ]
    },
    {
     "name": "stdout",
     "output_type": "stream",
     "text": [
      "368640 samples, 2880 batch \t Loss: 0.222464\n"
     ]
    },
    {
     "name": "stderr",
     "output_type": "stream",
     "text": [
      " 28% (2891 of 10000) |#####               | Elapsed Time: 0:11:51 ETA:  0:30:07"
     ]
    },
    {
     "name": "stdout",
     "output_type": "stream",
     "text": [
      "369920 samples, 2890 batch \t Loss: 0.251409\n"
     ]
    },
    {
     "name": "stderr",
     "output_type": "stream",
     "text": [
      " 28% (2900 of 10000) |#####               | Elapsed Time: 0:11:53 ETA:  0:30:13"
     ]
    },
    {
     "name": "stdout",
     "output_type": "stream",
     "text": [
      "371200 samples, 2900 batch \t Loss: 0.234961\n"
     ]
    },
    {
     "name": "stderr",
     "output_type": "stream",
     "text": [
      " 29% (2910 of 10000) |#####               | Elapsed Time: 0:11:56 ETA:  0:30:08"
     ]
    },
    {
     "name": "stdout",
     "output_type": "stream",
     "text": [
      "372480 samples, 2910 batch \t Loss: 0.201397\n"
     ]
    },
    {
     "name": "stderr",
     "output_type": "stream",
     "text": [
      " 29% (2920 of 10000) |#####               | Elapsed Time: 0:11:58 ETA:  0:30:03"
     ]
    },
    {
     "name": "stdout",
     "output_type": "stream",
     "text": [
      "373760 samples, 2920 batch \t Loss: 0.217232\n"
     ]
    },
    {
     "name": "stderr",
     "output_type": "stream",
     "text": [
      " 29% (2931 of 10000) |#####               | Elapsed Time: 0:12:01 ETA:  0:29:42"
     ]
    },
    {
     "name": "stdout",
     "output_type": "stream",
     "text": [
      "375040 samples, 2930 batch \t Loss: 0.246601\n"
     ]
    },
    {
     "name": "stderr",
     "output_type": "stream",
     "text": [
      " 29% (2941 of 10000) |#####               | Elapsed Time: 0:12:03 ETA:  0:29:44"
     ]
    },
    {
     "name": "stdout",
     "output_type": "stream",
     "text": [
      "376320 samples, 2940 batch \t Loss: 0.214975\n"
     ]
    },
    {
     "name": "stderr",
     "output_type": "stream",
     "text": [
      " 29% (2950 of 10000) |#####               | Elapsed Time: 0:12:06 ETA:  0:29:55"
     ]
    },
    {
     "name": "stdout",
     "output_type": "stream",
     "text": [
      "377600 samples, 2950 batch \t Loss: 0.230991\n"
     ]
    },
    {
     "name": "stderr",
     "output_type": "stream",
     "text": [
      " 29% (2961 of 10000) |#####               | Elapsed Time: 0:12:09 ETA:  0:29:52"
     ]
    },
    {
     "name": "stdout",
     "output_type": "stream",
     "text": [
      "378880 samples, 2960 batch \t Loss: 0.168146\n"
     ]
    },
    {
     "name": "stderr",
     "output_type": "stream",
     "text": [
      " 29% (2970 of 10000) |#####               | Elapsed Time: 0:12:11 ETA:  0:29:50"
     ]
    },
    {
     "name": "stdout",
     "output_type": "stream",
     "text": [
      "380160 samples, 2970 batch \t Loss: 0.252536\n"
     ]
    },
    {
     "name": "stderr",
     "output_type": "stream",
     "text": [
      " 29% (2980 of 10000) |#####               | Elapsed Time: 0:12:13 ETA:  0:29:28"
     ]
    },
    {
     "name": "stdout",
     "output_type": "stream",
     "text": [
      "381440 samples, 2980 batch \t Loss: 0.215591\n"
     ]
    },
    {
     "name": "stderr",
     "output_type": "stream",
     "text": [
      " 29% (2990 of 10000) |#####               | Elapsed Time: 0:12:15 ETA:  0:28:39"
     ]
    },
    {
     "name": "stdout",
     "output_type": "stream",
     "text": [
      "382720 samples, 2990 batch \t Loss: 0.202168\n"
     ]
    },
    {
     "name": "stderr",
     "output_type": "stream",
     "text": [
      " 30% (3000 of 10000) |######              | Elapsed Time: 0:12:17 ETA:  0:27:59"
     ]
    },
    {
     "name": "stdout",
     "output_type": "stream",
     "text": [
      "384000 samples, 3000 batch \t Loss: 0.194610\n"
     ]
    },
    {
     "name": "stderr",
     "output_type": "stream",
     "text": [
      " 30% (3010 of 10000) |######              | Elapsed Time: 0:12:19 ETA:  0:27:10"
     ]
    },
    {
     "name": "stdout",
     "output_type": "stream",
     "text": [
      "385280 samples, 3010 batch \t Loss: 0.232731\n"
     ]
    },
    {
     "name": "stderr",
     "output_type": "stream",
     "text": [
      " 30% (3020 of 10000) |######              | Elapsed Time: 0:12:21 ETA:  0:26:30"
     ]
    },
    {
     "name": "stdout",
     "output_type": "stream",
     "text": [
      "386560 samples, 3020 batch \t Loss: 0.205707\n"
     ]
    },
    {
     "name": "stderr",
     "output_type": "stream",
     "text": [
      " 30% (3030 of 10000) |######              | Elapsed Time: 0:12:23 ETA:  0:25:49"
     ]
    },
    {
     "name": "stdout",
     "output_type": "stream",
     "text": [
      "387840 samples, 3030 batch \t Loss: 0.228037\n"
     ]
    },
    {
     "name": "stderr",
     "output_type": "stream",
     "text": [
      " 30% (3040 of 10000) |######              | Elapsed Time: 0:12:25 ETA:  0:25:07"
     ]
    },
    {
     "name": "stdout",
     "output_type": "stream",
     "text": [
      "389120 samples, 3040 batch \t Loss: 0.215026\n"
     ]
    },
    {
     "name": "stderr",
     "output_type": "stream",
     "text": [
      " 30% (3050 of 10000) |######              | Elapsed Time: 0:12:26 ETA:  0:24:21"
     ]
    },
    {
     "name": "stdout",
     "output_type": "stream",
     "text": [
      "390400 samples, 3050 batch \t Loss: 0.201807\n"
     ]
    },
    {
     "name": "stderr",
     "output_type": "stream",
     "text": [
      " 30% (3060 of 10000) |######              | Elapsed Time: 0:12:28 ETA:  0:23:40"
     ]
    },
    {
     "name": "stdout",
     "output_type": "stream",
     "text": [
      "391680 samples, 3060 batch \t Loss: 0.197536\n"
     ]
    },
    {
     "name": "stderr",
     "output_type": "stream",
     "text": [
      " 30% (3070 of 10000) |######              | Elapsed Time: 0:12:30 ETA:  0:22:53"
     ]
    },
    {
     "name": "stdout",
     "output_type": "stream",
     "text": [
      "392960 samples, 3070 batch \t Loss: 0.193382\n"
     ]
    },
    {
     "name": "stderr",
     "output_type": "stream",
     "text": [
      " 30% (3080 of 10000) |######              | Elapsed Time: 0:12:32 ETA:  0:22:11"
     ]
    },
    {
     "name": "stdout",
     "output_type": "stream",
     "text": [
      "394240 samples, 3080 batch \t Loss: 0.199220\n"
     ]
    },
    {
     "name": "stderr",
     "output_type": "stream",
     "text": [
      " 30% (3090 of 10000) |######              | Elapsed Time: 0:12:34 ETA:  0:21:53"
     ]
    },
    {
     "name": "stdout",
     "output_type": "stream",
     "text": [
      "395520 samples, 3090 batch \t Loss: 0.199114\n"
     ]
    },
    {
     "name": "stderr",
     "output_type": "stream",
     "text": [
      " 31% (3100 of 10000) |######              | Elapsed Time: 0:12:36 ETA:  0:21:55"
     ]
    },
    {
     "name": "stdout",
     "output_type": "stream",
     "text": [
      "396800 samples, 3100 batch \t Loss: 0.236436\n"
     ]
    },
    {
     "name": "stderr",
     "output_type": "stream",
     "text": [
      " 31% (3110 of 10000) |######              | Elapsed Time: 0:12:38 ETA:  0:21:53"
     ]
    },
    {
     "name": "stdout",
     "output_type": "stream",
     "text": [
      "398080 samples, 3110 batch \t Loss: 0.228538\n"
     ]
    },
    {
     "name": "stderr",
     "output_type": "stream",
     "text": [
      " 31% (3120 of 10000) |######              | Elapsed Time: 0:12:40 ETA:  0:21:50"
     ]
    },
    {
     "name": "stdout",
     "output_type": "stream",
     "text": [
      "399360 samples, 3120 batch \t Loss: 0.192040\n"
     ]
    },
    {
     "name": "stderr",
     "output_type": "stream",
     "text": [
      " 31% (3130 of 10000) |######              | Elapsed Time: 0:12:42 ETA:  0:21:55"
     ]
    },
    {
     "name": "stdout",
     "output_type": "stream",
     "text": [
      "400640 samples, 3130 batch \t Loss: 0.194951\n"
     ]
    },
    {
     "name": "stderr",
     "output_type": "stream",
     "text": [
      " 31% (3140 of 10000) |######              | Elapsed Time: 0:12:44 ETA:  0:21:52"
     ]
    },
    {
     "name": "stdout",
     "output_type": "stream",
     "text": [
      "401920 samples, 3140 batch \t Loss: 0.175301\n"
     ]
    },
    {
     "name": "stderr",
     "output_type": "stream",
     "text": [
      " 31% (3151 of 10000) |######              | Elapsed Time: 0:12:46 ETA:  0:21:52"
     ]
    },
    {
     "name": "stdout",
     "output_type": "stream",
     "text": [
      "403200 samples, 3150 batch \t Loss: 0.217948\n"
     ]
    },
    {
     "name": "stderr",
     "output_type": "stream",
     "text": [
      " 31% (3160 of 10000) |######              | Elapsed Time: 0:12:48 ETA:  0:21:59"
     ]
    },
    {
     "name": "stdout",
     "output_type": "stream",
     "text": [
      "404480 samples, 3160 batch \t Loss: 0.261286\n"
     ]
    },
    {
     "name": "stderr",
     "output_type": "stream",
     "text": [
      " 31% (3170 of 10000) |######              | Elapsed Time: 0:12:49 ETA:  0:22:00"
     ]
    },
    {
     "name": "stdout",
     "output_type": "stream",
     "text": [
      "405760 samples, 3170 batch \t Loss: 0.171969\n"
     ]
    },
    {
     "name": "stderr",
     "output_type": "stream",
     "text": [
      " 31% (3180 of 10000) |######              | Elapsed Time: 0:12:51 ETA:  0:21:57"
     ]
    },
    {
     "name": "stdout",
     "output_type": "stream",
     "text": [
      "407040 samples, 3180 batch \t Loss: 0.210502\n"
     ]
    },
    {
     "name": "stderr",
     "output_type": "stream",
     "text": [
      " 31% (3190 of 10000) |######              | Elapsed Time: 0:12:53 ETA:  0:22:01"
     ]
    },
    {
     "name": "stdout",
     "output_type": "stream",
     "text": [
      "408320 samples, 3190 batch \t Loss: 0.275149\n"
     ]
    },
    {
     "name": "stderr",
     "output_type": "stream",
     "text": [
      " 32% (3200 of 10000) |######              | Elapsed Time: 0:12:55 ETA:  0:21:55"
     ]
    },
    {
     "name": "stdout",
     "output_type": "stream",
     "text": [
      "409600 samples, 3200 batch \t Loss: 0.185453\n"
     ]
    },
    {
     "name": "stderr",
     "output_type": "stream",
     "text": [
      " 32% (3210 of 10000) |######              | Elapsed Time: 0:12:57 ETA:  0:21:54"
     ]
    },
    {
     "name": "stdout",
     "output_type": "stream",
     "text": [
      "410880 samples, 3210 batch \t Loss: 0.215748\n"
     ]
    },
    {
     "name": "stderr",
     "output_type": "stream",
     "text": [
      " 32% (3220 of 10000) |######              | Elapsed Time: 0:12:59 ETA:  0:21:52"
     ]
    },
    {
     "name": "stdout",
     "output_type": "stream",
     "text": [
      "412160 samples, 3220 batch \t Loss: 0.243222\n"
     ]
    },
    {
     "name": "stderr",
     "output_type": "stream",
     "text": [
      " 32% (3230 of 10000) |######              | Elapsed Time: 0:13:01 ETA:  0:21:52"
     ]
    },
    {
     "name": "stdout",
     "output_type": "stream",
     "text": [
      "413440 samples, 3230 batch \t Loss: 0.229742\n"
     ]
    },
    {
     "name": "stderr",
     "output_type": "stream",
     "text": [
      " 32% (3240 of 10000) |######              | Elapsed Time: 0:13:03 ETA:  0:21:48"
     ]
    },
    {
     "name": "stdout",
     "output_type": "stream",
     "text": [
      "414720 samples, 3240 batch \t Loss: 0.220370\n"
     ]
    },
    {
     "name": "stderr",
     "output_type": "stream",
     "text": [
      " 32% (3251 of 10000) |######              | Elapsed Time: 0:13:05 ETA:  0:21:38"
     ]
    },
    {
     "name": "stdout",
     "output_type": "stream",
     "text": [
      "416000 samples, 3250 batch \t Loss: 0.191693\n"
     ]
    },
    {
     "name": "stderr",
     "output_type": "stream",
     "text": [
      " 32% (3260 of 10000) |######              | Elapsed Time: 0:13:07 ETA:  0:21:40"
     ]
    },
    {
     "name": "stdout",
     "output_type": "stream",
     "text": [
      "417280 samples, 3260 batch \t Loss: 0.248459\n"
     ]
    },
    {
     "name": "stderr",
     "output_type": "stream",
     "text": [
      " 32% (3270 of 10000) |######              | Elapsed Time: 0:13:09 ETA:  0:21:34"
     ]
    },
    {
     "name": "stdout",
     "output_type": "stream",
     "text": [
      "418560 samples, 3270 batch \t Loss: 0.221744\n"
     ]
    },
    {
     "name": "stderr",
     "output_type": "stream",
     "text": [
      " 32% (3280 of 10000) |######              | Elapsed Time: 0:13:11 ETA:  0:21:33"
     ]
    },
    {
     "name": "stdout",
     "output_type": "stream",
     "text": [
      "419840 samples, 3280 batch \t Loss: 0.209555\n"
     ]
    },
    {
     "name": "stderr",
     "output_type": "stream",
     "text": [
      " 32% (3290 of 10000) |######              | Elapsed Time: 0:13:12 ETA:  0:21:34"
     ]
    },
    {
     "name": "stdout",
     "output_type": "stream",
     "text": [
      "421120 samples, 3290 batch \t Loss: 0.196504\n"
     ]
    },
    {
     "name": "stderr",
     "output_type": "stream",
     "text": [
      " 33% (3300 of 10000) |######              | Elapsed Time: 0:13:14 ETA:  0:21:35"
     ]
    },
    {
     "name": "stdout",
     "output_type": "stream",
     "text": [
      "422400 samples, 3300 batch \t Loss: 0.243976\n"
     ]
    },
    {
     "name": "stderr",
     "output_type": "stream",
     "text": [
      " 33% (3310 of 10000) |######              | Elapsed Time: 0:13:16 ETA:  0:21:33"
     ]
    },
    {
     "name": "stdout",
     "output_type": "stream",
     "text": [
      "423680 samples, 3310 batch \t Loss: 0.201836\n"
     ]
    },
    {
     "name": "stderr",
     "output_type": "stream",
     "text": [
      " 33% (3320 of 10000) |######              | Elapsed Time: 0:13:18 ETA:  0:21:31"
     ]
    },
    {
     "name": "stdout",
     "output_type": "stream",
     "text": [
      "424960 samples, 3320 batch \t Loss: 0.238872\n"
     ]
    },
    {
     "name": "stderr",
     "output_type": "stream",
     "text": [
      " 33% (3330 of 10000) |######              | Elapsed Time: 0:13:20 ETA:  0:21:28"
     ]
    },
    {
     "name": "stdout",
     "output_type": "stream",
     "text": [
      "426240 samples, 3330 batch \t Loss: 0.232235\n"
     ]
    },
    {
     "name": "stderr",
     "output_type": "stream",
     "text": [
      " 33% (3340 of 10000) |######              | Elapsed Time: 0:13:22 ETA:  0:21:23"
     ]
    },
    {
     "name": "stdout",
     "output_type": "stream",
     "text": [
      "427520 samples, 3340 batch \t Loss: 0.177187\n"
     ]
    },
    {
     "name": "stderr",
     "output_type": "stream",
     "text": [
      " 33% (3350 of 10000) |######              | Elapsed Time: 0:13:24 ETA:  0:21:20"
     ]
    },
    {
     "name": "stdout",
     "output_type": "stream",
     "text": [
      "428800 samples, 3350 batch \t Loss: 0.184676\n"
     ]
    },
    {
     "name": "stderr",
     "output_type": "stream",
     "text": [
      " 33% (3360 of 10000) |######              | Elapsed Time: 0:13:26 ETA:  0:21:21"
     ]
    },
    {
     "name": "stdout",
     "output_type": "stream",
     "text": [
      "430080 samples, 3360 batch \t Loss: 0.209030\n"
     ]
    },
    {
     "name": "stderr",
     "output_type": "stream",
     "text": [
      " 33% (3370 of 10000) |######              | Elapsed Time: 0:13:28 ETA:  0:21:13"
     ]
    },
    {
     "name": "stdout",
     "output_type": "stream",
     "text": [
      "431360 samples, 3370 batch \t Loss: 0.240888\n"
     ]
    },
    {
     "name": "stderr",
     "output_type": "stream",
     "text": [
      " 33% (3380 of 10000) |######              | Elapsed Time: 0:13:30 ETA:  0:21:12"
     ]
    },
    {
     "name": "stdout",
     "output_type": "stream",
     "text": [
      "432640 samples, 3380 batch \t Loss: 0.234682\n"
     ]
    },
    {
     "name": "stderr",
     "output_type": "stream",
     "text": [
      " 33% (3390 of 10000) |######              | Elapsed Time: 0:13:32 ETA:  0:21:10"
     ]
    },
    {
     "name": "stdout",
     "output_type": "stream",
     "text": [
      "433920 samples, 3390 batch \t Loss: 0.199695\n"
     ]
    },
    {
     "name": "stderr",
     "output_type": "stream",
     "text": [
      " 34% (3400 of 10000) |######              | Elapsed Time: 0:13:34 ETA:  0:21:08"
     ]
    },
    {
     "name": "stdout",
     "output_type": "stream",
     "text": [
      "435200 samples, 3400 batch \t Loss: 0.222737\n"
     ]
    },
    {
     "name": "stderr",
     "output_type": "stream",
     "text": [
      " 34% (3410 of 10000) |######              | Elapsed Time: 0:13:36 ETA:  0:21:06"
     ]
    },
    {
     "name": "stdout",
     "output_type": "stream",
     "text": [
      "436480 samples, 3410 batch \t Loss: 0.214083\n"
     ]
    },
    {
     "name": "stderr",
     "output_type": "stream",
     "text": [
      " 34% (3420 of 10000) |######              | Elapsed Time: 0:13:37 ETA:  0:21:04"
     ]
    },
    {
     "name": "stdout",
     "output_type": "stream",
     "text": [
      "437760 samples, 3420 batch \t Loss: 0.205975\n"
     ]
    },
    {
     "name": "stderr",
     "output_type": "stream",
     "text": [
      " 34% (3430 of 10000) |######              | Elapsed Time: 0:13:39 ETA:  0:21:02"
     ]
    },
    {
     "name": "stdout",
     "output_type": "stream",
     "text": [
      "439040 samples, 3430 batch \t Loss: 0.211576\n"
     ]
    },
    {
     "name": "stderr",
     "output_type": "stream",
     "text": [
      " 34% (3440 of 10000) |######              | Elapsed Time: 0:13:41 ETA:  0:21:01"
     ]
    },
    {
     "name": "stdout",
     "output_type": "stream",
     "text": [
      "440320 samples, 3440 batch \t Loss: 0.210146\n"
     ]
    },
    {
     "name": "stderr",
     "output_type": "stream",
     "text": [
      " 34% (3450 of 10000) |######              | Elapsed Time: 0:13:43 ETA:  0:21:04"
     ]
    },
    {
     "name": "stdout",
     "output_type": "stream",
     "text": [
      "441600 samples, 3450 batch \t Loss: 0.200223\n"
     ]
    },
    {
     "name": "stderr",
     "output_type": "stream",
     "text": [
      " 34% (3460 of 10000) |######              | Elapsed Time: 0:13:45 ETA:  0:21:02"
     ]
    },
    {
     "name": "stdout",
     "output_type": "stream",
     "text": [
      "442880 samples, 3460 batch \t Loss: 0.179377\n"
     ]
    },
    {
     "name": "stderr",
     "output_type": "stream",
     "text": [
      " 34% (3471 of 10000) |######              | Elapsed Time: 0:13:47 ETA:  0:21:04"
     ]
    },
    {
     "name": "stdout",
     "output_type": "stream",
     "text": [
      "444160 samples, 3470 batch \t Loss: 0.203488\n"
     ]
    },
    {
     "name": "stderr",
     "output_type": "stream",
     "text": [
      " 34% (3480 of 10000) |######              | Elapsed Time: 0:13:49 ETA:  0:21:09"
     ]
    },
    {
     "name": "stdout",
     "output_type": "stream",
     "text": [
      "445440 samples, 3480 batch \t Loss: 0.155478\n"
     ]
    },
    {
     "name": "stderr",
     "output_type": "stream",
     "text": [
      " 34% (3490 of 10000) |######              | Elapsed Time: 0:13:51 ETA:  0:21:06"
     ]
    },
    {
     "name": "stdout",
     "output_type": "stream",
     "text": [
      "446720 samples, 3490 batch \t Loss: 0.175730\n"
     ]
    },
    {
     "name": "stderr",
     "output_type": "stream",
     "text": [
      " 35% (3500 of 10000) |#######             | Elapsed Time: 0:13:53 ETA:  0:21:05"
     ]
    },
    {
     "name": "stdout",
     "output_type": "stream",
     "text": [
      "448000 samples, 3500 batch \t Loss: 0.180108\n"
     ]
    },
    {
     "name": "stderr",
     "output_type": "stream",
     "text": [
      " 35% (3510 of 10000) |#######             | Elapsed Time: 0:13:55 ETA:  0:21:04"
     ]
    },
    {
     "name": "stdout",
     "output_type": "stream",
     "text": [
      "449280 samples, 3510 batch \t Loss: 0.155928\n"
     ]
    },
    {
     "name": "stderr",
     "output_type": "stream",
     "text": [
      " 35% (3520 of 10000) |#######             | Elapsed Time: 0:13:57 ETA:  0:21:00"
     ]
    },
    {
     "name": "stdout",
     "output_type": "stream",
     "text": [
      "450560 samples, 3520 batch \t Loss: 0.185067\n"
     ]
    },
    {
     "name": "stderr",
     "output_type": "stream",
     "text": [
      " 35% (3530 of 10000) |#######             | Elapsed Time: 0:13:59 ETA:  0:20:55"
     ]
    },
    {
     "name": "stdout",
     "output_type": "stream",
     "text": [
      "451840 samples, 3530 batch \t Loss: 0.166168\n"
     ]
    },
    {
     "name": "stderr",
     "output_type": "stream",
     "text": [
      " 35% (3540 of 10000) |#######             | Elapsed Time: 0:14:01 ETA:  0:20:52"
     ]
    },
    {
     "name": "stdout",
     "output_type": "stream",
     "text": [
      "453120 samples, 3540 batch \t Loss: 0.116216\n"
     ]
    },
    {
     "name": "stderr",
     "output_type": "stream",
     "text": [
      " 35% (3550 of 10000) |#######             | Elapsed Time: 0:14:03 ETA:  0:20:51"
     ]
    },
    {
     "name": "stdout",
     "output_type": "stream",
     "text": [
      "454400 samples, 3550 batch \t Loss: 0.204675\n"
     ]
    },
    {
     "name": "stderr",
     "output_type": "stream",
     "text": [
      " 35% (3560 of 10000) |#######             | Elapsed Time: 0:14:04 ETA:  0:20:48"
     ]
    },
    {
     "name": "stdout",
     "output_type": "stream",
     "text": [
      "455680 samples, 3560 batch \t Loss: 0.232082\n"
     ]
    },
    {
     "name": "stderr",
     "output_type": "stream",
     "text": [
      " 35% (3570 of 10000) |#######             | Elapsed Time: 0:14:06 ETA:  0:20:45"
     ]
    },
    {
     "name": "stdout",
     "output_type": "stream",
     "text": [
      "456960 samples, 3570 batch \t Loss: 0.192955\n"
     ]
    },
    {
     "name": "stderr",
     "output_type": "stream",
     "text": [
      " 35% (3580 of 10000) |#######             | Elapsed Time: 0:14:08 ETA:  0:20:39"
     ]
    },
    {
     "name": "stdout",
     "output_type": "stream",
     "text": [
      "458240 samples, 3580 batch \t Loss: 0.208744\n"
     ]
    },
    {
     "name": "stderr",
     "output_type": "stream",
     "text": [
      " 35% (3590 of 10000) |#######             | Elapsed Time: 0:14:10 ETA:  0:20:31"
     ]
    },
    {
     "name": "stdout",
     "output_type": "stream",
     "text": [
      "459520 samples, 3590 batch \t Loss: 0.245750\n"
     ]
    },
    {
     "name": "stderr",
     "output_type": "stream",
     "text": [
      " 36% (3600 of 10000) |#######             | Elapsed Time: 0:14:12 ETA:  0:20:29"
     ]
    },
    {
     "name": "stdout",
     "output_type": "stream",
     "text": [
      "460800 samples, 3600 batch \t Loss: 0.157796\n"
     ]
    },
    {
     "name": "stderr",
     "output_type": "stream",
     "text": [
      " 36% (3610 of 10000) |#######             | Elapsed Time: 0:14:14 ETA:  0:20:24"
     ]
    },
    {
     "name": "stdout",
     "output_type": "stream",
     "text": [
      "462080 samples, 3610 batch \t Loss: 0.196983\n"
     ]
    },
    {
     "name": "stderr",
     "output_type": "stream",
     "text": [
      " 36% (3620 of 10000) |#######             | Elapsed Time: 0:14:16 ETA:  0:20:19"
     ]
    },
    {
     "name": "stdout",
     "output_type": "stream",
     "text": [
      "463360 samples, 3620 batch \t Loss: 0.160257\n"
     ]
    },
    {
     "name": "stderr",
     "output_type": "stream",
     "text": [
      " 36% (3630 of 10000) |#######             | Elapsed Time: 0:14:18 ETA:  0:20:16"
     ]
    },
    {
     "name": "stdout",
     "output_type": "stream",
     "text": [
      "464640 samples, 3630 batch \t Loss: 0.219760\n"
     ]
    },
    {
     "name": "stderr",
     "output_type": "stream",
     "text": [
      " 36% (3640 of 10000) |#######             | Elapsed Time: 0:14:20 ETA:  0:20:16"
     ]
    },
    {
     "name": "stdout",
     "output_type": "stream",
     "text": [
      "465920 samples, 3640 batch \t Loss: 0.201535\n"
     ]
    },
    {
     "name": "stderr",
     "output_type": "stream",
     "text": [
      " 36% (3650 of 10000) |#######             | Elapsed Time: 0:14:22 ETA:  0:20:14"
     ]
    },
    {
     "name": "stdout",
     "output_type": "stream",
     "text": [
      "467200 samples, 3650 batch \t Loss: 0.205097\n"
     ]
    },
    {
     "name": "stderr",
     "output_type": "stream",
     "text": [
      " 36% (3660 of 10000) |#######             | Elapsed Time: 0:14:24 ETA:  0:20:09"
     ]
    },
    {
     "name": "stdout",
     "output_type": "stream",
     "text": [
      "468480 samples, 3660 batch \t Loss: 0.218666\n"
     ]
    },
    {
     "name": "stderr",
     "output_type": "stream",
     "text": [
      " 36% (3671 of 10000) |#######             | Elapsed Time: 0:14:26 ETA:  0:20:06"
     ]
    },
    {
     "name": "stdout",
     "output_type": "stream",
     "text": [
      "469760 samples, 3670 batch \t Loss: 0.199702\n"
     ]
    },
    {
     "name": "stderr",
     "output_type": "stream",
     "text": [
      " 36% (3680 of 10000) |#######             | Elapsed Time: 0:14:27 ETA:  0:20:04"
     ]
    },
    {
     "name": "stdout",
     "output_type": "stream",
     "text": [
      "471040 samples, 3680 batch \t Loss: 0.195263\n"
     ]
    },
    {
     "name": "stderr",
     "output_type": "stream",
     "text": [
      " 36% (3690 of 10000) |#######             | Elapsed Time: 0:14:29 ETA:  0:20:02"
     ]
    },
    {
     "name": "stdout",
     "output_type": "stream",
     "text": [
      "472320 samples, 3690 batch \t Loss: 0.189576\n"
     ]
    },
    {
     "name": "stderr",
     "output_type": "stream",
     "text": [
      " 37% (3700 of 10000) |#######             | Elapsed Time: 0:14:31 ETA:  0:19:57"
     ]
    },
    {
     "name": "stdout",
     "output_type": "stream",
     "text": [
      "473600 samples, 3700 batch \t Loss: 0.162174\n"
     ]
    },
    {
     "name": "stderr",
     "output_type": "stream",
     "text": [
      " 37% (3710 of 10000) |#######             | Elapsed Time: 0:14:33 ETA:  0:19:56"
     ]
    },
    {
     "name": "stdout",
     "output_type": "stream",
     "text": [
      "474880 samples, 3710 batch \t Loss: 0.215449\n"
     ]
    },
    {
     "name": "stderr",
     "output_type": "stream",
     "text": [
      " 37% (3720 of 10000) |#######             | Elapsed Time: 0:14:35 ETA:  0:19:54"
     ]
    },
    {
     "name": "stdout",
     "output_type": "stream",
     "text": [
      "476160 samples, 3720 batch \t Loss: 0.156255\n"
     ]
    },
    {
     "name": "stderr",
     "output_type": "stream",
     "text": [
      " 37% (3730 of 10000) |#######             | Elapsed Time: 0:14:37 ETA:  0:19:55"
     ]
    },
    {
     "name": "stdout",
     "output_type": "stream",
     "text": [
      "477440 samples, 3730 batch \t Loss: 0.196179\n"
     ]
    },
    {
     "name": "stderr",
     "output_type": "stream",
     "text": [
      " 37% (3740 of 10000) |#######             | Elapsed Time: 0:14:39 ETA:  0:19:55"
     ]
    },
    {
     "name": "stdout",
     "output_type": "stream",
     "text": [
      "478720 samples, 3740 batch \t Loss: 0.191011\n"
     ]
    },
    {
     "name": "stderr",
     "output_type": "stream",
     "text": [
      " 37% (3750 of 10000) |#######             | Elapsed Time: 0:14:41 ETA:  0:19:50"
     ]
    },
    {
     "name": "stdout",
     "output_type": "stream",
     "text": [
      "480000 samples, 3750 batch \t Loss: 0.171621\n"
     ]
    },
    {
     "name": "stderr",
     "output_type": "stream",
     "text": [
      " 37% (3760 of 10000) |#######             | Elapsed Time: 0:14:43 ETA:  0:19:48"
     ]
    },
    {
     "name": "stdout",
     "output_type": "stream",
     "text": [
      "481280 samples, 3760 batch \t Loss: 0.149779\n"
     ]
    },
    {
     "name": "stderr",
     "output_type": "stream",
     "text": [
      " 37% (3770 of 10000) |#######             | Elapsed Time: 0:14:45 ETA:  0:19:50"
     ]
    },
    {
     "name": "stdout",
     "output_type": "stream",
     "text": [
      "482560 samples, 3770 batch \t Loss: 0.184418\n"
     ]
    },
    {
     "name": "stderr",
     "output_type": "stream",
     "text": [
      " 37% (3780 of 10000) |#######             | Elapsed Time: 0:14:46 ETA:  0:19:47"
     ]
    },
    {
     "name": "stdout",
     "output_type": "stream",
     "text": [
      "483840 samples, 3780 batch \t Loss: 0.180195\n"
     ]
    },
    {
     "name": "stderr",
     "output_type": "stream",
     "text": [
      " 37% (3790 of 10000) |#######             | Elapsed Time: 0:14:48 ETA:  0:19:45"
     ]
    },
    {
     "name": "stdout",
     "output_type": "stream",
     "text": [
      "485120 samples, 3790 batch \t Loss: 0.178438\n"
     ]
    },
    {
     "name": "stderr",
     "output_type": "stream",
     "text": [
      " 38% (3800 of 10000) |#######             | Elapsed Time: 0:14:50 ETA:  0:19:46"
     ]
    },
    {
     "name": "stdout",
     "output_type": "stream",
     "text": [
      "486400 samples, 3800 batch \t Loss: 0.176399\n"
     ]
    },
    {
     "name": "stderr",
     "output_type": "stream",
     "text": [
      " 38% (3810 of 10000) |#######             | Elapsed Time: 0:14:52 ETA:  0:19:46"
     ]
    },
    {
     "name": "stdout",
     "output_type": "stream",
     "text": [
      "487680 samples, 3810 batch \t Loss: 0.223673\n"
     ]
    },
    {
     "name": "stderr",
     "output_type": "stream",
     "text": [
      " 38% (3820 of 10000) |#######             | Elapsed Time: 0:14:54 ETA:  0:19:45"
     ]
    },
    {
     "name": "stdout",
     "output_type": "stream",
     "text": [
      "488960 samples, 3820 batch \t Loss: 0.170751\n"
     ]
    },
    {
     "name": "stderr",
     "output_type": "stream",
     "text": [
      " 38% (3830 of 10000) |#######             | Elapsed Time: 0:14:56 ETA:  0:19:44"
     ]
    },
    {
     "name": "stdout",
     "output_type": "stream",
     "text": [
      "490240 samples, 3830 batch \t Loss: 0.149075\n"
     ]
    },
    {
     "name": "stderr",
     "output_type": "stream",
     "text": [
      " 38% (3841 of 10000) |#######             | Elapsed Time: 0:14:58 ETA:  0:19:46"
     ]
    },
    {
     "name": "stdout",
     "output_type": "stream",
     "text": [
      "491520 samples, 3840 batch \t Loss: 0.207077\n"
     ]
    },
    {
     "name": "stderr",
     "output_type": "stream",
     "text": [
      " 38% (3850 of 10000) |#######             | Elapsed Time: 0:15:00 ETA:  0:19:47"
     ]
    },
    {
     "name": "stdout",
     "output_type": "stream",
     "text": [
      "492800 samples, 3850 batch \t Loss: 0.161025\n"
     ]
    },
    {
     "name": "stderr",
     "output_type": "stream",
     "text": [
      " 38% (3860 of 10000) |#######             | Elapsed Time: 0:15:02 ETA:  0:19:45"
     ]
    },
    {
     "name": "stdout",
     "output_type": "stream",
     "text": [
      "494080 samples, 3860 batch \t Loss: 0.201460\n"
     ]
    },
    {
     "name": "stderr",
     "output_type": "stream",
     "text": [
      " 38% (3870 of 10000) |#######             | Elapsed Time: 0:15:04 ETA:  0:19:37"
     ]
    },
    {
     "name": "stdout",
     "output_type": "stream",
     "text": [
      "495360 samples, 3870 batch \t Loss: 0.179447\n"
     ]
    },
    {
     "name": "stderr",
     "output_type": "stream",
     "text": [
      " 38% (3880 of 10000) |#######             | Elapsed Time: 0:15:06 ETA:  0:19:37"
     ]
    },
    {
     "name": "stdout",
     "output_type": "stream",
     "text": [
      "496640 samples, 3880 batch \t Loss: 0.188210\n"
     ]
    },
    {
     "name": "stderr",
     "output_type": "stream",
     "text": [
      " 38% (3890 of 10000) |#######             | Elapsed Time: 0:15:08 ETA:  0:19:38"
     ]
    },
    {
     "name": "stdout",
     "output_type": "stream",
     "text": [
      "497920 samples, 3890 batch \t Loss: 0.176252\n"
     ]
    },
    {
     "name": "stderr",
     "output_type": "stream",
     "text": [
      " 39% (3900 of 10000) |#######             | Elapsed Time: 0:15:09 ETA:  0:19:36"
     ]
    },
    {
     "name": "stdout",
     "output_type": "stream",
     "text": [
      "499200 samples, 3900 batch \t Loss: 0.159413\n"
     ]
    },
    {
     "name": "stderr",
     "output_type": "stream",
     "text": [
      " 39% (3910 of 10000) |#######             | Elapsed Time: 0:15:11 ETA:  0:19:34"
     ]
    },
    {
     "name": "stdout",
     "output_type": "stream",
     "text": [
      "500480 samples, 3910 batch \t Loss: 0.145874\n"
     ]
    },
    {
     "name": "stderr",
     "output_type": "stream",
     "text": [
      " 39% (3920 of 10000) |#######             | Elapsed Time: 0:15:13 ETA:  0:19:32"
     ]
    },
    {
     "name": "stdout",
     "output_type": "stream",
     "text": [
      "501760 samples, 3920 batch \t Loss: 0.125948\n"
     ]
    },
    {
     "name": "stderr",
     "output_type": "stream",
     "text": [
      " 39% (3930 of 10000) |#######             | Elapsed Time: 0:15:15 ETA:  0:19:30"
     ]
    },
    {
     "name": "stdout",
     "output_type": "stream",
     "text": [
      "503040 samples, 3930 batch \t Loss: 0.171866\n"
     ]
    },
    {
     "name": "stderr",
     "output_type": "stream",
     "text": [
      " 39% (3940 of 10000) |#######             | Elapsed Time: 0:15:17 ETA:  0:19:30"
     ]
    },
    {
     "name": "stdout",
     "output_type": "stream",
     "text": [
      "504320 samples, 3940 batch \t Loss: 0.166678\n"
     ]
    },
    {
     "name": "stderr",
     "output_type": "stream",
     "text": [
      " 39% (3950 of 10000) |#######             | Elapsed Time: 0:15:19 ETA:  0:19:26"
     ]
    },
    {
     "name": "stdout",
     "output_type": "stream",
     "text": [
      "505600 samples, 3950 batch \t Loss: 0.172390\n"
     ]
    },
    {
     "name": "stderr",
     "output_type": "stream",
     "text": [
      " 39% (3960 of 10000) |#######             | Elapsed Time: 0:15:21 ETA:  0:19:15"
     ]
    },
    {
     "name": "stdout",
     "output_type": "stream",
     "text": [
      "506880 samples, 3960 batch \t Loss: 0.176620\n"
     ]
    },
    {
     "name": "stderr",
     "output_type": "stream",
     "text": [
      " 39% (3970 of 10000) |#######             | Elapsed Time: 0:15:23 ETA:  0:19:14"
     ]
    },
    {
     "name": "stdout",
     "output_type": "stream",
     "text": [
      "508160 samples, 3970 batch \t Loss: 0.174105\n"
     ]
    },
    {
     "name": "stderr",
     "output_type": "stream",
     "text": [
      " 39% (3980 of 10000) |#######             | Elapsed Time: 0:15:25 ETA:  0:19:16"
     ]
    },
    {
     "name": "stdout",
     "output_type": "stream",
     "text": [
      "509440 samples, 3980 batch \t Loss: 0.154500\n"
     ]
    },
    {
     "name": "stderr",
     "output_type": "stream",
     "text": [
      " 39% (3990 of 10000) |#######             | Elapsed Time: 0:15:27 ETA:  0:19:14"
     ]
    },
    {
     "name": "stdout",
     "output_type": "stream",
     "text": [
      "510720 samples, 3990 batch \t Loss: 0.158432\n"
     ]
    },
    {
     "name": "stderr",
     "output_type": "stream",
     "text": [
      " 40% (4000 of 10000) |########            | Elapsed Time: 0:15:29 ETA:  0:19:12"
     ]
    },
    {
     "name": "stdout",
     "output_type": "stream",
     "text": [
      "512000 samples, 4000 batch \t Loss: 0.169946\n"
     ]
    },
    {
     "name": "stderr",
     "output_type": "stream",
     "text": [
      " 40% (4010 of 10000) |########            | Elapsed Time: 0:15:31 ETA:  0:19:10"
     ]
    },
    {
     "name": "stdout",
     "output_type": "stream",
     "text": [
      "513280 samples, 4010 batch \t Loss: 0.198718\n"
     ]
    },
    {
     "name": "stderr",
     "output_type": "stream",
     "text": [
      " 40% (4020 of 10000) |########            | Elapsed Time: 0:15:33 ETA:  0:19:08"
     ]
    },
    {
     "name": "stdout",
     "output_type": "stream",
     "text": [
      "514560 samples, 4020 batch \t Loss: 0.162652\n"
     ]
    },
    {
     "name": "stderr",
     "output_type": "stream",
     "text": [
      " 40% (4030 of 10000) |########            | Elapsed Time: 0:15:34 ETA:  0:19:03"
     ]
    },
    {
     "name": "stdout",
     "output_type": "stream",
     "text": [
      "515840 samples, 4030 batch \t Loss: 0.160501\n"
     ]
    },
    {
     "name": "stderr",
     "output_type": "stream",
     "text": [
      " 40% (4040 of 10000) |########            | Elapsed Time: 0:15:36 ETA:  0:18:59"
     ]
    },
    {
     "name": "stdout",
     "output_type": "stream",
     "text": [
      "517120 samples, 4040 batch \t Loss: 0.164535\n"
     ]
    },
    {
     "name": "stderr",
     "output_type": "stream",
     "text": [
      " 40% (4051 of 10000) |########            | Elapsed Time: 0:15:38 ETA:  0:18:56"
     ]
    },
    {
     "name": "stdout",
     "output_type": "stream",
     "text": [
      "518400 samples, 4050 batch \t Loss: 0.161148\n"
     ]
    },
    {
     "name": "stderr",
     "output_type": "stream",
     "text": [
      " 40% (4060 of 10000) |########            | Elapsed Time: 0:15:40 ETA:  0:18:55"
     ]
    },
    {
     "name": "stdout",
     "output_type": "stream",
     "text": [
      "519680 samples, 4060 batch \t Loss: 0.194723\n"
     ]
    },
    {
     "name": "stderr",
     "output_type": "stream",
     "text": [
      " 40% (4070 of 10000) |########            | Elapsed Time: 0:15:42 ETA:  0:18:59"
     ]
    },
    {
     "name": "stdout",
     "output_type": "stream",
     "text": [
      "520960 samples, 4070 batch \t Loss: 0.184699\n"
     ]
    },
    {
     "name": "stderr",
     "output_type": "stream",
     "text": [
      " 40% (4080 of 10000) |########            | Elapsed Time: 0:15:44 ETA:  0:18:59"
     ]
    },
    {
     "name": "stdout",
     "output_type": "stream",
     "text": [
      "522240 samples, 4080 batch \t Loss: 0.149128\n"
     ]
    },
    {
     "name": "stderr",
     "output_type": "stream",
     "text": [
      " 40% (4090 of 10000) |########            | Elapsed Time: 0:15:46 ETA:  0:18:56"
     ]
    },
    {
     "name": "stdout",
     "output_type": "stream",
     "text": [
      "523520 samples, 4090 batch \t Loss: 0.145290\n"
     ]
    },
    {
     "name": "stderr",
     "output_type": "stream",
     "text": [
      " 41% (4100 of 10000) |########            | Elapsed Time: 0:15:48 ETA:  0:18:53"
     ]
    },
    {
     "name": "stdout",
     "output_type": "stream",
     "text": [
      "524800 samples, 4100 batch \t Loss: 0.170321\n"
     ]
    },
    {
     "name": "stderr",
     "output_type": "stream",
     "text": [
      " 41% (4110 of 10000) |########            | Elapsed Time: 0:15:50 ETA:  0:18:51"
     ]
    },
    {
     "name": "stdout",
     "output_type": "stream",
     "text": [
      "526080 samples, 4110 batch \t Loss: 0.145377\n"
     ]
    },
    {
     "name": "stderr",
     "output_type": "stream",
     "text": [
      " 41% (4120 of 10000) |########            | Elapsed Time: 0:15:52 ETA:  0:18:49"
     ]
    },
    {
     "name": "stdout",
     "output_type": "stream",
     "text": [
      "527360 samples, 4120 batch \t Loss: 0.160164\n"
     ]
    },
    {
     "name": "stderr",
     "output_type": "stream",
     "text": [
      " 41% (4130 of 10000) |########            | Elapsed Time: 0:15:54 ETA:  0:18:46"
     ]
    },
    {
     "name": "stdout",
     "output_type": "stream",
     "text": [
      "528640 samples, 4130 batch \t Loss: 0.170808\n"
     ]
    },
    {
     "name": "stderr",
     "output_type": "stream",
     "text": [
      " 41% (4140 of 10000) |########            | Elapsed Time: 0:15:56 ETA:  0:18:45"
     ]
    },
    {
     "name": "stdout",
     "output_type": "stream",
     "text": [
      "529920 samples, 4140 batch \t Loss: 0.124306\n"
     ]
    },
    {
     "name": "stderr",
     "output_type": "stream",
     "text": [
      " 41% (4150 of 10000) |########            | Elapsed Time: 0:15:57 ETA:  0:18:41"
     ]
    },
    {
     "name": "stdout",
     "output_type": "stream",
     "text": [
      "531200 samples, 4150 batch \t Loss: 0.155939\n"
     ]
    },
    {
     "name": "stderr",
     "output_type": "stream",
     "text": [
      " 41% (4160 of 10000) |########            | Elapsed Time: 0:15:59 ETA:  0:18:36"
     ]
    },
    {
     "name": "stdout",
     "output_type": "stream",
     "text": [
      "532480 samples, 4160 batch \t Loss: 0.159420\n"
     ]
    },
    {
     "name": "stderr",
     "output_type": "stream",
     "text": [
      " 41% (4170 of 10000) |########            | Elapsed Time: 0:16:01 ETA:  0:18:34"
     ]
    },
    {
     "name": "stdout",
     "output_type": "stream",
     "text": [
      "533760 samples, 4170 batch \t Loss: 0.141459\n"
     ]
    },
    {
     "name": "stderr",
     "output_type": "stream",
     "text": [
      " 41% (4180 of 10000) |########            | Elapsed Time: 0:16:03 ETA:  0:18:32"
     ]
    },
    {
     "name": "stdout",
     "output_type": "stream",
     "text": [
      "535040 samples, 4180 batch \t Loss: 0.164436\n"
     ]
    },
    {
     "name": "stderr",
     "output_type": "stream",
     "text": [
      " 41% (4190 of 10000) |########            | Elapsed Time: 0:16:05 ETA:  0:18:25"
     ]
    },
    {
     "name": "stdout",
     "output_type": "stream",
     "text": [
      "536320 samples, 4190 batch \t Loss: 0.192435\n"
     ]
    },
    {
     "name": "stderr",
     "output_type": "stream",
     "text": [
      " 42% (4200 of 10000) |########            | Elapsed Time: 0:16:07 ETA:  0:18:24"
     ]
    },
    {
     "name": "stdout",
     "output_type": "stream",
     "text": [
      "537600 samples, 4200 batch \t Loss: 0.175528\n"
     ]
    },
    {
     "name": "stderr",
     "output_type": "stream",
     "text": [
      " 42% (4210 of 10000) |########            | Elapsed Time: 0:16:09 ETA:  0:18:17"
     ]
    },
    {
     "name": "stdout",
     "output_type": "stream",
     "text": [
      "538880 samples, 4210 batch \t Loss: 0.150158\n"
     ]
    },
    {
     "name": "stderr",
     "output_type": "stream",
     "text": [
      " 42% (4220 of 10000) |########            | Elapsed Time: 0:16:11 ETA:  0:18:13"
     ]
    },
    {
     "name": "stdout",
     "output_type": "stream",
     "text": [
      "540160 samples, 4220 batch \t Loss: 0.180326\n"
     ]
    },
    {
     "name": "stderr",
     "output_type": "stream",
     "text": [
      " 42% (4230 of 10000) |########            | Elapsed Time: 0:16:13 ETA:  0:18:09"
     ]
    },
    {
     "name": "stdout",
     "output_type": "stream",
     "text": [
      "541440 samples, 4230 batch \t Loss: 0.192164\n"
     ]
    },
    {
     "name": "stderr",
     "output_type": "stream",
     "text": [
      " 42% (4240 of 10000) |########            | Elapsed Time: 0:16:14 ETA:  0:18:07"
     ]
    },
    {
     "name": "stdout",
     "output_type": "stream",
     "text": [
      "542720 samples, 4240 batch \t Loss: 0.161587\n"
     ]
    },
    {
     "name": "stderr",
     "output_type": "stream",
     "text": [
      " 42% (4250 of 10000) |########            | Elapsed Time: 0:16:16 ETA:  0:18:04"
     ]
    },
    {
     "name": "stdout",
     "output_type": "stream",
     "text": [
      "544000 samples, 4250 batch \t Loss: 0.162606\n"
     ]
    },
    {
     "name": "stderr",
     "output_type": "stream",
     "text": [
      " 42% (4260 of 10000) |########            | Elapsed Time: 0:16:18 ETA:  0:18:04"
     ]
    },
    {
     "name": "stdout",
     "output_type": "stream",
     "text": [
      "545280 samples, 4260 batch \t Loss: 0.168845\n"
     ]
    },
    {
     "name": "stderr",
     "output_type": "stream",
     "text": [
      " 42% (4270 of 10000) |########            | Elapsed Time: 0:16:20 ETA:  0:18:05"
     ]
    },
    {
     "name": "stdout",
     "output_type": "stream",
     "text": [
      "546560 samples, 4270 batch \t Loss: 0.174898\n"
     ]
    },
    {
     "name": "stderr",
     "output_type": "stream",
     "text": [
      " 42% (4280 of 10000) |########            | Elapsed Time: 0:16:22 ETA:  0:18:02"
     ]
    },
    {
     "name": "stdout",
     "output_type": "stream",
     "text": [
      "547840 samples, 4280 batch \t Loss: 0.166146\n"
     ]
    },
    {
     "name": "stderr",
     "output_type": "stream",
     "text": [
      " 42% (4290 of 10000) |########            | Elapsed Time: 0:16:24 ETA:  0:18:02"
     ]
    },
    {
     "name": "stdout",
     "output_type": "stream",
     "text": [
      "549120 samples, 4290 batch \t Loss: 0.142370\n"
     ]
    },
    {
     "name": "stderr",
     "output_type": "stream",
     "text": [
      " 43% (4300 of 10000) |########            | Elapsed Time: 0:16:26 ETA:  0:18:05"
     ]
    },
    {
     "name": "stdout",
     "output_type": "stream",
     "text": [
      "550400 samples, 4300 batch \t Loss: 0.169724\n"
     ]
    },
    {
     "name": "stderr",
     "output_type": "stream",
     "text": [
      " 43% (4310 of 10000) |########            | Elapsed Time: 0:16:28 ETA:  0:18:05"
     ]
    },
    {
     "name": "stdout",
     "output_type": "stream",
     "text": [
      "551680 samples, 4310 batch \t Loss: 0.167500\n"
     ]
    },
    {
     "name": "stderr",
     "output_type": "stream",
     "text": [
      " 43% (4320 of 10000) |########            | Elapsed Time: 0:16:30 ETA:  0:18:08"
     ]
    },
    {
     "name": "stdout",
     "output_type": "stream",
     "text": [
      "552960 samples, 4320 batch \t Loss: 0.135341\n"
     ]
    },
    {
     "name": "stderr",
     "output_type": "stream",
     "text": [
      " 43% (4330 of 10000) |########            | Elapsed Time: 0:16:32 ETA:  0:18:09"
     ]
    },
    {
     "name": "stdout",
     "output_type": "stream",
     "text": [
      "554240 samples, 4330 batch \t Loss: 0.144718\n"
     ]
    },
    {
     "name": "stderr",
     "output_type": "stream",
     "text": [
      " 43% (4340 of 10000) |########            | Elapsed Time: 0:16:34 ETA:  0:18:07"
     ]
    },
    {
     "name": "stdout",
     "output_type": "stream",
     "text": [
      "555520 samples, 4340 batch \t Loss: 0.171114\n"
     ]
    },
    {
     "name": "stderr",
     "output_type": "stream",
     "text": [
      " 43% (4350 of 10000) |########            | Elapsed Time: 0:16:36 ETA:  0:18:03"
     ]
    },
    {
     "name": "stdout",
     "output_type": "stream",
     "text": [
      "556800 samples, 4350 batch \t Loss: 0.177439\n"
     ]
    },
    {
     "name": "stderr",
     "output_type": "stream",
     "text": [
      " 43% (4360 of 10000) |########            | Elapsed Time: 0:16:37 ETA:  0:18:01"
     ]
    },
    {
     "name": "stdout",
     "output_type": "stream",
     "text": [
      "558080 samples, 4360 batch \t Loss: 0.117557\n"
     ]
    },
    {
     "name": "stderr",
     "output_type": "stream",
     "text": [
      " 43% (4370 of 10000) |########            | Elapsed Time: 0:16:39 ETA:  0:18:00"
     ]
    },
    {
     "name": "stdout",
     "output_type": "stream",
     "text": [
      "559360 samples, 4370 batch \t Loss: 0.152178\n"
     ]
    },
    {
     "name": "stderr",
     "output_type": "stream",
     "text": [
      " 43% (4380 of 10000) |########            | Elapsed Time: 0:16:41 ETA:  0:17:53"
     ]
    },
    {
     "name": "stdout",
     "output_type": "stream",
     "text": [
      "560640 samples, 4380 batch \t Loss: 0.129186\n"
     ]
    },
    {
     "name": "stderr",
     "output_type": "stream",
     "text": [
      " 43% (4390 of 10000) |########            | Elapsed Time: 0:16:43 ETA:  0:17:49"
     ]
    },
    {
     "name": "stdout",
     "output_type": "stream",
     "text": [
      "561920 samples, 4390 batch \t Loss: 0.175714\n"
     ]
    },
    {
     "name": "stderr",
     "output_type": "stream",
     "text": [
      " 44% (4400 of 10000) |########            | Elapsed Time: 0:16:45 ETA:  0:17:46"
     ]
    },
    {
     "name": "stdout",
     "output_type": "stream",
     "text": [
      "563200 samples, 4400 batch \t Loss: 0.156040\n"
     ]
    },
    {
     "name": "stderr",
     "output_type": "stream",
     "text": [
      " 44% (4410 of 10000) |########            | Elapsed Time: 0:16:47 ETA:  0:17:45"
     ]
    },
    {
     "name": "stdout",
     "output_type": "stream",
     "text": [
      "564480 samples, 4410 batch \t Loss: 0.171566\n"
     ]
    },
    {
     "name": "stderr",
     "output_type": "stream",
     "text": [
      " 44% (4420 of 10000) |########            | Elapsed Time: 0:16:49 ETA:  0:17:44"
     ]
    },
    {
     "name": "stdout",
     "output_type": "stream",
     "text": [
      "565760 samples, 4420 batch \t Loss: 0.189257\n"
     ]
    },
    {
     "name": "stderr",
     "output_type": "stream",
     "text": [
      " 44% (4431 of 10000) |########            | Elapsed Time: 0:16:51 ETA:  0:17:40"
     ]
    },
    {
     "name": "stdout",
     "output_type": "stream",
     "text": [
      "567040 samples, 4430 batch \t Loss: 0.169023\n"
     ]
    },
    {
     "name": "stderr",
     "output_type": "stream",
     "text": [
      " 44% (4440 of 10000) |########            | Elapsed Time: 0:16:53 ETA:  0:17:36"
     ]
    },
    {
     "name": "stdout",
     "output_type": "stream",
     "text": [
      "568320 samples, 4440 batch \t Loss: 0.196323\n"
     ]
    },
    {
     "name": "stderr",
     "output_type": "stream",
     "text": [
      " 44% (4450 of 10000) |########            | Elapsed Time: 0:16:54 ETA:  0:17:31"
     ]
    },
    {
     "name": "stdout",
     "output_type": "stream",
     "text": [
      "569600 samples, 4450 batch \t Loss: 0.177406\n"
     ]
    },
    {
     "name": "stderr",
     "output_type": "stream",
     "text": [
      " 44% (4460 of 10000) |########            | Elapsed Time: 0:16:56 ETA:  0:17:32"
     ]
    },
    {
     "name": "stdout",
     "output_type": "stream",
     "text": [
      "570880 samples, 4460 batch \t Loss: 0.152381\n"
     ]
    },
    {
     "name": "stderr",
     "output_type": "stream",
     "text": [
      " 44% (4470 of 10000) |########            | Elapsed Time: 0:16:58 ETA:  0:17:30"
     ]
    },
    {
     "name": "stdout",
     "output_type": "stream",
     "text": [
      "572160 samples, 4470 batch \t Loss: 0.154878\n"
     ]
    },
    {
     "name": "stderr",
     "output_type": "stream",
     "text": [
      " 44% (4480 of 10000) |########            | Elapsed Time: 0:17:00 ETA:  0:17:29"
     ]
    },
    {
     "name": "stdout",
     "output_type": "stream",
     "text": [
      "573440 samples, 4480 batch \t Loss: 0.134400\n"
     ]
    },
    {
     "name": "stderr",
     "output_type": "stream",
     "text": [
      " 44% (4490 of 10000) |########            | Elapsed Time: 0:17:02 ETA:  0:17:32"
     ]
    },
    {
     "name": "stdout",
     "output_type": "stream",
     "text": [
      "574720 samples, 4490 batch \t Loss: 0.152133\n"
     ]
    },
    {
     "name": "stderr",
     "output_type": "stream",
     "text": [
      " 45% (4500 of 10000) |#########           | Elapsed Time: 0:17:04 ETA:  0:17:32"
     ]
    },
    {
     "name": "stdout",
     "output_type": "stream",
     "text": [
      "576000 samples, 4500 batch \t Loss: 0.131146\n"
     ]
    },
    {
     "name": "stderr",
     "output_type": "stream",
     "text": [
      " 45% (4510 of 10000) |#########           | Elapsed Time: 0:17:06 ETA:  0:17:29"
     ]
    },
    {
     "name": "stdout",
     "output_type": "stream",
     "text": [
      "577280 samples, 4510 batch \t Loss: 0.176998\n"
     ]
    },
    {
     "name": "stderr",
     "output_type": "stream",
     "text": [
      " 45% (4520 of 10000) |#########           | Elapsed Time: 0:17:08 ETA:  0:17:25"
     ]
    },
    {
     "name": "stdout",
     "output_type": "stream",
     "text": [
      "578560 samples, 4520 batch \t Loss: 0.138932\n"
     ]
    },
    {
     "name": "stderr",
     "output_type": "stream",
     "text": [
      " 45% (4530 of 10000) |#########           | Elapsed Time: 0:17:10 ETA:  0:17:20"
     ]
    },
    {
     "name": "stdout",
     "output_type": "stream",
     "text": [
      "579840 samples, 4530 batch \t Loss: 0.181881\n"
     ]
    },
    {
     "name": "stderr",
     "output_type": "stream",
     "text": [
      " 45% (4540 of 10000) |#########           | Elapsed Time: 0:17:12 ETA:  0:17:18"
     ]
    },
    {
     "name": "stdout",
     "output_type": "stream",
     "text": [
      "581120 samples, 4540 batch \t Loss: 0.156754\n"
     ]
    },
    {
     "name": "stderr",
     "output_type": "stream",
     "text": [
      " 45% (4550 of 10000) |#########           | Elapsed Time: 0:17:14 ETA:  0:17:18"
     ]
    },
    {
     "name": "stdout",
     "output_type": "stream",
     "text": [
      "582400 samples, 4550 batch \t Loss: 0.122815\n"
     ]
    },
    {
     "name": "stderr",
     "output_type": "stream",
     "text": [
      " 45% (4560 of 10000) |#########           | Elapsed Time: 0:17:16 ETA:  0:17:21"
     ]
    },
    {
     "name": "stdout",
     "output_type": "stream",
     "text": [
      "583680 samples, 4560 batch \t Loss: 0.176075\n"
     ]
    },
    {
     "name": "stderr",
     "output_type": "stream",
     "text": [
      " 45% (4570 of 10000) |#########           | Elapsed Time: 0:17:17 ETA:  0:17:17"
     ]
    },
    {
     "name": "stdout",
     "output_type": "stream",
     "text": [
      "584960 samples, 4570 batch \t Loss: 0.142782\n"
     ]
    },
    {
     "name": "stderr",
     "output_type": "stream",
     "text": [
      " 45% (4580 of 10000) |#########           | Elapsed Time: 0:17:19 ETA:  0:17:15"
     ]
    },
    {
     "name": "stdout",
     "output_type": "stream",
     "text": [
      "586240 samples, 4580 batch \t Loss: 0.171452\n"
     ]
    },
    {
     "name": "stderr",
     "output_type": "stream",
     "text": [
      " 45% (4590 of 10000) |#########           | Elapsed Time: 0:17:21 ETA:  0:17:15"
     ]
    },
    {
     "name": "stdout",
     "output_type": "stream",
     "text": [
      "587520 samples, 4590 batch \t Loss: 0.172816\n"
     ]
    },
    {
     "name": "stderr",
     "output_type": "stream",
     "text": [
      " 46% (4600 of 10000) |#########           | Elapsed Time: 0:17:23 ETA:  0:17:13"
     ]
    },
    {
     "name": "stdout",
     "output_type": "stream",
     "text": [
      "588800 samples, 4600 batch \t Loss: 0.151200\n"
     ]
    },
    {
     "name": "stderr",
     "output_type": "stream",
     "text": [
      " 46% (4610 of 10000) |#########           | Elapsed Time: 0:17:25 ETA:  0:17:12"
     ]
    },
    {
     "name": "stdout",
     "output_type": "stream",
     "text": [
      "590080 samples, 4610 batch \t Loss: 0.149274\n"
     ]
    },
    {
     "name": "stderr",
     "output_type": "stream",
     "text": [
      " 46% (4620 of 10000) |#########           | Elapsed Time: 0:17:27 ETA:  0:17:09"
     ]
    },
    {
     "name": "stdout",
     "output_type": "stream",
     "text": [
      "591360 samples, 4620 batch \t Loss: 0.163566\n"
     ]
    },
    {
     "name": "stderr",
     "output_type": "stream",
     "text": [
      " 46% (4631 of 10000) |#########           | Elapsed Time: 0:17:29 ETA:  0:17:12"
     ]
    },
    {
     "name": "stdout",
     "output_type": "stream",
     "text": [
      "592640 samples, 4630 batch \t Loss: 0.176500\n"
     ]
    },
    {
     "name": "stderr",
     "output_type": "stream",
     "text": [
      " 46% (4640 of 10000) |#########           | Elapsed Time: 0:17:31 ETA:  0:17:17"
     ]
    },
    {
     "name": "stdout",
     "output_type": "stream",
     "text": [
      "593920 samples, 4640 batch \t Loss: 0.203443\n"
     ]
    },
    {
     "name": "stderr",
     "output_type": "stream",
     "text": [
      " 46% (4650 of 10000) |#########           | Elapsed Time: 0:17:33 ETA:  0:17:11"
     ]
    },
    {
     "name": "stdout",
     "output_type": "stream",
     "text": [
      "595200 samples, 4650 batch \t Loss: 0.131787\n"
     ]
    },
    {
     "name": "stderr",
     "output_type": "stream",
     "text": [
      " 46% (4660 of 10000) |#########           | Elapsed Time: 0:17:35 ETA:  0:17:06"
     ]
    },
    {
     "name": "stdout",
     "output_type": "stream",
     "text": [
      "596480 samples, 4660 batch \t Loss: 0.179027\n"
     ]
    },
    {
     "name": "stderr",
     "output_type": "stream",
     "text": [
      " 46% (4670 of 10000) |#########           | Elapsed Time: 0:17:37 ETA:  0:17:05"
     ]
    },
    {
     "name": "stdout",
     "output_type": "stream",
     "text": [
      "597760 samples, 4670 batch \t Loss: 0.125229\n"
     ]
    },
    {
     "name": "stderr",
     "output_type": "stream",
     "text": [
      " 46% (4680 of 10000) |#########           | Elapsed Time: 0:17:38 ETA:  0:17:00"
     ]
    },
    {
     "name": "stdout",
     "output_type": "stream",
     "text": [
      "599040 samples, 4680 batch \t Loss: 0.135245\n"
     ]
    },
    {
     "name": "stderr",
     "output_type": "stream",
     "text": [
      " 46% (4690 of 10000) |#########           | Elapsed Time: 0:17:40 ETA:  0:17:02"
     ]
    },
    {
     "name": "stdout",
     "output_type": "stream",
     "text": [
      "600320 samples, 4690 batch \t Loss: 0.133930\n"
     ]
    },
    {
     "name": "stderr",
     "output_type": "stream",
     "text": [
      " 47% (4700 of 10000) |#########           | Elapsed Time: 0:17:42 ETA:  0:17:01"
     ]
    },
    {
     "name": "stdout",
     "output_type": "stream",
     "text": [
      "601600 samples, 4700 batch \t Loss: 0.138954\n"
     ]
    },
    {
     "name": "stderr",
     "output_type": "stream",
     "text": [
      " 47% (4710 of 10000) |#########           | Elapsed Time: 0:17:44 ETA:  0:17:00"
     ]
    },
    {
     "name": "stdout",
     "output_type": "stream",
     "text": [
      "602880 samples, 4710 batch \t Loss: 0.150019\n"
     ]
    },
    {
     "name": "stderr",
     "output_type": "stream",
     "text": [
      " 47% (4720 of 10000) |#########           | Elapsed Time: 0:17:46 ETA:  0:16:56"
     ]
    },
    {
     "name": "stdout",
     "output_type": "stream",
     "text": [
      "604160 samples, 4720 batch \t Loss: 0.142232\n"
     ]
    },
    {
     "name": "stderr",
     "output_type": "stream",
     "text": [
      " 47% (4730 of 10000) |#########           | Elapsed Time: 0:17:48 ETA:  0:16:53"
     ]
    },
    {
     "name": "stdout",
     "output_type": "stream",
     "text": [
      "605440 samples, 4730 batch \t Loss: 0.164196\n"
     ]
    },
    {
     "name": "stderr",
     "output_type": "stream",
     "text": [
      " 47% (4740 of 10000) |#########           | Elapsed Time: 0:17:50 ETA:  0:16:43"
     ]
    },
    {
     "name": "stdout",
     "output_type": "stream",
     "text": [
      "606720 samples, 4740 batch \t Loss: 0.142370\n"
     ]
    },
    {
     "name": "stderr",
     "output_type": "stream",
     "text": [
      " 47% (4750 of 10000) |#########           | Elapsed Time: 0:17:52 ETA:  0:16:35"
     ]
    },
    {
     "name": "stdout",
     "output_type": "stream",
     "text": [
      "608000 samples, 4750 batch \t Loss: 0.183836\n"
     ]
    },
    {
     "name": "stderr",
     "output_type": "stream",
     "text": [
      " 47% (4760 of 10000) |#########           | Elapsed Time: 0:17:54 ETA:  0:16:37"
     ]
    },
    {
     "name": "stdout",
     "output_type": "stream",
     "text": [
      "609280 samples, 4760 batch \t Loss: 0.134894\n"
     ]
    },
    {
     "name": "stderr",
     "output_type": "stream",
     "text": [
      " 47% (4770 of 10000) |#########           | Elapsed Time: 0:17:56 ETA:  0:16:40"
     ]
    },
    {
     "name": "stdout",
     "output_type": "stream",
     "text": [
      "610560 samples, 4770 batch \t Loss: 0.134663\n"
     ]
    },
    {
     "name": "stderr",
     "output_type": "stream",
     "text": [
      " 47% (4780 of 10000) |#########           | Elapsed Time: 0:17:58 ETA:  0:16:39"
     ]
    },
    {
     "name": "stdout",
     "output_type": "stream",
     "text": [
      "611840 samples, 4780 batch \t Loss: 0.105230\n"
     ]
    },
    {
     "name": "stderr",
     "output_type": "stream",
     "text": [
      " 47% (4790 of 10000) |#########           | Elapsed Time: 0:18:00 ETA:  0:16:39"
     ]
    },
    {
     "name": "stdout",
     "output_type": "stream",
     "text": [
      "613120 samples, 4790 batch \t Loss: 0.111227\n"
     ]
    },
    {
     "name": "stderr",
     "output_type": "stream",
     "text": [
      " 48% (4800 of 10000) |#########           | Elapsed Time: 0:18:02 ETA:  0:16:37"
     ]
    },
    {
     "name": "stdout",
     "output_type": "stream",
     "text": [
      "614400 samples, 4800 batch \t Loss: 0.184155\n"
     ]
    },
    {
     "name": "stderr",
     "output_type": "stream",
     "text": [
      " 48% (4811 of 10000) |#########           | Elapsed Time: 0:18:04 ETA:  0:16:35"
     ]
    },
    {
     "name": "stdout",
     "output_type": "stream",
     "text": [
      "615680 samples, 4810 batch \t Loss: 0.184346\n"
     ]
    },
    {
     "name": "stderr",
     "output_type": "stream",
     "text": [
      " 48% (4820 of 10000) |#########           | Elapsed Time: 0:18:05 ETA:  0:16:29"
     ]
    },
    {
     "name": "stdout",
     "output_type": "stream",
     "text": [
      "616960 samples, 4820 batch \t Loss: 0.135110\n"
     ]
    },
    {
     "name": "stderr",
     "output_type": "stream",
     "text": [
      " 48% (4830 of 10000) |#########           | Elapsed Time: 0:18:07 ETA:  0:16:25"
     ]
    },
    {
     "name": "stdout",
     "output_type": "stream",
     "text": [
      "618240 samples, 4830 batch \t Loss: 0.160870\n"
     ]
    },
    {
     "name": "stderr",
     "output_type": "stream",
     "text": [
      " 48% (4840 of 10000) |#########           | Elapsed Time: 0:18:09 ETA:  0:16:26"
     ]
    },
    {
     "name": "stdout",
     "output_type": "stream",
     "text": [
      "619520 samples, 4840 batch \t Loss: 0.147039\n"
     ]
    },
    {
     "name": "stderr",
     "output_type": "stream",
     "text": [
      " 48% (4850 of 10000) |#########           | Elapsed Time: 0:18:11 ETA:  0:16:28"
     ]
    },
    {
     "name": "stdout",
     "output_type": "stream",
     "text": [
      "620800 samples, 4850 batch \t Loss: 0.146862\n"
     ]
    },
    {
     "name": "stderr",
     "output_type": "stream",
     "text": [
      " 48% (4860 of 10000) |#########           | Elapsed Time: 0:18:13 ETA:  0:16:28"
     ]
    },
    {
     "name": "stdout",
     "output_type": "stream",
     "text": [
      "622080 samples, 4860 batch \t Loss: 0.122486\n"
     ]
    },
    {
     "name": "stderr",
     "output_type": "stream",
     "text": [
      " 48% (4870 of 10000) |#########           | Elapsed Time: 0:18:15 ETA:  0:16:26"
     ]
    },
    {
     "name": "stdout",
     "output_type": "stream",
     "text": [
      "623360 samples, 4870 batch \t Loss: 0.110213\n"
     ]
    },
    {
     "name": "stderr",
     "output_type": "stream",
     "text": [
      " 48% (4880 of 10000) |#########           | Elapsed Time: 0:18:17 ETA:  0:16:24"
     ]
    },
    {
     "name": "stdout",
     "output_type": "stream",
     "text": [
      "624640 samples, 4880 batch \t Loss: 0.180791\n"
     ]
    },
    {
     "name": "stderr",
     "output_type": "stream",
     "text": [
      " 48% (4890 of 10000) |#########           | Elapsed Time: 0:18:19 ETA:  0:16:22"
     ]
    },
    {
     "name": "stdout",
     "output_type": "stream",
     "text": [
      "625920 samples, 4890 batch \t Loss: 0.118777\n"
     ]
    },
    {
     "name": "stderr",
     "output_type": "stream",
     "text": [
      " 49% (4901 of 10000) |#########           | Elapsed Time: 0:18:21 ETA:  0:16:21"
     ]
    },
    {
     "name": "stdout",
     "output_type": "stream",
     "text": [
      "627200 samples, 4900 batch \t Loss: 0.100197\n"
     ]
    },
    {
     "name": "stderr",
     "output_type": "stream",
     "text": [
      " 49% (4910 of 10000) |#########           | Elapsed Time: 0:18:23 ETA:  0:16:22"
     ]
    },
    {
     "name": "stdout",
     "output_type": "stream",
     "text": [
      "628480 samples, 4910 batch \t Loss: 0.127828\n"
     ]
    },
    {
     "name": "stderr",
     "output_type": "stream",
     "text": [
      " 49% (4920 of 10000) |#########           | Elapsed Time: 0:18:25 ETA:  0:16:18"
     ]
    },
    {
     "name": "stdout",
     "output_type": "stream",
     "text": [
      "629760 samples, 4920 batch \t Loss: 0.162105\n"
     ]
    },
    {
     "name": "stderr",
     "output_type": "stream",
     "text": [
      " 49% (4930 of 10000) |#########           | Elapsed Time: 0:18:26 ETA:  0:16:15"
     ]
    },
    {
     "name": "stdout",
     "output_type": "stream",
     "text": [
      "631040 samples, 4930 batch \t Loss: 0.134098\n"
     ]
    },
    {
     "name": "stderr",
     "output_type": "stream",
     "text": [
      " 49% (4940 of 10000) |#########           | Elapsed Time: 0:18:28 ETA:  0:16:16"
     ]
    },
    {
     "name": "stdout",
     "output_type": "stream",
     "text": [
      "632320 samples, 4940 batch \t Loss: 0.127325\n"
     ]
    },
    {
     "name": "stderr",
     "output_type": "stream",
     "text": [
      " 49% (4950 of 10000) |#########           | Elapsed Time: 0:18:30 ETA:  0:16:16"
     ]
    },
    {
     "name": "stdout",
     "output_type": "stream",
     "text": [
      "633600 samples, 4950 batch \t Loss: 0.149942\n"
     ]
    },
    {
     "name": "stderr",
     "output_type": "stream",
     "text": [
      " 49% (4960 of 10000) |#########           | Elapsed Time: 0:18:32 ETA:  0:16:15"
     ]
    },
    {
     "name": "stdout",
     "output_type": "stream",
     "text": [
      "634880 samples, 4960 batch \t Loss: 0.154385\n"
     ]
    },
    {
     "name": "stderr",
     "output_type": "stream",
     "text": [
      " 49% (4970 of 10000) |#########           | Elapsed Time: 0:18:34 ETA:  0:16:13"
     ]
    },
    {
     "name": "stdout",
     "output_type": "stream",
     "text": [
      "636160 samples, 4970 batch \t Loss: 0.089409\n"
     ]
    },
    {
     "name": "stderr",
     "output_type": "stream",
     "text": [
      " 49% (4980 of 10000) |#########           | Elapsed Time: 0:18:36 ETA:  0:16:11"
     ]
    },
    {
     "name": "stdout",
     "output_type": "stream",
     "text": [
      "637440 samples, 4980 batch \t Loss: 0.111898\n"
     ]
    },
    {
     "name": "stderr",
     "output_type": "stream",
     "text": [
      " 49% (4990 of 10000) |#########           | Elapsed Time: 0:18:38 ETA:  0:16:07"
     ]
    },
    {
     "name": "stdout",
     "output_type": "stream",
     "text": [
      "638720 samples, 4990 batch \t Loss: 0.130556\n"
     ]
    },
    {
     "name": "stderr",
     "output_type": "stream",
     "text": [
      " 50% (5000 of 10000) |##########          | Elapsed Time: 0:18:40 ETA:  0:16:02"
     ]
    },
    {
     "name": "stdout",
     "output_type": "stream",
     "text": [
      "640000 samples, 5000 batch \t Loss: 0.145423\n"
     ]
    },
    {
     "name": "stderr",
     "output_type": "stream",
     "text": [
      " 50% (5010 of 10000) |##########          | Elapsed Time: 0:18:42 ETA:  0:15:58"
     ]
    },
    {
     "name": "stdout",
     "output_type": "stream",
     "text": [
      "641280 samples, 5010 batch \t Loss: 0.133039\n"
     ]
    },
    {
     "name": "stderr",
     "output_type": "stream",
     "text": [
      " 50% (5020 of 10000) |##########          | Elapsed Time: 0:18:44 ETA:  0:15:54"
     ]
    },
    {
     "name": "stdout",
     "output_type": "stream",
     "text": [
      "642560 samples, 5020 batch \t Loss: 0.152785\n"
     ]
    },
    {
     "name": "stderr",
     "output_type": "stream",
     "text": [
      " 50% (5030 of 10000) |##########          | Elapsed Time: 0:18:46 ETA:  0:15:52"
     ]
    },
    {
     "name": "stdout",
     "output_type": "stream",
     "text": [
      "643840 samples, 5030 batch \t Loss: 0.115503\n"
     ]
    },
    {
     "name": "stderr",
     "output_type": "stream",
     "text": [
      " 50% (5040 of 10000) |##########          | Elapsed Time: 0:18:47 ETA:  0:15:50"
     ]
    },
    {
     "name": "stdout",
     "output_type": "stream",
     "text": [
      "645120 samples, 5040 batch \t Loss: 0.150810\n"
     ]
    },
    {
     "name": "stderr",
     "output_type": "stream",
     "text": [
      " 50% (5050 of 10000) |##########          | Elapsed Time: 0:18:49 ETA:  0:15:46"
     ]
    },
    {
     "name": "stdout",
     "output_type": "stream",
     "text": [
      "646400 samples, 5050 batch \t Loss: 0.144547\n"
     ]
    },
    {
     "name": "stderr",
     "output_type": "stream",
     "text": [
      " 50% (5060 of 10000) |##########          | Elapsed Time: 0:18:51 ETA:  0:15:42"
     ]
    },
    {
     "name": "stdout",
     "output_type": "stream",
     "text": [
      "647680 samples, 5060 batch \t Loss: 0.143437\n"
     ]
    },
    {
     "name": "stderr",
     "output_type": "stream",
     "text": [
      " 50% (5070 of 10000) |##########          | Elapsed Time: 0:18:53 ETA:  0:15:38"
     ]
    },
    {
     "name": "stdout",
     "output_type": "stream",
     "text": [
      "648960 samples, 5070 batch \t Loss: 0.121034\n"
     ]
    },
    {
     "name": "stderr",
     "output_type": "stream",
     "text": [
      " 50% (5080 of 10000) |##########          | Elapsed Time: 0:18:55 ETA:  0:15:33"
     ]
    },
    {
     "name": "stdout",
     "output_type": "stream",
     "text": [
      "650240 samples, 5080 batch \t Loss: 0.099728\n"
     ]
    },
    {
     "name": "stderr",
     "output_type": "stream",
     "text": [
      " 50% (5090 of 10000) |##########          | Elapsed Time: 0:18:57 ETA:  0:15:31"
     ]
    },
    {
     "name": "stdout",
     "output_type": "stream",
     "text": [
      "651520 samples, 5090 batch \t Loss: 0.100968\n"
     ]
    },
    {
     "name": "stderr",
     "output_type": "stream",
     "text": [
      " 51% (5100 of 10000) |##########          | Elapsed Time: 0:18:59 ETA:  0:15:32"
     ]
    },
    {
     "name": "stdout",
     "output_type": "stream",
     "text": [
      "652800 samples, 5100 batch \t Loss: 0.140709\n"
     ]
    },
    {
     "name": "stderr",
     "output_type": "stream",
     "text": [
      " 51% (5110 of 10000) |##########          | Elapsed Time: 0:19:01 ETA:  0:15:32"
     ]
    },
    {
     "name": "stdout",
     "output_type": "stream",
     "text": [
      "654080 samples, 5110 batch \t Loss: 0.118898\n"
     ]
    },
    {
     "name": "stderr",
     "output_type": "stream",
     "text": [
      " 51% (5120 of 10000) |##########          | Elapsed Time: 0:19:03 ETA:  0:15:31"
     ]
    },
    {
     "name": "stdout",
     "output_type": "stream",
     "text": [
      "655360 samples, 5120 batch \t Loss: 0.132025\n"
     ]
    },
    {
     "name": "stderr",
     "output_type": "stream",
     "text": [
      " 51% (5130 of 10000) |##########          | Elapsed Time: 0:19:05 ETA:  0:15:29"
     ]
    },
    {
     "name": "stdout",
     "output_type": "stream",
     "text": [
      "656640 samples, 5130 batch \t Loss: 0.106353\n"
     ]
    },
    {
     "name": "stderr",
     "output_type": "stream",
     "text": [
      " 51% (5140 of 10000) |##########          | Elapsed Time: 0:19:07 ETA:  0:15:26"
     ]
    },
    {
     "name": "stdout",
     "output_type": "stream",
     "text": [
      "657920 samples, 5140 batch \t Loss: 0.155220\n"
     ]
    },
    {
     "name": "stderr",
     "output_type": "stream",
     "text": [
      " 51% (5150 of 10000) |##########          | Elapsed Time: 0:19:08 ETA:  0:15:24"
     ]
    },
    {
     "name": "stdout",
     "output_type": "stream",
     "text": [
      "659200 samples, 5150 batch \t Loss: 0.143862\n"
     ]
    },
    {
     "name": "stderr",
     "output_type": "stream",
     "text": [
      " 51% (5160 of 10000) |##########          | Elapsed Time: 0:19:10 ETA:  0:15:20"
     ]
    },
    {
     "name": "stdout",
     "output_type": "stream",
     "text": [
      "660480 samples, 5160 batch \t Loss: 0.144324\n"
     ]
    },
    {
     "name": "stderr",
     "output_type": "stream",
     "text": [
      " 51% (5170 of 10000) |##########          | Elapsed Time: 0:19:12 ETA:  0:15:18"
     ]
    },
    {
     "name": "stdout",
     "output_type": "stream",
     "text": [
      "661760 samples, 5170 batch \t Loss: 0.131420\n"
     ]
    },
    {
     "name": "stderr",
     "output_type": "stream",
     "text": [
      " 51% (5180 of 10000) |##########          | Elapsed Time: 0:19:14 ETA:  0:15:19"
     ]
    },
    {
     "name": "stdout",
     "output_type": "stream",
     "text": [
      "663040 samples, 5180 batch \t Loss: 0.131859\n"
     ]
    },
    {
     "name": "stderr",
     "output_type": "stream",
     "text": [
      " 51% (5190 of 10000) |##########          | Elapsed Time: 0:19:16 ETA:  0:15:18"
     ]
    },
    {
     "name": "stdout",
     "output_type": "stream",
     "text": [
      "664320 samples, 5190 batch \t Loss: 0.121115\n"
     ]
    },
    {
     "name": "stderr",
     "output_type": "stream",
     "text": [
      " 52% (5200 of 10000) |##########          | Elapsed Time: 0:19:18 ETA:  0:15:13"
     ]
    },
    {
     "name": "stdout",
     "output_type": "stream",
     "text": [
      "665600 samples, 5200 batch \t Loss: 0.126151\n"
     ]
    },
    {
     "name": "stderr",
     "output_type": "stream",
     "text": [
      " 52% (5210 of 10000) |##########          | Elapsed Time: 0:19:20 ETA:  0:15:09"
     ]
    },
    {
     "name": "stdout",
     "output_type": "stream",
     "text": [
      "666880 samples, 5210 batch \t Loss: 0.181080\n"
     ]
    },
    {
     "name": "stderr",
     "output_type": "stream",
     "text": [
      " 52% (5220 of 10000) |##########          | Elapsed Time: 0:19:22 ETA:  0:15:07"
     ]
    },
    {
     "name": "stdout",
     "output_type": "stream",
     "text": [
      "668160 samples, 5220 batch \t Loss: 0.117735\n"
     ]
    },
    {
     "name": "stderr",
     "output_type": "stream",
     "text": [
      " 52% (5230 of 10000) |##########          | Elapsed Time: 0:19:24 ETA:  0:15:05"
     ]
    },
    {
     "name": "stdout",
     "output_type": "stream",
     "text": [
      "669440 samples, 5230 batch \t Loss: 0.156484\n"
     ]
    },
    {
     "name": "stderr",
     "output_type": "stream",
     "text": [
      " 52% (5240 of 10000) |##########          | Elapsed Time: 0:19:26 ETA:  0:15:03"
     ]
    },
    {
     "name": "stdout",
     "output_type": "stream",
     "text": [
      "670720 samples, 5240 batch \t Loss: 0.119010\n"
     ]
    },
    {
     "name": "stderr",
     "output_type": "stream",
     "text": [
      " 52% (5250 of 10000) |##########          | Elapsed Time: 0:19:27 ETA:  0:15:02"
     ]
    },
    {
     "name": "stdout",
     "output_type": "stream",
     "text": [
      "672000 samples, 5250 batch \t Loss: 0.133619\n"
     ]
    },
    {
     "name": "stderr",
     "output_type": "stream",
     "text": [
      " 52% (5260 of 10000) |##########          | Elapsed Time: 0:19:29 ETA:  0:15:02"
     ]
    },
    {
     "name": "stdout",
     "output_type": "stream",
     "text": [
      "673280 samples, 5260 batch \t Loss: 0.149047\n"
     ]
    },
    {
     "name": "stderr",
     "output_type": "stream",
     "text": [
      " 52% (5270 of 10000) |##########          | Elapsed Time: 0:19:31 ETA:  0:15:03"
     ]
    },
    {
     "name": "stdout",
     "output_type": "stream",
     "text": [
      "674560 samples, 5270 batch \t Loss: 0.135947\n"
     ]
    },
    {
     "name": "stderr",
     "output_type": "stream",
     "text": [
      " 52% (5280 of 10000) |##########          | Elapsed Time: 0:19:33 ETA:  0:15:01"
     ]
    },
    {
     "name": "stdout",
     "output_type": "stream",
     "text": [
      "675840 samples, 5280 batch \t Loss: 0.137973\n"
     ]
    },
    {
     "name": "stderr",
     "output_type": "stream",
     "text": [
      " 52% (5290 of 10000) |##########          | Elapsed Time: 0:19:35 ETA:  0:14:55"
     ]
    },
    {
     "name": "stdout",
     "output_type": "stream",
     "text": [
      "677120 samples, 5290 batch \t Loss: 0.108339\n"
     ]
    },
    {
     "name": "stderr",
     "output_type": "stream",
     "text": [
      " 53% (5300 of 10000) |##########          | Elapsed Time: 0:19:37 ETA:  0:14:52"
     ]
    },
    {
     "name": "stdout",
     "output_type": "stream",
     "text": [
      "678400 samples, 5300 batch \t Loss: 0.137256\n"
     ]
    },
    {
     "name": "stderr",
     "output_type": "stream",
     "text": [
      " 53% (5310 of 10000) |##########          | Elapsed Time: 0:19:39 ETA:  0:14:53"
     ]
    },
    {
     "name": "stdout",
     "output_type": "stream",
     "text": [
      "679680 samples, 5310 batch \t Loss: 0.112544\n"
     ]
    },
    {
     "name": "stderr",
     "output_type": "stream",
     "text": [
      " 53% (5320 of 10000) |##########          | Elapsed Time: 0:19:41 ETA:  0:14:54"
     ]
    },
    {
     "name": "stdout",
     "output_type": "stream",
     "text": [
      "680960 samples, 5320 batch \t Loss: 0.138520\n"
     ]
    },
    {
     "name": "stderr",
     "output_type": "stream",
     "text": [
      " 53% (5330 of 10000) |##########          | Elapsed Time: 0:19:43 ETA:  0:14:52"
     ]
    },
    {
     "name": "stdout",
     "output_type": "stream",
     "text": [
      "682240 samples, 5330 batch \t Loss: 0.118508\n"
     ]
    },
    {
     "name": "stderr",
     "output_type": "stream",
     "text": [
      " 53% (5340 of 10000) |##########          | Elapsed Time: 0:19:45 ETA:  0:14:50"
     ]
    },
    {
     "name": "stdout",
     "output_type": "stream",
     "text": [
      "683520 samples, 5340 batch \t Loss: 0.125445\n"
     ]
    },
    {
     "name": "stderr",
     "output_type": "stream",
     "text": [
      " 53% (5350 of 10000) |##########          | Elapsed Time: 0:19:47 ETA:  0:14:49"
     ]
    },
    {
     "name": "stdout",
     "output_type": "stream",
     "text": [
      "684800 samples, 5350 batch \t Loss: 0.133567\n"
     ]
    },
    {
     "name": "stderr",
     "output_type": "stream",
     "text": [
      " 53% (5360 of 10000) |##########          | Elapsed Time: 0:19:49 ETA:  0:14:49"
     ]
    },
    {
     "name": "stdout",
     "output_type": "stream",
     "text": [
      "686080 samples, 5360 batch \t Loss: 0.199551\n"
     ]
    },
    {
     "name": "stderr",
     "output_type": "stream",
     "text": [
      " 53% (5370 of 10000) |##########          | Elapsed Time: 0:19:50 ETA:  0:14:49"
     ]
    },
    {
     "name": "stdout",
     "output_type": "stream",
     "text": [
      "687360 samples, 5370 batch \t Loss: 0.124163\n"
     ]
    },
    {
     "name": "stderr",
     "output_type": "stream",
     "text": [
      " 53% (5380 of 10000) |##########          | Elapsed Time: 0:19:52 ETA:  0:14:49"
     ]
    },
    {
     "name": "stdout",
     "output_type": "stream",
     "text": [
      "688640 samples, 5380 batch \t Loss: 0.117005\n"
     ]
    },
    {
     "name": "stderr",
     "output_type": "stream",
     "text": [
      " 53% (5390 of 10000) |##########          | Elapsed Time: 0:19:54 ETA:  0:14:48"
     ]
    },
    {
     "name": "stdout",
     "output_type": "stream",
     "text": [
      "689920 samples, 5390 batch \t Loss: 0.107460\n"
     ]
    },
    {
     "name": "stderr",
     "output_type": "stream",
     "text": [
      " 54% (5401 of 10000) |##########          | Elapsed Time: 0:19:56 ETA:  0:14:46"
     ]
    },
    {
     "name": "stdout",
     "output_type": "stream",
     "text": [
      "691200 samples, 5400 batch \t Loss: 0.140050\n"
     ]
    },
    {
     "name": "stderr",
     "output_type": "stream",
     "text": [
      " 54% (5411 of 10000) |##########          | Elapsed Time: 0:19:58 ETA:  0:14:48"
     ]
    },
    {
     "name": "stdout",
     "output_type": "stream",
     "text": [
      "692480 samples, 5410 batch \t Loss: 0.133112\n"
     ]
    },
    {
     "name": "stderr",
     "output_type": "stream",
     "text": [
      " 54% (5421 of 10000) |##########          | Elapsed Time: 0:20:00 ETA:  0:14:50"
     ]
    },
    {
     "name": "stdout",
     "output_type": "stream",
     "text": [
      "693760 samples, 5420 batch \t Loss: 0.107164\n"
     ]
    },
    {
     "name": "stderr",
     "output_type": "stream",
     "text": [
      " 54% (5431 of 10000) |##########          | Elapsed Time: 0:20:02 ETA:  0:14:48"
     ]
    },
    {
     "name": "stdout",
     "output_type": "stream",
     "text": [
      "695040 samples, 5430 batch \t Loss: 0.139081\n"
     ]
    },
    {
     "name": "stderr",
     "output_type": "stream",
     "text": [
      " 54% (5440 of 10000) |##########          | Elapsed Time: 0:20:04 ETA:  0:14:49"
     ]
    },
    {
     "name": "stdout",
     "output_type": "stream",
     "text": [
      "696320 samples, 5440 batch \t Loss: 0.101426\n"
     ]
    },
    {
     "name": "stderr",
     "output_type": "stream",
     "text": [
      " 54% (5450 of 10000) |##########          | Elapsed Time: 0:20:06 ETA:  0:14:45"
     ]
    },
    {
     "name": "stdout",
     "output_type": "stream",
     "text": [
      "697600 samples, 5450 batch \t Loss: 0.130419\n"
     ]
    },
    {
     "name": "stderr",
     "output_type": "stream",
     "text": [
      " 54% (5460 of 10000) |##########          | Elapsed Time: 0:20:08 ETA:  0:14:41"
     ]
    },
    {
     "name": "stdout",
     "output_type": "stream",
     "text": [
      "698880 samples, 5460 batch \t Loss: 0.129718\n"
     ]
    },
    {
     "name": "stderr",
     "output_type": "stream",
     "text": [
      " 54% (5470 of 10000) |##########          | Elapsed Time: 0:20:10 ETA:  0:14:35"
     ]
    },
    {
     "name": "stdout",
     "output_type": "stream",
     "text": [
      "700160 samples, 5470 batch \t Loss: 0.109044\n"
     ]
    },
    {
     "name": "stderr",
     "output_type": "stream",
     "text": [
      " 54% (5480 of 10000) |##########          | Elapsed Time: 0:20:12 ETA:  0:14:35"
     ]
    },
    {
     "name": "stdout",
     "output_type": "stream",
     "text": [
      "701440 samples, 5480 batch \t Loss: 0.122073\n"
     ]
    },
    {
     "name": "stderr",
     "output_type": "stream",
     "text": [
      " 54% (5490 of 10000) |##########          | Elapsed Time: 0:20:14 ETA:  0:14:33"
     ]
    },
    {
     "name": "stdout",
     "output_type": "stream",
     "text": [
      "702720 samples, 5490 batch \t Loss: 0.119619\n"
     ]
    },
    {
     "name": "stderr",
     "output_type": "stream",
     "text": [
      " 55% (5500 of 10000) |###########         | Elapsed Time: 0:20:16 ETA:  0:14:35"
     ]
    },
    {
     "name": "stdout",
     "output_type": "stream",
     "text": [
      "704000 samples, 5500 batch \t Loss: 0.092129\n"
     ]
    },
    {
     "name": "stderr",
     "output_type": "stream",
     "text": [
      " 55% (5510 of 10000) |###########         | Elapsed Time: 0:20:17 ETA:  0:14:29"
     ]
    },
    {
     "name": "stdout",
     "output_type": "stream",
     "text": [
      "705280 samples, 5510 batch \t Loss: 0.172245\n"
     ]
    },
    {
     "name": "stderr",
     "output_type": "stream",
     "text": [
      " 55% (5520 of 10000) |###########         | Elapsed Time: 0:20:19 ETA:  0:14:21"
     ]
    },
    {
     "name": "stdout",
     "output_type": "stream",
     "text": [
      "706560 samples, 5520 batch \t Loss: 0.143009\n"
     ]
    },
    {
     "name": "stderr",
     "output_type": "stream",
     "text": [
      " 55% (5530 of 10000) |###########         | Elapsed Time: 0:20:21 ETA:  0:14:16"
     ]
    },
    {
     "name": "stdout",
     "output_type": "stream",
     "text": [
      "707840 samples, 5530 batch \t Loss: 0.142568\n"
     ]
    },
    {
     "name": "stderr",
     "output_type": "stream",
     "text": [
      " 55% (5540 of 10000) |###########         | Elapsed Time: 0:20:23 ETA:  0:14:13"
     ]
    },
    {
     "name": "stdout",
     "output_type": "stream",
     "text": [
      "709120 samples, 5540 batch \t Loss: 0.107637\n"
     ]
    },
    {
     "name": "stderr",
     "output_type": "stream",
     "text": [
      " 55% (5550 of 10000) |###########         | Elapsed Time: 0:20:25 ETA:  0:14:09"
     ]
    },
    {
     "name": "stdout",
     "output_type": "stream",
     "text": [
      "710400 samples, 5550 batch \t Loss: 0.128990\n"
     ]
    },
    {
     "name": "stderr",
     "output_type": "stream",
     "text": [
      " 55% (5560 of 10000) |###########         | Elapsed Time: 0:20:27 ETA:  0:14:07"
     ]
    },
    {
     "name": "stdout",
     "output_type": "stream",
     "text": [
      "711680 samples, 5560 batch \t Loss: 0.115873\n"
     ]
    },
    {
     "name": "stderr",
     "output_type": "stream",
     "text": [
      " 55% (5570 of 10000) |###########         | Elapsed Time: 0:20:29 ETA:  0:14:08"
     ]
    },
    {
     "name": "stdout",
     "output_type": "stream",
     "text": [
      "712960 samples, 5570 batch \t Loss: 0.117662\n"
     ]
    },
    {
     "name": "stderr",
     "output_type": "stream",
     "text": [
      " 55% (5580 of 10000) |###########         | Elapsed Time: 0:20:31 ETA:  0:14:07"
     ]
    },
    {
     "name": "stdout",
     "output_type": "stream",
     "text": [
      "714240 samples, 5580 batch \t Loss: 0.149162\n"
     ]
    },
    {
     "name": "stderr",
     "output_type": "stream",
     "text": [
      " 55% (5590 of 10000) |###########         | Elapsed Time: 0:20:33 ETA:  0:14:06"
     ]
    },
    {
     "name": "stdout",
     "output_type": "stream",
     "text": [
      "715520 samples, 5590 batch \t Loss: 0.129627\n"
     ]
    },
    {
     "name": "stderr",
     "output_type": "stream",
     "text": [
      " 56% (5600 of 10000) |###########         | Elapsed Time: 0:20:35 ETA:  0:13:59"
     ]
    },
    {
     "name": "stdout",
     "output_type": "stream",
     "text": [
      "716800 samples, 5600 batch \t Loss: 0.111831\n"
     ]
    },
    {
     "name": "stderr",
     "output_type": "stream",
     "text": [
      " 56% (5610 of 10000) |###########         | Elapsed Time: 0:20:36 ETA:  0:13:56"
     ]
    },
    {
     "name": "stdout",
     "output_type": "stream",
     "text": [
      "718080 samples, 5610 batch \t Loss: 0.108842\n"
     ]
    },
    {
     "name": "stderr",
     "output_type": "stream",
     "text": [
      " 56% (5620 of 10000) |###########         | Elapsed Time: 0:20:38 ETA:  0:13:55"
     ]
    },
    {
     "name": "stdout",
     "output_type": "stream",
     "text": [
      "719360 samples, 5620 batch \t Loss: 0.153157\n"
     ]
    },
    {
     "name": "stderr",
     "output_type": "stream",
     "text": [
      " 56% (5630 of 10000) |###########         | Elapsed Time: 0:20:40 ETA:  0:13:53"
     ]
    },
    {
     "name": "stdout",
     "output_type": "stream",
     "text": [
      "720640 samples, 5630 batch \t Loss: 0.134547\n"
     ]
    },
    {
     "name": "stderr",
     "output_type": "stream",
     "text": [
      " 56% (5640 of 10000) |###########         | Elapsed Time: 0:20:42 ETA:  0:13:49"
     ]
    },
    {
     "name": "stdout",
     "output_type": "stream",
     "text": [
      "721920 samples, 5640 batch \t Loss: 0.127504\n"
     ]
    },
    {
     "name": "stderr",
     "output_type": "stream",
     "text": [
      " 56% (5650 of 10000) |###########         | Elapsed Time: 0:20:44 ETA:  0:13:47"
     ]
    },
    {
     "name": "stdout",
     "output_type": "stream",
     "text": [
      "723200 samples, 5650 batch \t Loss: 0.139827\n"
     ]
    },
    {
     "name": "stderr",
     "output_type": "stream",
     "text": [
      " 56% (5661 of 10000) |###########         | Elapsed Time: 0:20:46 ETA:  0:13:49"
     ]
    },
    {
     "name": "stdout",
     "output_type": "stream",
     "text": [
      "724480 samples, 5660 batch \t Loss: 0.128315\n"
     ]
    },
    {
     "name": "stderr",
     "output_type": "stream",
     "text": [
      " 56% (5670 of 10000) |###########         | Elapsed Time: 0:20:48 ETA:  0:13:51"
     ]
    },
    {
     "name": "stdout",
     "output_type": "stream",
     "text": [
      "725760 samples, 5670 batch \t Loss: 0.161929\n"
     ]
    },
    {
     "name": "stderr",
     "output_type": "stream",
     "text": [
      " 56% (5680 of 10000) |###########         | Elapsed Time: 0:20:50 ETA:  0:13:47"
     ]
    },
    {
     "name": "stdout",
     "output_type": "stream",
     "text": [
      "727040 samples, 5680 batch \t Loss: 0.135556\n"
     ]
    },
    {
     "name": "stderr",
     "output_type": "stream",
     "text": [
      " 56% (5690 of 10000) |###########         | Elapsed Time: 0:20:52 ETA:  0:13:48"
     ]
    },
    {
     "name": "stdout",
     "output_type": "stream",
     "text": [
      "728320 samples, 5690 batch \t Loss: 0.116290\n"
     ]
    },
    {
     "name": "stderr",
     "output_type": "stream",
     "text": [
      " 56% (5700 of 10000) |###########         | Elapsed Time: 0:20:54 ETA:  0:13:44"
     ]
    },
    {
     "name": "stdout",
     "output_type": "stream",
     "text": [
      "729600 samples, 5700 batch \t Loss: 0.137789\n"
     ]
    },
    {
     "name": "stderr",
     "output_type": "stream",
     "text": [
      " 57% (5710 of 10000) |###########         | Elapsed Time: 0:20:56 ETA:  0:13:47"
     ]
    },
    {
     "name": "stdout",
     "output_type": "stream",
     "text": [
      "730880 samples, 5710 batch \t Loss: 0.109446\n"
     ]
    },
    {
     "name": "stderr",
     "output_type": "stream",
     "text": [
      " 57% (5720 of 10000) |###########         | Elapsed Time: 0:20:58 ETA:  0:13:46"
     ]
    },
    {
     "name": "stdout",
     "output_type": "stream",
     "text": [
      "732160 samples, 5720 batch \t Loss: 0.137459\n"
     ]
    },
    {
     "name": "stderr",
     "output_type": "stream",
     "text": [
      " 57% (5730 of 10000) |###########         | Elapsed Time: 0:21:00 ETA:  0:13:45"
     ]
    },
    {
     "name": "stdout",
     "output_type": "stream",
     "text": [
      "733440 samples, 5730 batch \t Loss: 0.116813\n"
     ]
    },
    {
     "name": "stderr",
     "output_type": "stream",
     "text": [
      " 57% (5740 of 10000) |###########         | Elapsed Time: 0:21:01 ETA:  0:13:43"
     ]
    },
    {
     "name": "stdout",
     "output_type": "stream",
     "text": [
      "734720 samples, 5740 batch \t Loss: 0.118592\n"
     ]
    },
    {
     "name": "stderr",
     "output_type": "stream",
     "text": [
      " 57% (5750 of 10000) |###########         | Elapsed Time: 0:21:03 ETA:  0:13:41"
     ]
    },
    {
     "name": "stdout",
     "output_type": "stream",
     "text": [
      "736000 samples, 5750 batch \t Loss: 0.136301\n"
     ]
    },
    {
     "name": "stderr",
     "output_type": "stream",
     "text": [
      " 57% (5760 of 10000) |###########         | Elapsed Time: 0:21:05 ETA:  0:13:39"
     ]
    },
    {
     "name": "stdout",
     "output_type": "stream",
     "text": [
      "737280 samples, 5760 batch \t Loss: 0.109632\n"
     ]
    },
    {
     "name": "stderr",
     "output_type": "stream",
     "text": [
      " 57% (5770 of 10000) |###########         | Elapsed Time: 0:21:07 ETA:  0:13:34"
     ]
    },
    {
     "name": "stdout",
     "output_type": "stream",
     "text": [
      "738560 samples, 5770 batch \t Loss: 0.116214\n"
     ]
    },
    {
     "name": "stderr",
     "output_type": "stream",
     "text": [
      " 57% (5780 of 10000) |###########         | Elapsed Time: 0:21:09 ETA:  0:13:26"
     ]
    },
    {
     "name": "stdout",
     "output_type": "stream",
     "text": [
      "739840 samples, 5780 batch \t Loss: 0.125493\n"
     ]
    },
    {
     "name": "stderr",
     "output_type": "stream",
     "text": [
      " 57% (5790 of 10000) |###########         | Elapsed Time: 0:21:11 ETA:  0:13:24"
     ]
    },
    {
     "name": "stdout",
     "output_type": "stream",
     "text": [
      "741120 samples, 5790 batch \t Loss: 0.103330\n"
     ]
    },
    {
     "name": "stderr",
     "output_type": "stream",
     "text": [
      " 57% (5800 of 10000) |###########         | Elapsed Time: 0:21:13 ETA:  0:13:24"
     ]
    },
    {
     "name": "stdout",
     "output_type": "stream",
     "text": [
      "742400 samples, 5800 batch \t Loss: 0.139810\n"
     ]
    },
    {
     "name": "stderr",
     "output_type": "stream",
     "text": [
      " 58% (5810 of 10000) |###########         | Elapsed Time: 0:21:15 ETA:  0:13:24"
     ]
    },
    {
     "name": "stdout",
     "output_type": "stream",
     "text": [
      "743680 samples, 5810 batch \t Loss: 0.122011\n"
     ]
    },
    {
     "name": "stderr",
     "output_type": "stream",
     "text": [
      " 58% (5820 of 10000) |###########         | Elapsed Time: 0:21:17 ETA:  0:13:21"
     ]
    },
    {
     "name": "stdout",
     "output_type": "stream",
     "text": [
      "744960 samples, 5820 batch \t Loss: 0.136497\n"
     ]
    },
    {
     "name": "stderr",
     "output_type": "stream",
     "text": [
      " 58% (5830 of 10000) |###########         | Elapsed Time: 0:21:19 ETA:  0:13:19"
     ]
    },
    {
     "name": "stdout",
     "output_type": "stream",
     "text": [
      "746240 samples, 5830 batch \t Loss: 0.136518\n"
     ]
    },
    {
     "name": "stderr",
     "output_type": "stream",
     "text": [
      " 58% (5840 of 10000) |###########         | Elapsed Time: 0:21:21 ETA:  0:13:17"
     ]
    },
    {
     "name": "stdout",
     "output_type": "stream",
     "text": [
      "747520 samples, 5840 batch \t Loss: 0.113181\n"
     ]
    },
    {
     "name": "stderr",
     "output_type": "stream",
     "text": [
      " 58% (5850 of 10000) |###########         | Elapsed Time: 0:21:23 ETA:  0:13:15"
     ]
    },
    {
     "name": "stdout",
     "output_type": "stream",
     "text": [
      "748800 samples, 5850 batch \t Loss: 0.104278\n"
     ]
    },
    {
     "name": "stderr",
     "output_type": "stream",
     "text": [
      " 58% (5860 of 10000) |###########         | Elapsed Time: 0:21:24 ETA:  0:13:14"
     ]
    },
    {
     "name": "stdout",
     "output_type": "stream",
     "text": [
      "750080 samples, 5860 batch \t Loss: 0.140807\n"
     ]
    },
    {
     "name": "stderr",
     "output_type": "stream",
     "text": [
      " 58% (5870 of 10000) |###########         | Elapsed Time: 0:21:26 ETA:  0:13:12"
     ]
    },
    {
     "name": "stdout",
     "output_type": "stream",
     "text": [
      "751360 samples, 5870 batch \t Loss: 0.116668\n"
     ]
    },
    {
     "name": "stderr",
     "output_type": "stream",
     "text": [
      " 58% (5880 of 10000) |###########         | Elapsed Time: 0:21:28 ETA:  0:13:10"
     ]
    },
    {
     "name": "stdout",
     "output_type": "stream",
     "text": [
      "752640 samples, 5880 batch \t Loss: 0.137760\n"
     ]
    },
    {
     "name": "stderr",
     "output_type": "stream",
     "text": [
      " 58% (5890 of 10000) |###########         | Elapsed Time: 0:21:30 ETA:  0:13:10"
     ]
    },
    {
     "name": "stdout",
     "output_type": "stream",
     "text": [
      "753920 samples, 5890 batch \t Loss: 0.102114\n"
     ]
    },
    {
     "name": "stderr",
     "output_type": "stream",
     "text": [
      " 59% (5900 of 10000) |###########         | Elapsed Time: 0:21:32 ETA:  0:13:10"
     ]
    },
    {
     "name": "stdout",
     "output_type": "stream",
     "text": [
      "755200 samples, 5900 batch \t Loss: 0.127767\n"
     ]
    },
    {
     "name": "stderr",
     "output_type": "stream",
     "text": [
      " 59% (5910 of 10000) |###########         | Elapsed Time: 0:21:34 ETA:  0:13:07"
     ]
    },
    {
     "name": "stdout",
     "output_type": "stream",
     "text": [
      "756480 samples, 5910 batch \t Loss: 0.093276\n"
     ]
    },
    {
     "name": "stderr",
     "output_type": "stream",
     "text": [
      " 59% (5920 of 10000) |###########         | Elapsed Time: 0:21:36 ETA:  0:13:03"
     ]
    },
    {
     "name": "stdout",
     "output_type": "stream",
     "text": [
      "757760 samples, 5920 batch \t Loss: 0.105814\n"
     ]
    },
    {
     "name": "stderr",
     "output_type": "stream",
     "text": [
      " 59% (5930 of 10000) |###########         | Elapsed Time: 0:21:38 ETA:  0:13:01"
     ]
    },
    {
     "name": "stdout",
     "output_type": "stream",
     "text": [
      "759040 samples, 5930 batch \t Loss: 0.111112\n"
     ]
    },
    {
     "name": "stderr",
     "output_type": "stream",
     "text": [
      " 59% (5940 of 10000) |###########         | Elapsed Time: 0:21:40 ETA:  0:12:57"
     ]
    },
    {
     "name": "stdout",
     "output_type": "stream",
     "text": [
      "760320 samples, 5940 batch \t Loss: 0.100059\n"
     ]
    },
    {
     "name": "stderr",
     "output_type": "stream",
     "text": [
      " 59% (5950 of 10000) |###########         | Elapsed Time: 0:21:42 ETA:  0:12:55"
     ]
    },
    {
     "name": "stdout",
     "output_type": "stream",
     "text": [
      "761600 samples, 5950 batch \t Loss: 0.106704\n"
     ]
    },
    {
     "name": "stderr",
     "output_type": "stream",
     "text": [
      " 59% (5960 of 10000) |###########         | Elapsed Time: 0:21:44 ETA:  0:12:55"
     ]
    },
    {
     "name": "stdout",
     "output_type": "stream",
     "text": [
      "762880 samples, 5960 batch \t Loss: 0.120339\n"
     ]
    },
    {
     "name": "stderr",
     "output_type": "stream",
     "text": [
      " 59% (5970 of 10000) |###########         | Elapsed Time: 0:21:46 ETA:  0:12:54"
     ]
    },
    {
     "name": "stdout",
     "output_type": "stream",
     "text": [
      "764160 samples, 5970 batch \t Loss: 0.128752\n"
     ]
    },
    {
     "name": "stderr",
     "output_type": "stream",
     "text": [
      " 59% (5980 of 10000) |###########         | Elapsed Time: 0:21:47 ETA:  0:12:53"
     ]
    },
    {
     "name": "stdout",
     "output_type": "stream",
     "text": [
      "765440 samples, 5980 batch \t Loss: 0.101607\n"
     ]
    },
    {
     "name": "stderr",
     "output_type": "stream",
     "text": [
      " 59% (5990 of 10000) |###########         | Elapsed Time: 0:21:49 ETA:  0:12:49"
     ]
    },
    {
     "name": "stdout",
     "output_type": "stream",
     "text": [
      "766720 samples, 5990 batch \t Loss: 0.105667\n"
     ]
    },
    {
     "name": "stderr",
     "output_type": "stream",
     "text": [
      " 60% (6000 of 10000) |############        | Elapsed Time: 0:21:51 ETA:  0:12:47"
     ]
    },
    {
     "name": "stdout",
     "output_type": "stream",
     "text": [
      "768000 samples, 6000 batch \t Loss: 0.102081\n"
     ]
    },
    {
     "name": "stderr",
     "output_type": "stream",
     "text": [
      " 60% (6010 of 10000) |############        | Elapsed Time: 0:21:53 ETA:  0:12:44"
     ]
    },
    {
     "name": "stdout",
     "output_type": "stream",
     "text": [
      "769280 samples, 6010 batch \t Loss: 0.129147\n"
     ]
    },
    {
     "name": "stderr",
     "output_type": "stream",
     "text": [
      " 60% (6020 of 10000) |############        | Elapsed Time: 0:21:55 ETA:  0:12:40"
     ]
    },
    {
     "name": "stdout",
     "output_type": "stream",
     "text": [
      "770560 samples, 6020 batch \t Loss: 0.114477\n"
     ]
    },
    {
     "name": "stderr",
     "output_type": "stream",
     "text": [
      " 60% (6030 of 10000) |############        | Elapsed Time: 0:21:57 ETA:  0:12:39"
     ]
    },
    {
     "name": "stdout",
     "output_type": "stream",
     "text": [
      "771840 samples, 6030 batch \t Loss: 0.102305\n"
     ]
    },
    {
     "name": "stderr",
     "output_type": "stream",
     "text": [
      " 60% (6040 of 10000) |############        | Elapsed Time: 0:21:59 ETA:  0:12:37"
     ]
    },
    {
     "name": "stdout",
     "output_type": "stream",
     "text": [
      "773120 samples, 6040 batch \t Loss: 0.137927\n"
     ]
    },
    {
     "name": "stderr",
     "output_type": "stream",
     "text": [
      " 60% (6050 of 10000) |############        | Elapsed Time: 0:22:01 ETA:  0:12:37"
     ]
    },
    {
     "name": "stdout",
     "output_type": "stream",
     "text": [
      "774400 samples, 6050 batch \t Loss: 0.105472\n"
     ]
    },
    {
     "name": "stderr",
     "output_type": "stream",
     "text": [
      " 60% (6060 of 10000) |############        | Elapsed Time: 0:22:03 ETA:  0:12:34"
     ]
    },
    {
     "name": "stdout",
     "output_type": "stream",
     "text": [
      "775680 samples, 6060 batch \t Loss: 0.118310\n"
     ]
    },
    {
     "name": "stderr",
     "output_type": "stream",
     "text": [
      " 60% (6070 of 10000) |############        | Elapsed Time: 0:22:05 ETA:  0:12:30"
     ]
    },
    {
     "name": "stdout",
     "output_type": "stream",
     "text": [
      "776960 samples, 6070 batch \t Loss: 0.088491\n"
     ]
    },
    {
     "name": "stderr",
     "output_type": "stream",
     "text": [
      " 60% (6080 of 10000) |############        | Elapsed Time: 0:22:07 ETA:  0:12:27"
     ]
    },
    {
     "name": "stdout",
     "output_type": "stream",
     "text": [
      "778240 samples, 6080 batch \t Loss: 0.098345\n"
     ]
    },
    {
     "name": "stderr",
     "output_type": "stream",
     "text": [
      " 60% (6090 of 10000) |############        | Elapsed Time: 0:22:08 ETA:  0:12:24"
     ]
    },
    {
     "name": "stdout",
     "output_type": "stream",
     "text": [
      "779520 samples, 6090 batch \t Loss: 0.107755\n"
     ]
    },
    {
     "name": "stderr",
     "output_type": "stream",
     "text": [
      " 61% (6100 of 10000) |############        | Elapsed Time: 0:22:10 ETA:  0:12:24"
     ]
    },
    {
     "name": "stdout",
     "output_type": "stream",
     "text": [
      "780800 samples, 6100 batch \t Loss: 0.120440\n"
     ]
    },
    {
     "name": "stderr",
     "output_type": "stream",
     "text": [
      " 61% (6110 of 10000) |############        | Elapsed Time: 0:22:12 ETA:  0:12:22"
     ]
    },
    {
     "name": "stdout",
     "output_type": "stream",
     "text": [
      "782080 samples, 6110 batch \t Loss: 0.094535\n"
     ]
    },
    {
     "name": "stderr",
     "output_type": "stream",
     "text": [
      " 61% (6120 of 10000) |############        | Elapsed Time: 0:22:14 ETA:  0:12:22"
     ]
    },
    {
     "name": "stdout",
     "output_type": "stream",
     "text": [
      "783360 samples, 6120 batch \t Loss: 0.108838\n"
     ]
    },
    {
     "name": "stderr",
     "output_type": "stream",
     "text": [
      " 61% (6130 of 10000) |############        | Elapsed Time: 0:22:16 ETA:  0:12:22"
     ]
    },
    {
     "name": "stdout",
     "output_type": "stream",
     "text": [
      "784640 samples, 6130 batch \t Loss: 0.100299\n"
     ]
    },
    {
     "name": "stderr",
     "output_type": "stream",
     "text": [
      " 61% (6140 of 10000) |############        | Elapsed Time: 0:22:18 ETA:  0:12:21"
     ]
    },
    {
     "name": "stdout",
     "output_type": "stream",
     "text": [
      "785920 samples, 6140 batch \t Loss: 0.166005\n"
     ]
    },
    {
     "name": "stderr",
     "output_type": "stream",
     "text": [
      " 61% (6150 of 10000) |############        | Elapsed Time: 0:22:20 ETA:  0:12:19"
     ]
    },
    {
     "name": "stdout",
     "output_type": "stream",
     "text": [
      "787200 samples, 6150 batch \t Loss: 0.099481\n"
     ]
    },
    {
     "name": "stderr",
     "output_type": "stream",
     "text": [
      " 61% (6160 of 10000) |############        | Elapsed Time: 0:22:22 ETA:  0:12:15"
     ]
    },
    {
     "name": "stdout",
     "output_type": "stream",
     "text": [
      "788480 samples, 6160 batch \t Loss: 0.120669\n"
     ]
    },
    {
     "name": "stderr",
     "output_type": "stream",
     "text": [
      " 61% (6170 of 10000) |############        | Elapsed Time: 0:22:24 ETA:  0:12:13"
     ]
    },
    {
     "name": "stdout",
     "output_type": "stream",
     "text": [
      "789760 samples, 6170 batch \t Loss: 0.110805\n"
     ]
    },
    {
     "name": "stderr",
     "output_type": "stream",
     "text": [
      " 61% (6180 of 10000) |############        | Elapsed Time: 0:22:26 ETA:  0:12:11"
     ]
    },
    {
     "name": "stdout",
     "output_type": "stream",
     "text": [
      "791040 samples, 6180 batch \t Loss: 0.137901\n"
     ]
    },
    {
     "name": "stderr",
     "output_type": "stream",
     "text": [
      " 61% (6190 of 10000) |############        | Elapsed Time: 0:22:28 ETA:  0:12:10"
     ]
    },
    {
     "name": "stdout",
     "output_type": "stream",
     "text": [
      "792320 samples, 6190 batch \t Loss: 0.098424\n"
     ]
    },
    {
     "name": "stderr",
     "output_type": "stream",
     "text": [
      " 62% (6200 of 10000) |############        | Elapsed Time: 0:22:30 ETA:  0:12:10"
     ]
    },
    {
     "name": "stdout",
     "output_type": "stream",
     "text": [
      "793600 samples, 6200 batch \t Loss: 0.092928\n"
     ]
    },
    {
     "name": "stderr",
     "output_type": "stream",
     "text": [
      " 62% (6210 of 10000) |############        | Elapsed Time: 0:22:32 ETA:  0:12:08"
     ]
    },
    {
     "name": "stdout",
     "output_type": "stream",
     "text": [
      "794880 samples, 6210 batch \t Loss: 0.104082\n"
     ]
    },
    {
     "name": "stderr",
     "output_type": "stream",
     "text": [
      " 62% (6220 of 10000) |############        | Elapsed Time: 0:22:33 ETA:  0:12:07"
     ]
    },
    {
     "name": "stdout",
     "output_type": "stream",
     "text": [
      "796160 samples, 6220 batch \t Loss: 0.123599\n"
     ]
    },
    {
     "name": "stderr",
     "output_type": "stream",
     "text": [
      " 62% (6230 of 10000) |############        | Elapsed Time: 0:22:35 ETA:  0:12:05"
     ]
    },
    {
     "name": "stdout",
     "output_type": "stream",
     "text": [
      "797440 samples, 6230 batch \t Loss: 0.102123\n"
     ]
    },
    {
     "name": "stderr",
     "output_type": "stream",
     "text": [
      " 62% (6240 of 10000) |############        | Elapsed Time: 0:22:37 ETA:  0:12:02"
     ]
    },
    {
     "name": "stdout",
     "output_type": "stream",
     "text": [
      "798720 samples, 6240 batch \t Loss: 0.115625\n"
     ]
    },
    {
     "name": "stderr",
     "output_type": "stream",
     "text": [
      " 62% (6250 of 10000) |############        | Elapsed Time: 0:22:39 ETA:  0:11:59"
     ]
    },
    {
     "name": "stdout",
     "output_type": "stream",
     "text": [
      "800000 samples, 6250 batch \t Loss: 0.087287\n"
     ]
    },
    {
     "name": "stderr",
     "output_type": "stream",
     "text": [
      " 62% (6260 of 10000) |############        | Elapsed Time: 0:22:41 ETA:  0:11:57"
     ]
    },
    {
     "name": "stdout",
     "output_type": "stream",
     "text": [
      "801280 samples, 6260 batch \t Loss: 0.098047\n"
     ]
    },
    {
     "name": "stderr",
     "output_type": "stream",
     "text": [
      " 62% (6270 of 10000) |############        | Elapsed Time: 0:22:43 ETA:  0:11:57"
     ]
    },
    {
     "name": "stdout",
     "output_type": "stream",
     "text": [
      "802560 samples, 6270 batch \t Loss: 0.157609\n"
     ]
    },
    {
     "name": "stderr",
     "output_type": "stream",
     "text": [
      " 62% (6280 of 10000) |############        | Elapsed Time: 0:22:45 ETA:  0:11:55"
     ]
    },
    {
     "name": "stdout",
     "output_type": "stream",
     "text": [
      "803840 samples, 6280 batch \t Loss: 0.103940\n"
     ]
    },
    {
     "name": "stderr",
     "output_type": "stream",
     "text": [
      " 62% (6290 of 10000) |############        | Elapsed Time: 0:22:47 ETA:  0:11:55"
     ]
    },
    {
     "name": "stdout",
     "output_type": "stream",
     "text": [
      "805120 samples, 6290 batch \t Loss: 0.117068\n"
     ]
    },
    {
     "name": "stderr",
     "output_type": "stream",
     "text": [
      " 63% (6300 of 10000) |############        | Elapsed Time: 0:22:49 ETA:  0:11:53"
     ]
    },
    {
     "name": "stdout",
     "output_type": "stream",
     "text": [
      "806400 samples, 6300 batch \t Loss: 0.085126\n"
     ]
    },
    {
     "name": "stderr",
     "output_type": "stream",
     "text": [
      " 63% (6310 of 10000) |############        | Elapsed Time: 0:22:51 ETA:  0:11:49"
     ]
    },
    {
     "name": "stdout",
     "output_type": "stream",
     "text": [
      "807680 samples, 6310 batch \t Loss: 0.107842\n"
     ]
    },
    {
     "name": "stderr",
     "output_type": "stream",
     "text": [
      " 63% (6320 of 10000) |############        | Elapsed Time: 0:22:53 ETA:  0:11:47"
     ]
    },
    {
     "name": "stdout",
     "output_type": "stream",
     "text": [
      "808960 samples, 6320 batch \t Loss: 0.108985\n"
     ]
    },
    {
     "name": "stderr",
     "output_type": "stream",
     "text": [
      " 63% (6330 of 10000) |############        | Elapsed Time: 0:22:55 ETA:  0:11:45"
     ]
    },
    {
     "name": "stdout",
     "output_type": "stream",
     "text": [
      "810240 samples, 6330 batch \t Loss: 0.112209\n"
     ]
    },
    {
     "name": "stderr",
     "output_type": "stream",
     "text": [
      " 63% (6340 of 10000) |############        | Elapsed Time: 0:22:57 ETA:  0:11:43"
     ]
    },
    {
     "name": "stdout",
     "output_type": "stream",
     "text": [
      "811520 samples, 6340 batch \t Loss: 0.111343\n"
     ]
    },
    {
     "name": "stderr",
     "output_type": "stream",
     "text": [
      " 63% (6350 of 10000) |############        | Elapsed Time: 0:22:58 ETA:  0:11:41"
     ]
    },
    {
     "name": "stdout",
     "output_type": "stream",
     "text": [
      "812800 samples, 6350 batch \t Loss: 0.135770\n"
     ]
    },
    {
     "name": "stderr",
     "output_type": "stream",
     "text": [
      " 63% (6360 of 10000) |############        | Elapsed Time: 0:23:00 ETA:  0:11:39"
     ]
    },
    {
     "name": "stdout",
     "output_type": "stream",
     "text": [
      "814080 samples, 6360 batch \t Loss: 0.138502\n"
     ]
    },
    {
     "name": "stderr",
     "output_type": "stream",
     "text": [
      " 63% (6370 of 10000) |############        | Elapsed Time: 0:23:02 ETA:  0:11:38"
     ]
    },
    {
     "name": "stdout",
     "output_type": "stream",
     "text": [
      "815360 samples, 6370 batch \t Loss: 0.104108\n"
     ]
    },
    {
     "name": "stderr",
     "output_type": "stream",
     "text": [
      " 63% (6380 of 10000) |############        | Elapsed Time: 0:23:04 ETA:  0:11:34"
     ]
    },
    {
     "name": "stdout",
     "output_type": "stream",
     "text": [
      "816640 samples, 6380 batch \t Loss: 0.116662\n"
     ]
    },
    {
     "name": "stderr",
     "output_type": "stream",
     "text": [
      " 63% (6390 of 10000) |############        | Elapsed Time: 0:23:06 ETA:  0:11:33"
     ]
    },
    {
     "name": "stdout",
     "output_type": "stream",
     "text": [
      "817920 samples, 6390 batch \t Loss: 0.095088\n"
     ]
    },
    {
     "name": "stderr",
     "output_type": "stream",
     "text": [
      " 64% (6400 of 10000) |############        | Elapsed Time: 0:23:08 ETA:  0:11:31"
     ]
    },
    {
     "name": "stdout",
     "output_type": "stream",
     "text": [
      "819200 samples, 6400 batch \t Loss: 0.100154\n"
     ]
    },
    {
     "name": "stderr",
     "output_type": "stream",
     "text": [
      " 64% (6410 of 10000) |############        | Elapsed Time: 0:23:10 ETA:  0:11:30"
     ]
    },
    {
     "name": "stdout",
     "output_type": "stream",
     "text": [
      "820480 samples, 6410 batch \t Loss: 0.122860\n"
     ]
    },
    {
     "name": "stderr",
     "output_type": "stream",
     "text": [
      " 64% (6420 of 10000) |############        | Elapsed Time: 0:23:12 ETA:  0:11:30"
     ]
    },
    {
     "name": "stdout",
     "output_type": "stream",
     "text": [
      "821760 samples, 6420 batch \t Loss: 0.109706\n"
     ]
    },
    {
     "name": "stderr",
     "output_type": "stream",
     "text": [
      " 64% (6430 of 10000) |############        | Elapsed Time: 0:23:14 ETA:  0:11:28"
     ]
    },
    {
     "name": "stdout",
     "output_type": "stream",
     "text": [
      "823040 samples, 6430 batch \t Loss: 0.116451\n"
     ]
    },
    {
     "name": "stderr",
     "output_type": "stream",
     "text": [
      " 64% (6440 of 10000) |############        | Elapsed Time: 0:23:16 ETA:  0:11:22"
     ]
    },
    {
     "name": "stdout",
     "output_type": "stream",
     "text": [
      "824320 samples, 6440 batch \t Loss: 0.147615\n"
     ]
    },
    {
     "name": "stderr",
     "output_type": "stream",
     "text": [
      " 64% (6450 of 10000) |############        | Elapsed Time: 0:23:18 ETA:  0:11:18"
     ]
    },
    {
     "name": "stdout",
     "output_type": "stream",
     "text": [
      "825600 samples, 6450 batch \t Loss: 0.087819\n"
     ]
    },
    {
     "name": "stderr",
     "output_type": "stream",
     "text": [
      " 64% (6460 of 10000) |############        | Elapsed Time: 0:23:19 ETA:  0:11:15"
     ]
    },
    {
     "name": "stdout",
     "output_type": "stream",
     "text": [
      "826880 samples, 6460 batch \t Loss: 0.142994\n"
     ]
    },
    {
     "name": "stderr",
     "output_type": "stream",
     "text": [
      " 64% (6470 of 10000) |############        | Elapsed Time: 0:23:21 ETA:  0:11:15"
     ]
    },
    {
     "name": "stdout",
     "output_type": "stream",
     "text": [
      "828160 samples, 6470 batch \t Loss: 0.101932\n"
     ]
    },
    {
     "name": "stderr",
     "output_type": "stream",
     "text": [
      " 64% (6480 of 10000) |############        | Elapsed Time: 0:23:23 ETA:  0:11:13"
     ]
    },
    {
     "name": "stdout",
     "output_type": "stream",
     "text": [
      "829440 samples, 6480 batch \t Loss: 0.114333\n"
     ]
    },
    {
     "name": "stderr",
     "output_type": "stream",
     "text": [
      " 64% (6490 of 10000) |############        | Elapsed Time: 0:23:25 ETA:  0:11:12"
     ]
    },
    {
     "name": "stdout",
     "output_type": "stream",
     "text": [
      "830720 samples, 6490 batch \t Loss: 0.093249\n"
     ]
    },
    {
     "name": "stderr",
     "output_type": "stream",
     "text": [
      " 65% (6500 of 10000) |#############       | Elapsed Time: 0:23:27 ETA:  0:11:10"
     ]
    },
    {
     "name": "stdout",
     "output_type": "stream",
     "text": [
      "832000 samples, 6500 batch \t Loss: 0.159514\n"
     ]
    },
    {
     "name": "stderr",
     "output_type": "stream",
     "text": [
      " 65% (6510 of 10000) |#############       | Elapsed Time: 0:23:29 ETA:  0:11:07"
     ]
    },
    {
     "name": "stdout",
     "output_type": "stream",
     "text": [
      "833280 samples, 6510 batch \t Loss: 0.115413\n"
     ]
    },
    {
     "name": "stderr",
     "output_type": "stream",
     "text": [
      " 65% (6520 of 10000) |#############       | Elapsed Time: 0:23:31 ETA:  0:11:02"
     ]
    },
    {
     "name": "stdout",
     "output_type": "stream",
     "text": [
      "834560 samples, 6520 batch \t Loss: 0.104415\n"
     ]
    },
    {
     "name": "stderr",
     "output_type": "stream",
     "text": [
      " 65% (6530 of 10000) |#############       | Elapsed Time: 0:23:33 ETA:  0:10:58"
     ]
    },
    {
     "name": "stdout",
     "output_type": "stream",
     "text": [
      "835840 samples, 6530 batch \t Loss: 0.103480\n"
     ]
    },
    {
     "name": "stderr",
     "output_type": "stream",
     "text": [
      " 65% (6540 of 10000) |#############       | Elapsed Time: 0:23:35 ETA:  0:10:56"
     ]
    },
    {
     "name": "stdout",
     "output_type": "stream",
     "text": [
      "837120 samples, 6540 batch \t Loss: 0.081290\n"
     ]
    },
    {
     "name": "stderr",
     "output_type": "stream",
     "text": [
      " 65% (6550 of 10000) |#############       | Elapsed Time: 0:23:37 ETA:  0:10:57"
     ]
    },
    {
     "name": "stdout",
     "output_type": "stream",
     "text": [
      "838400 samples, 6550 batch \t Loss: 0.113547\n"
     ]
    },
    {
     "name": "stderr",
     "output_type": "stream",
     "text": [
      " 65% (6560 of 10000) |#############       | Elapsed Time: 0:23:39 ETA:  0:10:58"
     ]
    },
    {
     "name": "stdout",
     "output_type": "stream",
     "text": [
      "839680 samples, 6560 batch \t Loss: 0.095732\n"
     ]
    },
    {
     "name": "stderr",
     "output_type": "stream",
     "text": [
      " 65% (6570 of 10000) |#############       | Elapsed Time: 0:23:41 ETA:  0:10:56"
     ]
    },
    {
     "name": "stdout",
     "output_type": "stream",
     "text": [
      "840960 samples, 6570 batch \t Loss: 0.129932\n"
     ]
    },
    {
     "name": "stderr",
     "output_type": "stream",
     "text": [
      " 65% (6580 of 10000) |#############       | Elapsed Time: 0:23:42 ETA:  0:10:54"
     ]
    },
    {
     "name": "stdout",
     "output_type": "stream",
     "text": [
      "842240 samples, 6580 batch \t Loss: 0.096686\n"
     ]
    },
    {
     "name": "stderr",
     "output_type": "stream",
     "text": [
      " 65% (6590 of 10000) |#############       | Elapsed Time: 0:23:44 ETA:  0:10:51"
     ]
    },
    {
     "name": "stdout",
     "output_type": "stream",
     "text": [
      "843520 samples, 6590 batch \t Loss: 0.126578\n"
     ]
    },
    {
     "name": "stderr",
     "output_type": "stream",
     "text": [
      " 66% (6600 of 10000) |#############       | Elapsed Time: 0:23:46 ETA:  0:10:47"
     ]
    },
    {
     "name": "stdout",
     "output_type": "stream",
     "text": [
      "844800 samples, 6600 batch \t Loss: 0.092448\n"
     ]
    },
    {
     "name": "stderr",
     "output_type": "stream",
     "text": [
      " 66% (6610 of 10000) |#############       | Elapsed Time: 0:23:48 ETA:  0:10:45"
     ]
    },
    {
     "name": "stdout",
     "output_type": "stream",
     "text": [
      "846080 samples, 6610 batch \t Loss: 0.089362\n"
     ]
    },
    {
     "name": "stderr",
     "output_type": "stream",
     "text": [
      " 66% (6620 of 10000) |#############       | Elapsed Time: 0:23:50 ETA:  0:10:43"
     ]
    },
    {
     "name": "stdout",
     "output_type": "stream",
     "text": [
      "847360 samples, 6620 batch \t Loss: 0.121954\n"
     ]
    },
    {
     "name": "stderr",
     "output_type": "stream",
     "text": [
      " 66% (6630 of 10000) |#############       | Elapsed Time: 0:23:52 ETA:  0:10:44"
     ]
    },
    {
     "name": "stdout",
     "output_type": "stream",
     "text": [
      "848640 samples, 6630 batch \t Loss: 0.107412\n"
     ]
    },
    {
     "name": "stderr",
     "output_type": "stream",
     "text": [
      " 66% (6640 of 10000) |#############       | Elapsed Time: 0:23:54 ETA:  0:10:43"
     ]
    },
    {
     "name": "stdout",
     "output_type": "stream",
     "text": [
      "849920 samples, 6640 batch \t Loss: 0.123986\n"
     ]
    },
    {
     "name": "stderr",
     "output_type": "stream",
     "text": [
      " 66% (6650 of 10000) |#############       | Elapsed Time: 0:23:56 ETA:  0:10:41"
     ]
    },
    {
     "name": "stdout",
     "output_type": "stream",
     "text": [
      "851200 samples, 6650 batch \t Loss: 0.125315\n"
     ]
    },
    {
     "name": "stderr",
     "output_type": "stream",
     "text": [
      " 66% (6660 of 10000) |#############       | Elapsed Time: 0:23:58 ETA:  0:10:39"
     ]
    },
    {
     "name": "stdout",
     "output_type": "stream",
     "text": [
      "852480 samples, 6660 batch \t Loss: 0.123501\n"
     ]
    },
    {
     "name": "stderr",
     "output_type": "stream",
     "text": [
      " 66% (6670 of 10000) |#############       | Elapsed Time: 0:24:00 ETA:  0:10:35"
     ]
    },
    {
     "name": "stdout",
     "output_type": "stream",
     "text": [
      "853760 samples, 6670 batch \t Loss: 0.099058\n"
     ]
    },
    {
     "name": "stderr",
     "output_type": "stream",
     "text": [
      " 66% (6680 of 10000) |#############       | Elapsed Time: 0:24:02 ETA:  0:10:33"
     ]
    },
    {
     "name": "stdout",
     "output_type": "stream",
     "text": [
      "855040 samples, 6680 batch \t Loss: 0.088406\n"
     ]
    },
    {
     "name": "stderr",
     "output_type": "stream",
     "text": [
      " 66% (6690 of 10000) |#############       | Elapsed Time: 0:24:03 ETA:  0:10:30"
     ]
    },
    {
     "name": "stdout",
     "output_type": "stream",
     "text": [
      "856320 samples, 6690 batch \t Loss: 0.085218\n"
     ]
    },
    {
     "name": "stderr",
     "output_type": "stream",
     "text": [
      " 67% (6700 of 10000) |#############       | Elapsed Time: 0:24:05 ETA:  0:10:27"
     ]
    },
    {
     "name": "stdout",
     "output_type": "stream",
     "text": [
      "857600 samples, 6700 batch \t Loss: 0.089300\n"
     ]
    },
    {
     "name": "stderr",
     "output_type": "stream",
     "text": [
      " 67% (6710 of 10000) |#############       | Elapsed Time: 0:24:07 ETA:  0:10:28"
     ]
    },
    {
     "name": "stdout",
     "output_type": "stream",
     "text": [
      "858880 samples, 6710 batch \t Loss: 0.114344\n"
     ]
    },
    {
     "name": "stderr",
     "output_type": "stream",
     "text": [
      " 67% (6720 of 10000) |#############       | Elapsed Time: 0:24:09 ETA:  0:10:27"
     ]
    },
    {
     "name": "stdout",
     "output_type": "stream",
     "text": [
      "860160 samples, 6720 batch \t Loss: 0.089855\n"
     ]
    },
    {
     "name": "stderr",
     "output_type": "stream",
     "text": [
      " 67% (6730 of 10000) |#############       | Elapsed Time: 0:24:11 ETA:  0:10:27"
     ]
    },
    {
     "name": "stdout",
     "output_type": "stream",
     "text": [
      "861440 samples, 6730 batch \t Loss: 0.099342\n"
     ]
    },
    {
     "name": "stderr",
     "output_type": "stream",
     "text": [
      " 67% (6740 of 10000) |#############       | Elapsed Time: 0:24:13 ETA:  0:10:25"
     ]
    },
    {
     "name": "stdout",
     "output_type": "stream",
     "text": [
      "862720 samples, 6740 batch \t Loss: 0.126370\n"
     ]
    },
    {
     "name": "stderr",
     "output_type": "stream",
     "text": [
      " 67% (6750 of 10000) |#############       | Elapsed Time: 0:24:15 ETA:  0:10:24"
     ]
    },
    {
     "name": "stdout",
     "output_type": "stream",
     "text": [
      "864000 samples, 6750 batch \t Loss: 0.106340\n"
     ]
    },
    {
     "name": "stderr",
     "output_type": "stream",
     "text": [
      " 67% (6760 of 10000) |#############       | Elapsed Time: 0:24:17 ETA:  0:10:23"
     ]
    },
    {
     "name": "stdout",
     "output_type": "stream",
     "text": [
      "865280 samples, 6760 batch \t Loss: 0.087815\n"
     ]
    },
    {
     "name": "stderr",
     "output_type": "stream",
     "text": [
      " 67% (6770 of 10000) |#############       | Elapsed Time: 0:24:19 ETA:  0:10:21"
     ]
    },
    {
     "name": "stdout",
     "output_type": "stream",
     "text": [
      "866560 samples, 6770 batch \t Loss: 0.094941\n"
     ]
    },
    {
     "name": "stderr",
     "output_type": "stream",
     "text": [
      " 67% (6780 of 10000) |#############       | Elapsed Time: 0:24:21 ETA:  0:10:18"
     ]
    },
    {
     "name": "stdout",
     "output_type": "stream",
     "text": [
      "867840 samples, 6780 batch \t Loss: 0.110178\n"
     ]
    },
    {
     "name": "stderr",
     "output_type": "stream",
     "text": [
      " 67% (6790 of 10000) |#############       | Elapsed Time: 0:24:23 ETA:  0:10:15"
     ]
    },
    {
     "name": "stdout",
     "output_type": "stream",
     "text": [
      "869120 samples, 6790 batch \t Loss: 0.113553\n"
     ]
    },
    {
     "name": "stderr",
     "output_type": "stream",
     "text": [
      " 68% (6800 of 10000) |#############       | Elapsed Time: 0:24:25 ETA:  0:10:15"
     ]
    },
    {
     "name": "stdout",
     "output_type": "stream",
     "text": [
      "870400 samples, 6800 batch \t Loss: 0.100831\n"
     ]
    },
    {
     "name": "stderr",
     "output_type": "stream",
     "text": [
      " 68% (6810 of 10000) |#############       | Elapsed Time: 0:24:26 ETA:  0:10:14"
     ]
    },
    {
     "name": "stdout",
     "output_type": "stream",
     "text": [
      "871680 samples, 6810 batch \t Loss: 0.106571\n"
     ]
    },
    {
     "name": "stderr",
     "output_type": "stream",
     "text": [
      " 68% (6820 of 10000) |#############       | Elapsed Time: 0:24:28 ETA:  0:10:13"
     ]
    },
    {
     "name": "stdout",
     "output_type": "stream",
     "text": [
      "872960 samples, 6820 batch \t Loss: 0.112690\n"
     ]
    },
    {
     "name": "stderr",
     "output_type": "stream",
     "text": [
      " 68% (6830 of 10000) |#############       | Elapsed Time: 0:24:30 ETA:  0:10:11"
     ]
    },
    {
     "name": "stdout",
     "output_type": "stream",
     "text": [
      "874240 samples, 6830 batch \t Loss: 0.114961\n"
     ]
    },
    {
     "name": "stderr",
     "output_type": "stream",
     "text": [
      " 68% (6840 of 10000) |#############       | Elapsed Time: 0:24:32 ETA:  0:10:09"
     ]
    },
    {
     "name": "stdout",
     "output_type": "stream",
     "text": [
      "875520 samples, 6840 batch \t Loss: 0.112874\n"
     ]
    },
    {
     "name": "stderr",
     "output_type": "stream",
     "text": [
      " 68% (6850 of 10000) |#############       | Elapsed Time: 0:24:34 ETA:  0:10:07"
     ]
    },
    {
     "name": "stdout",
     "output_type": "stream",
     "text": [
      "876800 samples, 6850 batch \t Loss: 0.107233\n"
     ]
    },
    {
     "name": "stderr",
     "output_type": "stream",
     "text": [
      " 68% (6860 of 10000) |#############       | Elapsed Time: 0:24:36 ETA:  0:10:02"
     ]
    },
    {
     "name": "stdout",
     "output_type": "stream",
     "text": [
      "878080 samples, 6860 batch \t Loss: 0.124331\n"
     ]
    },
    {
     "name": "stderr",
     "output_type": "stream",
     "text": [
      " 68% (6870 of 10000) |#############       | Elapsed Time: 0:24:38 ETA:  0:09:59"
     ]
    },
    {
     "name": "stdout",
     "output_type": "stream",
     "text": [
      "879360 samples, 6870 batch \t Loss: 0.083683\n"
     ]
    },
    {
     "name": "stderr",
     "output_type": "stream",
     "text": [
      " 68% (6880 of 10000) |#############       | Elapsed Time: 0:24:40 ETA:  0:09:55"
     ]
    },
    {
     "name": "stdout",
     "output_type": "stream",
     "text": [
      "880640 samples, 6880 batch \t Loss: 0.127679\n"
     ]
    },
    {
     "name": "stderr",
     "output_type": "stream",
     "text": [
      " 68% (6890 of 10000) |#############       | Elapsed Time: 0:24:42 ETA:  0:09:56"
     ]
    },
    {
     "name": "stdout",
     "output_type": "stream",
     "text": [
      "881920 samples, 6890 batch \t Loss: 0.083489\n"
     ]
    },
    {
     "name": "stderr",
     "output_type": "stream",
     "text": [
      " 69% (6900 of 10000) |#############       | Elapsed Time: 0:24:44 ETA:  0:09:56"
     ]
    },
    {
     "name": "stdout",
     "output_type": "stream",
     "text": [
      "883200 samples, 6900 batch \t Loss: 0.081818\n"
     ]
    },
    {
     "name": "stderr",
     "output_type": "stream",
     "text": [
      " 69% (6910 of 10000) |#############       | Elapsed Time: 0:24:46 ETA:  0:09:53"
     ]
    },
    {
     "name": "stdout",
     "output_type": "stream",
     "text": [
      "884480 samples, 6910 batch \t Loss: 0.101127\n"
     ]
    },
    {
     "name": "stderr",
     "output_type": "stream",
     "text": [
      " 69% (6920 of 10000) |#############       | Elapsed Time: 0:24:48 ETA:  0:09:51"
     ]
    },
    {
     "name": "stdout",
     "output_type": "stream",
     "text": [
      "885760 samples, 6920 batch \t Loss: 0.089948\n"
     ]
    },
    {
     "name": "stderr",
     "output_type": "stream",
     "text": [
      " 69% (6930 of 10000) |#############       | Elapsed Time: 0:24:50 ETA:  0:09:49"
     ]
    },
    {
     "name": "stdout",
     "output_type": "stream",
     "text": [
      "887040 samples, 6930 batch \t Loss: 0.118706\n"
     ]
    },
    {
     "name": "stderr",
     "output_type": "stream",
     "text": [
      " 69% (6940 of 10000) |#############       | Elapsed Time: 0:24:52 ETA:  0:09:47"
     ]
    },
    {
     "name": "stdout",
     "output_type": "stream",
     "text": [
      "888320 samples, 6940 batch \t Loss: 0.103567\n"
     ]
    },
    {
     "name": "stderr",
     "output_type": "stream",
     "text": [
      " 69% (6950 of 10000) |#############       | Elapsed Time: 0:24:53 ETA:  0:09:45"
     ]
    },
    {
     "name": "stdout",
     "output_type": "stream",
     "text": [
      "889600 samples, 6950 batch \t Loss: 0.095592\n"
     ]
    },
    {
     "name": "stderr",
     "output_type": "stream",
     "text": [
      " 69% (6960 of 10000) |#############       | Elapsed Time: 0:24:55 ETA:  0:09:42"
     ]
    },
    {
     "name": "stdout",
     "output_type": "stream",
     "text": [
      "890880 samples, 6960 batch \t Loss: 0.091239\n"
     ]
    },
    {
     "name": "stderr",
     "output_type": "stream",
     "text": [
      " 69% (6970 of 10000) |#############       | Elapsed Time: 0:24:57 ETA:  0:09:42"
     ]
    },
    {
     "name": "stdout",
     "output_type": "stream",
     "text": [
      "892160 samples, 6970 batch \t Loss: 0.091812\n"
     ]
    },
    {
     "name": "stderr",
     "output_type": "stream",
     "text": [
      " 69% (6980 of 10000) |#############       | Elapsed Time: 0:24:59 ETA:  0:09:39"
     ]
    },
    {
     "name": "stdout",
     "output_type": "stream",
     "text": [
      "893440 samples, 6980 batch \t Loss: 0.091452\n"
     ]
    },
    {
     "name": "stderr",
     "output_type": "stream",
     "text": [
      " 69% (6991 of 10000) |#############       | Elapsed Time: 0:25:01 ETA:  0:09:40"
     ]
    },
    {
     "name": "stdout",
     "output_type": "stream",
     "text": [
      "894720 samples, 6990 batch \t Loss: 0.085496\n"
     ]
    },
    {
     "name": "stderr",
     "output_type": "stream",
     "text": [
      " 70% (7000 of 10000) |##############      | Elapsed Time: 0:25:03 ETA:  0:09:41"
     ]
    },
    {
     "name": "stdout",
     "output_type": "stream",
     "text": [
      "896000 samples, 7000 batch \t Loss: 0.098978\n"
     ]
    },
    {
     "name": "stderr",
     "output_type": "stream",
     "text": [
      " 70% (7010 of 10000) |##############      | Elapsed Time: 0:25:05 ETA:  0:09:38"
     ]
    },
    {
     "name": "stdout",
     "output_type": "stream",
     "text": [
      "897280 samples, 7010 batch \t Loss: 0.093930\n"
     ]
    },
    {
     "name": "stderr",
     "output_type": "stream",
     "text": [
      " 70% (7020 of 10000) |##############      | Elapsed Time: 0:25:07 ETA:  0:09:35"
     ]
    },
    {
     "name": "stdout",
     "output_type": "stream",
     "text": [
      "898560 samples, 7020 batch \t Loss: 0.097934\n"
     ]
    },
    {
     "name": "stderr",
     "output_type": "stream",
     "text": [
      " 70% (7030 of 10000) |##############      | Elapsed Time: 0:25:09 ETA:  0:09:33"
     ]
    },
    {
     "name": "stdout",
     "output_type": "stream",
     "text": [
      "899840 samples, 7030 batch \t Loss: 0.101416\n"
     ]
    },
    {
     "name": "stderr",
     "output_type": "stream",
     "text": [
      " 70% (7040 of 10000) |##############      | Elapsed Time: 0:25:11 ETA:  0:09:30"
     ]
    },
    {
     "name": "stdout",
     "output_type": "stream",
     "text": [
      "901120 samples, 7040 batch \t Loss: 0.114191\n"
     ]
    },
    {
     "name": "stderr",
     "output_type": "stream",
     "text": [
      " 70% (7050 of 10000) |##############      | Elapsed Time: 0:25:13 ETA:  0:09:28"
     ]
    },
    {
     "name": "stdout",
     "output_type": "stream",
     "text": [
      "902400 samples, 7050 batch \t Loss: 0.073469\n"
     ]
    },
    {
     "name": "stderr",
     "output_type": "stream",
     "text": [
      " 70% (7060 of 10000) |##############      | Elapsed Time: 0:25:15 ETA:  0:09:27"
     ]
    },
    {
     "name": "stdout",
     "output_type": "stream",
     "text": [
      "903680 samples, 7060 batch \t Loss: 0.124834\n"
     ]
    },
    {
     "name": "stderr",
     "output_type": "stream",
     "text": [
      " 70% (7071 of 10000) |##############      | Elapsed Time: 0:25:17 ETA:  0:09:23"
     ]
    },
    {
     "name": "stdout",
     "output_type": "stream",
     "text": [
      "904960 samples, 7070 batch \t Loss: 0.101849\n"
     ]
    },
    {
     "name": "stderr",
     "output_type": "stream",
     "text": [
      " 70% (7080 of 10000) |##############      | Elapsed Time: 0:25:18 ETA:  0:09:25"
     ]
    },
    {
     "name": "stdout",
     "output_type": "stream",
     "text": [
      "906240 samples, 7080 batch \t Loss: 0.090779\n"
     ]
    },
    {
     "name": "stderr",
     "output_type": "stream",
     "text": [
      " 70% (7090 of 10000) |##############      | Elapsed Time: 0:25:20 ETA:  0:09:25"
     ]
    },
    {
     "name": "stdout",
     "output_type": "stream",
     "text": [
      "907520 samples, 7090 batch \t Loss: 0.089901\n"
     ]
    },
    {
     "name": "stderr",
     "output_type": "stream",
     "text": [
      " 71% (7100 of 10000) |##############      | Elapsed Time: 0:25:22 ETA:  0:09:22"
     ]
    },
    {
     "name": "stdout",
     "output_type": "stream",
     "text": [
      "908800 samples, 7100 batch \t Loss: 0.115360\n"
     ]
    },
    {
     "name": "stderr",
     "output_type": "stream",
     "text": [
      " 71% (7110 of 10000) |##############      | Elapsed Time: 0:25:24 ETA:  0:09:19"
     ]
    },
    {
     "name": "stdout",
     "output_type": "stream",
     "text": [
      "910080 samples, 7110 batch \t Loss: 0.090818\n"
     ]
    },
    {
     "name": "stderr",
     "output_type": "stream",
     "text": [
      " 71% (7120 of 10000) |##############      | Elapsed Time: 0:25:26 ETA:  0:09:17"
     ]
    },
    {
     "name": "stdout",
     "output_type": "stream",
     "text": [
      "911360 samples, 7120 batch \t Loss: 0.081065\n"
     ]
    },
    {
     "name": "stderr",
     "output_type": "stream",
     "text": [
      " 71% (7130 of 10000) |##############      | Elapsed Time: 0:25:28 ETA:  0:09:11"
     ]
    },
    {
     "name": "stdout",
     "output_type": "stream",
     "text": [
      "912640 samples, 7130 batch \t Loss: 0.071365\n"
     ]
    },
    {
     "name": "stderr",
     "output_type": "stream",
     "text": [
      " 71% (7140 of 10000) |##############      | Elapsed Time: 0:25:30 ETA:  0:09:11"
     ]
    },
    {
     "name": "stdout",
     "output_type": "stream",
     "text": [
      "913920 samples, 7140 batch \t Loss: 0.078991\n"
     ]
    },
    {
     "name": "stderr",
     "output_type": "stream",
     "text": [
      " 71% (7150 of 10000) |##############      | Elapsed Time: 0:25:32 ETA:  0:09:07"
     ]
    },
    {
     "name": "stdout",
     "output_type": "stream",
     "text": [
      "915200 samples, 7150 batch \t Loss: 0.108967\n"
     ]
    },
    {
     "name": "stderr",
     "output_type": "stream",
     "text": [
      " 71% (7160 of 10000) |##############      | Elapsed Time: 0:25:34 ETA:  0:09:05"
     ]
    },
    {
     "name": "stdout",
     "output_type": "stream",
     "text": [
      "916480 samples, 7160 batch \t Loss: 0.097040\n"
     ]
    },
    {
     "name": "stderr",
     "output_type": "stream",
     "text": [
      " 71% (7170 of 10000) |##############      | Elapsed Time: 0:25:36 ETA:  0:09:05"
     ]
    },
    {
     "name": "stdout",
     "output_type": "stream",
     "text": [
      "917760 samples, 7170 batch \t Loss: 0.102678\n"
     ]
    },
    {
     "name": "stderr",
     "output_type": "stream",
     "text": [
      " 71% (7180 of 10000) |##############      | Elapsed Time: 0:25:38 ETA:  0:09:03"
     ]
    },
    {
     "name": "stdout",
     "output_type": "stream",
     "text": [
      "919040 samples, 7180 batch \t Loss: 0.122665\n"
     ]
    },
    {
     "name": "stderr",
     "output_type": "stream",
     "text": [
      " 71% (7190 of 10000) |##############      | Elapsed Time: 0:25:39 ETA:  0:08:58"
     ]
    },
    {
     "name": "stdout",
     "output_type": "stream",
     "text": [
      "920320 samples, 7190 batch \t Loss: 0.086604\n"
     ]
    },
    {
     "name": "stderr",
     "output_type": "stream",
     "text": [
      " 72% (7200 of 10000) |##############      | Elapsed Time: 0:25:41 ETA:  0:08:55"
     ]
    },
    {
     "name": "stdout",
     "output_type": "stream",
     "text": [
      "921600 samples, 7200 batch \t Loss: 0.093592\n"
     ]
    },
    {
     "name": "stderr",
     "output_type": "stream",
     "text": [
      " 72% (7210 of 10000) |##############      | Elapsed Time: 0:25:43 ETA:  0:08:53"
     ]
    },
    {
     "name": "stdout",
     "output_type": "stream",
     "text": [
      "922880 samples, 7210 batch \t Loss: 0.081059\n"
     ]
    },
    {
     "name": "stderr",
     "output_type": "stream",
     "text": [
      " 72% (7220 of 10000) |##############      | Elapsed Time: 0:25:45 ETA:  0:08:49"
     ]
    },
    {
     "name": "stdout",
     "output_type": "stream",
     "text": [
      "924160 samples, 7220 batch \t Loss: 0.091901\n"
     ]
    },
    {
     "name": "stderr",
     "output_type": "stream",
     "text": [
      " 72% (7230 of 10000) |##############      | Elapsed Time: 0:25:47 ETA:  0:08:48"
     ]
    },
    {
     "name": "stdout",
     "output_type": "stream",
     "text": [
      "925440 samples, 7230 batch \t Loss: 0.097644\n"
     ]
    },
    {
     "name": "stderr",
     "output_type": "stream",
     "text": [
      " 72% (7240 of 10000) |##############      | Elapsed Time: 0:25:49 ETA:  0:08:49"
     ]
    },
    {
     "name": "stdout",
     "output_type": "stream",
     "text": [
      "926720 samples, 7240 batch \t Loss: 0.090300\n"
     ]
    },
    {
     "name": "stderr",
     "output_type": "stream",
     "text": [
      " 72% (7250 of 10000) |##############      | Elapsed Time: 0:25:51 ETA:  0:08:46"
     ]
    },
    {
     "name": "stdout",
     "output_type": "stream",
     "text": [
      "928000 samples, 7250 batch \t Loss: 0.120307\n"
     ]
    },
    {
     "name": "stderr",
     "output_type": "stream",
     "text": [
      " 72% (7260 of 10000) |##############      | Elapsed Time: 0:25:53 ETA:  0:08:44"
     ]
    },
    {
     "name": "stdout",
     "output_type": "stream",
     "text": [
      "929280 samples, 7260 batch \t Loss: 0.076102\n"
     ]
    },
    {
     "name": "stderr",
     "output_type": "stream",
     "text": [
      " 72% (7270 of 10000) |##############      | Elapsed Time: 0:25:55 ETA:  0:08:42"
     ]
    },
    {
     "name": "stdout",
     "output_type": "stream",
     "text": [
      "930560 samples, 7270 batch \t Loss: 0.095167\n"
     ]
    },
    {
     "name": "stderr",
     "output_type": "stream",
     "text": [
      " 72% (7280 of 10000) |##############      | Elapsed Time: 0:25:57 ETA:  0:08:40"
     ]
    },
    {
     "name": "stdout",
     "output_type": "stream",
     "text": [
      "931840 samples, 7280 batch \t Loss: 0.097129\n"
     ]
    },
    {
     "name": "stderr",
     "output_type": "stream",
     "text": [
      " 72% (7290 of 10000) |##############      | Elapsed Time: 0:25:59 ETA:  0:08:38"
     ]
    },
    {
     "name": "stdout",
     "output_type": "stream",
     "text": [
      "933120 samples, 7290 batch \t Loss: 0.105680\n"
     ]
    },
    {
     "name": "stderr",
     "output_type": "stream",
     "text": [
      " 73% (7300 of 10000) |##############      | Elapsed Time: 0:26:01 ETA:  0:08:36"
     ]
    },
    {
     "name": "stdout",
     "output_type": "stream",
     "text": [
      "934400 samples, 7300 batch \t Loss: 0.110917\n"
     ]
    },
    {
     "name": "stderr",
     "output_type": "stream",
     "text": [
      " 73% (7310 of 10000) |##############      | Elapsed Time: 0:26:02 ETA:  0:08:35"
     ]
    },
    {
     "name": "stdout",
     "output_type": "stream",
     "text": [
      "935680 samples, 7310 batch \t Loss: 0.100364\n"
     ]
    },
    {
     "name": "stderr",
     "output_type": "stream",
     "text": [
      " 73% (7320 of 10000) |##############      | Elapsed Time: 0:26:04 ETA:  0:08:30"
     ]
    },
    {
     "name": "stdout",
     "output_type": "stream",
     "text": [
      "936960 samples, 7320 batch \t Loss: 0.107536\n"
     ]
    },
    {
     "name": "stderr",
     "output_type": "stream",
     "text": [
      " 73% (7330 of 10000) |##############      | Elapsed Time: 0:26:06 ETA:  0:08:29"
     ]
    },
    {
     "name": "stdout",
     "output_type": "stream",
     "text": [
      "938240 samples, 7330 batch \t Loss: 0.083449\n"
     ]
    },
    {
     "name": "stderr",
     "output_type": "stream",
     "text": [
      " 73% (7340 of 10000) |##############      | Elapsed Time: 0:26:08 ETA:  0:08:28"
     ]
    },
    {
     "name": "stdout",
     "output_type": "stream",
     "text": [
      "939520 samples, 7340 batch \t Loss: 0.098648\n"
     ]
    },
    {
     "name": "stderr",
     "output_type": "stream",
     "text": [
      " 73% (7350 of 10000) |##############      | Elapsed Time: 0:26:10 ETA:  0:08:25"
     ]
    },
    {
     "name": "stdout",
     "output_type": "stream",
     "text": [
      "940800 samples, 7350 batch \t Loss: 0.106713\n"
     ]
    },
    {
     "name": "stderr",
     "output_type": "stream",
     "text": [
      " 73% (7360 of 10000) |##############      | Elapsed Time: 0:26:12 ETA:  0:08:22"
     ]
    },
    {
     "name": "stdout",
     "output_type": "stream",
     "text": [
      "942080 samples, 7360 batch \t Loss: 0.104954\n"
     ]
    },
    {
     "name": "stderr",
     "output_type": "stream",
     "text": [
      " 73% (7370 of 10000) |##############      | Elapsed Time: 0:26:14 ETA:  0:08:22"
     ]
    },
    {
     "name": "stdout",
     "output_type": "stream",
     "text": [
      "943360 samples, 7370 batch \t Loss: 0.075741\n"
     ]
    },
    {
     "name": "stderr",
     "output_type": "stream",
     "text": [
      " 73% (7380 of 10000) |##############      | Elapsed Time: 0:26:16 ETA:  0:08:20"
     ]
    },
    {
     "name": "stdout",
     "output_type": "stream",
     "text": [
      "944640 samples, 7380 batch \t Loss: 0.117516\n"
     ]
    },
    {
     "name": "stderr",
     "output_type": "stream",
     "text": [
      " 73% (7390 of 10000) |##############      | Elapsed Time: 0:26:18 ETA:  0:08:18"
     ]
    },
    {
     "name": "stdout",
     "output_type": "stream",
     "text": [
      "945920 samples, 7390 batch \t Loss: 0.094986\n"
     ]
    },
    {
     "name": "stderr",
     "output_type": "stream",
     "text": [
      " 74% (7400 of 10000) |##############      | Elapsed Time: 0:26:20 ETA:  0:08:16"
     ]
    },
    {
     "name": "stdout",
     "output_type": "stream",
     "text": [
      "947200 samples, 7400 batch \t Loss: 0.086760\n"
     ]
    },
    {
     "name": "stderr",
     "output_type": "stream",
     "text": [
      " 74% (7410 of 10000) |##############      | Elapsed Time: 0:26:21 ETA:  0:08:12"
     ]
    },
    {
     "name": "stdout",
     "output_type": "stream",
     "text": [
      "948480 samples, 7410 batch \t Loss: 0.120448\n"
     ]
    },
    {
     "name": "stderr",
     "output_type": "stream",
     "text": [
      " 74% (7420 of 10000) |##############      | Elapsed Time: 0:26:23 ETA:  0:08:10"
     ]
    },
    {
     "name": "stdout",
     "output_type": "stream",
     "text": [
      "949760 samples, 7420 batch \t Loss: 0.104545\n"
     ]
    },
    {
     "name": "stderr",
     "output_type": "stream",
     "text": [
      " 74% (7430 of 10000) |##############      | Elapsed Time: 0:26:25 ETA:  0:08:10"
     ]
    },
    {
     "name": "stdout",
     "output_type": "stream",
     "text": [
      "951040 samples, 7430 batch \t Loss: 0.109081\n"
     ]
    },
    {
     "name": "stderr",
     "output_type": "stream",
     "text": [
      " 74% (7440 of 10000) |##############      | Elapsed Time: 0:26:27 ETA:  0:08:10"
     ]
    },
    {
     "name": "stdout",
     "output_type": "stream",
     "text": [
      "952320 samples, 7440 batch \t Loss: 0.085376\n"
     ]
    },
    {
     "name": "stderr",
     "output_type": "stream",
     "text": [
      " 74% (7450 of 10000) |##############      | Elapsed Time: 0:26:29 ETA:  0:08:08"
     ]
    },
    {
     "name": "stdout",
     "output_type": "stream",
     "text": [
      "953600 samples, 7450 batch \t Loss: 0.097700\n"
     ]
    },
    {
     "name": "stderr",
     "output_type": "stream",
     "text": [
      " 74% (7460 of 10000) |##############      | Elapsed Time: 0:26:31 ETA:  0:08:07"
     ]
    },
    {
     "name": "stdout",
     "output_type": "stream",
     "text": [
      "954880 samples, 7460 batch \t Loss: 0.077080\n"
     ]
    },
    {
     "name": "stderr",
     "output_type": "stream",
     "text": [
      " 74% (7470 of 10000) |##############      | Elapsed Time: 0:26:33 ETA:  0:08:07"
     ]
    },
    {
     "name": "stdout",
     "output_type": "stream",
     "text": [
      "956160 samples, 7470 batch \t Loss: 0.123090\n"
     ]
    },
    {
     "name": "stderr",
     "output_type": "stream",
     "text": [
      " 74% (7480 of 10000) |##############      | Elapsed Time: 0:26:35 ETA:  0:08:05"
     ]
    },
    {
     "name": "stdout",
     "output_type": "stream",
     "text": [
      "957440 samples, 7480 batch \t Loss: 0.104763\n"
     ]
    },
    {
     "name": "stderr",
     "output_type": "stream",
     "text": [
      " 74% (7490 of 10000) |##############      | Elapsed Time: 0:26:37 ETA:  0:08:03"
     ]
    },
    {
     "name": "stdout",
     "output_type": "stream",
     "text": [
      "958720 samples, 7490 batch \t Loss: 0.109541\n"
     ]
    },
    {
     "name": "stderr",
     "output_type": "stream",
     "text": [
      " 75% (7500 of 10000) |###############     | Elapsed Time: 0:26:39 ETA:  0:08:01"
     ]
    },
    {
     "name": "stdout",
     "output_type": "stream",
     "text": [
      "960000 samples, 7500 batch \t Loss: 0.095411\n"
     ]
    },
    {
     "name": "stderr",
     "output_type": "stream",
     "text": [
      " 75% (7510 of 10000) |###############     | Elapsed Time: 0:26:41 ETA:  0:07:58"
     ]
    },
    {
     "name": "stdout",
     "output_type": "stream",
     "text": [
      "961280 samples, 7510 batch \t Loss: 0.083362\n"
     ]
    },
    {
     "name": "stderr",
     "output_type": "stream",
     "text": [
      " 75% (7520 of 10000) |###############     | Elapsed Time: 0:26:43 ETA:  0:07:58"
     ]
    },
    {
     "name": "stdout",
     "output_type": "stream",
     "text": [
      "962560 samples, 7520 batch \t Loss: 0.104263\n"
     ]
    },
    {
     "name": "stderr",
     "output_type": "stream",
     "text": [
      " 75% (7530 of 10000) |###############     | Elapsed Time: 0:26:45 ETA:  0:07:56"
     ]
    },
    {
     "name": "stdout",
     "output_type": "stream",
     "text": [
      "963840 samples, 7530 batch \t Loss: 0.099542\n"
     ]
    },
    {
     "name": "stderr",
     "output_type": "stream",
     "text": [
      " 75% (7540 of 10000) |###############     | Elapsed Time: 0:26:46 ETA:  0:07:53"
     ]
    },
    {
     "name": "stdout",
     "output_type": "stream",
     "text": [
      "965120 samples, 7540 batch \t Loss: 0.093358\n"
     ]
    },
    {
     "name": "stderr",
     "output_type": "stream",
     "text": [
      " 75% (7550 of 10000) |###############     | Elapsed Time: 0:26:48 ETA:  0:07:50"
     ]
    },
    {
     "name": "stdout",
     "output_type": "stream",
     "text": [
      "966400 samples, 7550 batch \t Loss: 0.110110\n"
     ]
    },
    {
     "name": "stderr",
     "output_type": "stream",
     "text": [
      " 75% (7560 of 10000) |###############     | Elapsed Time: 0:26:50 ETA:  0:07:47"
     ]
    },
    {
     "name": "stdout",
     "output_type": "stream",
     "text": [
      "967680 samples, 7560 batch \t Loss: 0.099386\n"
     ]
    },
    {
     "name": "stderr",
     "output_type": "stream",
     "text": [
      " 75% (7570 of 10000) |###############     | Elapsed Time: 0:26:52 ETA:  0:07:45"
     ]
    },
    {
     "name": "stdout",
     "output_type": "stream",
     "text": [
      "968960 samples, 7570 batch \t Loss: 0.091580\n"
     ]
    },
    {
     "name": "stderr",
     "output_type": "stream",
     "text": [
      " 75% (7580 of 10000) |###############     | Elapsed Time: 0:26:54 ETA:  0:07:43"
     ]
    },
    {
     "name": "stdout",
     "output_type": "stream",
     "text": [
      "970240 samples, 7580 batch \t Loss: 0.109336\n"
     ]
    },
    {
     "name": "stderr",
     "output_type": "stream",
     "text": [
      " 75% (7590 of 10000) |###############     | Elapsed Time: 0:26:56 ETA:  0:07:41"
     ]
    },
    {
     "name": "stdout",
     "output_type": "stream",
     "text": [
      "971520 samples, 7590 batch \t Loss: 0.089309\n"
     ]
    },
    {
     "name": "stderr",
     "output_type": "stream",
     "text": [
      " 76% (7600 of 10000) |###############     | Elapsed Time: 0:26:58 ETA:  0:07:39"
     ]
    },
    {
     "name": "stdout",
     "output_type": "stream",
     "text": [
      "972800 samples, 7600 batch \t Loss: 0.076603\n"
     ]
    },
    {
     "name": "stderr",
     "output_type": "stream",
     "text": [
      " 76% (7610 of 10000) |###############     | Elapsed Time: 0:27:00 ETA:  0:07:37"
     ]
    },
    {
     "name": "stdout",
     "output_type": "stream",
     "text": [
      "974080 samples, 7610 batch \t Loss: 0.109402\n"
     ]
    },
    {
     "name": "stderr",
     "output_type": "stream",
     "text": [
      " 76% (7620 of 10000) |###############     | Elapsed Time: 0:27:02 ETA:  0:07:34"
     ]
    },
    {
     "name": "stdout",
     "output_type": "stream",
     "text": [
      "975360 samples, 7620 batch \t Loss: 0.079747\n"
     ]
    },
    {
     "name": "stderr",
     "output_type": "stream",
     "text": [
      " 76% (7630 of 10000) |###############     | Elapsed Time: 0:27:04 ETA:  0:07:33"
     ]
    },
    {
     "name": "stdout",
     "output_type": "stream",
     "text": [
      "976640 samples, 7630 batch \t Loss: 0.095714\n"
     ]
    },
    {
     "name": "stderr",
     "output_type": "stream",
     "text": [
      " 76% (7640 of 10000) |###############     | Elapsed Time: 0:27:06 ETA:  0:07:31"
     ]
    },
    {
     "name": "stdout",
     "output_type": "stream",
     "text": [
      "977920 samples, 7640 batch \t Loss: 0.098066\n"
     ]
    },
    {
     "name": "stderr",
     "output_type": "stream",
     "text": [
      " 76% (7650 of 10000) |###############     | Elapsed Time: 0:27:08 ETA:  0:07:30"
     ]
    },
    {
     "name": "stdout",
     "output_type": "stream",
     "text": [
      "979200 samples, 7650 batch \t Loss: 0.087549\n"
     ]
    },
    {
     "name": "stderr",
     "output_type": "stream",
     "text": [
      " 76% (7660 of 10000) |###############     | Elapsed Time: 0:27:09 ETA:  0:07:28"
     ]
    },
    {
     "name": "stdout",
     "output_type": "stream",
     "text": [
      "980480 samples, 7660 batch \t Loss: 0.097387\n"
     ]
    },
    {
     "name": "stderr",
     "output_type": "stream",
     "text": [
      " 76% (7670 of 10000) |###############     | Elapsed Time: 0:27:11 ETA:  0:07:26"
     ]
    },
    {
     "name": "stdout",
     "output_type": "stream",
     "text": [
      "981760 samples, 7670 batch \t Loss: 0.092500\n"
     ]
    },
    {
     "name": "stderr",
     "output_type": "stream",
     "text": [
      " 76% (7680 of 10000) |###############     | Elapsed Time: 0:27:13 ETA:  0:07:22"
     ]
    },
    {
     "name": "stdout",
     "output_type": "stream",
     "text": [
      "983040 samples, 7680 batch \t Loss: 0.073187\n"
     ]
    },
    {
     "name": "stderr",
     "output_type": "stream",
     "text": [
      " 76% (7690 of 10000) |###############     | Elapsed Time: 0:27:15 ETA:  0:07:19"
     ]
    },
    {
     "name": "stdout",
     "output_type": "stream",
     "text": [
      "984320 samples, 7690 batch \t Loss: 0.072911\n"
     ]
    },
    {
     "name": "stderr",
     "output_type": "stream",
     "text": [
      " 77% (7700 of 10000) |###############     | Elapsed Time: 0:27:17 ETA:  0:07:16"
     ]
    },
    {
     "name": "stdout",
     "output_type": "stream",
     "text": [
      "985600 samples, 7700 batch \t Loss: 0.071022\n"
     ]
    },
    {
     "name": "stderr",
     "output_type": "stream",
     "text": [
      " 77% (7710 of 10000) |###############     | Elapsed Time: 0:27:19 ETA:  0:07:15"
     ]
    },
    {
     "name": "stdout",
     "output_type": "stream",
     "text": [
      "986880 samples, 7710 batch \t Loss: 0.106309\n"
     ]
    },
    {
     "name": "stderr",
     "output_type": "stream",
     "text": [
      " 77% (7720 of 10000) |###############     | Elapsed Time: 0:27:21 ETA:  0:07:13"
     ]
    },
    {
     "name": "stdout",
     "output_type": "stream",
     "text": [
      "988160 samples, 7720 batch \t Loss: 0.079610\n"
     ]
    },
    {
     "name": "stderr",
     "output_type": "stream",
     "text": [
      " 77% (7730 of 10000) |###############     | Elapsed Time: 0:27:23 ETA:  0:07:11"
     ]
    },
    {
     "name": "stdout",
     "output_type": "stream",
     "text": [
      "989440 samples, 7730 batch \t Loss: 0.080774\n"
     ]
    },
    {
     "name": "stderr",
     "output_type": "stream",
     "text": [
      " 77% (7740 of 10000) |###############     | Elapsed Time: 0:27:25 ETA:  0:07:09"
     ]
    },
    {
     "name": "stdout",
     "output_type": "stream",
     "text": [
      "990720 samples, 7740 batch \t Loss: 0.109281\n"
     ]
    },
    {
     "name": "stderr",
     "output_type": "stream",
     "text": [
      " 77% (7750 of 10000) |###############     | Elapsed Time: 0:27:27 ETA:  0:07:08"
     ]
    },
    {
     "name": "stdout",
     "output_type": "stream",
     "text": [
      "992000 samples, 7750 batch \t Loss: 0.104784\n"
     ]
    },
    {
     "name": "stderr",
     "output_type": "stream",
     "text": [
      " 77% (7760 of 10000) |###############     | Elapsed Time: 0:27:28 ETA:  0:07:06"
     ]
    },
    {
     "name": "stdout",
     "output_type": "stream",
     "text": [
      "993280 samples, 7760 batch \t Loss: 0.090183\n"
     ]
    },
    {
     "name": "stderr",
     "output_type": "stream",
     "text": [
      " 77% (7770 of 10000) |###############     | Elapsed Time: 0:27:30 ETA:  0:07:04"
     ]
    },
    {
     "name": "stdout",
     "output_type": "stream",
     "text": [
      "994560 samples, 7770 batch \t Loss: 0.091966\n"
     ]
    },
    {
     "name": "stderr",
     "output_type": "stream",
     "text": [
      " 77% (7780 of 10000) |###############     | Elapsed Time: 0:27:32 ETA:  0:07:01"
     ]
    },
    {
     "name": "stdout",
     "output_type": "stream",
     "text": [
      "995840 samples, 7780 batch \t Loss: 0.092886\n"
     ]
    },
    {
     "name": "stderr",
     "output_type": "stream",
     "text": [
      " 77% (7790 of 10000) |###############     | Elapsed Time: 0:27:34 ETA:  0:07:00"
     ]
    },
    {
     "name": "stdout",
     "output_type": "stream",
     "text": [
      "997120 samples, 7790 batch \t Loss: 0.101135\n"
     ]
    },
    {
     "name": "stderr",
     "output_type": "stream",
     "text": [
      " 78% (7800 of 10000) |###############     | Elapsed Time: 0:27:36 ETA:  0:06:58"
     ]
    },
    {
     "name": "stdout",
     "output_type": "stream",
     "text": [
      "998400 samples, 7800 batch \t Loss: 0.116256\n"
     ]
    },
    {
     "name": "stderr",
     "output_type": "stream",
     "text": [
      " 78% (7810 of 10000) |###############     | Elapsed Time: 0:27:38 ETA:  0:06:56"
     ]
    },
    {
     "name": "stdout",
     "output_type": "stream",
     "text": [
      "999680 samples, 7810 batch \t Loss: 0.082863\n"
     ]
    },
    {
     "name": "stderr",
     "output_type": "stream",
     "text": [
      " 78% (7821 of 10000) |###############     | Elapsed Time: 0:27:40 ETA:  0:06:54"
     ]
    },
    {
     "name": "stdout",
     "output_type": "stream",
     "text": [
      "1000960 samples, 7820 batch \t Loss: 0.066222\n"
     ]
    },
    {
     "name": "stderr",
     "output_type": "stream",
     "text": [
      " 78% (7830 of 10000) |###############     | Elapsed Time: 0:27:42 ETA:  0:06:55"
     ]
    },
    {
     "name": "stdout",
     "output_type": "stream",
     "text": [
      "1002240 samples, 7830 batch \t Loss: 0.084086\n"
     ]
    },
    {
     "name": "stderr",
     "output_type": "stream",
     "text": [
      " 78% (7840 of 10000) |###############     | Elapsed Time: 0:27:44 ETA:  0:06:52"
     ]
    },
    {
     "name": "stdout",
     "output_type": "stream",
     "text": [
      "1003520 samples, 7840 batch \t Loss: 0.069953\n"
     ]
    },
    {
     "name": "stderr",
     "output_type": "stream",
     "text": [
      " 78% (7850 of 10000) |###############     | Elapsed Time: 0:27:46 ETA:  0:06:49"
     ]
    },
    {
     "name": "stdout",
     "output_type": "stream",
     "text": [
      "1004800 samples, 7850 batch \t Loss: 0.078912\n"
     ]
    },
    {
     "name": "stderr",
     "output_type": "stream",
     "text": [
      " 78% (7860 of 10000) |###############     | Elapsed Time: 0:27:47 ETA:  0:06:49"
     ]
    },
    {
     "name": "stdout",
     "output_type": "stream",
     "text": [
      "1006080 samples, 7860 batch \t Loss: 0.095485\n"
     ]
    },
    {
     "name": "stderr",
     "output_type": "stream",
     "text": [
      " 78% (7870 of 10000) |###############     | Elapsed Time: 0:27:49 ETA:  0:06:47"
     ]
    },
    {
     "name": "stdout",
     "output_type": "stream",
     "text": [
      "1007360 samples, 7870 batch \t Loss: 0.102148\n"
     ]
    },
    {
     "name": "stderr",
     "output_type": "stream",
     "text": [
      " 78% (7880 of 10000) |###############     | Elapsed Time: 0:27:51 ETA:  0:06:46"
     ]
    },
    {
     "name": "stdout",
     "output_type": "stream",
     "text": [
      "1008640 samples, 7880 batch \t Loss: 0.105925\n"
     ]
    },
    {
     "name": "stderr",
     "output_type": "stream",
     "text": [
      " 78% (7890 of 10000) |###############     | Elapsed Time: 0:27:53 ETA:  0:06:44"
     ]
    },
    {
     "name": "stdout",
     "output_type": "stream",
     "text": [
      "1009920 samples, 7890 batch \t Loss: 0.100294\n"
     ]
    },
    {
     "name": "stderr",
     "output_type": "stream",
     "text": [
      " 79% (7900 of 10000) |###############     | Elapsed Time: 0:27:55 ETA:  0:06:43"
     ]
    },
    {
     "name": "stdout",
     "output_type": "stream",
     "text": [
      "1011200 samples, 7900 batch \t Loss: 0.087881\n"
     ]
    },
    {
     "name": "stderr",
     "output_type": "stream",
     "text": [
      " 79% (7910 of 10000) |###############     | Elapsed Time: 0:27:57 ETA:  0:06:41"
     ]
    },
    {
     "name": "stdout",
     "output_type": "stream",
     "text": [
      "1012480 samples, 7910 batch \t Loss: 0.092900\n"
     ]
    },
    {
     "name": "stderr",
     "output_type": "stream",
     "text": [
      " 79% (7920 of 10000) |###############     | Elapsed Time: 0:27:59 ETA:  0:06:40"
     ]
    },
    {
     "name": "stdout",
     "output_type": "stream",
     "text": [
      "1013760 samples, 7920 batch \t Loss: 0.092456\n"
     ]
    },
    {
     "name": "stderr",
     "output_type": "stream",
     "text": [
      " 79% (7930 of 10000) |###############     | Elapsed Time: 0:28:01 ETA:  0:06:37"
     ]
    },
    {
     "name": "stdout",
     "output_type": "stream",
     "text": [
      "1015040 samples, 7930 batch \t Loss: 0.062299\n"
     ]
    },
    {
     "name": "stderr",
     "output_type": "stream",
     "text": [
      " 79% (7940 of 10000) |###############     | Elapsed Time: 0:28:03 ETA:  0:06:33"
     ]
    },
    {
     "name": "stdout",
     "output_type": "stream",
     "text": [
      "1016320 samples, 7940 batch \t Loss: 0.109072\n"
     ]
    },
    {
     "name": "stderr",
     "output_type": "stream",
     "text": [
      " 79% (7950 of 10000) |###############     | Elapsed Time: 0:28:05 ETA:  0:06:30"
     ]
    },
    {
     "name": "stdout",
     "output_type": "stream",
     "text": [
      "1017600 samples, 7950 batch \t Loss: 0.096559\n"
     ]
    },
    {
     "name": "stderr",
     "output_type": "stream",
     "text": [
      " 79% (7960 of 10000) |###############     | Elapsed Time: 0:28:06 ETA:  0:06:28"
     ]
    },
    {
     "name": "stdout",
     "output_type": "stream",
     "text": [
      "1018880 samples, 7960 batch \t Loss: 0.073456\n"
     ]
    },
    {
     "name": "stderr",
     "output_type": "stream",
     "text": [
      " 79% (7971 of 10000) |###############     | Elapsed Time: 0:28:09 ETA:  0:06:27"
     ]
    },
    {
     "name": "stdout",
     "output_type": "stream",
     "text": [
      "1020160 samples, 7970 batch \t Loss: 0.087761\n"
     ]
    },
    {
     "name": "stderr",
     "output_type": "stream",
     "text": [
      " 79% (7980 of 10000) |###############     | Elapsed Time: 0:28:10 ETA:  0:06:27"
     ]
    },
    {
     "name": "stdout",
     "output_type": "stream",
     "text": [
      "1021440 samples, 7980 batch \t Loss: 0.072566\n"
     ]
    },
    {
     "name": "stderr",
     "output_type": "stream",
     "text": [
      " 79% (7990 of 10000) |###############     | Elapsed Time: 0:28:12 ETA:  0:06:26"
     ]
    },
    {
     "name": "stdout",
     "output_type": "stream",
     "text": [
      "1022720 samples, 7990 batch \t Loss: 0.080930\n"
     ]
    },
    {
     "name": "stderr",
     "output_type": "stream",
     "text": [
      " 80% (8000 of 10000) |################    | Elapsed Time: 0:28:14 ETA:  0:06:24"
     ]
    },
    {
     "name": "stdout",
     "output_type": "stream",
     "text": [
      "1024000 samples, 8000 batch \t Loss: 0.096118\n"
     ]
    },
    {
     "name": "stderr",
     "output_type": "stream",
     "text": [
      " 80% (8010 of 10000) |################    | Elapsed Time: 0:28:16 ETA:  0:06:23"
     ]
    },
    {
     "name": "stdout",
     "output_type": "stream",
     "text": [
      "1025280 samples, 8010 batch \t Loss: 0.106965\n"
     ]
    },
    {
     "name": "stderr",
     "output_type": "stream",
     "text": [
      " 80% (8020 of 10000) |################    | Elapsed Time: 0:28:18 ETA:  0:06:22"
     ]
    },
    {
     "name": "stdout",
     "output_type": "stream",
     "text": [
      "1026560 samples, 8020 batch \t Loss: 0.096282\n"
     ]
    },
    {
     "name": "stderr",
     "output_type": "stream",
     "text": [
      " 80% (8030 of 10000) |################    | Elapsed Time: 0:28:20 ETA:  0:06:19"
     ]
    },
    {
     "name": "stdout",
     "output_type": "stream",
     "text": [
      "1027840 samples, 8030 batch \t Loss: 0.095624\n"
     ]
    },
    {
     "name": "stderr",
     "output_type": "stream",
     "text": [
      " 80% (8040 of 10000) |################    | Elapsed Time: 0:28:22 ETA:  0:06:18"
     ]
    },
    {
     "name": "stdout",
     "output_type": "stream",
     "text": [
      "1029120 samples, 8040 batch \t Loss: 0.091585\n"
     ]
    },
    {
     "name": "stderr",
     "output_type": "stream",
     "text": [
      " 80% (8050 of 10000) |################    | Elapsed Time: 0:28:24 ETA:  0:06:16"
     ]
    },
    {
     "name": "stdout",
     "output_type": "stream",
     "text": [
      "1030400 samples, 8050 batch \t Loss: 0.103349\n"
     ]
    },
    {
     "name": "stderr",
     "output_type": "stream",
     "text": [
      " 80% (8060 of 10000) |################    | Elapsed Time: 0:28:26 ETA:  0:06:14"
     ]
    },
    {
     "name": "stdout",
     "output_type": "stream",
     "text": [
      "1031680 samples, 8060 batch \t Loss: 0.090798\n"
     ]
    },
    {
     "name": "stderr",
     "output_type": "stream",
     "text": [
      " 80% (8070 of 10000) |################    | Elapsed Time: 0:28:28 ETA:  0:06:12"
     ]
    },
    {
     "name": "stdout",
     "output_type": "stream",
     "text": [
      "1032960 samples, 8070 batch \t Loss: 0.081810\n"
     ]
    },
    {
     "name": "stderr",
     "output_type": "stream",
     "text": [
      " 80% (8080 of 10000) |################    | Elapsed Time: 0:28:30 ETA:  0:06:10"
     ]
    },
    {
     "name": "stdout",
     "output_type": "stream",
     "text": [
      "1034240 samples, 8080 batch \t Loss: 0.088761\n"
     ]
    },
    {
     "name": "stderr",
     "output_type": "stream",
     "text": [
      " 80% (8090 of 10000) |################    | Elapsed Time: 0:28:31 ETA:  0:06:06"
     ]
    },
    {
     "name": "stdout",
     "output_type": "stream",
     "text": [
      "1035520 samples, 8090 batch \t Loss: 0.097135\n"
     ]
    },
    {
     "name": "stderr",
     "output_type": "stream",
     "text": [
      " 81% (8100 of 10000) |################    | Elapsed Time: 0:28:33 ETA:  0:06:04"
     ]
    },
    {
     "name": "stdout",
     "output_type": "stream",
     "text": [
      "1036800 samples, 8100 batch \t Loss: 0.063772\n"
     ]
    },
    {
     "name": "stderr",
     "output_type": "stream",
     "text": [
      " 81% (8110 of 10000) |################    | Elapsed Time: 0:28:35 ETA:  0:06:02"
     ]
    },
    {
     "name": "stdout",
     "output_type": "stream",
     "text": [
      "1038080 samples, 8110 batch \t Loss: 0.099365\n"
     ]
    },
    {
     "name": "stderr",
     "output_type": "stream",
     "text": [
      " 81% (8120 of 10000) |################    | Elapsed Time: 0:28:37 ETA:  0:06:00"
     ]
    },
    {
     "name": "stdout",
     "output_type": "stream",
     "text": [
      "1039360 samples, 8120 batch \t Loss: 0.074187\n"
     ]
    },
    {
     "name": "stderr",
     "output_type": "stream",
     "text": [
      " 81% (8130 of 10000) |################    | Elapsed Time: 0:28:39 ETA:  0:05:58"
     ]
    },
    {
     "name": "stdout",
     "output_type": "stream",
     "text": [
      "1040640 samples, 8130 batch \t Loss: 0.094520\n"
     ]
    },
    {
     "name": "stderr",
     "output_type": "stream",
     "text": [
      " 81% (8141 of 10000) |################    | Elapsed Time: 0:28:41 ETA:  0:05:57"
     ]
    },
    {
     "name": "stdout",
     "output_type": "stream",
     "text": [
      "1041920 samples, 8140 batch \t Loss: 0.068430\n"
     ]
    },
    {
     "name": "stderr",
     "output_type": "stream",
     "text": [
      " 81% (8150 of 10000) |################    | Elapsed Time: 0:28:43 ETA:  0:05:57"
     ]
    },
    {
     "name": "stdout",
     "output_type": "stream",
     "text": [
      "1043200 samples, 8150 batch \t Loss: 0.091988\n"
     ]
    },
    {
     "name": "stderr",
     "output_type": "stream",
     "text": [
      " 81% (8160 of 10000) |################    | Elapsed Time: 0:28:45 ETA:  0:05:54"
     ]
    },
    {
     "name": "stdout",
     "output_type": "stream",
     "text": [
      "1044480 samples, 8160 batch \t Loss: 0.075664\n"
     ]
    },
    {
     "name": "stderr",
     "output_type": "stream",
     "text": [
      " 81% (8170 of 10000) |################    | Elapsed Time: 0:28:47 ETA:  0:05:51"
     ]
    },
    {
     "name": "stdout",
     "output_type": "stream",
     "text": [
      "1045760 samples, 8170 batch \t Loss: 0.068644\n"
     ]
    },
    {
     "name": "stderr",
     "output_type": "stream",
     "text": [
      " 81% (8180 of 10000) |################    | Elapsed Time: 0:28:49 ETA:  0:05:51"
     ]
    },
    {
     "name": "stdout",
     "output_type": "stream",
     "text": [
      "1047040 samples, 8180 batch \t Loss: 0.082140\n"
     ]
    },
    {
     "name": "stderr",
     "output_type": "stream",
     "text": [
      " 81% (8190 of 10000) |################    | Elapsed Time: 0:28:51 ETA:  0:05:49"
     ]
    },
    {
     "name": "stdout",
     "output_type": "stream",
     "text": [
      "1048320 samples, 8190 batch \t Loss: 0.088436\n"
     ]
    },
    {
     "name": "stderr",
     "output_type": "stream",
     "text": [
      " 82% (8200 of 10000) |################    | Elapsed Time: 0:28:53 ETA:  0:05:47"
     ]
    },
    {
     "name": "stdout",
     "output_type": "stream",
     "text": [
      "1049600 samples, 8200 batch \t Loss: 0.083063\n"
     ]
    },
    {
     "name": "stderr",
     "output_type": "stream",
     "text": [
      " 82% (8210 of 10000) |################    | Elapsed Time: 0:28:55 ETA:  0:05:46"
     ]
    },
    {
     "name": "stdout",
     "output_type": "stream",
     "text": [
      "1050880 samples, 8210 batch \t Loss: 0.086591\n"
     ]
    },
    {
     "name": "stderr",
     "output_type": "stream",
     "text": [
      " 82% (8220 of 10000) |################    | Elapsed Time: 0:28:57 ETA:  0:05:44"
     ]
    },
    {
     "name": "stdout",
     "output_type": "stream",
     "text": [
      "1052160 samples, 8220 batch \t Loss: 0.097599\n"
     ]
    },
    {
     "name": "stderr",
     "output_type": "stream",
     "text": [
      " 82% (8230 of 10000) |################    | Elapsed Time: 0:28:58 ETA:  0:05:43"
     ]
    },
    {
     "name": "stdout",
     "output_type": "stream",
     "text": [
      "1053440 samples, 8230 batch \t Loss: 0.078290\n"
     ]
    },
    {
     "name": "stderr",
     "output_type": "stream",
     "text": [
      " 82% (8240 of 10000) |################    | Elapsed Time: 0:29:00 ETA:  0:05:40"
     ]
    },
    {
     "name": "stdout",
     "output_type": "stream",
     "text": [
      "1054720 samples, 8240 batch \t Loss: 0.090420\n"
     ]
    },
    {
     "name": "stderr",
     "output_type": "stream",
     "text": [
      " 82% (8250 of 10000) |################    | Elapsed Time: 0:29:02 ETA:  0:05:38"
     ]
    },
    {
     "name": "stdout",
     "output_type": "stream",
     "text": [
      "1056000 samples, 8250 batch \t Loss: 0.068889\n"
     ]
    },
    {
     "name": "stderr",
     "output_type": "stream",
     "text": [
      " 82% (8260 of 10000) |################    | Elapsed Time: 0:29:04 ETA:  0:05:34"
     ]
    },
    {
     "name": "stdout",
     "output_type": "stream",
     "text": [
      "1057280 samples, 8260 batch \t Loss: 0.084598\n"
     ]
    },
    {
     "name": "stderr",
     "output_type": "stream",
     "text": [
      " 82% (8270 of 10000) |################    | Elapsed Time: 0:29:06 ETA:  0:05:33"
     ]
    },
    {
     "name": "stdout",
     "output_type": "stream",
     "text": [
      "1058560 samples, 8270 batch \t Loss: 0.072147\n"
     ]
    },
    {
     "name": "stderr",
     "output_type": "stream",
     "text": [
      " 82% (8280 of 10000) |################    | Elapsed Time: 0:29:08 ETA:  0:05:31"
     ]
    },
    {
     "name": "stdout",
     "output_type": "stream",
     "text": [
      "1059840 samples, 8280 batch \t Loss: 0.104162\n"
     ]
    },
    {
     "name": "stderr",
     "output_type": "stream",
     "text": [
      " 82% (8290 of 10000) |################    | Elapsed Time: 0:29:10 ETA:  0:05:29"
     ]
    },
    {
     "name": "stdout",
     "output_type": "stream",
     "text": [
      "1061120 samples, 8290 batch \t Loss: 0.052493\n"
     ]
    },
    {
     "name": "stderr",
     "output_type": "stream",
     "text": [
      " 83% (8300 of 10000) |################    | Elapsed Time: 0:29:12 ETA:  0:05:26"
     ]
    },
    {
     "name": "stdout",
     "output_type": "stream",
     "text": [
      "1062400 samples, 8300 batch \t Loss: 0.083342\n"
     ]
    },
    {
     "name": "stderr",
     "output_type": "stream",
     "text": [
      " 83% (8310 of 10000) |################    | Elapsed Time: 0:29:14 ETA:  0:05:23"
     ]
    },
    {
     "name": "stdout",
     "output_type": "stream",
     "text": [
      "1063680 samples, 8310 batch \t Loss: 0.077030\n"
     ]
    },
    {
     "name": "stderr",
     "output_type": "stream",
     "text": [
      " 83% (8320 of 10000) |################    | Elapsed Time: 0:29:16 ETA:  0:05:22"
     ]
    },
    {
     "name": "stdout",
     "output_type": "stream",
     "text": [
      "1064960 samples, 8320 batch \t Loss: 0.082159\n"
     ]
    },
    {
     "name": "stderr",
     "output_type": "stream",
     "text": [
      " 83% (8330 of 10000) |################    | Elapsed Time: 0:29:18 ETA:  0:05:19"
     ]
    },
    {
     "name": "stdout",
     "output_type": "stream",
     "text": [
      "1066240 samples, 8330 batch \t Loss: 0.100624\n"
     ]
    },
    {
     "name": "stderr",
     "output_type": "stream",
     "text": [
      " 83% (8340 of 10000) |################    | Elapsed Time: 0:29:19 ETA:  0:05:16"
     ]
    },
    {
     "name": "stdout",
     "output_type": "stream",
     "text": [
      "1067520 samples, 8340 batch \t Loss: 0.067919\n"
     ]
    },
    {
     "name": "stderr",
     "output_type": "stream",
     "text": [
      " 83% (8351 of 10000) |################    | Elapsed Time: 0:29:21 ETA:  0:05:14"
     ]
    },
    {
     "name": "stdout",
     "output_type": "stream",
     "text": [
      "1068800 samples, 8350 batch \t Loss: 0.085657\n"
     ]
    },
    {
     "name": "stderr",
     "output_type": "stream",
     "text": [
      " 83% (8360 of 10000) |################    | Elapsed Time: 0:29:23 ETA:  0:05:13"
     ]
    },
    {
     "name": "stdout",
     "output_type": "stream",
     "text": [
      "1070080 samples, 8360 batch \t Loss: 0.079626\n"
     ]
    },
    {
     "name": "stderr",
     "output_type": "stream",
     "text": [
      " 83% (8370 of 10000) |################    | Elapsed Time: 0:29:25 ETA:  0:05:12"
     ]
    },
    {
     "name": "stdout",
     "output_type": "stream",
     "text": [
      "1071360 samples, 8370 batch \t Loss: 0.076825\n"
     ]
    },
    {
     "name": "stderr",
     "output_type": "stream",
     "text": [
      " 83% (8380 of 10000) |################    | Elapsed Time: 0:29:27 ETA:  0:05:11"
     ]
    },
    {
     "name": "stdout",
     "output_type": "stream",
     "text": [
      "1072640 samples, 8380 batch \t Loss: 0.086821\n"
     ]
    },
    {
     "name": "stderr",
     "output_type": "stream",
     "text": [
      " 83% (8390 of 10000) |################    | Elapsed Time: 0:29:29 ETA:  0:05:10"
     ]
    },
    {
     "name": "stdout",
     "output_type": "stream",
     "text": [
      "1073920 samples, 8390 batch \t Loss: 0.085844\n"
     ]
    },
    {
     "name": "stderr",
     "output_type": "stream",
     "text": [
      " 84% (8400 of 10000) |################    | Elapsed Time: 0:29:31 ETA:  0:05:08"
     ]
    },
    {
     "name": "stdout",
     "output_type": "stream",
     "text": [
      "1075200 samples, 8400 batch \t Loss: 0.082376\n"
     ]
    },
    {
     "name": "stderr",
     "output_type": "stream",
     "text": [
      " 84% (8410 of 10000) |################    | Elapsed Time: 0:29:33 ETA:  0:05:07"
     ]
    },
    {
     "name": "stdout",
     "output_type": "stream",
     "text": [
      "1076480 samples, 8410 batch \t Loss: 0.085590\n"
     ]
    },
    {
     "name": "stderr",
     "output_type": "stream",
     "text": [
      " 84% (8420 of 10000) |################    | Elapsed Time: 0:29:35 ETA:  0:05:03"
     ]
    },
    {
     "name": "stdout",
     "output_type": "stream",
     "text": [
      "1077760 samples, 8420 batch \t Loss: 0.062270\n"
     ]
    },
    {
     "name": "stderr",
     "output_type": "stream",
     "text": [
      " 84% (8430 of 10000) |################    | Elapsed Time: 0:29:37 ETA:  0:05:01"
     ]
    },
    {
     "name": "stdout",
     "output_type": "stream",
     "text": [
      "1079040 samples, 8430 batch \t Loss: 0.106636\n"
     ]
    },
    {
     "name": "stderr",
     "output_type": "stream",
     "text": [
      " 84% (8440 of 10000) |################    | Elapsed Time: 0:29:39 ETA:  0:05:00"
     ]
    },
    {
     "name": "stdout",
     "output_type": "stream",
     "text": [
      "1080320 samples, 8440 batch \t Loss: 0.080306\n"
     ]
    },
    {
     "name": "stderr",
     "output_type": "stream",
     "text": [
      " 84% (8450 of 10000) |################    | Elapsed Time: 0:29:41 ETA:  0:04:58"
     ]
    },
    {
     "name": "stdout",
     "output_type": "stream",
     "text": [
      "1081600 samples, 8450 batch \t Loss: 0.087030\n"
     ]
    },
    {
     "name": "stderr",
     "output_type": "stream",
     "text": [
      " 84% (8460 of 10000) |################    | Elapsed Time: 0:29:42 ETA:  0:04:57"
     ]
    },
    {
     "name": "stdout",
     "output_type": "stream",
     "text": [
      "1082880 samples, 8460 batch \t Loss: 0.089622\n"
     ]
    },
    {
     "name": "stderr",
     "output_type": "stream",
     "text": [
      " 84% (8470 of 10000) |################    | Elapsed Time: 0:29:44 ETA:  0:04:54"
     ]
    },
    {
     "name": "stdout",
     "output_type": "stream",
     "text": [
      "1084160 samples, 8470 batch \t Loss: 0.084677\n"
     ]
    },
    {
     "name": "stderr",
     "output_type": "stream",
     "text": [
      " 84% (8480 of 10000) |################    | Elapsed Time: 0:29:46 ETA:  0:04:52"
     ]
    },
    {
     "name": "stdout",
     "output_type": "stream",
     "text": [
      "1085440 samples, 8480 batch \t Loss: 0.075659\n"
     ]
    },
    {
     "name": "stderr",
     "output_type": "stream",
     "text": [
      " 84% (8490 of 10000) |################    | Elapsed Time: 0:29:48 ETA:  0:04:50"
     ]
    },
    {
     "name": "stdout",
     "output_type": "stream",
     "text": [
      "1086720 samples, 8490 batch \t Loss: 0.083552\n"
     ]
    },
    {
     "name": "stderr",
     "output_type": "stream",
     "text": [
      " 85% (8500 of 10000) |#################   | Elapsed Time: 0:29:50 ETA:  0:04:48"
     ]
    },
    {
     "name": "stdout",
     "output_type": "stream",
     "text": [
      "1088000 samples, 8500 batch \t Loss: 0.070526\n"
     ]
    },
    {
     "name": "stderr",
     "output_type": "stream",
     "text": [
      " 85% (8510 of 10000) |#################   | Elapsed Time: 0:29:52 ETA:  0:04:46"
     ]
    },
    {
     "name": "stdout",
     "output_type": "stream",
     "text": [
      "1089280 samples, 8510 batch \t Loss: 0.069018\n"
     ]
    },
    {
     "name": "stderr",
     "output_type": "stream",
     "text": [
      " 85% (8520 of 10000) |#################   | Elapsed Time: 0:29:54 ETA:  0:04:45"
     ]
    },
    {
     "name": "stdout",
     "output_type": "stream",
     "text": [
      "1090560 samples, 8520 batch \t Loss: 0.084130\n"
     ]
    },
    {
     "name": "stderr",
     "output_type": "stream",
     "text": [
      " 85% (8530 of 10000) |#################   | Elapsed Time: 0:29:56 ETA:  0:04:44"
     ]
    },
    {
     "name": "stdout",
     "output_type": "stream",
     "text": [
      "1091840 samples, 8530 batch \t Loss: 0.067225\n"
     ]
    },
    {
     "name": "stderr",
     "output_type": "stream",
     "text": [
      " 85% (8540 of 10000) |#################   | Elapsed Time: 0:29:58 ETA:  0:04:43"
     ]
    },
    {
     "name": "stdout",
     "output_type": "stream",
     "text": [
      "1093120 samples, 8540 batch \t Loss: 0.078455\n"
     ]
    },
    {
     "name": "stderr",
     "output_type": "stream",
     "text": [
      " 85% (8550 of 10000) |#################   | Elapsed Time: 0:30:00 ETA:  0:04:41"
     ]
    },
    {
     "name": "stdout",
     "output_type": "stream",
     "text": [
      "1094400 samples, 8550 batch \t Loss: 0.066256\n"
     ]
    },
    {
     "name": "stderr",
     "output_type": "stream",
     "text": [
      " 85% (8560 of 10000) |#################   | Elapsed Time: 0:30:02 ETA:  0:04:39"
     ]
    },
    {
     "name": "stdout",
     "output_type": "stream",
     "text": [
      "1095680 samples, 8560 batch \t Loss: 0.092135\n"
     ]
    },
    {
     "name": "stderr",
     "output_type": "stream",
     "text": [
      " 85% (8570 of 10000) |#################   | Elapsed Time: 0:30:04 ETA:  0:04:36"
     ]
    },
    {
     "name": "stdout",
     "output_type": "stream",
     "text": [
      "1096960 samples, 8570 batch \t Loss: 0.076870\n"
     ]
    },
    {
     "name": "stderr",
     "output_type": "stream",
     "text": [
      " 85% (8580 of 10000) |#################   | Elapsed Time: 0:30:06 ETA:  0:04:34"
     ]
    },
    {
     "name": "stdout",
     "output_type": "stream",
     "text": [
      "1098240 samples, 8580 batch \t Loss: 0.078602\n"
     ]
    },
    {
     "name": "stderr",
     "output_type": "stream",
     "text": [
      " 85% (8590 of 10000) |#################   | Elapsed Time: 0:30:08 ETA:  0:04:32"
     ]
    },
    {
     "name": "stdout",
     "output_type": "stream",
     "text": [
      "1099520 samples, 8590 batch \t Loss: 0.078045\n"
     ]
    },
    {
     "name": "stderr",
     "output_type": "stream",
     "text": [
      " 86% (8600 of 10000) |#################   | Elapsed Time: 0:30:10 ETA:  0:04:30"
     ]
    },
    {
     "name": "stdout",
     "output_type": "stream",
     "text": [
      "1100800 samples, 8600 batch \t Loss: 0.094590\n"
     ]
    },
    {
     "name": "stderr",
     "output_type": "stream",
     "text": [
      " 86% (8610 of 10000) |#################   | Elapsed Time: 0:30:11 ETA:  0:04:27"
     ]
    },
    {
     "name": "stdout",
     "output_type": "stream",
     "text": [
      "1102080 samples, 8610 batch \t Loss: 0.094274\n"
     ]
    },
    {
     "name": "stderr",
     "output_type": "stream",
     "text": [
      " 86% (8620 of 10000) |#################   | Elapsed Time: 0:30:13 ETA:  0:04:25"
     ]
    },
    {
     "name": "stdout",
     "output_type": "stream",
     "text": [
      "1103360 samples, 8620 batch \t Loss: 0.060055\n"
     ]
    },
    {
     "name": "stderr",
     "output_type": "stream",
     "text": [
      " 86% (8630 of 10000) |#################   | Elapsed Time: 0:30:15 ETA:  0:04:23"
     ]
    },
    {
     "name": "stdout",
     "output_type": "stream",
     "text": [
      "1104640 samples, 8630 batch \t Loss: 0.102010\n"
     ]
    },
    {
     "name": "stderr",
     "output_type": "stream",
     "text": [
      " 86% (8640 of 10000) |#################   | Elapsed Time: 0:30:17 ETA:  0:04:20"
     ]
    },
    {
     "name": "stdout",
     "output_type": "stream",
     "text": [
      "1105920 samples, 8640 batch \t Loss: 0.077054\n"
     ]
    },
    {
     "name": "stderr",
     "output_type": "stream",
     "text": [
      " 86% (8650 of 10000) |#################   | Elapsed Time: 0:30:19 ETA:  0:04:18"
     ]
    },
    {
     "name": "stdout",
     "output_type": "stream",
     "text": [
      "1107200 samples, 8650 batch \t Loss: 0.073403\n"
     ]
    },
    {
     "name": "stderr",
     "output_type": "stream",
     "text": [
      " 86% (8660 of 10000) |#################   | Elapsed Time: 0:30:21 ETA:  0:04:15"
     ]
    },
    {
     "name": "stdout",
     "output_type": "stream",
     "text": [
      "1108480 samples, 8660 batch \t Loss: 0.097475\n"
     ]
    },
    {
     "name": "stderr",
     "output_type": "stream",
     "text": [
      " 86% (8670 of 10000) |#################   | Elapsed Time: 0:30:23 ETA:  0:04:12"
     ]
    },
    {
     "name": "stdout",
     "output_type": "stream",
     "text": [
      "1109760 samples, 8670 batch \t Loss: 0.064160\n"
     ]
    },
    {
     "name": "stderr",
     "output_type": "stream",
     "text": [
      " 86% (8680 of 10000) |#################   | Elapsed Time: 0:30:25 ETA:  0:04:11"
     ]
    },
    {
     "name": "stdout",
     "output_type": "stream",
     "text": [
      "1111040 samples, 8680 batch \t Loss: 0.087412\n"
     ]
    },
    {
     "name": "stderr",
     "output_type": "stream",
     "text": [
      " 86% (8690 of 10000) |#################   | Elapsed Time: 0:30:27 ETA:  0:04:09"
     ]
    },
    {
     "name": "stdout",
     "output_type": "stream",
     "text": [
      "1112320 samples, 8690 batch \t Loss: 0.078915\n"
     ]
    },
    {
     "name": "stderr",
     "output_type": "stream",
     "text": [
      " 87% (8700 of 10000) |#################   | Elapsed Time: 0:30:29 ETA:  0:04:07"
     ]
    },
    {
     "name": "stdout",
     "output_type": "stream",
     "text": [
      "1113600 samples, 8700 batch \t Loss: 0.077945\n"
     ]
    },
    {
     "name": "stderr",
     "output_type": "stream",
     "text": [
      " 87% (8710 of 10000) |#################   | Elapsed Time: 0:30:30 ETA:  0:04:04"
     ]
    },
    {
     "name": "stdout",
     "output_type": "stream",
     "text": [
      "1114880 samples, 8710 batch \t Loss: 0.083416\n"
     ]
    },
    {
     "name": "stderr",
     "output_type": "stream",
     "text": [
      " 87% (8720 of 10000) |#################   | Elapsed Time: 0:30:32 ETA:  0:04:03"
     ]
    },
    {
     "name": "stdout",
     "output_type": "stream",
     "text": [
      "1116160 samples, 8720 batch \t Loss: 0.075205\n"
     ]
    },
    {
     "name": "stderr",
     "output_type": "stream",
     "text": [
      " 87% (8730 of 10000) |#################   | Elapsed Time: 0:30:34 ETA:  0:04:01"
     ]
    },
    {
     "name": "stdout",
     "output_type": "stream",
     "text": [
      "1117440 samples, 8730 batch \t Loss: 0.087869\n"
     ]
    },
    {
     "name": "stderr",
     "output_type": "stream",
     "text": [
      " 87% (8740 of 10000) |#################   | Elapsed Time: 0:30:36 ETA:  0:03:58"
     ]
    },
    {
     "name": "stdout",
     "output_type": "stream",
     "text": [
      "1118720 samples, 8740 batch \t Loss: 0.076636\n"
     ]
    },
    {
     "name": "stderr",
     "output_type": "stream",
     "text": [
      " 87% (8750 of 10000) |#################   | Elapsed Time: 0:30:38 ETA:  0:03:57"
     ]
    },
    {
     "name": "stdout",
     "output_type": "stream",
     "text": [
      "1120000 samples, 8750 batch \t Loss: 0.090805\n"
     ]
    },
    {
     "name": "stderr",
     "output_type": "stream",
     "text": [
      " 87% (8760 of 10000) |#################   | Elapsed Time: 0:30:40 ETA:  0:03:55"
     ]
    },
    {
     "name": "stdout",
     "output_type": "stream",
     "text": [
      "1121280 samples, 8760 batch \t Loss: 0.091409\n"
     ]
    },
    {
     "name": "stderr",
     "output_type": "stream",
     "text": [
      " 87% (8770 of 10000) |#################   | Elapsed Time: 0:30:42 ETA:  0:03:54"
     ]
    },
    {
     "name": "stdout",
     "output_type": "stream",
     "text": [
      "1122560 samples, 8770 batch \t Loss: 0.067881\n"
     ]
    },
    {
     "name": "stderr",
     "output_type": "stream",
     "text": [
      " 87% (8780 of 10000) |#################   | Elapsed Time: 0:30:44 ETA:  0:03:53"
     ]
    },
    {
     "name": "stdout",
     "output_type": "stream",
     "text": [
      "1123840 samples, 8780 batch \t Loss: 0.108140\n"
     ]
    },
    {
     "name": "stderr",
     "output_type": "stream",
     "text": [
      " 87% (8790 of 10000) |#################   | Elapsed Time: 0:30:46 ETA:  0:03:51"
     ]
    },
    {
     "name": "stdout",
     "output_type": "stream",
     "text": [
      "1125120 samples, 8790 batch \t Loss: 0.076221\n"
     ]
    },
    {
     "name": "stderr",
     "output_type": "stream",
     "text": [
      " 88% (8800 of 10000) |#################   | Elapsed Time: 0:30:48 ETA:  0:03:50"
     ]
    },
    {
     "name": "stdout",
     "output_type": "stream",
     "text": [
      "1126400 samples, 8800 batch \t Loss: 0.089056\n"
     ]
    },
    {
     "name": "stderr",
     "output_type": "stream",
     "text": [
      " 88% (8810 of 10000) |#################   | Elapsed Time: 0:30:50 ETA:  0:03:48"
     ]
    },
    {
     "name": "stdout",
     "output_type": "stream",
     "text": [
      "1127680 samples, 8810 batch \t Loss: 0.060670\n"
     ]
    },
    {
     "name": "stderr",
     "output_type": "stream",
     "text": [
      " 88% (8820 of 10000) |#################   | Elapsed Time: 0:30:52 ETA:  0:03:47"
     ]
    },
    {
     "name": "stdout",
     "output_type": "stream",
     "text": [
      "1128960 samples, 8820 batch \t Loss: 0.087336\n"
     ]
    },
    {
     "name": "stderr",
     "output_type": "stream",
     "text": [
      " 88% (8830 of 10000) |#################   | Elapsed Time: 0:30:54 ETA:  0:03:45"
     ]
    },
    {
     "name": "stdout",
     "output_type": "stream",
     "text": [
      "1130240 samples, 8830 batch \t Loss: 0.067827\n"
     ]
    },
    {
     "name": "stderr",
     "output_type": "stream",
     "text": [
      " 88% (8840 of 10000) |#################   | Elapsed Time: 0:30:55 ETA:  0:03:44"
     ]
    },
    {
     "name": "stdout",
     "output_type": "stream",
     "text": [
      "1131520 samples, 8840 batch \t Loss: 0.081656\n"
     ]
    },
    {
     "name": "stderr",
     "output_type": "stream",
     "text": [
      " 88% (8850 of 10000) |#################   | Elapsed Time: 0:30:57 ETA:  0:03:42"
     ]
    },
    {
     "name": "stdout",
     "output_type": "stream",
     "text": [
      "1132800 samples, 8850 batch \t Loss: 0.067935\n"
     ]
    },
    {
     "name": "stderr",
     "output_type": "stream",
     "text": [
      " 88% (8861 of 10000) |#################   | Elapsed Time: 0:30:59 ETA:  0:03:41"
     ]
    },
    {
     "name": "stdout",
     "output_type": "stream",
     "text": [
      "1134080 samples, 8860 batch \t Loss: 0.088902\n"
     ]
    },
    {
     "name": "stderr",
     "output_type": "stream",
     "text": [
      " 88% (8870 of 10000) |#################   | Elapsed Time: 0:31:01 ETA:  0:03:38"
     ]
    },
    {
     "name": "stdout",
     "output_type": "stream",
     "text": [
      "1135360 samples, 8870 batch \t Loss: 0.097201\n"
     ]
    },
    {
     "name": "stderr",
     "output_type": "stream",
     "text": [
      " 88% (8880 of 10000) |#################   | Elapsed Time: 0:31:03 ETA:  0:03:36"
     ]
    },
    {
     "name": "stdout",
     "output_type": "stream",
     "text": [
      "1136640 samples, 8880 batch \t Loss: 0.085612\n"
     ]
    },
    {
     "name": "stderr",
     "output_type": "stream",
     "text": [
      " 88% (8890 of 10000) |#################   | Elapsed Time: 0:31:05 ETA:  0:03:34"
     ]
    },
    {
     "name": "stdout",
     "output_type": "stream",
     "text": [
      "1137920 samples, 8890 batch \t Loss: 0.080181\n"
     ]
    },
    {
     "name": "stderr",
     "output_type": "stream",
     "text": [
      " 89% (8900 of 10000) |#################   | Elapsed Time: 0:31:07 ETA:  0:03:32"
     ]
    },
    {
     "name": "stdout",
     "output_type": "stream",
     "text": [
      "1139200 samples, 8900 batch \t Loss: 0.061964\n"
     ]
    },
    {
     "name": "stderr",
     "output_type": "stream",
     "text": [
      " 89% (8910 of 10000) |#################   | Elapsed Time: 0:31:09 ETA:  0:03:30"
     ]
    },
    {
     "name": "stdout",
     "output_type": "stream",
     "text": [
      "1140480 samples, 8910 batch \t Loss: 0.063481\n"
     ]
    },
    {
     "name": "stderr",
     "output_type": "stream",
     "text": [
      " 89% (8921 of 10000) |#################   | Elapsed Time: 0:31:11 ETA:  0:03:28"
     ]
    },
    {
     "name": "stdout",
     "output_type": "stream",
     "text": [
      "1141760 samples, 8920 batch \t Loss: 0.075425\n"
     ]
    },
    {
     "name": "stderr",
     "output_type": "stream",
     "text": [
      " 89% (8930 of 10000) |#################   | Elapsed Time: 0:31:13 ETA:  0:03:27"
     ]
    },
    {
     "name": "stdout",
     "output_type": "stream",
     "text": [
      "1143040 samples, 8930 batch \t Loss: 0.100104\n"
     ]
    },
    {
     "name": "stderr",
     "output_type": "stream",
     "text": [
      " 89% (8940 of 10000) |#################   | Elapsed Time: 0:31:15 ETA:  0:03:25"
     ]
    },
    {
     "name": "stdout",
     "output_type": "stream",
     "text": [
      "1144320 samples, 8940 batch \t Loss: 0.084597\n"
     ]
    },
    {
     "name": "stderr",
     "output_type": "stream",
     "text": [
      " 89% (8950 of 10000) |#################   | Elapsed Time: 0:31:17 ETA:  0:03:23"
     ]
    },
    {
     "name": "stdout",
     "output_type": "stream",
     "text": [
      "1145600 samples, 8950 batch \t Loss: 0.082018\n"
     ]
    },
    {
     "name": "stderr",
     "output_type": "stream",
     "text": [
      " 89% (8960 of 10000) |#################   | Elapsed Time: 0:31:19 ETA:  0:03:22"
     ]
    },
    {
     "name": "stdout",
     "output_type": "stream",
     "text": [
      "1146880 samples, 8960 batch \t Loss: 0.074233\n"
     ]
    },
    {
     "name": "stderr",
     "output_type": "stream",
     "text": [
      " 89% (8970 of 10000) |#################   | Elapsed Time: 0:31:21 ETA:  0:03:19"
     ]
    },
    {
     "name": "stdout",
     "output_type": "stream",
     "text": [
      "1148160 samples, 8970 batch \t Loss: 0.108416\n"
     ]
    },
    {
     "name": "stderr",
     "output_type": "stream",
     "text": [
      " 89% (8980 of 10000) |#################   | Elapsed Time: 0:31:22 ETA:  0:03:18"
     ]
    },
    {
     "name": "stdout",
     "output_type": "stream",
     "text": [
      "1149440 samples, 8980 batch \t Loss: 0.092318\n"
     ]
    },
    {
     "name": "stderr",
     "output_type": "stream",
     "text": [
      " 89% (8990 of 10000) |#################   | Elapsed Time: 0:31:24 ETA:  0:03:15"
     ]
    },
    {
     "name": "stdout",
     "output_type": "stream",
     "text": [
      "1150720 samples, 8990 batch \t Loss: 0.074278\n"
     ]
    },
    {
     "name": "stderr",
     "output_type": "stream",
     "text": [
      " 90% (9000 of 10000) |##################  | Elapsed Time: 0:31:26 ETA:  0:03:14"
     ]
    },
    {
     "name": "stdout",
     "output_type": "stream",
     "text": [
      "1152000 samples, 9000 batch \t Loss: 0.085057\n"
     ]
    },
    {
     "name": "stderr",
     "output_type": "stream",
     "text": [
      " 90% (9010 of 10000) |##################  | Elapsed Time: 0:31:28 ETA:  0:03:12"
     ]
    },
    {
     "name": "stdout",
     "output_type": "stream",
     "text": [
      "1153280 samples, 9010 batch \t Loss: 0.096204\n"
     ]
    },
    {
     "name": "stderr",
     "output_type": "stream",
     "text": [
      " 90% (9020 of 10000) |##################  | Elapsed Time: 0:31:30 ETA:  0:03:10"
     ]
    },
    {
     "name": "stdout",
     "output_type": "stream",
     "text": [
      "1154560 samples, 9020 batch \t Loss: 0.076486\n"
     ]
    },
    {
     "name": "stderr",
     "output_type": "stream",
     "text": [
      " 90% (9030 of 10000) |##################  | Elapsed Time: 0:31:32 ETA:  0:03:07"
     ]
    },
    {
     "name": "stdout",
     "output_type": "stream",
     "text": [
      "1155840 samples, 9030 batch \t Loss: 0.088237\n"
     ]
    },
    {
     "name": "stderr",
     "output_type": "stream",
     "text": [
      " 90% (9040 of 10000) |##################  | Elapsed Time: 0:31:34 ETA:  0:03:04"
     ]
    },
    {
     "name": "stdout",
     "output_type": "stream",
     "text": [
      "1157120 samples, 9040 batch \t Loss: 0.065217\n"
     ]
    },
    {
     "name": "stderr",
     "output_type": "stream",
     "text": [
      " 90% (9050 of 10000) |##################  | Elapsed Time: 0:31:36 ETA:  0:03:02"
     ]
    },
    {
     "name": "stdout",
     "output_type": "stream",
     "text": [
      "1158400 samples, 9050 batch \t Loss: 0.066969\n"
     ]
    },
    {
     "name": "stderr",
     "output_type": "stream",
     "text": [
      " 90% (9060 of 10000) |##################  | Elapsed Time: 0:31:38 ETA:  0:02:59"
     ]
    },
    {
     "name": "stdout",
     "output_type": "stream",
     "text": [
      "1159680 samples, 9060 batch \t Loss: 0.101946\n"
     ]
    },
    {
     "name": "stderr",
     "output_type": "stream",
     "text": [
      " 90% (9070 of 10000) |##################  | Elapsed Time: 0:31:40 ETA:  0:02:57"
     ]
    },
    {
     "name": "stdout",
     "output_type": "stream",
     "text": [
      "1160960 samples, 9070 batch \t Loss: 0.060717\n"
     ]
    },
    {
     "name": "stderr",
     "output_type": "stream",
     "text": [
      " 90% (9080 of 10000) |##################  | Elapsed Time: 0:31:42 ETA:  0:02:56"
     ]
    },
    {
     "name": "stdout",
     "output_type": "stream",
     "text": [
      "1162240 samples, 9080 batch \t Loss: 0.062830\n"
     ]
    },
    {
     "name": "stderr",
     "output_type": "stream",
     "text": [
      " 90% (9090 of 10000) |##################  | Elapsed Time: 0:31:44 ETA:  0:02:54"
     ]
    },
    {
     "name": "stdout",
     "output_type": "stream",
     "text": [
      "1163520 samples, 9090 batch \t Loss: 0.100808\n"
     ]
    },
    {
     "name": "stderr",
     "output_type": "stream",
     "text": [
      " 91% (9100 of 10000) |##################  | Elapsed Time: 0:31:45 ETA:  0:02:52"
     ]
    },
    {
     "name": "stdout",
     "output_type": "stream",
     "text": [
      "1164800 samples, 9100 batch \t Loss: 0.059439\n"
     ]
    },
    {
     "name": "stderr",
     "output_type": "stream",
     "text": [
      " 91% (9110 of 10000) |##################  | Elapsed Time: 0:31:47 ETA:  0:02:50"
     ]
    },
    {
     "name": "stdout",
     "output_type": "stream",
     "text": [
      "1166080 samples, 9110 batch \t Loss: 0.064969\n"
     ]
    },
    {
     "name": "stderr",
     "output_type": "stream",
     "text": [
      " 91% (9120 of 10000) |##################  | Elapsed Time: 0:31:49 ETA:  0:02:48"
     ]
    },
    {
     "name": "stdout",
     "output_type": "stream",
     "text": [
      "1167360 samples, 9120 batch \t Loss: 0.058248\n"
     ]
    },
    {
     "name": "stderr",
     "output_type": "stream",
     "text": [
      " 91% (9130 of 10000) |##################  | Elapsed Time: 0:31:51 ETA:  0:02:46"
     ]
    },
    {
     "name": "stdout",
     "output_type": "stream",
     "text": [
      "1168640 samples, 9130 batch \t Loss: 0.066320\n"
     ]
    },
    {
     "name": "stderr",
     "output_type": "stream",
     "text": [
      " 91% (9140 of 10000) |##################  | Elapsed Time: 0:31:53 ETA:  0:02:44"
     ]
    },
    {
     "name": "stdout",
     "output_type": "stream",
     "text": [
      "1169920 samples, 9140 batch \t Loss: 0.066799\n"
     ]
    },
    {
     "name": "stderr",
     "output_type": "stream",
     "text": [
      " 91% (9150 of 10000) |##################  | Elapsed Time: 0:31:55 ETA:  0:02:43"
     ]
    },
    {
     "name": "stdout",
     "output_type": "stream",
     "text": [
      "1171200 samples, 9150 batch \t Loss: 0.091787\n"
     ]
    },
    {
     "name": "stderr",
     "output_type": "stream",
     "text": [
      " 91% (9160 of 10000) |##################  | Elapsed Time: 0:31:57 ETA:  0:02:41"
     ]
    },
    {
     "name": "stdout",
     "output_type": "stream",
     "text": [
      "1172480 samples, 9160 batch \t Loss: 0.088139\n"
     ]
    },
    {
     "name": "stderr",
     "output_type": "stream",
     "text": [
      " 91% (9170 of 10000) |##################  | Elapsed Time: 0:31:59 ETA:  0:02:40"
     ]
    },
    {
     "name": "stdout",
     "output_type": "stream",
     "text": [
      "1173760 samples, 9170 batch \t Loss: 0.080351\n"
     ]
    },
    {
     "name": "stderr",
     "output_type": "stream",
     "text": [
      " 91% (9180 of 10000) |##################  | Elapsed Time: 0:32:01 ETA:  0:02:37"
     ]
    },
    {
     "name": "stdout",
     "output_type": "stream",
     "text": [
      "1175040 samples, 9180 batch \t Loss: 0.085043\n"
     ]
    },
    {
     "name": "stderr",
     "output_type": "stream",
     "text": [
      " 91% (9190 of 10000) |##################  | Elapsed Time: 0:32:03 ETA:  0:02:35"
     ]
    },
    {
     "name": "stdout",
     "output_type": "stream",
     "text": [
      "1176320 samples, 9190 batch \t Loss: 0.073843\n"
     ]
    },
    {
     "name": "stderr",
     "output_type": "stream",
     "text": [
      " 92% (9200 of 10000) |##################  | Elapsed Time: 0:32:05 ETA:  0:02:33"
     ]
    },
    {
     "name": "stdout",
     "output_type": "stream",
     "text": [
      "1177600 samples, 9200 batch \t Loss: 0.081521\n"
     ]
    },
    {
     "name": "stderr",
     "output_type": "stream",
     "text": [
      " 92% (9210 of 10000) |##################  | Elapsed Time: 0:32:07 ETA:  0:02:31"
     ]
    },
    {
     "name": "stdout",
     "output_type": "stream",
     "text": [
      "1178880 samples, 9210 batch \t Loss: 0.084955\n"
     ]
    },
    {
     "name": "stderr",
     "output_type": "stream",
     "text": [
      " 92% (9220 of 10000) |##################  | Elapsed Time: 0:32:09 ETA:  0:02:29"
     ]
    },
    {
     "name": "stdout",
     "output_type": "stream",
     "text": [
      "1180160 samples, 9220 batch \t Loss: 0.072687\n"
     ]
    },
    {
     "name": "stderr",
     "output_type": "stream",
     "text": [
      " 92% (9230 of 10000) |##################  | Elapsed Time: 0:32:10 ETA:  0:02:28"
     ]
    },
    {
     "name": "stdout",
     "output_type": "stream",
     "text": [
      "1181440 samples, 9230 batch \t Loss: 0.072519\n"
     ]
    },
    {
     "name": "stderr",
     "output_type": "stream",
     "text": [
      " 92% (9241 of 10000) |##################  | Elapsed Time: 0:32:13 ETA:  0:02:25"
     ]
    },
    {
     "name": "stdout",
     "output_type": "stream",
     "text": [
      "1182720 samples, 9240 batch \t Loss: 0.059195\n"
     ]
    },
    {
     "name": "stderr",
     "output_type": "stream",
     "text": [
      " 92% (9250 of 10000) |##################  | Elapsed Time: 0:32:14 ETA:  0:02:24"
     ]
    },
    {
     "name": "stdout",
     "output_type": "stream",
     "text": [
      "1184000 samples, 9250 batch \t Loss: 0.098632\n"
     ]
    },
    {
     "name": "stderr",
     "output_type": "stream",
     "text": [
      " 92% (9260 of 10000) |##################  | Elapsed Time: 0:32:16 ETA:  0:02:22"
     ]
    },
    {
     "name": "stdout",
     "output_type": "stream",
     "text": [
      "1185280 samples, 9260 batch \t Loss: 0.086826\n"
     ]
    },
    {
     "name": "stderr",
     "output_type": "stream",
     "text": [
      " 92% (9270 of 10000) |##################  | Elapsed Time: 0:32:18 ETA:  0:02:20"
     ]
    },
    {
     "name": "stdout",
     "output_type": "stream",
     "text": [
      "1186560 samples, 9270 batch \t Loss: 0.064657\n"
     ]
    },
    {
     "name": "stderr",
     "output_type": "stream",
     "text": [
      " 92% (9280 of 10000) |##################  | Elapsed Time: 0:32:20 ETA:  0:02:18"
     ]
    },
    {
     "name": "stdout",
     "output_type": "stream",
     "text": [
      "1187840 samples, 9280 batch \t Loss: 0.078060\n"
     ]
    },
    {
     "name": "stderr",
     "output_type": "stream",
     "text": [
      " 92% (9290 of 10000) |##################  | Elapsed Time: 0:32:22 ETA:  0:02:16"
     ]
    },
    {
     "name": "stdout",
     "output_type": "stream",
     "text": [
      "1189120 samples, 9290 batch \t Loss: 0.057984\n"
     ]
    },
    {
     "name": "stderr",
     "output_type": "stream",
     "text": [
      " 93% (9300 of 10000) |##################  | Elapsed Time: 0:32:24 ETA:  0:02:15"
     ]
    },
    {
     "name": "stdout",
     "output_type": "stream",
     "text": [
      "1190400 samples, 9300 batch \t Loss: 0.079289\n"
     ]
    },
    {
     "name": "stderr",
     "output_type": "stream",
     "text": [
      " 93% (9310 of 10000) |##################  | Elapsed Time: 0:32:26 ETA:  0:02:13"
     ]
    },
    {
     "name": "stdout",
     "output_type": "stream",
     "text": [
      "1191680 samples, 9310 batch \t Loss: 0.060658\n"
     ]
    },
    {
     "name": "stderr",
     "output_type": "stream",
     "text": [
      " 93% (9320 of 10000) |##################  | Elapsed Time: 0:32:28 ETA:  0:02:11"
     ]
    },
    {
     "name": "stdout",
     "output_type": "stream",
     "text": [
      "1192960 samples, 9320 batch \t Loss: 0.093136\n"
     ]
    },
    {
     "name": "stderr",
     "output_type": "stream",
     "text": [
      " 93% (9330 of 10000) |##################  | Elapsed Time: 0:32:30 ETA:  0:02:09"
     ]
    },
    {
     "name": "stdout",
     "output_type": "stream",
     "text": [
      "1194240 samples, 9330 batch \t Loss: 0.071285\n"
     ]
    },
    {
     "name": "stderr",
     "output_type": "stream",
     "text": [
      " 93% (9340 of 10000) |##################  | Elapsed Time: 0:32:32 ETA:  0:02:07"
     ]
    },
    {
     "name": "stdout",
     "output_type": "stream",
     "text": [
      "1195520 samples, 9340 batch \t Loss: 0.069875\n"
     ]
    },
    {
     "name": "stderr",
     "output_type": "stream",
     "text": [
      " 93% (9350 of 10000) |##################  | Elapsed Time: 0:32:34 ETA:  0:02:05"
     ]
    },
    {
     "name": "stdout",
     "output_type": "stream",
     "text": [
      "1196800 samples, 9350 batch \t Loss: 0.076444\n"
     ]
    },
    {
     "name": "stderr",
     "output_type": "stream",
     "text": [
      " 93% (9360 of 10000) |##################  | Elapsed Time: 0:32:36 ETA:  0:02:03"
     ]
    },
    {
     "name": "stdout",
     "output_type": "stream",
     "text": [
      "1198080 samples, 9360 batch \t Loss: 0.060129\n"
     ]
    },
    {
     "name": "stderr",
     "output_type": "stream",
     "text": [
      " 93% (9370 of 10000) |##################  | Elapsed Time: 0:32:38 ETA:  0:02:01"
     ]
    },
    {
     "name": "stdout",
     "output_type": "stream",
     "text": [
      "1199360 samples, 9370 batch \t Loss: 0.070946\n"
     ]
    },
    {
     "name": "stderr",
     "output_type": "stream",
     "text": [
      " 93% (9380 of 10000) |##################  | Elapsed Time: 0:32:39 ETA:  0:01:59"
     ]
    },
    {
     "name": "stdout",
     "output_type": "stream",
     "text": [
      "1200640 samples, 9380 batch \t Loss: 0.079997\n"
     ]
    },
    {
     "name": "stderr",
     "output_type": "stream",
     "text": [
      " 93% (9390 of 10000) |##################  | Elapsed Time: 0:32:41 ETA:  0:01:57"
     ]
    },
    {
     "name": "stdout",
     "output_type": "stream",
     "text": [
      "1201920 samples, 9390 batch \t Loss: 0.090010\n"
     ]
    },
    {
     "name": "stderr",
     "output_type": "stream",
     "text": [
      " 94% (9400 of 10000) |##################  | Elapsed Time: 0:32:43 ETA:  0:01:55"
     ]
    },
    {
     "name": "stdout",
     "output_type": "stream",
     "text": [
      "1203200 samples, 9400 batch \t Loss: 0.081698\n"
     ]
    },
    {
     "name": "stderr",
     "output_type": "stream",
     "text": [
      " 94% (9410 of 10000) |##################  | Elapsed Time: 0:32:45 ETA:  0:01:53"
     ]
    },
    {
     "name": "stdout",
     "output_type": "stream",
     "text": [
      "1204480 samples, 9410 batch \t Loss: 0.068120\n"
     ]
    },
    {
     "name": "stderr",
     "output_type": "stream",
     "text": [
      " 94% (9420 of 10000) |##################  | Elapsed Time: 0:32:47 ETA:  0:01:51"
     ]
    },
    {
     "name": "stdout",
     "output_type": "stream",
     "text": [
      "1205760 samples, 9420 batch \t Loss: 0.074519\n"
     ]
    },
    {
     "name": "stderr",
     "output_type": "stream",
     "text": [
      " 94% (9430 of 10000) |##################  | Elapsed Time: 0:32:49 ETA:  0:01:49"
     ]
    },
    {
     "name": "stdout",
     "output_type": "stream",
     "text": [
      "1207040 samples, 9430 batch \t Loss: 0.076398\n"
     ]
    },
    {
     "name": "stderr",
     "output_type": "stream",
     "text": [
      " 94% (9440 of 10000) |##################  | Elapsed Time: 0:32:51 ETA:  0:01:47"
     ]
    },
    {
     "name": "stdout",
     "output_type": "stream",
     "text": [
      "1208320 samples, 9440 batch \t Loss: 0.077173\n"
     ]
    },
    {
     "name": "stderr",
     "output_type": "stream",
     "text": [
      " 94% (9450 of 10000) |##################  | Elapsed Time: 0:32:53 ETA:  0:01:45"
     ]
    },
    {
     "name": "stdout",
     "output_type": "stream",
     "text": [
      "1209600 samples, 9450 batch \t Loss: 0.100616\n"
     ]
    },
    {
     "name": "stderr",
     "output_type": "stream",
     "text": [
      " 94% (9460 of 10000) |##################  | Elapsed Time: 0:32:55 ETA:  0:01:43"
     ]
    },
    {
     "name": "stdout",
     "output_type": "stream",
     "text": [
      "1210880 samples, 9460 batch \t Loss: 0.054407\n"
     ]
    },
    {
     "name": "stderr",
     "output_type": "stream",
     "text": [
      " 94% (9470 of 10000) |##################  | Elapsed Time: 0:32:57 ETA:  0:01:41"
     ]
    },
    {
     "name": "stdout",
     "output_type": "stream",
     "text": [
      "1212160 samples, 9470 batch \t Loss: 0.086266\n"
     ]
    },
    {
     "name": "stderr",
     "output_type": "stream",
     "text": [
      " 94% (9480 of 10000) |##################  | Elapsed Time: 0:32:58 ETA:  0:01:38"
     ]
    },
    {
     "name": "stdout",
     "output_type": "stream",
     "text": [
      "1213440 samples, 9480 batch \t Loss: 0.064842\n"
     ]
    },
    {
     "name": "stderr",
     "output_type": "stream",
     "text": [
      " 94% (9490 of 10000) |##################  | Elapsed Time: 0:33:00 ETA:  0:01:36"
     ]
    },
    {
     "name": "stdout",
     "output_type": "stream",
     "text": [
      "1214720 samples, 9490 batch \t Loss: 0.078783\n"
     ]
    },
    {
     "name": "stderr",
     "output_type": "stream",
     "text": [
      " 95% (9500 of 10000) |################### | Elapsed Time: 0:33:02 ETA:  0:01:34"
     ]
    },
    {
     "name": "stdout",
     "output_type": "stream",
     "text": [
      "1216000 samples, 9500 batch \t Loss: 0.075907\n"
     ]
    },
    {
     "name": "stderr",
     "output_type": "stream",
     "text": [
      " 95% (9510 of 10000) |################### | Elapsed Time: 0:33:04 ETA:  0:01:33"
     ]
    },
    {
     "name": "stdout",
     "output_type": "stream",
     "text": [
      "1217280 samples, 9510 batch \t Loss: 0.077738\n"
     ]
    },
    {
     "name": "stderr",
     "output_type": "stream",
     "text": [
      " 95% (9520 of 10000) |################### | Elapsed Time: 0:33:06 ETA:  0:01:31"
     ]
    },
    {
     "name": "stdout",
     "output_type": "stream",
     "text": [
      "1218560 samples, 9520 batch \t Loss: 0.061236\n"
     ]
    },
    {
     "name": "stderr",
     "output_type": "stream",
     "text": [
      " 95% (9530 of 10000) |################### | Elapsed Time: 0:33:08 ETA:  0:01:29"
     ]
    },
    {
     "name": "stdout",
     "output_type": "stream",
     "text": [
      "1219840 samples, 9530 batch \t Loss: 0.088321\n"
     ]
    },
    {
     "name": "stderr",
     "output_type": "stream",
     "text": [
      " 95% (9540 of 10000) |################### | Elapsed Time: 0:33:10 ETA:  0:01:27"
     ]
    },
    {
     "name": "stdout",
     "output_type": "stream",
     "text": [
      "1221120 samples, 9540 batch \t Loss: 0.065876\n"
     ]
    },
    {
     "name": "stderr",
     "output_type": "stream",
     "text": [
      " 95% (9550 of 10000) |################### | Elapsed Time: 0:33:12 ETA:  0:01:25"
     ]
    },
    {
     "name": "stdout",
     "output_type": "stream",
     "text": [
      "1222400 samples, 9550 batch \t Loss: 0.097358\n"
     ]
    },
    {
     "name": "stderr",
     "output_type": "stream",
     "text": [
      " 95% (9560 of 10000) |################### | Elapsed Time: 0:33:14 ETA:  0:01:24"
     ]
    },
    {
     "name": "stdout",
     "output_type": "stream",
     "text": [
      "1223680 samples, 9560 batch \t Loss: 0.097551\n"
     ]
    },
    {
     "name": "stderr",
     "output_type": "stream",
     "text": [
      " 95% (9570 of 10000) |################### | Elapsed Time: 0:33:16 ETA:  0:01:22"
     ]
    },
    {
     "name": "stdout",
     "output_type": "stream",
     "text": [
      "1224960 samples, 9570 batch \t Loss: 0.062030\n"
     ]
    },
    {
     "name": "stderr",
     "output_type": "stream",
     "text": [
      " 95% (9580 of 10000) |################### | Elapsed Time: 0:33:18 ETA:  0:01:20"
     ]
    },
    {
     "name": "stdout",
     "output_type": "stream",
     "text": [
      "1226240 samples, 9580 batch \t Loss: 0.060471\n"
     ]
    },
    {
     "name": "stderr",
     "output_type": "stream",
     "text": [
      " 95% (9590 of 10000) |################### | Elapsed Time: 0:33:20 ETA:  0:01:18"
     ]
    },
    {
     "name": "stdout",
     "output_type": "stream",
     "text": [
      "1227520 samples, 9590 batch \t Loss: 0.077691\n"
     ]
    },
    {
     "name": "stderr",
     "output_type": "stream",
     "text": [
      " 96% (9600 of 10000) |################### | Elapsed Time: 0:33:21 ETA:  0:01:16"
     ]
    },
    {
     "name": "stdout",
     "output_type": "stream",
     "text": [
      "1228800 samples, 9600 batch \t Loss: 0.083483\n"
     ]
    },
    {
     "name": "stderr",
     "output_type": "stream",
     "text": [
      " 96% (9610 of 10000) |################### | Elapsed Time: 0:33:23 ETA:  0:01:15"
     ]
    },
    {
     "name": "stdout",
     "output_type": "stream",
     "text": [
      "1230080 samples, 9610 batch \t Loss: 0.089648\n"
     ]
    },
    {
     "name": "stderr",
     "output_type": "stream",
     "text": [
      " 96% (9621 of 10000) |################### | Elapsed Time: 0:33:25 ETA:  0:01:13"
     ]
    },
    {
     "name": "stdout",
     "output_type": "stream",
     "text": [
      "1231360 samples, 9620 batch \t Loss: 0.064730\n"
     ]
    },
    {
     "name": "stderr",
     "output_type": "stream",
     "text": [
      " 96% (9630 of 10000) |################### | Elapsed Time: 0:33:27 ETA:  0:01:11"
     ]
    },
    {
     "name": "stdout",
     "output_type": "stream",
     "text": [
      "1232640 samples, 9630 batch \t Loss: 0.062806\n"
     ]
    },
    {
     "name": "stderr",
     "output_type": "stream",
     "text": [
      " 96% (9640 of 10000) |################### | Elapsed Time: 0:33:29 ETA:  0:01:09"
     ]
    },
    {
     "name": "stdout",
     "output_type": "stream",
     "text": [
      "1233920 samples, 9640 batch \t Loss: 0.071183\n"
     ]
    },
    {
     "name": "stderr",
     "output_type": "stream",
     "text": [
      " 96% (9650 of 10000) |################### | Elapsed Time: 0:33:31 ETA:  0:01:07"
     ]
    },
    {
     "name": "stdout",
     "output_type": "stream",
     "text": [
      "1235200 samples, 9650 batch \t Loss: 0.047422\n"
     ]
    },
    {
     "name": "stderr",
     "output_type": "stream",
     "text": [
      " 96% (9660 of 10000) |################### | Elapsed Time: 0:33:33 ETA:  0:01:05"
     ]
    },
    {
     "name": "stdout",
     "output_type": "stream",
     "text": [
      "1236480 samples, 9660 batch \t Loss: 0.054801\n"
     ]
    },
    {
     "name": "stderr",
     "output_type": "stream",
     "text": [
      " 96% (9670 of 10000) |################### | Elapsed Time: 0:33:35 ETA:  0:01:03"
     ]
    },
    {
     "name": "stdout",
     "output_type": "stream",
     "text": [
      "1237760 samples, 9670 batch \t Loss: 0.072171\n"
     ]
    },
    {
     "name": "stderr",
     "output_type": "stream",
     "text": [
      " 96% (9680 of 10000) |################### | Elapsed Time: 0:33:37 ETA:  0:01:01"
     ]
    },
    {
     "name": "stdout",
     "output_type": "stream",
     "text": [
      "1239040 samples, 9680 batch \t Loss: 0.078196\n"
     ]
    },
    {
     "name": "stderr",
     "output_type": "stream",
     "text": [
      " 96% (9690 of 10000) |################### | Elapsed Time: 0:33:39 ETA:  0:00:59"
     ]
    },
    {
     "name": "stdout",
     "output_type": "stream",
     "text": [
      "1240320 samples, 9690 batch \t Loss: 0.060630\n"
     ]
    },
    {
     "name": "stderr",
     "output_type": "stream",
     "text": [
      " 97% (9700 of 10000) |################### | Elapsed Time: 0:33:41 ETA:  0:00:57"
     ]
    },
    {
     "name": "stdout",
     "output_type": "stream",
     "text": [
      "1241600 samples, 9700 batch \t Loss: 0.053805\n"
     ]
    },
    {
     "name": "stderr",
     "output_type": "stream",
     "text": [
      " 97% (9710 of 10000) |################### | Elapsed Time: 0:33:43 ETA:  0:00:55"
     ]
    },
    {
     "name": "stdout",
     "output_type": "stream",
     "text": [
      "1242880 samples, 9710 batch \t Loss: 0.086911\n"
     ]
    },
    {
     "name": "stderr",
     "output_type": "stream",
     "text": [
      " 97% (9720 of 10000) |################### | Elapsed Time: 0:33:45 ETA:  0:00:53"
     ]
    },
    {
     "name": "stdout",
     "output_type": "stream",
     "text": [
      "1244160 samples, 9720 batch \t Loss: 0.059708\n"
     ]
    },
    {
     "name": "stderr",
     "output_type": "stream",
     "text": [
      " 97% (9730 of 10000) |################### | Elapsed Time: 0:33:47 ETA:  0:00:51"
     ]
    },
    {
     "name": "stdout",
     "output_type": "stream",
     "text": [
      "1245440 samples, 9730 batch \t Loss: 0.067303\n"
     ]
    },
    {
     "name": "stderr",
     "output_type": "stream",
     "text": [
      " 97% (9740 of 10000) |################### | Elapsed Time: 0:33:48 ETA:  0:00:50"
     ]
    },
    {
     "name": "stdout",
     "output_type": "stream",
     "text": [
      "1246720 samples, 9740 batch \t Loss: 0.072086\n"
     ]
    },
    {
     "name": "stderr",
     "output_type": "stream",
     "text": [
      " 97% (9750 of 10000) |################### | Elapsed Time: 0:33:50 ETA:  0:00:48"
     ]
    },
    {
     "name": "stdout",
     "output_type": "stream",
     "text": [
      "1248000 samples, 9750 batch \t Loss: 0.082960\n"
     ]
    },
    {
     "name": "stderr",
     "output_type": "stream",
     "text": [
      " 97% (9760 of 10000) |################### | Elapsed Time: 0:33:52 ETA:  0:00:46"
     ]
    },
    {
     "name": "stdout",
     "output_type": "stream",
     "text": [
      "1249280 samples, 9760 batch \t Loss: 0.064633\n"
     ]
    },
    {
     "name": "stderr",
     "output_type": "stream",
     "text": [
      " 97% (9770 of 10000) |################### | Elapsed Time: 0:33:54 ETA:  0:00:44"
     ]
    },
    {
     "name": "stdout",
     "output_type": "stream",
     "text": [
      "1250560 samples, 9770 batch \t Loss: 0.092337\n"
     ]
    },
    {
     "name": "stderr",
     "output_type": "stream",
     "text": [
      " 97% (9780 of 10000) |################### | Elapsed Time: 0:33:56 ETA:  0:00:42"
     ]
    },
    {
     "name": "stdout",
     "output_type": "stream",
     "text": [
      "1251840 samples, 9780 batch \t Loss: 0.077201\n"
     ]
    },
    {
     "name": "stderr",
     "output_type": "stream",
     "text": [
      " 97% (9790 of 10000) |################### | Elapsed Time: 0:33:58 ETA:  0:00:40"
     ]
    },
    {
     "name": "stdout",
     "output_type": "stream",
     "text": [
      "1253120 samples, 9790 batch \t Loss: 0.070290\n"
     ]
    },
    {
     "name": "stderr",
     "output_type": "stream",
     "text": [
      " 98% (9800 of 10000) |################### | Elapsed Time: 0:34:00 ETA:  0:00:38"
     ]
    },
    {
     "name": "stdout",
     "output_type": "stream",
     "text": [
      "1254400 samples, 9800 batch \t Loss: 0.068264\n"
     ]
    },
    {
     "name": "stderr",
     "output_type": "stream",
     "text": [
      " 98% (9810 of 10000) |################### | Elapsed Time: 0:34:02 ETA:  0:00:36"
     ]
    },
    {
     "name": "stdout",
     "output_type": "stream",
     "text": [
      "1255680 samples, 9810 batch \t Loss: 0.083700\n"
     ]
    },
    {
     "name": "stderr",
     "output_type": "stream",
     "text": [
      " 98% (9820 of 10000) |################### | Elapsed Time: 0:34:04 ETA:  0:00:34"
     ]
    },
    {
     "name": "stdout",
     "output_type": "stream",
     "text": [
      "1256960 samples, 9820 batch \t Loss: 0.065562\n"
     ]
    },
    {
     "name": "stderr",
     "output_type": "stream",
     "text": [
      " 98% (9830 of 10000) |################### | Elapsed Time: 0:34:06 ETA:  0:00:32"
     ]
    },
    {
     "name": "stdout",
     "output_type": "stream",
     "text": [
      "1258240 samples, 9830 batch \t Loss: 0.065741\n"
     ]
    },
    {
     "name": "stderr",
     "output_type": "stream",
     "text": [
      " 98% (9840 of 10000) |################### | Elapsed Time: 0:34:08 ETA:  0:00:30"
     ]
    },
    {
     "name": "stdout",
     "output_type": "stream",
     "text": [
      "1259520 samples, 9840 batch \t Loss: 0.068768\n"
     ]
    },
    {
     "name": "stderr",
     "output_type": "stream",
     "text": [
      " 98% (9850 of 10000) |################### | Elapsed Time: 0:34:10 ETA:  0:00:28"
     ]
    },
    {
     "name": "stdout",
     "output_type": "stream",
     "text": [
      "1260800 samples, 9850 batch \t Loss: 0.088284\n"
     ]
    },
    {
     "name": "stderr",
     "output_type": "stream",
     "text": [
      " 98% (9860 of 10000) |################### | Elapsed Time: 0:34:11 ETA:  0:00:26"
     ]
    },
    {
     "name": "stdout",
     "output_type": "stream",
     "text": [
      "1262080 samples, 9860 batch \t Loss: 0.051761\n"
     ]
    },
    {
     "name": "stderr",
     "output_type": "stream",
     "text": [
      " 98% (9870 of 10000) |################### | Elapsed Time: 0:34:13 ETA:  0:00:24"
     ]
    },
    {
     "name": "stdout",
     "output_type": "stream",
     "text": [
      "1263360 samples, 9870 batch \t Loss: 0.074391\n"
     ]
    },
    {
     "name": "stderr",
     "output_type": "stream",
     "text": [
      " 98% (9880 of 10000) |################### | Elapsed Time: 0:34:15 ETA:  0:00:22"
     ]
    },
    {
     "name": "stdout",
     "output_type": "stream",
     "text": [
      "1264640 samples, 9880 batch \t Loss: 0.076601\n"
     ]
    },
    {
     "name": "stderr",
     "output_type": "stream",
     "text": [
      " 98% (9890 of 10000) |################### | Elapsed Time: 0:34:17 ETA:  0:00:20"
     ]
    },
    {
     "name": "stdout",
     "output_type": "stream",
     "text": [
      "1265920 samples, 9890 batch \t Loss: 0.079643\n"
     ]
    },
    {
     "name": "stderr",
     "output_type": "stream",
     "text": [
      " 99% (9900 of 10000) |################### | Elapsed Time: 0:34:19 ETA:  0:00:19"
     ]
    },
    {
     "name": "stdout",
     "output_type": "stream",
     "text": [
      "1267200 samples, 9900 batch \t Loss: 0.051307\n"
     ]
    },
    {
     "name": "stderr",
     "output_type": "stream",
     "text": [
      " 99% (9910 of 10000) |################### | Elapsed Time: 0:34:21 ETA:  0:00:17"
     ]
    },
    {
     "name": "stdout",
     "output_type": "stream",
     "text": [
      "1268480 samples, 9910 batch \t Loss: 0.083669\n"
     ]
    },
    {
     "name": "stderr",
     "output_type": "stream",
     "text": [
      " 99% (9920 of 10000) |################### | Elapsed Time: 0:34:23 ETA:  0:00:15"
     ]
    },
    {
     "name": "stdout",
     "output_type": "stream",
     "text": [
      "1269760 samples, 9920 batch \t Loss: 0.061606\n"
     ]
    },
    {
     "name": "stderr",
     "output_type": "stream",
     "text": [
      " 99% (9930 of 10000) |################### | Elapsed Time: 0:34:25 ETA:  0:00:13"
     ]
    },
    {
     "name": "stdout",
     "output_type": "stream",
     "text": [
      "1271040 samples, 9930 batch \t Loss: 0.078320\n"
     ]
    },
    {
     "name": "stderr",
     "output_type": "stream",
     "text": [
      " 99% (9940 of 10000) |################### | Elapsed Time: 0:34:27 ETA:  0:00:11"
     ]
    },
    {
     "name": "stdout",
     "output_type": "stream",
     "text": [
      "1272320 samples, 9940 batch \t Loss: 0.071547\n"
     ]
    },
    {
     "name": "stderr",
     "output_type": "stream",
     "text": [
      " 99% (9950 of 10000) |################### | Elapsed Time: 0:34:29 ETA:  0:00:09"
     ]
    },
    {
     "name": "stdout",
     "output_type": "stream",
     "text": [
      "1273600 samples, 9950 batch \t Loss: 0.056937\n"
     ]
    },
    {
     "name": "stderr",
     "output_type": "stream",
     "text": [
      " 99% (9960 of 10000) |################### | Elapsed Time: 0:34:30 ETA:  0:00:07"
     ]
    },
    {
     "name": "stdout",
     "output_type": "stream",
     "text": [
      "1274880 samples, 9960 batch \t Loss: 0.055547\n"
     ]
    },
    {
     "name": "stderr",
     "output_type": "stream",
     "text": [
      " 99% (9970 of 10000) |################### | Elapsed Time: 0:34:32 ETA:  0:00:05"
     ]
    },
    {
     "name": "stdout",
     "output_type": "stream",
     "text": [
      "1276160 samples, 9970 batch \t Loss: 0.063825\n"
     ]
    },
    {
     "name": "stderr",
     "output_type": "stream",
     "text": [
      " 99% (9980 of 10000) |################### | Elapsed Time: 0:34:34 ETA:  0:00:03"
     ]
    },
    {
     "name": "stdout",
     "output_type": "stream",
     "text": [
      "1277440 samples, 9980 batch \t Loss: 0.070346\n"
     ]
    },
    {
     "name": "stderr",
     "output_type": "stream",
     "text": [
      " 99% (9990 of 10000) |################### | Elapsed Time: 0:34:36 ETA:  0:00:01"
     ]
    },
    {
     "name": "stdout",
     "output_type": "stream",
     "text": [
      "1278720 samples, 9990 batch \t Loss: 0.059309\n"
     ]
    },
    {
     "name": "stderr",
     "output_type": "stream",
     "text": [
      "100% (10000 of 10000) |###################| Elapsed Time: 0:34:38 ETA:  0:00:00"
     ]
    },
    {
     "name": "stdout",
     "output_type": "stream",
     "text": [
      "1280000 samples, 10000 batch \t Loss: 0.071899\n"
     ]
    }
   ],
   "source": [
    "model.train()\n",
    "\n",
    "p = ProgressBar(max_value=nb_iter)\n",
    "gen = batch_generator(x_train_list, y_train_list, batch_size, l_sample, train=True, nb_iter=nb_iter, categorical=False, interval=interval, nb_timestep=nb_timestep\n",
    ")\n",
    "model.train()\n",
    "for batch_idx, (X, y) in enumerate(gen):\n",
    "    batch_idx += 1\n",
    "    tX = Variable(torch.from_numpy(X.astype('float32')), requires_grad=False).cuda()\n",
    "    ty = Variable(torch.LongTensor(y), requires_grad=False).cuda()\n",
    "    ty = ty.permute(1, 0)\n",
    "    \n",
    "    optimizer.zero_grad()\n",
    "    output = model(tX)\n",
    "    \n",
    "    loss = 0\n",
    "    for i in range(nb_timestep):\n",
    "        loss += criterion(output[i], ty[i])\n",
    "    loss /= nb_timestep\n",
    "    loss.backward()\n",
    "    optimizer.step()\n",
    "    if batch_idx % report_each == 0:\n",
    "        print(\"{} samples, {} batch \\t Loss: {:.6f}\".format(batch_idx * batch_size, batch_idx, loss.data[0]))\n",
    "    p.update(batch_idx)\n",
    "    "
   ]
  },
  {
   "cell_type": "code",
   "execution_count": 18,
   "metadata": {
    "collapsed": true
   },
   "outputs": [],
   "source": [
    "from sklearn import metrics\n",
    "\n",
    "def test(model, x_list, y_list, l_sample, nb_iter=1, batch_size=2048):\n",
    "    model.eval()\n",
    "    test_gen = batch_generator(x_list, y_list, batch_size, l_sample, train=False, nb_iter=nb_iter, categorical=False, seed=0, interval=interval, nb_timestep=nb_timestep)\n",
    "    y_list = []\n",
    "    py_list = []\n",
    "    for X, y in test_gen:\n",
    "        tX = Variable(torch.from_numpy(X.astype('float32')), requires_grad=False).cuda()\n",
    "        py = model(tX).max(-1)[1].data.cpu().numpy().reshape(-1)\n",
    "        y_list.append(y.reshape(-1))\n",
    "        py_list.append(py)\n",
    "    \n",
    "    y = np.concatenate(y_list)\n",
    "    py = np.concatenate(py_list)\n",
    "    print(metrics.accuracy_score(y, py))\n",
    "    print(metrics.f1_score(y, py, average='macro'))\n",
    "    print(metrics.precision_score(y, py, average=None))\n",
    "    print(metrics.recall_score(y, py, average=None))"
   ]
  },
  {
   "cell_type": "code",
   "execution_count": 19,
   "metadata": {},
   "outputs": [
    {
     "name": "stdout",
     "output_type": "stream",
     "text": [
      "0.51484375\n",
      "0.0519416491278\n",
      "[ 0.          0.          0.          0.02325581  0.11111111  0.04761905\n",
      "  0.          0.          0.          0.          0.          0.          0.\n",
      "  0.09090909  0.          0.06410256  0.          0.66326531]\n",
      "[ 0.          0.          0.          0.02777778  0.01538462  0.02040816\n",
      "  0.          0.          0.          0.          0.          0.          0.\n",
      "  0.08333333  0.          0.05208333  0.          0.7629108 ]\n"
     ]
    }
   ],
   "source": [
    "test(model, x_test_list, y_test_list, l_sample, nb_iter=1, batch_size=batch_size)"
   ]
  },
  {
   "cell_type": "code",
   "execution_count": null,
   "metadata": {
    "collapsed": true
   },
   "outputs": [],
   "source": []
  },
  {
   "cell_type": "code",
   "execution_count": null,
   "metadata": {
    "collapsed": true
   },
   "outputs": [],
   "source": []
  },
  {
   "cell_type": "code",
   "execution_count": null,
   "metadata": {
    "collapsed": true
   },
   "outputs": [],
   "source": []
  },
  {
   "cell_type": "code",
   "execution_count": null,
   "metadata": {
    "collapsed": true
   },
   "outputs": [],
   "source": []
  },
  {
   "cell_type": "code",
   "execution_count": 16,
   "metadata": {},
   "outputs": [],
   "source": [
    "def length(y, class_id):\n",
    "    class_len = []\n",
    "    current_len = 0\n",
    "    flag = False\n",
    "    for _y in y:\n",
    "        if _y[class_id] == 1:\n",
    "            current_len += 1\n",
    "            flag = True\n",
    "        if _y[class_id] !=1 & flag:\n",
    "            class_len.append(current_len)\n",
    "            flag = False\n",
    "            current_len = 0\n",
    "    print(np.mean(class_len), np.std(class_len), len(class_len))\n",
    "    return class_len"
   ]
  },
  {
   "cell_type": "code",
   "execution_count": 17,
   "metadata": {},
   "outputs": [
    {
     "name": "stdout",
     "output_type": "stream",
     "text": [
      "(171.0, 0.0, 1)\n",
      "(146.0, 10.0, 2)\n",
      "(129.0, 0.0, 1)\n",
      "(146.5, 21.5, 2)\n",
      "(100.42857142857143, 36.749566150430923, 7)\n",
      "(78.285714285714292, 14.399546478119031, 7)\n",
      "(94.200000000000003, 14.288456879593403, 5)\n",
      "(79.799999999999997, 17.724559232883621, 5)\n",
      "(72.0, 2.0, 2)\n",
      "(58.5, 1.5, 2)\n",
      "(74.0, 0.0, 1)\n",
      "(64.0, 0.0, 1)\n",
      "(60.333333333333336, 14.636332266733433, 3)\n",
      "(71.666666666666671, 9.9777530313971763, 3)\n",
      "(118.33333333333333, 82.090735706831666, 3)\n",
      "(336.0, 168.56848262155452, 6)\n",
      "(69.400000000000006, 13.469966592386189, 5)\n"
     ]
    }
   ],
   "source": [
    "for i in range(17):\n",
    "    length(y_train_list[0], i)"
   ]
  },
  {
   "cell_type": "code",
   "execution_count": null,
   "metadata": {},
   "outputs": [],
   "source": []
  },
  {
   "cell_type": "code",
   "execution_count": null,
   "metadata": {
    "collapsed": true
   },
   "outputs": [],
   "source": []
  }
 ],
 "metadata": {
  "kernelspec": {
   "display_name": "Python 2",
   "language": "python",
   "name": "python2"
  },
  "language_info": {
   "codemirror_mode": {
    "name": "ipython",
    "version": 2
   },
   "file_extension": ".py",
   "mimetype": "text/x-python",
   "name": "python",
   "nbconvert_exporter": "python",
   "pygments_lexer": "ipython2",
   "version": "2.7.13"
  }
 },
 "nbformat": 4,
 "nbformat_minor": 2
}
